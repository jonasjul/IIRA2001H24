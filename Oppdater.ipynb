{
 "cells": [
  {
   "cell_type": "markdown",
   "id": "c0f72dd4-82b4-4141-b625-6a0a079bdc09",
   "metadata": {},
   "source": [
    "# Hent innhold fra forelesning\n",
    "\n",
    "* Kjør cellen under for å oppdatere «Intro-JH.ipynb»\n",
    "* Merk at dersom du selv har kodet i denne notebooken, vil det bli overskrevet\n",
    "* Kopier eller dupliser filen og gi den et nytt navn, jobb i denne notebooken"
   ]
  },
  {
   "cell_type": "code",
   "execution_count": 2,
   "id": "f4ef553d-7e3f-49a1-b48b-9ce34638fac7",
   "metadata": {},
   "outputs": [
    {
     "name": "stdout",
     "output_type": "stream",
     "text": [
      "No local changes to save\n",
      "Already up to date.\n"
     ]
    }
   ],
   "source": [
    "!git fetch --all\n",
    "!git stash\n",
    "!git pull"
   ]
  },
  {
   "cell_type": "code",
   "execution_count": null,
   "id": "06bb68ae-76f1-4d89-b765-842b91f93274",
   "metadata": {},
   "outputs": [],
   "source": []
  }
 ],
 "metadata": {
  "kernelspec": {
   "display_name": "Python 3 (ipykernel)",
   "language": "python",
   "name": "python3"
  },
  "language_info": {
   "codemirror_mode": {
    "name": "ipython",
    "version": 3
   },
   "file_extension": ".py",
   "mimetype": "text/x-python",
   "name": "python",
   "nbconvert_exporter": "python",
   "pygments_lexer": "ipython3",
   "version": "3.11.7"
  }
 },
 "nbformat": 4,
 "nbformat_minor": 5
}
