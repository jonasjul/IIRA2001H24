{
 "cells": [
  {
   "cell_type": "markdown",
   "id": "c54c5379-69d4-4976-a4c5-bbc7510d8524",
   "metadata": {
    "slideshow": {
     "slide_type": "slide"
    },
    "tags": []
   },
   "source": [
    "# Listekomprehension"
   ]
  },
  {
   "cell_type": "markdown",
   "id": "4d4bc8b3-a144-4ab9-9481-764ef1760af7",
   "metadata": {
    "slideshow": {
     "slide_type": "fragment"
    },
    "tags": []
   },
   "source": [
    "### Snarvei til å lage lister, set og dictionaries"
   ]
  },
  {
   "cell_type": "markdown",
   "id": "c551d30c-3ef0-4f87-b321-62f701b4e569",
   "metadata": {
    "slideshow": {
     "slide_type": "fragment"
    },
    "tags": []
   },
   "source": [
    "* Liste:\n",
    "  ```python\n",
    "  [ uttrykk for element in samling if betingelse]\n",
    "  ```\n",
    "  * Set:\n",
    "  ```python\n",
    "  { uttrykk for element in samling if betingelse}\n",
    "  ```\n",
    "  * Dictionary:\n",
    "  ```python\n",
    "  { utrykk_key: uttrykk_value for element in samling if betingelse }\n",
    "  ```"
   ]
  },
  {
   "cell_type": "markdown",
   "id": "c644312c-ed70-4733-9546-96f7ed788609",
   "metadata": {
    "slideshow": {
     "slide_type": "subslide"
    },
    "tags": []
   },
   "source": [
    "Standard måte å lage liste på:"
   ]
  },
  {
   "cell_type": "code",
   "execution_count": 1,
   "id": "78af6f56-a001-4ae1-bfc6-6ab5b7c65d0f",
   "metadata": {
    "slideshow": {
     "slide_type": "fragment"
    },
    "tags": []
   },
   "outputs": [
    {
     "data": {
      "image/png": "[encoded data removed]",
      "text/plain": [
       "<Figure size 432x288 with 1 Axes>"
      ]
     },
     "metadata": {
      "needs_background": "light"
     },
     "output_type": "display_data"
    }
   ],
   "source": [
    "import matplotlib.pyplot as plt\n",
    "#Plot saldo på sparekonto\n",
    "\n",
    "def forrentning(P,r,t):\n",
    "    return P*(1+r)**t\n",
    "\n",
    "n_tid = 10\n",
    "start = 1000\n",
    "rente = 0.05\n",
    "\n",
    "tid = list(range(n_tid))\n",
    "saldo = []\n",
    "for t in tid:\n",
    "    ny_saldo = forrentning(start, rente, t)\n",
    "    saldo.append(ny_saldo)\n",
    "    \n",
    "plt.plot(tid, saldo)\n",
    "plt.show()\n"
   ]
  },
  {
   "cell_type": "markdown",
   "id": "0c20f188-d12f-46b1-b397-d1b342f51359",
   "metadata": {
    "slideshow": {
     "slide_type": "subslide"
    },
    "tags": []
   },
   "source": [
    "Med listekomprehensjon"
   ]
  },
  {
   "cell_type": "code",
   "execution_count": 2,
   "id": "013603f7-2e22-4c56-adc7-09a8517e3dd0",
   "metadata": {
    "slideshow": {
     "slide_type": "fragment"
    },
    "tags": []
   },
   "outputs": [
    {
     "data": {
      "image/png": "[encoded data removed]",
      "text/plain": [
       "<Figure size 432x288 with 1 Axes>"
      ]
     },
     "metadata": {
      "needs_background": "light"
     },
     "output_type": "display_data"
    }
   ],
   "source": [
    "import matplotlib.pyplot as plt\n",
    "import numpy as np\n",
    "\n",
    "\n",
    "def forrentning(P,r,t):\n",
    "    return P*(1+r)**t\n",
    "\n",
    "n_tid = 10\n",
    "start = 1000\n",
    "start_aar = 2024\n",
    "rente = 0.05\n",
    "\n",
    "tid = [t for t in range(n_tid)]\n",
    "saldo = [forrentning(start,rente,t) for t in tid]\n",
    "\n",
    "akse_labels = [f\"01.01.{start_aar+t}\" for t in tid if t%2 == 0 ]\n",
    "\n",
    "plt.bar(tid, saldo)\n",
    "plt.xticks(ticks=np.arange(0,10,2), labels=akse_labels, rotation=45)\n",
    "plt.show()\n"
   ]
  },
  {
   "cell_type": "markdown",
   "id": "b0735cff-36e1-45c3-9060-04c591c1ce92",
   "metadata": {
    "slideshow": {
     "slide_type": "subslide"
    },
    "tags": []
   },
   "source": [
    "* Ofte er slike listekomprehensjoner lette og lese, skrive og forstå\n",
    "* Man må passe på ikke ta av -- de kan bli kompliserte og vanskelige å forstå"
   ]
  },
  {
   "cell_type": "markdown",
   "id": "ae2dfeda-e279-4484-b77b-a2cc6341f439",
   "metadata": {
    "slideshow": {
     "slide_type": "slide"
    },
    "tags": []
   },
   "source": [
    "Man lager `set` på akkura samme måte"
   ]
  },
  {
   "cell_type": "code",
   "execution_count": 3,
   "id": "004b7533-7eb9-4354-a853-fc67304f4e88",
   "metadata": {
    "slideshow": {
     "slide_type": "fragment"
    },
    "tags": []
   },
   "outputs": [
    {
     "name": "stdout",
     "output_type": "stream",
     "text": [
      "{'Haga', 'Hennøen', 'Hansen', 'Hilling', 'Henriksen', 'Heggen', 'Husøy', 'Hagen', 'Homble', 'Humblen', 'Hofstad', 'Hjelvik', 'Holmeset', 'Høstland', 'Heltne'}\n"
     ]
    }
   ],
   "source": [
    "import json\n",
    "with open(\"kundedata1.json\", 'r') as file:\n",
    "    kundedata = json.load(file)\n",
    "\n",
    "#Hent alle etternavn\n",
    "etternavn_alle = { kunde[\"etternavn\"] for kunde in kundedata  }\n",
    "\n",
    "#Hent alle etternavn som begynner på 'H'\n",
    "etternavn_H = {kunde[\"etternavn\"] for kunde in kundedata if kunde[\"etternavn\"][0] == 'H'}\n",
    "print(etternavn_H)\n"
   ]
  },
  {
   "cell_type": "code",
   "execution_count": 4,
   "id": "add77512-c180-4b31-aed7-bbf2b2f3be19",
   "metadata": {
    "slideshow": {
     "slide_type": "subslide"
    },
    "tags": []
   },
   "outputs": [
    {
     "name": "stdout",
     "output_type": "stream",
     "text": [
      "Vi fant 28 kunder med etternavn 'Haga'\n",
      "Vi fant 23 kunder med etternavn 'Hennøen'\n",
      "Vi fant 23 kunder med etternavn 'Hansen'\n",
      "Vi fant 22 kunder med etternavn 'Hilling'\n",
      "Vi fant 13 kunder med etternavn 'Henriksen'\n",
      "Vi fant 12 kunder med etternavn 'Heggen'\n",
      "Vi fant 12 kunder med etternavn 'Husøy'\n",
      "Vi fant 16 kunder med etternavn 'Hagen'\n",
      "Vi fant 20 kunder med etternavn 'Homble'\n",
      "Vi fant 24 kunder med etternavn 'Humblen'\n",
      "Vi fant 17 kunder med etternavn 'Hofstad'\n",
      "Vi fant 20 kunder med etternavn 'Hjelvik'\n",
      "Vi fant 19 kunder med etternavn 'Holmeset'\n",
      "Vi fant 17 kunder med etternavn 'Høstland'\n",
      "Vi fant 19 kunder med etternavn 'Heltne'\n"
     ]
    }
   ],
   "source": [
    "\n",
    "#Kan bli vanskelig å lese eller for komplisert\n",
    "#Dictionary av alle kunder med etternavn som begynner på 'H'\n",
    "kunder_H = {etternavn: [kunde for kunde in kundedata if kunde[\"etternavn\"] == etternavn] \n",
    "            for etternavn in etternavn_H}\n",
    "\n",
    "#Vi gjenbruker heller \"finnKunde\" funksjonen vår fra tidligere\n",
    "def finnKunde(etternavn):\n",
    "    treffliste = []\n",
    "    for kunde in kundedata:\n",
    "        if etternavn == kunde[\"etternavn\"]:\n",
    "            treffliste.append(kunde)\n",
    "    if treffliste == []:\n",
    "        print(f\"Ingen kunder med etternavn '{etternavn}' funndet\")\n",
    "        return None\n",
    "    else:\n",
    "        print(f\"Vi fant {len(treffliste)} kunder med etternavn '{etternavn}'\")\n",
    "        return treffliste\n",
    "\n",
    "#Alle kunder med etternavn H\n",
    "H_klubben = { navn: finnKunde(navn) for navn in etternavn_H}\n",
    "\n",
    "#Skriv ut til fil\n",
    "with open(\"testefil.json\", 'w') as file:\n",
    "    json.dump(H_klubben, file)"
   ]
  },
  {
   "cell_type": "markdown",
   "id": "c728dd18-8be2-4491-952c-5685c5596e0d",
   "metadata": {
    "slideshow": {
     "slide_type": "subslide"
    },
    "tags": []
   },
   "source": [
    "## Oppg:\n",
    "* Bruk komprehensjon til å lage en dictionary som inneholder allekunder med startsaldo større enn 120,000\n",
    "* Dictionary skal bestå av nøkler som tilsvarer etternavnet til kundene, og verdiene skal være en liste med kundene på samme format som originalt"
   ]
  },
  {
   "cell_type": "code",
   "execution_count": 5,
   "id": "5e08c5dc-d44d-454f-8319-7d15a46992ba",
   "metadata": {
    "slideshow": {
     "slide_type": "fragment"
    },
    "tags": []
   },
   "outputs": [],
   "source": [
    "grense = 120e3\n",
    "#lag liste med rike kunder\n",
    "rike_kunder = [kunde for kunde in kundedata if kunde[\"startsaldo\"] >= grense]\n",
    "#lag set med etternavnene\n",
    "etternavn_rikinger = {kunde[\"etternavn\"] for kunde in rike_kunder}\n",
    "\n",
    "#lag dictionary med kunder { kundensetternavn: [liste med kunder]}\n",
    "data_rikinger = {navn: [kunde for kunde in rike_kunder if kunde[\"etternavn\"] == navn] \n",
    "                 for navn in etternavn_rikinger }\n",
    "\n",
    "#Alternativt med løkker og if\n",
    "data_rik = dict() #Lag tom dictionary\n",
    "for navn in etternavn_rikinger:\n",
    "    liste_navn = []\n",
    "    for kunde in rike_kunder:\n",
    "        if kunde[\"etternavn\"] == navn:\n",
    "            liste_navn.append(kunde)\n",
    "    data_rik[\"navn\"] = liste_navn\n"
   ]
  },
  {
   "cell_type": "code",
   "execution_count": null,
   "id": "4e0f05ed-f37b-44fa-8238-8ba180ddfb2e",
   "metadata": {
    "slideshow": {
     "slide_type": "fragment"
    },
    "tags": []
   },
   "outputs": [],
   "source": []
  },
  {
   "cell_type": "markdown",
   "id": "e6fd9838-dde2-46aa-98e0-8cda058e85ae",
   "metadata": {},
   "source": [
    "## Lånekalkulator: Stolpediagram og Kakediagram\n",
    "* Tidligere lagde vi denne lånekalkulatoren"
   ]
  },
  {
   "cell_type": "code",
   "execution_count": 6,
   "id": "2f169170-2c5e-4f9a-aeb3-dfd391d90154",
   "metadata": {},
   "outputs": [
    {
     "name": "stdin",
     "output_type": "stream",
     "text": [
      "Hva er ønsket terminbelop? 1000\n"
     ]
    },
    {
     "name": "stdout",
     "output_type": "stream",
     "text": [
      "Gyldig terminbeløp gitt -- kalkulering fortsetter\n"
     ]
    },
    {
     "data": {
      "image/png": "[encoded data removed]",
      "text/plain": [
       "<Figure size 432x288 with 1 Axes>"
      ]
     },
     "metadata": {
      "needs_background": "light"
     },
     "output_type": "display_data"
    },
    {
     "name": "stdout",
     "output_type": "stream",
     "text": [
      "Nedbetalingstiden på 11 år og 10 måneder er for lenge\n",
      "Renter [4837.334296557354, 4470.878725276828, 4085.6745914802564, 3680.7626831267626, 3255.1347130669888, 2807.730808267409, 2337.436870578584, 1843.081802475325, 1323.4345908604498, 777.2012416704075]\n"
     ]
    },
    {
     "data": {
      "image/png": "[encoded data removed]",
      "text/plain": [
       "<Figure size 432x288 with 1 Axes>"
      ]
     },
     "metadata": {
      "needs_background": "light"
     },
     "output_type": "display_data"
    }
   ],
   "source": [
    "# Annuitetslån\n",
    "import matplotlib.pyplot as plt\n",
    "\n",
    "laan = 100000\n",
    "rentesats = 0.05\n",
    "terminbelop = float(input(\"Hva er ønsket terminbelop?\"))\n",
    "max_nedbetalingstid = 10 #år\n",
    "\n",
    "def sjekk_terminbelop(terminbelop,r,L):\n",
    "    renter = laan*rentesats/12\n",
    "    if terminbelop<renter:\n",
    "        print(\"Terminbeløpet på\", terminbelop, \"er for lite\")\n",
    "        print(\"Første renteavregning er på\", renter, \"kr\")\n",
    "        return False\n",
    "    else:\n",
    "        return True\n",
    "    \n",
    "if sjekk_terminbelop(terminbelop, rentesats, laan):\n",
    "    print(\"Gyldig terminbeløp gitt -- kalkulering fortsetter\")\n",
    "    avdragsliste = []\n",
    "    renteliste = []\n",
    "    mnd = 0\n",
    "    while laan > 0:\n",
    "        renter = laan*rentesats/12\n",
    "        avdrag = terminbelop-renter\n",
    "        laan = laan - avdrag\n",
    "        #laan -= termterminbelop\n",
    "        renteliste.append(renter)\n",
    "        avdragsliste.append(avdrag)\n",
    "        mnd += 1\n",
    "        #mnd = mnd +1\n",
    "\n",
    "    tid_liste = list(range(mnd))\n",
    "\n",
    "    plt.bar(tid_liste, avdragsliste, label=\"Avdrag\")\n",
    "    plt.bar(tid_liste, renteliste, label=\"Renter\", bottom=avdragsliste)\n",
    "    plt.legend()\n",
    "    plt.show()\n",
    "    \n",
    "    if mnd/12 > max_nedbetalingstid:\n",
    "        print(f\"Nedbetalingstiden på {mnd/12:.0f} år og {mnd%12} måneder er for lenge\")\n",
    "    \n",
    "    avdrag_aarlig = []\n",
    "    renter_aarlig = []\n",
    "    \n",
    "    n_aar = mnd//12\n",
    "    aar_liste = list(range(n_aar))\n",
    "    \n",
    "    for aar in aar_liste:\n",
    "        avdrag = avdragsliste[aar*12:(aar+1)*12]\n",
    "        renter = renteliste[aar*12:(aar+1)*12]\n",
    "        avdrag_aarlig.append(sum(avdrag))\n",
    "        renter_aarlig.append(sum(renter))\n",
    "    \n",
    "    print(\"Renter\", renter_aarlig)\n",
    "    \n",
    "    startaar = 2024\n",
    "    aarstall_liste = []\n",
    "    for y in aar_liste:\n",
    "        aarstall = f\"{startaar+y}\"\n",
    "        aarstall_liste.append(aarstall)\n",
    "        \n",
    "    plt.bar(aarstall_liste, avdrag_aarlig, label=\"Avdrag\")\n",
    "    plt.bar(aarstall_liste, renter_aarlig, label=\"Renter\", bottom=avdrag_aarlig)\n",
    "    plt.xlabel(\"År\")\n",
    "    plt.ylabel(\"Kr\")\n",
    "    plt.show()\n",
    "    \n",
    "    \n",
    "else:\n",
    "    print(\"Ugyldig terminbeløp gitt -- programmet stopper\")\n",
    "\n",
    "\n",
    "\n",
    "\n"
   ]
  },
  {
   "cell_type": "markdown",
   "id": "92e54574-d8ee-431e-9cf7-c1c43d04b3e2",
   "metadata": {},
   "source": [
    "# Oppg: Skriv om lånekalkulator-koden:\n",
    "* Vi vil dele programmet inn i funksjoner\n",
    "* Sett sammen programmet på nytt slik at det består av:\n",
    "  * En funksjon som henter terminbeløp fra bruker\n",
    "  * En funksjon som sjekker terminbeløp\n",
    "  * En funksjon som beregner nedbetaling\n",
    "  * En funksjon som sjekker nedbetalingstiden\n",
    "  * En funksjon som fremstiller resultat (plotter osv)\n",
    "  * En funksjon run() som \"kjører lånekalkulatoren\""
   ]
  },
  {
   "cell_type": "code",
   "execution_count": 43,
   "id": "77a93135-8275-41d8-9bac-4be21baf2003",
   "metadata": {},
   "outputs": [
    {
     "name": "stdin",
     "output_type": "stream",
     "text": [
      "Hva er ønsket terminbelop? 400\n"
     ]
    },
    {
     "name": "stdout",
     "output_type": "stream",
     "text": [
      "Terminbeløpet på 400.0 er for lite\n",
      "Første renteavregning er på 416.6666666666667 kr\n",
      "Avbryter -- ugyldig terminbeløp\n",
      "Låneberegning mislyktes\n"
     ]
    }
   ],
   "source": [
    "# Annuitetslån\n",
    "import matplotlib.pyplot as plt\n",
    "import numpy as np\n",
    "\n",
    "laan = 100000\n",
    "rentesats = 0.05\n",
    "terminbelop = float(input(\"Hva er ønsket terminbelop?\"))\n",
    "max_nedbetalingstid = 10 #år\n",
    "\n",
    "def sjekk_terminbelop(terminbelop,r,L):\n",
    "    renter = L*r/12\n",
    "    if terminbelop<renter:\n",
    "        print(\"Terminbeløpet på\", terminbelop, \"er for lite\")\n",
    "        print(\"Første renteavregning er på\", renter, \"kr\")\n",
    "        return False\n",
    "    else:\n",
    "        return True\n",
    "\n",
    "def lag_nedbetalingsplan(laan, rente, terminbelop):\n",
    "    avdragsliste = []\n",
    "    renteliste = []\n",
    "    mnd = 0\n",
    "    opprinnelig_laan = laan\n",
    "    while laan > 0:\n",
    "        renter = laan*rentesats/12\n",
    "        avdrag = terminbelop-renter\n",
    "        laan = laan - avdrag\n",
    "        renteliste.append(renter)\n",
    "        avdragsliste.append(avdrag)\n",
    "        mnd += 1\n",
    "        #mnd = mnd +1\n",
    "\n",
    "    avdragsliste[-1] = avdragsliste[-1]+laan\n",
    "    tids_liste = [m for m in range(mnd)]\n",
    "    return {\"avdrag\": avdragsliste, \n",
    "            \"renter\": renteliste, \n",
    "            \"nedbetalingstid\": mnd,\n",
    "            \"laanestorrelse\": opprinnelig_laan,\n",
    "            \"terminbelop\": terminbelop,\n",
    "            \"rente\": rente,\n",
    "            \"termin_liste\": tids_liste\n",
    "           }\n",
    "def sjekk_nedbetalingstid(nedbetalingstid_mnd, maks_tid_aar):\n",
    "    if nedbetalingstid_mnd/12 > maks_tid_aar:\n",
    "        print(f\"Nedbetalingstiden på {nedbetalingstid_mnd/12:.0f} år og {nedbetalingstid_mnd%12} måneder er for lenge\")\n",
    "        return False\n",
    "    else:\n",
    "        return True\n",
    "\n",
    "def fremstill_resultat(laanedata):\n",
    "    avdragsliste = laanedata[\"avdrag\"]\n",
    "    renteliste = laanedata[\"renter\"]\n",
    "    tid_liste = laanedata[\"termin_liste\"]\n",
    "    \n",
    "    avdrag_pa = []\n",
    "    renter_pa = []\n",
    "    \n",
    "    for y_start in range(0,laanedata[\"nedbetalingstid\"],12):\n",
    "        avdrag_y =  sum(avdragsliste[y_start:y_start+12])\n",
    "        renter_y = sum(renteliste[y_start:y_start+12])\n",
    "        avdrag_pa.append(avdrag_y)\n",
    "        renter_pa.append(renter_y)\n",
    "\n",
    "\n",
    "    plt.figure(figsize=(10,5))\n",
    "    plt.subplot(1,2,2)\n",
    "    terminer_pa = np.array([ y for y in range(len(avdrag_pa)) ])\n",
    "    #width = 0.8 som default\n",
    "    bredde = 1./3\n",
    "    #plt.bar(terminer_pa-bredde/2, avdrag_pa, width=bredde) #Med numpy\n",
    "    plt.bar(terminer_pa, avdrag_pa, width=-bredde, align='edge', label=\"Avdrag p.a.\")\n",
    "    plt.bar(terminer_pa, renter_pa, width=bredde, align='edge', label=\"Renter p.a.\")\n",
    "    plt.xlabel(\"År\")\n",
    "    plt.ylabel(\"Kr\")\n",
    "    plt.legend()\n",
    "    plt.title(\"Nedbetaling, Annuitetslån\")\n",
    "\n",
    "\n",
    "    plt.subplot(1,2,1)\n",
    "    plt.pie([sum(avdragsliste), sum(renteliste)], \n",
    "            labels=[\"Avdrag\", \"Renter\"], \n",
    "            autopct='%1.1f%%',\n",
    "            explode=[0,0.1],\n",
    "            shadow = True)\n",
    "    plt.subplots_adjust(left=0, right=1)\n",
    "    tekst = f\"\"\"Andel renter:\n",
    "    {sum(renteliste)/sum(avdragsliste):.1%}\n",
    "    \"\"\"\n",
    "    box = {\"boxstyle\": \"round\", \"facecolor\": \"wheat\", \"alpha\": 0.5}\n",
    "    plt.text(-1,1,tekst, bbox = box)\n",
    "    \n",
    "    plt.show()\n",
    "\n",
    "\n",
    "def run():\n",
    "    if not sjekk_terminbelop(terminbelop,rentesats,laan):\n",
    "        print(\"Avbryter -- ugyldig terminbeløp\")\n",
    "        return False\n",
    "\n",
    "    laanedata = lag_nedbetalingsplan(laan, rente, terminbelop)\n",
    "\n",
    "    if not sjekk_nedbetalingstid(laanedata[\"nedbetalingstid\"], max_nedbetalingstid):\n",
    "        print(\"Avbryter -- ugyldig nedbetalingstid\")\n",
    "        return False\n",
    "\n",
    "    fremstill_resultat(laanedata)\n",
    "    return True\n",
    "\n",
    "\n",
    "\n",
    "if run():\n",
    "    print(\"Låneberegning vellykket\")\n",
    "else:\n",
    "    print(\"Låneberegning mislyktes\")\n",
    "\n",
    "        \n",
    "\n",
    "\n",
    "\n",
    "\n",
    "\n"
   ]
  },
  {
   "cell_type": "code",
   "execution_count": null,
   "id": "fee1c14c-0dff-4996-828f-61d95115e3a6",
   "metadata": {},
   "outputs": [],
   "source": []
  }
 ],
 "metadata": {
  "kernelspec": {
   "display_name": "Python 3 (ipykernel)",
   "language": "python",
   "name": "python3"
  },
  "language_info": {
   "codemirror_mode": {
    "name": "ipython",
    "version": 3
   },
   "file_extension": ".py",
   "mimetype": "text/x-python",
   "name": "python",
   "nbconvert_exporter": "python",
   "pygments_lexer": "ipython3",
   "version": "3.10.12"
  }
 },
 "nbformat": 4,
 "nbformat_minor": 5
}
