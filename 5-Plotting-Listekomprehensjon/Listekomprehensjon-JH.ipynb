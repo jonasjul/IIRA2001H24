{
 "cells": [
  {
   "cell_type": "markdown",
   "id": "c54c5379-69d4-4976-a4c5-bbc7510d8524",
   "metadata": {
    "editable": true,
    "slideshow": {
     "slide_type": "slide"
    },
    "tags": []
   },
   "source": [
    "# Listekomprehension"
   ]
  },
  {
   "cell_type": "markdown",
   "id": "4d4bc8b3-a144-4ab9-9481-764ef1760af7",
   "metadata": {
    "editable": true,
    "slideshow": {
     "slide_type": "fragment"
    },
    "tags": []
   },
   "source": [
    "### Snarvei til å lage lister, set og dictionaries"
   ]
  },
  {
   "cell_type": "markdown",
   "id": "c551d30c-3ef0-4f87-b321-62f701b4e569",
   "metadata": {
    "editable": true,
    "slideshow": {
     "slide_type": "fragment"
    },
    "tags": []
   },
   "source": [
    "* Liste:\n",
    "  ```python\n",
    "  [ uttrykk for element in samling if betingelse]\n",
    "  ```\n",
    "  * Set:\n",
    "  ```python\n",
    "  { uttrykk for element in samling if betingelse}\n",
    "  ```\n",
    "  * Dictionary:\n",
    "  ```python\n",
    "  { utrykk_key: uttrykk_value for element in samling if betingelse ]\n",
    "  ```"
   ]
  },
  {
   "cell_type": "markdown",
   "id": "c644312c-ed70-4733-9546-96f7ed788609",
   "metadata": {
    "editable": true,
    "slideshow": {
     "slide_type": "subslide"
    },
    "tags": []
   },
   "source": [
    "Standard måte å lage liste på:"
   ]
  },
  {
   "cell_type": "code",
   "execution_count": 1,
   "id": "78af6f56-a001-4ae1-bfc6-6ab5b7c65d0f",
   "metadata": {
    "editable": true,
    "slideshow": {
     "slide_type": "fragment"
    },
    "tags": []
   },
   "outputs": [],
   "source": [
    "import matplotlib.pyplot as plt\n",
    "#Plot saldo på sparekonto\n",
    "\n",
    "def forrentning(P,r,t):\n",
    "    return P*(1+r)**t\n",
    "\n",
    "n_tid = 10\n",
    "start = 1000\n",
    "rente = 0.05\n"
   ]
  },
  {
   "cell_type": "markdown",
   "id": "0c20f188-d12f-46b1-b397-d1b342f51359",
   "metadata": {
    "editable": true,
    "slideshow": {
     "slide_type": "subslide"
    },
    "tags": []
   },
   "source": [
    "Med listekomprehensjon"
   ]
  },
  {
   "cell_type": "code",
   "execution_count": 2,
   "id": "013603f7-2e22-4c56-adc7-09a8517e3dd0",
   "metadata": {
    "editable": true,
    "slideshow": {
     "slide_type": "fragment"
    },
    "tags": []
   },
   "outputs": [],
   "source": [
    "import matplotlib.pyplot as plt\n",
    "import numpy as np\n",
    "\n",
    "\n",
    "def forrentning(P,r,t):\n",
    "    return P*(1+r)**t\n",
    "\n",
    "n_tid = 10\n",
    "start = 1000\n",
    "rente = 0.05\n"
   ]
  },
  {
   "cell_type": "markdown",
   "id": "b0735cff-36e1-45c3-9060-04c591c1ce92",
   "metadata": {
    "editable": true,
    "slideshow": {
     "slide_type": "subslide"
    },
    "tags": []
   },
   "source": [
    "* Ofte er slike listekomprehensjoner lette og lese, skrive og forstå\n",
    "* Man må passe på ikke ta av -- de kan bli kompliserte og vanskelige å forstå"
   ]
  },
  {
   "cell_type": "markdown",
   "id": "ae2dfeda-e279-4484-b77b-a2cc6341f439",
   "metadata": {
    "editable": true,
    "slideshow": {
     "slide_type": "slide"
    },
    "tags": []
   },
   "source": [
    "Man lager `set` på akkura samme måte"
   ]
  },
  {
   "cell_type": "code",
   "execution_count": 3,
   "id": "004b7533-7eb9-4354-a853-fc67304f4e88",
   "metadata": {
    "editable": true,
    "slideshow": {
     "slide_type": "fragment"
    },
    "tags": []
   },
   "outputs": [],
   "source": [
    "import json\n",
    "with open(\"kundedata1.json\", 'r') as file:\n",
    "    kundedata = json.load(file)\n",
    "\n",
    "#Hent alle etternavn\n",
    "#Hent alle etternavn som begynner på 'H'\n",
    "\n"
   ]
  },
  {
   "cell_type": "code",
   "execution_count": null,
   "id": "add77512-c180-4b31-aed7-bbf2b2f3be19",
   "metadata": {
    "editable": true,
    "slideshow": {
     "slide_type": "subslide"
    },
    "tags": []
   },
   "outputs": [],
   "source": [
    "\n",
    "#Kan bli vanskelig å lese eller for komplisert\n",
    "#Dictionary av alle kunder med etternavn som begynner på 'H'\n",
    "\n",
    "\n",
    "\n",
    "#Vi gjenbruker heller \"finnKunde\" funksjonen vår fra tidligere\n",
    "def finnKunde(etternavn):\n",
    "    treffliste = []\n",
    "    for kunde in kundedata:\n",
    "        if etternavn == kunde[\"etternavn\"]:\n",
    "            treffliste.append(kunde)\n",
    "    if treffliste == []:\n",
    "        print(f\"Ingen kunder med etternavn '{etternavn}' funndet\")\n",
    "        return None\n",
    "    else:\n",
    "        print(f\"Vi fant {len(treffliste)} kunder med etternavn '{etternavn}'\")\n",
    "        return treffliste\n",
    "\n",
    "#Alle kunder med etternavn H\n",
    "H_klubben = { navn: finnKunde(navn) for navn in etternavn_H}\n",
    "\n",
    "#Skriv ut til fil"
   ]
  },
  {
   "cell_type": "markdown",
   "id": "c728dd18-8be2-4491-952c-5685c5596e0d",
   "metadata": {
    "editable": true,
    "slideshow": {
     "slide_type": "subslide"
    },
    "tags": []
   },
   "source": [
    "## Oppg:\n",
    "* Bruk komprehensjon til å lage en dictionary som inneholder allekunder med startsaldo større enn 120,000\n",
    "* Dictionary skal bestå av nøkler som tilsvarer etternavnet til kundene, og verdiene skal være en liste med kundene på samme format som originalt"
   ]
  },
  {
   "cell_type": "code",
   "execution_count": 4,
   "id": "5e08c5dc-d44d-454f-8319-7d15a46992ba",
   "metadata": {
    "editable": true,
    "slideshow": {
     "slide_type": "fragment"
    },
    "tags": []
   },
   "outputs": [],
   "source": [
    "grense = 120e3\n",
    "#lag liste med rike kunder\n",
    "#lag set med etternavnene\n",
    "#lag dictionary med kunder { kundensetternavn: [liste med kunder]}\n"
   ]
  },
  {
   "cell_type": "code",
   "execution_count": null,
   "id": "4e0f05ed-f37b-44fa-8238-8ba180ddfb2e",
   "metadata": {
    "editable": true,
    "slideshow": {
     "slide_type": "fragment"
    },
    "tags": []
   },
   "outputs": [],
   "source": []
  },
  {
   "cell_type": "markdown",
   "id": "e6fd9838-dde2-46aa-98e0-8cda058e85ae",
   "metadata": {},
   "source": [
    "## Lånekalkulator: Stolpediagram og Kakediagram\n",
    "* Tidligere lagde vi denne lånekalkulatoren"
   ]
  },
  {
   "cell_type": "code",
   "execution_count": 6,
   "id": "2f169170-2c5e-4f9a-aeb3-dfd391d90154",
   "metadata": {},
   "outputs": [
    {
     "name": "stdin",
     "output_type": "stream",
     "text": [
      "Hva er ønsket terminbelop? 1000\n"
     ]
    },
    {
     "name": "stdout",
     "output_type": "stream",
     "text": [
      "Gyldig terminbeløp gitt -- kalkulering fortsetter\n"
     ]
    },
    {
     "data": {
      "image/png": "[encoded data removed]",
      "text/plain": [
       "<Figure size 432x288 with 1 Axes>"
      ]
     },
     "metadata": {
      "needs_background": "light"
     },
     "output_type": "display_data"
    },
    {
     "name": "stdout",
     "output_type": "stream",
     "text": [
      "Nedbetalingstiden på 11 år og 10 måneder er for lenge\n",
      "Renter [4837.334296557354, 4470.878725276828, 4085.6745914802564, 3680.7626831267626, 3255.1347130669888, 2807.730808267409, 2337.436870578584, 1843.081802475325, 1323.4345908604498, 777.2012416704075]\n"
     ]
    },
    {
     "data": {
      "image/png": "[encoded data removed]",
      "text/plain": [
       "<Figure size 432x288 with 1 Axes>"
      ]
     },
     "metadata": {
      "needs_background": "light"
     },
     "output_type": "display_data"
    }
   ],
   "source": [
    "# Annuitetslån\n",
    "import matplotlib.pyplot as plt\n",
    "\n",
    "laan = 100000\n",
    "rentesats = 0.05\n",
    "terminbelop = float(input(\"Hva er ønsket terminbelop?\"))\n",
    "max_nedbetalingstid = 10 #år\n",
    "\n",
    "def sjekk_terminbelop(terminbelop,r,L):\n",
    "    renter = laan*rentesats/12\n",
    "    if terminbelop<renter:\n",
    "        print(\"Terminbeløpet på\", terminbelop, \"er for lite\")\n",
    "        print(\"Første renteavregning er på\", renter, \"kr\")\n",
    "        return False\n",
    "    else:\n",
    "        return True\n",
    "    \n",
    "if sjekk_terminbelop(terminbelop, rentesats, laan):\n",
    "    print(\"Gyldig terminbeløp gitt -- kalkulering fortsetter\")\n",
    "    avdragsliste = []\n",
    "    renteliste = []\n",
    "    mnd = 0\n",
    "    while laan > 0:\n",
    "        renter = laan*rentesats/12\n",
    "        avdrag = terminbelop-renter\n",
    "        laan = laan - avdrag\n",
    "        #laan -= termterminbelop\n",
    "        renteliste.append(renter)\n",
    "        avdragsliste.append(avdrag)\n",
    "        mnd += 1\n",
    "        #mnd = mnd +1\n",
    "\n",
    "    tid_liste = list(range(mnd))\n",
    "\n",
    "    plt.bar(tid_liste, avdragsliste, label=\"Avdrag\")\n",
    "    plt.bar(tid_liste, renteliste, label=\"Renter\", bottom=avdragsliste)\n",
    "    plt.legend()\n",
    "    plt.show()\n",
    "    \n",
    "    if mnd/12 > max_nedbetalingstid:\n",
    "        print(f\"Nedbetalingstiden på {mnd/12:.0f} år og {mnd%12} måneder er for lenge\")\n",
    "    \n",
    "    avdrag_aarlig = []\n",
    "    renter_aarlig = []\n",
    "    \n",
    "    n_aar = mnd//12\n",
    "    aar_liste = list(range(n_aar))\n",
    "    \n",
    "    for aar in aar_liste:\n",
    "        avdrag = avdragsliste[aar*12:(aar+1)*12]\n",
    "        renter = renteliste[aar*12:(aar+1)*12]\n",
    "        avdrag_aarlig.append(sum(avdrag))\n",
    "        renter_aarlig.append(sum(renter))\n",
    "    \n",
    "    print(\"Renter\", renter_aarlig)\n",
    "    \n",
    "    startaar = 2024\n",
    "    aarstall_liste = []\n",
    "    for y in aar_liste:\n",
    "        aarstall = f\"{startaar+y}\"\n",
    "        aarstall_liste.append(aarstall)\n",
    "        \n",
    "    plt.bar(aarstall_liste, avdrag_aarlig, label=\"Avdrag\")\n",
    "    plt.bar(aarstall_liste, renter_aarlig, label=\"Renter\", bottom=avdrag_aarlig)\n",
    "    plt.xlabel(\"År\")\n",
    "    plt.ylabel(\"Kr\")\n",
    "    plt.show()\n",
    "    \n",
    "    \n",
    "else:\n",
    "    print(\"Ugyldig terminbeløp gitt -- programmet stopper\")\n",
    "\n",
    "\n",
    "\n",
    "\n"
   ]
  },
  {
   "cell_type": "markdown",
   "id": "92e54574-d8ee-431e-9cf7-c1c43d04b3e2",
   "metadata": {},
   "source": [
    "# Oppg: Skriv om lånekalkulator-koden:\n",
    "* Vi vil dele programmet inn i funksjoner\n",
    "* Sett sammen programmet på nytt slik at det består av:\n",
    "  * En funksjon som henter terminbeløp fra bruker\n",
    "  * En funksjon som sjekker terminbeløp\n",
    "  * En funksjon som beregner nedbetaling\n",
    "  * En funksjon som sjekker nedbetalingstiden\n",
    "  * En funksjon som fremstiller resultat (plotter osv)\n",
    "  * En funksjon run() som \"kjører lånekalkulatoren\""
   ]
  },
  {
   "cell_type": "code",
   "execution_count": null,
   "id": "77a93135-8275-41d8-9bac-4be21baf2003",
   "metadata": {},
   "outputs": [],
   "source": []
  }
 ],
 "metadata": {
  "kernelspec": {
   "display_name": "Python 3 (ipykernel)",
   "language": "python",
   "name": "python3"
  },
  "language_info": {
   "codemirror_mode": {
    "name": "ipython",
    "version": 3
   },
   "file_extension": ".py",
   "mimetype": "text/x-python",
   "name": "python",
   "nbconvert_exporter": "python",
   "pygments_lexer": "ipython3",
   "version": "3.10.12"
  }
 },
 "nbformat": 4,
 "nbformat_minor": 5
}
