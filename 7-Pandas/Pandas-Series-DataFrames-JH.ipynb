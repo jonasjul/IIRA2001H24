{
 "cells": [
  {
   "cell_type": "markdown",
   "id": "e2f86068",
   "metadata": {
    "slideshow": {
     "slide_type": "slide"
    },
    "tags": []
   },
   "source": [
    "# Introduksjon til *pan*el *da*ta: Pandas\n",
    "\n",
    "Nyttig ressurs: [https://pandas.pydata.org/docs/user_guide/](https://pandas.pydata.org/docs/user_guide/)\n",
    "\n",
    "* Pandas er et bibliotek for python for å manipulere og analysere data\n",
    "* Vi bruker pandas til å laste inn eller lage datasett\n",
    "    - Rydde opp i data\n",
    "    - Få det over på annet format\n",
    "    - Gjøre statistikk\n",
    "    - Plotte data\n",
    "    "
   ]
  },
  {
   "cell_type": "markdown",
   "id": "4ef6cd00",
   "metadata": {
    "slideshow": {
     "slide_type": "subslide"
    },
    "tags": []
   },
   "source": [
    "* Vi importerer pandas med som regel med `import pandas as pd`\n",
    "* Pandas er bygd på numpy, så man trenger ofte også å bruke numpy"
   ]
  },
  {
   "cell_type": "markdown",
   "id": "ca571681",
   "metadata": {
    "slideshow": {
     "slide_type": "slide"
    },
    "tags": []
   },
   "source": [
    "* Pandas er bygd opp av objekter kalt *DataFrames* og *Series*\n",
    "* Vi jobber for det meste med DataFrames\n",
    "* DataFrames likner litt på hvordan man strukturerer data i feks excel\n",
    "* De består av rader, og kolonner kalt *Series*\n",
    "<img src=\"img/dfnavn1.jpg\" width=\"550\">\n",
    "\n"
   ]
  },
  {
   "cell_type": "markdown",
   "id": "2b4df747",
   "metadata": {
    "slideshow": {
     "slide_type": "subslide"
    },
    "tags": []
   },
   "source": [
    "* Hver rad har en index\n",
    "* Ut av boksen har radene indeks med heltall 0,1,2,3...\n",
    "* Man kan også ha navn på radene (indeks er liste med strenger) slik som kolonnenavnene\n",
    "![dataframe_indeksnavn](img/dfnavn2.png)\n"
   ]
  },
  {
   "cell_type": "markdown",
   "id": "c22bc199",
   "metadata": {
    "slideshow": {
     "slide_type": "slide"
    },
    "tags": []
   },
   "source": [
    "## Pandas Series\n",
    "* Pandas series er som kolonnene i en tabell\n",
    "* Dataserier har en *index*, et *navn* og *data* av en eller annen datatype (`dtype`)\n",
    "* Vi lager serier med `pd.Series( ... )`"
   ]
  },
  {
   "cell_type": "code",
   "execution_count": 1,
   "id": "5a26ec66",
   "metadata": {
    "slideshow": {
     "slide_type": "fragment"
    },
    "tags": []
   },
   "outputs": [
    {
     "data": {
      "text/plain": [
       "['Bil', 'Båt', 'Sykkel', 'Tog', 'Fly']"
      ]
     },
     "execution_count": 1,
     "metadata": {},
     "output_type": "execute_result"
    }
   ],
   "source": [
    "[1,2,3,4,5]\n",
    "[\"Bil\", \"Båt\", \"Sykkel\", \"Tog\", \"Fly\"]\n"
   ]
  },
  {
   "cell_type": "markdown",
   "id": "ce6ea130",
   "metadata": {
    "slideshow": {
     "slide_type": "fragment"
    },
    "tags": []
   },
   "source": [
    "* Her mangler vi navn på seriene"
   ]
  },
  {
   "cell_type": "markdown",
   "id": "11fc8df9",
   "metadata": {
    "slideshow": {
     "slide_type": "subslide"
    },
    "tags": []
   },
   "source": [
    "* Vi kan navngi serien ved å gi *keyword* argumentet \"name\"\n",
    "* Eller legge til/forandre senere med `serie.name = \"navn\"`\n",
    "* `pd.Series(data, name=\"Navnet\")`"
   ]
  },
  {
   "cell_type": "code",
   "execution_count": null,
   "id": "4982ecb4",
   "metadata": {
    "slideshow": {
     "slide_type": "fragment"
    },
    "tags": []
   },
   "outputs": [],
   "source": []
  },
  {
   "cell_type": "markdown",
   "id": "7969aef2",
   "metadata": {
    "slideshow": {
     "slide_type": "subslide"
    },
    "tags": []
   },
   "source": [
    "* Vi kan gi en annen indeks med *keyword* argumentet \"index\"\n",
    "* `pd.Series(data, name=\"Navnet\", index = [ .... ])`"
   ]
  },
  {
   "cell_type": "code",
   "execution_count": 3,
   "id": "d232a1e5",
   "metadata": {
    "slideshow": {
     "slide_type": "fragment"
    },
    "tags": []
   },
   "outputs": [
    {
     "ename": "NameError",
     "evalue": "name 'pd' is not defined",
     "output_type": "error",
     "traceback": [
      "\u001b[0;31m---------------------------------------------------------------------------\u001b[0m",
      "\u001b[0;31mNameError\u001b[0m                                 Traceback (most recent call last)",
      "Cell \u001b[0;32mIn[3], line 1\u001b[0m\n\u001b[0;32m----> 1\u001b[0m dataserie \u001b[38;5;241m=\u001b[39m \u001b[43mpd\u001b[49m\u001b[38;5;241m.\u001b[39mSeries([\u001b[38;5;241m1\u001b[39m,\u001b[38;5;241m2\u001b[39m,\u001b[38;5;241m3\u001b[39m,\u001b[38;5;241m4\u001b[39m,\u001b[38;5;241m5\u001b[39m], name\u001b[38;5;241m=\u001b[39m\u001b[38;5;124m\"\u001b[39m\u001b[38;5;124mHeltall\u001b[39m\u001b[38;5;124m\"\u001b[39m, index\u001b[38;5;241m=\u001b[39m[\u001b[38;5;124m\"\u001b[39m\u001b[38;5;124men\u001b[39m\u001b[38;5;124m\"\u001b[39m, \u001b[38;5;124m\"\u001b[39m\u001b[38;5;124mto\u001b[39m\u001b[38;5;124m\"\u001b[39m, \u001b[38;5;124m\"\u001b[39m\u001b[38;5;124mtre\u001b[39m\u001b[38;5;124m\"\u001b[39m, \u001b[38;5;124m\"\u001b[39m\u001b[38;5;124mfire\u001b[39m\u001b[38;5;124m\"\u001b[39m, \u001b[38;5;124m\"\u001b[39m\u001b[38;5;124mfem\u001b[39m\u001b[38;5;124m\"\u001b[39m])\n",
      "\u001b[0;31mNameError\u001b[0m: name 'pd' is not defined"
     ]
    }
   ],
   "source": []
  },
  {
   "cell_type": "markdown",
   "id": "8d60e56f",
   "metadata": {
    "slideshow": {
     "slide_type": "subslide"
    },
    "tags": []
   },
   "source": [
    "* Tidligere eksempel gir lister til `pd.Series()`\n",
    "* Det kan være lurt å lage variabler med listene som skal bruke\n",
    "* Når det passer seg bør listene være numpy *arrays*"
   ]
  },
  {
   "cell_type": "code",
   "execution_count": 66,
   "id": "c108c93b",
   "metadata": {
    "slideshow": {
     "slide_type": "fragment"
    },
    "tags": []
   },
   "outputs": [
    {
     "data": {
      "text/plain": [
       "en      1\n",
       "to      2\n",
       "tre     3\n",
       "fire    4\n",
       "fem     5\n",
       "Name: heltall, dtype: int64"
      ]
     },
     "execution_count": 66,
     "metadata": {},
     "output_type": "execute_result"
    }
   ],
   "source": []
  },
  {
   "cell_type": "markdown",
   "id": "30fb3ebb-a4af-419c-97e7-4684c323df9d",
   "metadata": {
    "slideshow": {
     "slide_type": "subslide"
    },
    "tags": []
   },
   "source": [
    "* Når vi behandler store mengder data og data fra ulike kilder trenger vi å ha kontroll på hvordan dataen vår representeres internt i datamaskinen\n",
    "```python\n",
    "data = np.array([..... ], dtype=«numpy datatype»)\n",
    "```\n",
    "* `numpy` har flere ulike datatyper vi kan bruke"
   ]
  },
  {
   "cell_type": "markdown",
   "id": "8aa74928-adf9-4506-92ca-39a89b81538c",
   "metadata": {
    "slideshow": {
     "slide_type": "fragment"
    },
    "tags": []
   },
   "source": [
    "| **Type**       | **Name**    | **Description**                                       |\n",
    "|----------------|-------------|-------------------------------------------------------|\n",
    "| Integer        | `int8`      | Integer (-128 to 127)                                 |\n",
    "| Integer        | `int16`     | Integer (-32,768 to 32,767)                           |\n",
    "| Integer        | `int32`     | Integer (-2,147,483,648 to 2,147,483,647)             |\n",
    "| Integer        | `int64`     | Integer (-9,223,372,036,854,775,808 to 9,223,372,036,854,775,807) |\n",
    "| Unsigned Int   | `uint8`     | Unsigned integer (0 to 255)                           |\n",
    "| Unsigned Int   | `uint16`    | Unsigned integer (0 to 65,535)                        |\n",
    "| Unsigned Int   | `uint32`    | Unsigned integer (0 to 4,294,967,295)                 |\n",
    "| Unsigned Int   | `uint64`    | Unsigned integer (0 to 18,446,744,073,709,551,615)    |\n",
    "| Floating Point | `float16`   | Half precision floating point                         |\n",
    "| Floating Point | `float32`   | Single precision floating point                       |\n",
    "| Floating Point | `float64`   | Double precision floating point                       |\n",
    "| Complex Number | `complex64` | Complex number (real and imaginary as `float32`)      |\n",
    "| Complex Number | `complex128`| Complex number (real and imaginary as `float64`)      |\n",
    "| Boolean        | `bool_`     | Boolean (True or False)                               |\n",
    "| String         | `string_`   | Fixed-size string data                                |\n",
    "| Unicode String | `unicode_`  | Fixed-size Unicode string data                        |\n"
   ]
  },
  {
   "cell_type": "markdown",
   "id": "8f8568c5",
   "metadata": {
    "slideshow": {
     "slide_type": "subslide"
    },
    "tags": []
   },
   "source": [
    "### DataFrame-data\n",
    "* Merk at dersom vi forandrer datavariabelen, forandres også pandas serien\n",
    "* Vi sier at dataframen inneholder «refererer» til data som er lagret et annet sted\n",
    "* Dersom dette ikke er ønskelig kan vi bruke `copy=True` når vi lager serien\n",
    "* Av og til vil vi ha en kopi som ikke forstyrrer «datakilden»\n",
    "* Av og til vil vi ikke gjøre det slik -- det er raskere og bruker mindre minne"
   ]
  },
  {
   "cell_type": "code",
   "execution_count": 67,
   "id": "e3874168",
   "metadata": {
    "slideshow": {
     "slide_type": "fragment"
    },
    "tags": []
   },
   "outputs": [
    {
     "name": "stdout",
     "output_type": "stream",
     "text": [
      "en      1\n",
      "to      2\n",
      "tre     3\n",
      "fire    4\n",
      "fem     5\n",
      "Name: heltall, dtype: int64\n"
     ]
    },
    {
     "data": {
      "text/plain": [
       "en      1\n",
       "to      2\n",
       "tre     3\n",
       "fire    4\n",
       "fem     5\n",
       "Name: heltall, dtype: int64"
      ]
     },
     "execution_count": 67,
     "metadata": {},
     "output_type": "execute_result"
    }
   ],
   "source": []
  },
  {
   "cell_type": "markdown",
   "id": "c69f4ec9",
   "metadata": {
    "slideshow": {
     "slide_type": "subslide"
    },
    "tags": []
   },
   "source": [
    "### Oppgave 1:\n",
    "\n",
    "* Lag dataserien under i pandas:\n",
    "![oppg1](img/series_oppg1.png)"
   ]
  },
  {
   "cell_type": "code",
   "execution_count": 70,
   "id": "555f5cb4",
   "metadata": {
    "slideshow": {
     "slide_type": "fragment"
    },
    "tags": []
   },
   "outputs": [
    {
     "data": {
      "text/plain": [
       "Per         187.0\n",
       "Pål         177.0\n",
       "Espen       195.0\n",
       "Askeladd    159.0\n",
       "Name: EventyrfigurHøyde, dtype: float64"
      ]
     },
     "execution_count": 70,
     "metadata": {},
     "output_type": "execute_result"
    }
   ],
   "source": []
  },
  {
   "cell_type": "markdown",
   "id": "dc7a358b",
   "metadata": {
    "slideshow": {
     "slide_type": "subslide"
    },
    "tags": []
   },
   "source": [
    "* Vi kan lage serier også med dictionaries `{indeks0: data0, indeks1: data1}`\n",
    "* Da blir indeksen satt til nøklene i dictionary'en"
   ]
  },
  {
   "cell_type": "code",
   "execution_count": 9,
   "id": "6250fd5e",
   "metadata": {
    "slideshow": {
     "slide_type": "fragment"
    },
    "tags": []
   },
   "outputs": [
    {
     "data": {
      "text/plain": [
       "land    bil\n",
       "sjø     båt\n",
       "luft    fly\n",
       "Name: transportmetoder, dtype: object"
      ]
     },
     "execution_count": 9,
     "metadata": {},
     "output_type": "execute_result"
    }
   ],
   "source": []
  },
  {
   "cell_type": "markdown",
   "id": "df30589d",
   "metadata": {
    "slideshow": {
     "slide_type": "subslide"
    },
    "tags": []
   },
   "source": [
    "### Oppgave 2:\n",
    "\n",
    "* Lag samme dataserie som tidligere i pandas\n",
    "* Denne gangen bruk en dictionary til å sette data/indeks\n",
    "![oppg1](img/series_oppg1.png)"
   ]
  },
  {
   "cell_type": "code",
   "execution_count": 80,
   "id": "4eba759c",
   "metadata": {
    "slideshow": {
     "slide_type": "fragment"
    },
    "tags": []
   },
   "outputs": [
    {
     "data": {
      "text/plain": [
       "Per         187.0\n",
       "Pål         177.0\n",
       "Espen         NaN\n",
       "Askeladd    159.0\n",
       "Name: EventyrfigurHøyde, dtype: float64"
      ]
     },
     "execution_count": 80,
     "metadata": {},
     "output_type": "execute_result"
    }
   ],
   "source": []
  },
  {
   "cell_type": "markdown",
   "id": "2ab8da1f",
   "metadata": {
    "slideshow": {
     "slide_type": "subslide"
    },
    "tags": []
   },
   "source": [
    "### Manglende datapunkter\n",
    "* Dersom vi mangler noe data for en indeks bruker vi `np.NaN`som data"
   ]
  },
  {
   "cell_type": "code",
   "execution_count": 9,
   "id": "d64a63aa",
   "metadata": {
    "slideshow": {
     "slide_type": "fragment"
    },
    "tags": []
   },
   "outputs": [
    {
     "data": {
      "text/plain": [
       "Per        187.0\n",
       "Pål        177.0\n",
       "Espen        NaN\n",
       "England    159.0\n",
       "Name: EventyrfigurHøyde, dtype: float32"
      ]
     },
     "execution_count": 9,
     "metadata": {},
     "output_type": "execute_result"
    }
   ],
   "source": []
  },
  {
   "cell_type": "markdown",
   "id": "cfbce010-feef-428e-988c-9f6ee2c25d68",
   "metadata": {
    "slideshow": {
     "slide_type": "slide"
    },
    "tags": []
   },
   "source": [
    "## Attributter\n",
    "* Pandas Series objekter har ulike *atributter*"
   ]
  },
  {
   "cell_type": "markdown",
   "id": "5fb6844b-5bf3-44f9-9a16-368c13e47075",
   "metadata": {
    "slideshow": {
     "slide_type": "fragment"
    },
    "tags": []
   },
   "source": [
    "| **Attribute**      | **Description**                                                                 |\n",
    "|--------------------|---------------------------------------------------------------------------------|\n",
    "| `index`            | The index (labels) of the Series.                                               |\n",
    "| `values`           | The values (data) of the Series as a NumPy array.                               |\n",
    "| `name`             | The name of the Series.                                                         |\n",
    "| `dtype`            | The data type of the values in the Series.                                      |\n",
    "| `size`             | The number of elements in the Series.                                           |\n",
    "| `shape`            | The dimensionality of the Series (always a single dimension).                   |\n",
    "| `empty`            | Returns `True` if the Series is empty (i.e., has no elements).                  |\n",
    "| `nbytes`           | The total number of bytes consumed by the Series' elements.                     |\n",
    "| `hasnans`          | Returns `True` if there are any `NaN` values in the Series.                     |\n",
    "| `is_unique`        | Returns `True` if all values in the Series are unique.                          |\n",
    "| `is_monotonic`     | Returns `True` if the Series is sorted in increasing order.                     |\n",
    "| `str`              | Provides access to string methods (if the Series contains strings).             |\n",
    "| `dt`               | Provides access to datetime methods (if the Series contains datetime objects).  |\n",
    "| `T`                | The transpose of the Series (no effect for 1D data, but included for consistency). |\n"
   ]
  },
  {
   "cell_type": "code",
   "execution_count": 12,
   "id": "6817e233-14df-4bc7-9356-5cbd47e1840a",
   "metadata": {
    "slideshow": {
     "slide_type": "subslide"
    },
    "tags": []
   },
   "outputs": [
    {
     "name": "stdout",
     "output_type": "stream",
     "text": [
      "EventyrfigurHøyde\n",
      "[187. 177.  nan 159.]\n",
      "Index(['Per', 'Pål', 'Espen', 'England'], dtype='object')\n",
      "16\n"
     ]
    }
   ],
   "source": []
  },
  {
   "cell_type": "markdown",
   "id": "1cf072d2-b145-4d31-9fca-59ad5867bb06",
   "metadata": {
    "slideshow": {
     "slide_type": "subslide"
    },
    "tags": []
   },
   "source": [
    "## Metoder\n",
    "* Pandas Series objekter har flere nyttige *metoder*"
   ]
  },
  {
   "cell_type": "markdown",
   "id": "b4f2c258-2c65-497d-bcda-a1b1bf34c91d",
   "metadata": {
    "slideshow": {
     "slide_type": "fragment"
    },
    "tags": []
   },
   "source": [
    "| **Metode**            | **Beskrivelse**                                                                  |\n",
    "|-----------------------|----------------------------------------------------------------------------------|\n",
    "| `head(n)`             | Returnerer de første `n` elementene i Series (standard er 5).                     |\n",
    "| `tail(n)`             | Returnerer de siste `n` elementene i Series (standard er 5).                      |\n",
    "| `unique()`            | Returnerer unike verdier i Series.                                                |\n",
    "| `value_counts()`      | Returnerer antall forekomster av unike verdier i Series.                          |\n",
    "| `describe()`          | Genererer beskrivende statistikk som antall, gjennomsnitt, std, min og maks.      |\n",
    "| `sum()`               | Returnerer summen av elementene i Series.                                         |\n",
    "| `mean()`              | Returnerer gjennomsnittet av elementene i Series.                                 |\n",
    "| `median()`            | Returnerer medianen av elementene i Series.                                       |\n",
    "| `min()`               | Returnerer minimumsverdien i Series.                                              |\n",
    "| `max()`               | Returnerer maksimumsverdien i Series.                                             |\n",
    "| `std()`               | Returnerer standardavviket til Series.                                            |\n",
    "| `sort_values()`       | Sorterer Series etter verdiene.                                                   |\n",
    "| `sort_index()`        | Sorterer Series etter indeksen.                                                   |\n",
    "| `apply(func)`         | Anvender en funksjon element for element på Series.                               |\n",
    "| `map(func)`           | Mapper verdier i Series ved hjelp av funksjon eller dictionary.                       |\n",
    "| `dropna()`            | Fjerner `NaN`-verdier fra Series.                                                 |\n",
    "| `fillna(value)`       | Fyller inn `NaN`-verdier med en spesifisert verdi.                                |\n",
    "| `astype(dtype)`       | Endrer datatypen til Series til spesifisert datatype.                             |\n",
    "| `clip(lower, upper)`  | Begrenser verdier til et spesifisert område (nedre og øvre grenser).              |\n",
    "| `between(left, right)`| Returnerer True for verdier mellom spesifiserte grenser.                          |\n",
    "| `shift(periods)`      | Skifter verdiene med et spesifisert antall perioder.                             |\n",
    "| `cumsum()`            | Returnerer den kumulative summen av elementene i Series.                          |\n",
    "| `cumprod()`           | Returnerer det kumulative produktet av elementene i Series.                       |\n",
    "| `rolling(window)`     | Gir glidende beregninger med et gitt vindu                                          |\n",
    "| `expanding()`         | Gir ekspanderende beregninger (f.eks. kumulative beregninger).               |\n",
    "| `resample(rule)`      | Resampler tidsseriedata i henhold til en spesifisert frekvens.                    |\n",
    "| `plot()`              | Plotter dataen i Series ved hjelp av Matplotlib.                                  |\n"
   ]
  },
  {
   "cell_type": "code",
   "execution_count": 20,
   "id": "ddfa8d1b-0b66-4b14-8e72-d00cc9f53814",
   "metadata": {
    "slideshow": {
     "slide_type": "subslide"
    },
    "tags": []
   },
   "outputs": [
    {
     "name": "stdout",
     "output_type": "stream",
     "text": [
      "count      3.000000\n",
      "mean     174.333328\n",
      "std       14.189198\n",
      "min      159.000000\n",
      "25%      168.000000\n",
      "50%      177.000000\n",
      "75%      182.000000\n",
      "max      187.000000\n",
      "Name: EventyrfigurHøyde, dtype: float64\n"
     ]
    },
    {
     "data": {
      "text/plain": [
       "Per        187.0\n",
       "Pål        177.0\n",
       "England    159.0\n",
       "Name: EventyrfigurHøyde, dtype: float32"
      ]
     },
     "execution_count": 20,
     "metadata": {},
     "output_type": "execute_result"
    }
   ],
   "source": []
  },
  {
   "cell_type": "markdown",
   "id": "11e27fb1",
   "metadata": {
    "slideshow": {
     "slide_type": "slide"
    },
    "tags": []
   },
   "source": [
    "## Pandas DataFrame\n",
    "\n",
    "* Vi er som regel interessert i å jobbe med DataFrames, en samling av serier\n",
    "* Vi lager de med `pd.DataFrames(data, index=None, columns=None, dtype=None, copy=None)`\n",
    "* Vi har de samme feltene som serier, men dataen er nå *todimensjonal*"
   ]
  },
  {
   "cell_type": "markdown",
   "id": "17540fbf",
   "metadata": {
    "slideshow": {
     "slide_type": "subslide"
    },
    "tags": []
   },
   "source": [
    "* `data` variabelen vi fyller dataframen vår med kan ha flere former:\n",
    " - 2d-array\n",
    " - dictionary -> `{col0: [data0], col1: [data1], ...}`\n",
    " - pandas Series `[serie1,serie2,...]` (seriene er her rader i tabellen)"
   ]
  },
  {
   "cell_type": "code",
   "execution_count": 11,
   "id": "71758e9d",
   "metadata": {
    "slideshow": {
     "slide_type": "subslide"
    },
    "tags": []
   },
   "outputs": [
    {
     "name": "stdout",
     "output_type": "stream",
     "text": [
      "[[1 2 3]\n",
      " [4 5 6]\n",
      " [7 8 9]]\n"
     ]
    }
   ],
   "source": [
    "import pandas as pd\n",
    "import numpy as np\n",
    "data1 = np.array([[1,2,3],\n",
    "                  [4,5,6],\n",
    "                  [7,8,9]])\n",
    "print(data1)"
   ]
  },
  {
   "cell_type": "code",
   "execution_count": 10,
   "id": "66295496",
   "metadata": {
    "slideshow": {
     "slide_type": "subslide"
    },
    "tags": []
   },
   "outputs": [
    {
     "data": {
      "text/html": [
       "<div>\n",
       "<style scoped>\n",
       "    .dataframe tbody tr th:only-of-type {\n",
       "        vertical-align: middle;\n",
       "    }\n",
       "\n",
       "    .dataframe tbody tr th {\n",
       "        vertical-align: top;\n",
       "    }\n",
       "\n",
       "    .dataframe thead th {\n",
       "        text-align: right;\n",
       "    }\n",
       "</style>\n",
       "<table border=\"1\" class=\"dataframe\">\n",
       "  <thead>\n",
       "    <tr style=\"text-align: right;\">\n",
       "      <th></th>\n",
       "      <th>BNP</th>\n",
       "    </tr>\n",
       "  </thead>\n",
       "  <tbody>\n",
       "    <tr>\n",
       "      <th>Norge</th>\n",
       "      <td>1</td>\n",
       "    </tr>\n",
       "    <tr>\n",
       "      <th>Uganda</th>\n",
       "      <td>2</td>\n",
       "    </tr>\n",
       "    <tr>\n",
       "      <th>Sverige</th>\n",
       "      <td>3</td>\n",
       "    </tr>\n",
       "    <tr>\n",
       "      <th>England</th>\n",
       "      <td>4</td>\n",
       "    </tr>\n",
       "  </tbody>\n",
       "</table>\n",
       "</div>"
      ],
      "text/plain": [
       "         BNP\n",
       "Norge      1\n",
       "Uganda     2\n",
       "Sverige    3\n",
       "England    4"
      ]
     },
     "execution_count": 10,
     "metadata": {},
     "output_type": "execute_result"
    }
   ],
   "source": [
    "data2 = {\"BNP\": [1,2,3,4], \"levealder\": [88,88,99,102], \n",
    "         \"styresett\": [\"demokrati\", \"diktatur\", \"demokrati\", \"monarki\"]}\n",
    "\n",
    "df2"
   ]
  },
  {
   "cell_type": "code",
   "execution_count": 24,
   "id": "6cc6ed64",
   "metadata": {
    "slideshow": {
     "slide_type": "subslide"
    },
    "tags": []
   },
   "outputs": [
    {
     "data": {
      "text/html": [
       "<div>\n",
       "<style scoped>\n",
       "    .dataframe tbody tr th:only-of-type {\n",
       "        vertical-align: middle;\n",
       "    }\n",
       "\n",
       "    .dataframe tbody tr th {\n",
       "        vertical-align: top;\n",
       "    }\n",
       "\n",
       "    .dataframe thead th {\n",
       "        text-align: right;\n",
       "    }\n",
       "</style>\n",
       "<table border=\"1\" class=\"dataframe\">\n",
       "  <thead>\n",
       "    <tr style=\"text-align: right;\">\n",
       "      <th></th>\n",
       "      <th>BNP</th>\n",
       "      <th>levealder</th>\n",
       "      <th>styresett</th>\n",
       "    </tr>\n",
       "  </thead>\n",
       "  <tbody>\n",
       "    <tr>\n",
       "      <th>Norge</th>\n",
       "      <td>1</td>\n",
       "      <td>88</td>\n",
       "      <td>demokrati</td>\n",
       "    </tr>\n",
       "    <tr>\n",
       "      <th>UGanda</th>\n",
       "      <td>2</td>\n",
       "      <td>88</td>\n",
       "      <td>diktatur</td>\n",
       "    </tr>\n",
       "  </tbody>\n",
       "</table>\n",
       "</div>"
      ],
      "text/plain": [
       "        BNP  levealder  styresett\n",
       "Norge     1         88  demokrati\n",
       "UGanda    2         88   diktatur"
      ]
     },
     "execution_count": 24,
     "metadata": {},
     "output_type": "execute_result"
    }
   ],
   "source": [
    "indeks = [\"BNP\", \"levealder\", \"styresett\"]\n",
    "serie1 = pd.Series([1,88,\"demokrati\"], name=\"Norge\", index =indeks )\n",
    "serie2 = pd.Series([2,88,\"diktatur\"], name=\"Uganda\", index=indeks)"
   ]
  },
  {
   "cell_type": "markdown",
   "id": "24366016",
   "metadata": {
    "slideshow": {
     "slide_type": "slide"
    },
    "tags": []
   },
   "source": [
    "### Oppgave 3:\n",
    "\n",
    "\n",
    "Under har vi et lite pandas dataframe.\n",
    "![oppg1](img/dataframe_oppg3.png)\n",
    "\n",
    "Prøv å lage tabellen ved å bruke metodene over"
   ]
  },
  {
   "cell_type": "code",
   "execution_count": 45,
   "id": "cf62b4b7",
   "metadata": {
    "slideshow": {
     "slide_type": "subslide"
    },
    "tags": []
   },
   "outputs": [
    {
     "data": {
      "text/html": [
       "<div>\n",
       "<style scoped>\n",
       "    .dataframe tbody tr th:only-of-type {\n",
       "        vertical-align: middle;\n",
       "    }\n",
       "\n",
       "    .dataframe tbody tr th {\n",
       "        vertical-align: top;\n",
       "    }\n",
       "\n",
       "    .dataframe thead th {\n",
       "        text-align: right;\n",
       "    }\n",
       "</style>\n",
       "<table border=\"1\" class=\"dataframe\">\n",
       "  <thead>\n",
       "    <tr style=\"text-align: right;\">\n",
       "      <th></th>\n",
       "      <th>Arbeidsledighet</th>\n",
       "      <th>Konkurser</th>\n",
       "      <th>BNP</th>\n",
       "    </tr>\n",
       "  </thead>\n",
       "  <tbody>\n",
       "    <tr>\n",
       "      <th>2010</th>\n",
       "      <td>2.0%</td>\n",
       "      <td>100</td>\n",
       "      <td>2000000.0</td>\n",
       "    </tr>\n",
       "    <tr>\n",
       "      <th>2011</th>\n",
       "      <td>2.3%</td>\n",
       "      <td>120</td>\n",
       "      <td>3000000.0</td>\n",
       "    </tr>\n",
       "    <tr>\n",
       "      <th>2012</th>\n",
       "      <td>2.6%</td>\n",
       "      <td>250</td>\n",
       "      <td>1800000.0</td>\n",
       "    </tr>\n",
       "    <tr>\n",
       "      <th>2013</th>\n",
       "      <td>3.1%</td>\n",
       "      <td>180</td>\n",
       "      <td>1500000.0</td>\n",
       "    </tr>\n",
       "  </tbody>\n",
       "</table>\n",
       "</div>"
      ],
      "text/plain": [
       "     Arbeidsledighet  Konkurser        BNP\n",
       "2010            2.0%        100  2000000.0\n",
       "2011            2.3%        120  3000000.0\n",
       "2012            2.6%        250  1800000.0\n",
       "2013            3.1%        180  1500000.0"
      ]
     },
     "execution_count": 45,
     "metadata": {},
     "output_type": "execute_result"
    }
   ],
   "source": []
  },
  {
   "cell_type": "markdown",
   "id": "b6f25170",
   "metadata": {
    "slideshow": {
     "slide_type": "slide"
    },
    "tags": []
   },
   "source": [
    "## Slå opp i Frame/Series\n",
    "\n",
    "### Series\n",
    "* Vi kan slå opp verdi nr. $i$ med serie[$i$]\n",
    "* Eller vi kan bruke indeks: serie[\"indeks\"]\n",
    "\n",
    "### Dataframes\n",
    "* Vi får tak i kolonne med `df[\"kolonnenavn\"]`\n",
    "* Vi får tak i rad med df.loc[\"rad_indeks\"]\n",
    "* Vi kan få tak i rad med df.iloc[i] hvor i er mellom 0 og antall rader i tabellen\n",
    "* Vi får tak i et datapunkt med df.loc[\"rad\", \"kolonne\"]"
   ]
  },
  {
   "cell_type": "code",
   "execution_count": 12,
   "id": "46fcdce5",
   "metadata": {
    "slideshow": {
     "slide_type": "subslide"
    },
    "tags": []
   },
   "outputs": [
    {
     "ename": "NameError",
     "evalue": "name 'serie1' is not defined",
     "output_type": "error",
     "traceback": [
      "\u001b[0;31m---------------------------------------------------------------------------\u001b[0m",
      "\u001b[0;31mNameError\u001b[0m                                 Traceback (most recent call last)",
      "Cell \u001b[0;32mIn[12], line 1\u001b[0m\n\u001b[0;32m----> 1\u001b[0m \u001b[38;5;28mprint\u001b[39m(\u001b[38;5;124mf\u001b[39m\u001b[38;5;124m\"\u001b[39m\u001b[38;5;124mLevealder i \u001b[39m\u001b[38;5;132;01m{\u001b[39;00m\u001b[43mserie1\u001b[49m\u001b[38;5;241m.\u001b[39mname\u001b[38;5;132;01m}\u001b[39;00m\u001b[38;5;124m er ...\u001b[39m\u001b[38;5;124m\"\u001b[39m)\n\u001b[1;32m      2\u001b[0m \u001b[38;5;28mprint\u001b[39m(\u001b[38;5;124mf\u001b[39m\u001b[38;5;124m\"\u001b[39m\u001b[38;5;124mLevealder i \u001b[39m\u001b[38;5;132;01m{\u001b[39;00mserie2\u001b[38;5;241m.\u001b[39mname\u001b[38;5;132;01m}\u001b[39;00m\u001b[38;5;124m er ...\u001b[39m\u001b[38;5;124m\"\u001b[39m)\n",
      "\u001b[0;31mNameError\u001b[0m: name 'serie1' is not defined"
     ]
    }
   ],
   "source": [
    "print(f\"Levealder i {serie1.name} er ...\")\n",
    "print(f\"Levealder i {serie2.name} er ...\")"
   ]
  },
  {
   "cell_type": "code",
   "execution_count": 42,
   "id": "e3748615",
   "metadata": {
    "slideshow": {
     "slide_type": "subslide"
    },
    "tags": []
   },
   "outputs": [
    {
     "name": "stdout",
     "output_type": "stream",
     "text": [
      "Kolonne 'BNP':\n",
      " Norge      1\n",
      "Uganda     2\n",
      "Sverige    3\n",
      "England    4\n",
      "Name: BNP, dtype: int64\n",
      "\n",
      "Rad 'Sverige':\n",
      " BNP                  3\n",
      "levealder           99\n",
      "styresett    demokrati\n",
      "Name: Sverige, dtype: object\n",
      "\n",
      "Rad nr. 3:\n",
      " BNP                  3\n",
      "levealder           99\n",
      "styresett    demokrati\n",
      "Name: Sverige, dtype: object\n",
      "\n",
      "Levealder i England er: 102\n"
     ]
    },
    {
     "data": {
      "text/html": [
       "<div>\n",
       "<style scoped>\n",
       "    .dataframe tbody tr th:only-of-type {\n",
       "        vertical-align: middle;\n",
       "    }\n",
       "\n",
       "    .dataframe tbody tr th {\n",
       "        vertical-align: top;\n",
       "    }\n",
       "\n",
       "    .dataframe thead th {\n",
       "        text-align: right;\n",
       "    }\n",
       "</style>\n",
       "<table border=\"1\" class=\"dataframe\">\n",
       "  <thead>\n",
       "    <tr style=\"text-align: right;\">\n",
       "      <th></th>\n",
       "      <th>BNP</th>\n",
       "      <th>levealder</th>\n",
       "      <th>styresett</th>\n",
       "    </tr>\n",
       "  </thead>\n",
       "  <tbody>\n",
       "    <tr>\n",
       "      <th>Norge</th>\n",
       "      <td>1</td>\n",
       "      <td>88</td>\n",
       "      <td>demokrati</td>\n",
       "    </tr>\n",
       "    <tr>\n",
       "      <th>Uganda</th>\n",
       "      <td>2</td>\n",
       "      <td>88</td>\n",
       "      <td>diktatur</td>\n",
       "    </tr>\n",
       "    <tr>\n",
       "      <th>Sverige</th>\n",
       "      <td>3</td>\n",
       "      <td>99</td>\n",
       "      <td>demokrati</td>\n",
       "    </tr>\n",
       "    <tr>\n",
       "      <th>England</th>\n",
       "      <td>4</td>\n",
       "      <td>102</td>\n",
       "      <td>monarki</td>\n",
       "    </tr>\n",
       "  </tbody>\n",
       "</table>\n",
       "</div>"
      ],
      "text/plain": [
       "         BNP  levealder  styresett\n",
       "Norge      1         88  demokrati\n",
       "Uganda     2         88   diktatur\n",
       "Sverige    3         99  demokrati\n",
       "England    4        102    monarki"
      ]
     },
     "execution_count": 42,
     "metadata": {},
     "output_type": "execute_result"
    }
   ],
   "source": [
    "#kolonne BNP:\n",
    "print(\"Kolonne 'BNP':\\n\", )\n",
    "\n",
    "#Rad med indeks\n",
    "print(\"\\nRad 'Sverige':\\n\", )\n",
    "\n",
    "#Rad med radnummer\n",
    "print(\"\\nRad nr. 3:\\n\", )\n",
    "\n",
    "#Levalder i England:\n",
    "print(\"\\nLevealder i England er:\",)\n",
    "df2"
   ]
  },
  {
   "cell_type": "markdown",
   "id": "c749a491",
   "metadata": {
    "slideshow": {
     "slide_type": "slide"
    },
    "tags": []
   },
   "source": [
    "### Oppg 4\n",
    "\n",
    "Se at du kan slå opp fra oppgave 3 og hente ut en gitt kolonne, rad eller datapunkt\n"
   ]
  },
  {
   "cell_type": "code",
   "execution_count": null,
   "id": "f3968ebe",
   "metadata": {
    "slideshow": {
     "slide_type": ""
    },
    "tags": []
   },
   "outputs": [],
   "source": []
  }
 ],
 "metadata": {
  "celltoolbar": "Slideshow",
  "kernelspec": {
   "display_name": "Python 3 (ipykernel)",
   "language": "python",
   "name": "python3"
  },
  "language_info": {
   "codemirror_mode": {
    "name": "ipython",
    "version": 3
   },
   "file_extension": ".py",
   "mimetype": "text/x-python",
   "name": "python",
   "nbconvert_exporter": "python",
   "pygments_lexer": "ipython3",
   "version": "3.12.3"
  }
 },
 "nbformat": 4,
 "nbformat_minor": 5
}
