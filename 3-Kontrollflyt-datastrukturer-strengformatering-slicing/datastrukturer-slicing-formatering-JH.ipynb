{
 "cells": [
  {
   "cell_type": "code",
   "execution_count": null,
   "id": "1330f58f-8a50-48ab-9a16-c11d9c76b239",
   "metadata": {},
   "outputs": [],
   "source": [
    "# Annuitetslån\n",
    "import matplotlib.pyplot as plt\n",
    "\n",
    "laan = 100000\n",
    "rentesats = 0.05\n",
    "terminbelop = float(input(\"Hva er ønsket terminbelop?\"))\n",
    "renter = laan*rentesats/12\n",
    "max_nedbetalingstid = 10"
   ]
  },
  {
   "cell_type": "markdown",
   "id": "037f8270-31a4-44a9-9084-0b48546d0a07",
   "metadata": {
    "slideshow": {
     "slide_type": "slide"
    },
    "tags": []
   },
   "source": [
    "# Datastrukturer: Tuple, set, dictionary\n",
    "* Til nå har vi sett på lister og arrays (med numpy)\n",
    "  - Lister kunne inneholde en blanding av data, og vi kunne gjøre listen lengre eller kortere\n",
    "  - Arrays kunne kun inneholde 1 datatype om gangen, og lengden på listen lot seg ikke endres på"
   ]
  },
  {
   "cell_type": "code",
   "execution_count": 4,
   "id": "a886f2ad-0ab7-4f03-a6af-f6618f07796c",
   "metadata": {
    "slideshow": {
     "slide_type": "fragment"
    },
    "tags": []
   },
   "outputs": [
    {
     "name": "stdout",
     "output_type": "stream",
     "text": [
      "4\n",
      "heisann!\n"
     ]
    }
   ],
   "source": [
    "import numpy as np\n",
    "numpy_array = np.array([1,23,3,4,5])\n",
    "print(numpy_array[3])\n",
    "\n",
    "vanlig_liste = [\"hei\", 1, 2.0, print]\n",
    "vanlig_liste[-1](\"heisann!\") # Slår opp siste element som er print-funksjonen og gjør et kall til den "
   ]
  },
  {
   "cell_type": "markdown",
   "id": "265992e7-eb61-4bac-92e0-2154f3a14259",
   "metadata": {
    "slideshow": {
     "slide_type": "slide"
    },
    "tags": []
   },
   "source": [
    "* Vi har flere datastrukturer tilgjengelig:\n",
    "### Tuples\n",
    "* Kan inneholde en blanding av data\n",
    "* Vi kan ikke endre på data, eller lengde\n",
    "* Nyttig for å returnere flere verdier fra en funksjon, eller samle sammen annen data «parvis»\n",
    "* Vi lager tupler med `(1,2)` i stedet for `[1,2]` for en liste "
   ]
  },
  {
   "cell_type": "code",
   "execution_count": 80,
   "id": "c678cdb4-67ae-4a52-9042-220dabf271fe",
   "metadata": {
    "slideshow": {
     "slide_type": "subslide"
    },
    "tags": []
   },
   "outputs": [
    {
     "name": "stdout",
     "output_type": "stream",
     "text": [
      "hei\n",
      "2 og 4\n"
     ]
    }
   ],
   "source": [
    "min_tuple = (\"hei\",2)\n",
    "print(min_tuple[0])\n",
    "#min_tuple[0] = \"hade\" #Dette er ikke lov\n",
    "n = len(min_tuple)\n",
    "\n",
    "#Når vi returnerer flere verdier fra funksjon\n",
    "#gjør vi egentlig dette i en tuple\n",
    "def testfunk(a,b):\n",
    "    a_return = a*2\n",
    "    b_return = b//2\n",
    "    return #????\n",
    "\n",
    "#??? = testfunk(1,9)\n",
    "print(f\"{a} og {b}\")\n"
   ]
  },
  {
   "cell_type": "markdown",
   "id": "11616d32-4c16-45b8-8971-28ad6b4c6c29",
   "metadata": {
    "slideshow": {
     "slide_type": "subslide"
    },
    "tags": []
   },
   "source": [
    "* De hendige funksjonene `enumerate` og `zip` samler dataene i tupler om vi ber python lage lister av de"
   ]
  },
  {
   "cell_type": "code",
   "execution_count": 81,
   "id": "83f530df-95b7-4feb-a95f-1c4b87504456",
   "metadata": {
    "slideshow": {
     "slide_type": "fragment"
    },
    "tags": []
   },
   "outputs": [],
   "source": [
    "a = [1,2,3,4,5]\n",
    "b = [\"hei\", \"på\", \"deg\", \"så\", \"lenge\"]\n",
    "zippet = zip(a,b)\n",
    "opptelt = enumerate(b)\n"
   ]
  },
  {
   "cell_type": "markdown",
   "id": "d86228da-5130-4a2b-af3b-33d736fe7a5a",
   "metadata": {
    "slideshow": {
     "slide_type": "slide"
    },
    "tags": []
   },
   "source": [
    "# Set\n",
    "* Set kan være en kjekk datastruktur i mange tilfeller\n",
    "* Den er uordnet (kan ikke sorteres eller slås opp i)\n",
    "* Den kan kun inneholde 1 av hvert element, ingen duplikater\n",
    "* Vi lager set med `{ item1,item2, item3, ...}`\n",
    "* Eller vi kan bruke funksjonen `set(«datastruktur»)`\n"
   ]
  },
  {
   "cell_type": "code",
   "execution_count": 82,
   "id": "5642dce5-461b-4d74-b2c1-e8394cde3f83",
   "metadata": {
    "slideshow": {
     "slide_type": "subslide"
    },
    "tags": []
   },
   "outputs": [],
   "source": [
    "hobby_liste = [\"Lese\", \"Game\", \"Fotball\", \"Fotball\", \"Game\", \"Lese\", \"Danse\", \"Game\",\"Game\"]\n",
    "hobbier2 = {\"Lese\", \"Danse\", \"Buldre\"}\n",
    "\n",
    "\n",
    "# Hvilke elementer er i begge settene?\n",
    "#Hvilket set får vi om vi slår de sammen?\n"
   ]
  },
  {
   "cell_type": "markdown",
   "id": "4b269428-9478-496e-acaf-84cca128d4b7",
   "metadata": {
    "slideshow": {
     "slide_type": "slide"
    },
    "tags": []
   },
   "source": [
    "# Dictionary /Hash-map / Map\n",
    "* En viktig og nyttig datastruktur (en dere kommer til å bruke mye) kalles i python `dictionary`\n",
    "* I andre sammenhenger kalles en slik datastruktur et \"hash-map\" eller et \"map\"\n",
    "* Det er en datastruktur det hvert datalement eller verdi har en \"nøkkel\" (eng. key) man bruker for å slå opp verdien med\n",
    "  ![tekst](https://www.boardinfinity.com/blog/content/images/2023/03/HashMap-in-Python.png)"
   ]
  },
  {
   "cell_type": "markdown",
   "id": "6f961542-03d5-4cfe-bc46-0b51d69ab69e",
   "metadata": {
    "slideshow": {
     "slide_type": "subslide"
    },
    "tags": []
   },
   "source": [
    "* Vi lager en dictionay slik:"
   ]
  },
  {
   "cell_type": "code",
   "execution_count": null,
   "id": "51231334-03d8-44ee-b4ff-3f8043d2c8dd",
   "metadata": {
    "slideshow": {
     "slide_type": "fragment"
    },
    "tags": []
   },
   "outputs": [],
   "source": []
  },
  {
   "cell_type": "markdown",
   "id": "b07d4170-7b94-40d3-a03b-38ab5f43d063",
   "metadata": {
    "slideshow": {
     "slide_type": "subslide"
    },
    "tags": []
   },
   "source": [
    "* Krøllparantes på mac er shift+opt+8, shift+opt+9 (?)\n",
    "* Tekstrenger før `:` er nøkkelen\n",
    "* bak `:` er verdien\n",
    "      - Den kan være data av hvilken som helst type\n",
    "      - Heltall, flyter, lister, set, funksjoner eller **andre dictionaries**\n",
    "* Vi slår opp i dictionarien på samme måte som vi slo opp i *listene*, men nå bruker vi nøkkelen i stedet for *indeksen*"
   ]
  },
  {
   "cell_type": "code",
   "execution_count": 24,
   "id": "3138c864-112e-40d9-9080-9a0c59fa37d9",
   "metadata": {
    "slideshow": {
     "slide_type": "fragment"
    },
    "tags": []
   },
   "outputs": [
    {
     "name": "stdout",
     "output_type": "stream",
     "text": [
      "Navnet er: Jonas\n"
     ]
    }
   ],
   "source": [
    "navn1 = #???\n",
    "print(\"Navnet er:\", navn1)"
   ]
  },
  {
   "cell_type": "markdown",
   "id": "4cac88ae-ead2-4bf9-aa71-784df43707da",
   "metadata": {
    "slideshow": {
     "slide_type": "subslide"
    },
    "tags": []
   },
   "source": [
    "* Vi har lov til å endre dictionarier\n",
    "* Vi fjerner et key/value-par med `del`\n",
    "* Vi kan legge et et key/value-par ved å \"slå opp\" for den nye nøkkelen å sette dataen med `=`"
   ]
  },
  {
   "cell_type": "code",
   "execution_count": 83,
   "id": "50f7dc20-a618-40c6-aa8c-dd02fc020f33",
   "metadata": {
    "slideshow": {
     "slide_type": "fragment"
    },
    "tags": []
   },
   "outputs": [
    {
     "name": "stdout",
     "output_type": "stream",
     "text": [
      "{'navn': 'Jonas', 'alder': 37, 'hobbier': {'Buldre', 'Lese', 'Danse'}, 'favorittfunksjon': <built-in function print>, 'bosteder': {'studie': ['Trondheim', 'Gjøvik', 'Bergen'], 'Oppvekst': 'Breivika', 'Nå': 'Åse'}}\n",
      "{'navn': 'Jonas', 'alder': 37, 'hobbier': {'Buldre', 'Lese', 'Danse'}, 'favorittfunksjon': <built-in function print>, 'bosteder': {'studie': ['Trondheim', 'Gjøvik', 'Bergen'], 'Oppvekst': 'Breivika', 'Nå': 'Åse'}}\n"
     ]
    }
   ],
   "source": [
    "#Legger til ny key/value\n",
    "\n",
    "print(person)\n",
    "#Sletter key/value\n",
    "\n",
    "print(person)\n"
   ]
  },
  {
   "cell_type": "markdown",
   "id": "152055e0-444b-4a76-bf8a-c901097c0a1d",
   "metadata": {
    "slideshow": {
     "slide_type": "subslide"
    },
    "tags": []
   },
   "source": [
    "* Dictionaries lar oss strukturere data på en oversiktlig måte\n",
    "* Tenk om vi hadde data av typen under for tusenvis av personer, og vi måtte ha alt i haugevis med lister og holde orden på hvillke indekser inneholdt hva?\n",
    "* Eller enda verre: I lister inne i lister inne i lister?"
   ]
  },
  {
   "cell_type": "code",
   "execution_count": 26,
   "id": "44567688-588c-404a-9059-840e0e48729b",
   "metadata": {
    "slideshow": {
     "slide_type": "fragment"
    },
    "tags": []
   },
   "outputs": [
    {
     "name": "stdout",
     "output_type": "stream",
     "text": [
      "dict_values(['Jonas', 37, {'Buldre', 'Lese', 'Danse'}, <built-in function print>, {'studie': ['Trondheim', 'Gjøvik', 'Bergen'], 'Oppvekst': 'Breivika', 'Nå': 'Åse'}])\n"
     ]
    }
   ],
   "source": [
    "person = {\"navn\": \"Jonas\",\n",
    "          \"alder\": 37,\n",
    "          \"hobbier\": hobbier2,\n",
    "          \"favorittfunksjon\": print,\n",
    "          \"bosteder\": {\"studie\": [\"Trondheim\", \"Gjøvik\", \"Bergen\"],\n",
    "                       \"Oppvekst\": \"Breivika\",\n",
    "                       \"Nå\": \"Åse\"\n",
    "                      }\n",
    "         }\n",
    "print(person.values())"
   ]
  },
  {
   "cell_type": "markdown",
   "id": "e146a896-4516-4ebc-898b-fa5c65fa46b6",
   "metadata": {
    "slideshow": {
     "slide_type": "slide"
    },
    "tags": []
   },
   "source": [
    "### Oppgave \n",
    "* Vi begynner vel å bli lei av populasjonsvekst i skandinavia -- men sist behandlet vi dataene i lister slik som under"
   ]
  },
  {
   "cell_type": "code",
   "execution_count": 27,
   "id": "4ded17e8-b325-4066-8785-8793c50e22ea",
   "metadata": {
    "slideshow": {
     "slide_type": "slide"
    },
    "tags": []
   },
   "outputs": [
    {
     "data": {
      "image/png": "[encoded data removed]",
      "text/plain": [
       "<Figure size 432x288 with 1 Axes>"
      ]
     },
     "metadata": {
      "needs_background": "light"
     },
     "output_type": "display_data"
    }
   ],
   "source": [
    "import math\n",
    "import matplotlib.pyplot as plt\n",
    "land = [\"Norge\", \"Sverige\", \"Danmark\"]\n",
    "K = [20e6, 25e6, 15e6] #Makspopulasjon\n",
    "r = [0.01, 0.02, 0.03] #relativ vekstrate\n",
    "P0 = [4e6, 8e6, 6e6] # Startpopulasjon\n",
    "t = 20 #Hvor mange år vekst\n",
    "\n",
    "\n",
    "def logistisk_vekst(P0,K,r,t):\n",
    "    A = (K-P0)/P0\n",
    "    P = K/(1+A*math.exp(-r*t))\n",
    "    return P\n",
    "    \n",
    "data = []\n",
    "#Iterer over indeksen til dataene våre (0,1,2) og sett sammen \"datalisten\"\n",
    "for i in range(len(land)):\n",
    "    datapunkt = [land[i], P0[i], K[i], r[i]]\n",
    "    #vekst_funksjon = lambda t: logistisk_vekst(P0[0], K[0], r[0], t) # Kjapp måte å lage en funksjon på (eks fx = lambda x: 2x-x**2)\n",
    "    #datapunkt.append(vekst_funksjon)\n",
    "    data.append(datapunkt)\n",
    "\n",
    "t_liste = list(range(t))\n",
    "#Iterer over dataene og regn ut populasjonsvekstlisten, og legg de til bakerst i \"datapunktene\"\n",
    "#Du trenger to løkker -- først over dataene -- deretter over årene\n",
    "for d in data:\n",
    "    pop_vekst = []\n",
    "    for ti in t_liste:\n",
    "        #populasjon = d[4](ti)\n",
    "        populasjon = logistisk_vekst(d[1], d[2],d[3], ti)\n",
    "        pop_vekst.append(populasjon)\n",
    "    d.append(pop_vekst)\n",
    "\n",
    "plt.title(\"Populasjonsvekst\")\n",
    "plt.xlabel(\"Tid/[År]\")\n",
    "plt.ylabel(\"Populasjonsstørrelse\")\n",
    "\n",
    "for d in data:\n",
    "    plt.plot(t_liste, d[-1], label=d[0])\n",
    "plt.legend()\n",
    "plt.show()"
   ]
  },
  {
   "cell_type": "markdown",
   "id": "fc29e407-7a61-4d14-83df-14b292ecdfb0",
   "metadata": {
    "slideshow": {
     "slide_type": "subslide"
    },
    "tags": []
   },
   "source": [
    "* Dersom datapunktene våre blir mer komplisert, kan det bli vanskelig å holde styr på alle indeksene\n",
    "* Hvilken indeks var navnet på området? Makspopulasjon?\n",
    "* Forsøk å endre datapunktene til dictionaries -- `data` variabelen kan da inneholde en liste over de forskjellige dictionariene"
   ]
  },
  {
   "cell_type": "markdown",
   "id": "63f1b5e9-fb9f-4f54-ab93-f57f60351604",
   "metadata": {
    "slideshow": {
     "slide_type": "fragment"
    },
    "tags": []
   },
   "source": [
    "```python\n",
    "{\n",
    "    \"navn\": \"Norge\",\n",
    "    \"startpopulasjon\": 4e6,\n",
    "    \"makspopulasjon\": 20e6,\n",
    "    \"vekstrate\": 0.01\n",
    "}\n",
    "```"
   ]
  },
  {
   "cell_type": "code",
   "execution_count": null,
   "id": "543e3271-db0a-4f37-a6a5-6d3f629b6a08",
   "metadata": {
    "slideshow": {
     "slide_type": "slide"
    },
    "tags": []
   },
   "outputs": [],
   "source": []
  },
  {
   "cell_type": "markdown",
   "id": "9fa62b19-b80a-46f0-adc1-2909f6253154",
   "metadata": {
    "slideshow": {
     "slide_type": "slide"
    },
    "tags": []
   },
   "source": [
    "# Strengformatering"
   ]
  },
  {
   "cell_type": "markdown",
   "id": "6c1fd54c-51e9-4e5f-9ecf-c14d368b4111",
   "metadata": {
    "slideshow": {
     "slide_type": "fragment"
    },
    "tags": []
   },
   "source": [
    "### f-Strenger\n",
    "* Til nå har vi brukt `round` til å runde av tall så de ser fornuftige ut når vi skal skrive de ut til skjerm\n",
    "* Når vi har kombinert tekst og tallresultat har vi brukt print slik: `print(\"Resultatet er\", round(resultat1,2), \"prosent\")`\n",
    "* Når vi skal sette sammen tekst og resultat i variabler med fornuftig formatering er det bedre å bruke såkalte **f-strenger**"
   ]
  },
  {
   "cell_type": "markdown",
   "id": "73aff05b-7726-4615-8aa6-614d128c7ce8",
   "metadata": {
    "slideshow": {
     "slide_type": "subslide"
    },
    "tags": []
   },
   "source": [
    "* Vi gjør en vanlig tekststreng feks `\"Dette er en tekstreng\"` om til en f-streng ved å sette en `f` foran det første hermetegnet\n",
    "```python\n",
    "tekst = f\"Dette er en f-streng\"\n",
    "```\n",
    "* Da kan man «lime» inn variabler i strengen med krøllparanteser `{tall/variablel/tekst:formatering}`\n"
   ]
  },
  {
   "cell_type": "code",
   "execution_count": 31,
   "id": "9b704dc9-8df1-4f13-9ec1-348afe5fa7a2",
   "metadata": {
    "slideshow": {
     "slide_type": "fragment"
    },
    "tags": []
   },
   "outputs": [
    {
     "name": "stdout",
     "output_type": "stream",
     "text": [
      "Dette er en f-Tiger\n",
      "Når man bruker 3.14 i en utregning blir svaret fort 1,239,087,244,000,000\n"
     ]
    }
   ],
   "source": [
    "#f-streng eksempel\n",
    "\n",
    "#Flere resultat\n",
    "resultat1 = math.pi\n",
    "resultat2 = 1239087243587345\n"
   ]
  },
  {
   "cell_type": "markdown",
   "id": "deba9116-e831-46a2-aaf5-a6fe7d7299db",
   "metadata": {
    "slideshow": {
     "slide_type": "subslide"
    },
    "tags": []
   },
   "source": [
    "* Tabellen under viser hvordan de forskjellige formateringene bak `:` fungerer:\n",
    "| Eksempel                   | Beskrivelse                                      | Resultat (med f-string) |\n",
    "|----------------------------|-------------------------------------------------|-------------------------|\n",
    "| `f\"{42}\"`                  | Heltall                                          | `42`                    |\n",
    "| `f\"{42.12345:.2f}\"`        | Flyttall med 2 desimaler                         | `42.12`                 |\n",
    "| `f\"{42.12345:.3f}\"`        | Flyttall med 3 desimaler                         | `42.123`                |\n",
    "| `f\"{42:04}\"`               | Heltall med ledende nuller (4 siffer)            | `0042`                  |\n",
    "| `f\"{1000000:,}\"`           | Stort tall med tusenskiller                      | `1,000,000`             |\n",
    "| `f\"{1000000:_}\"`           | Stort tall med understrek som tusenskiller       | `1_000_000`             |\n",
    "| `f\"{42:^10}\"`              | Sentrert i et felt på 10 tegn                    | `    42    `            |\n",
    "| `f\"{42:<10}\"`              | Venstrejustert i et felt på 10 tegn              | `42        `            |\n",
    "| `f\"{42:>10}\"`              | Høyrejustert i et felt på 10 tegn                | `        42`            |\n",
    "| `f\"{0.85:.0%}\"`            | Prosentformatering uten desimaler                | `85%`                   |\n",
    "| `f\"{0.857:.2%}\"`           | Prosentformatering med 2 desimaler               | `85.70%`                |\n",
    "| `f\"{0.857:.1%}\"`           | Prosentformatering med 1 desimal                 | `85.7%`                 |\n",
    "| `f\"{42:e}\"`                | Eksponentialnotasjon (små bokstaver)             | `4.200000e+01`          |\n",
    "| `f\"{42:E}\"`                | Eksponentialnotasjon (store bokstaver)           | `4.200000E+01`          |\n",
    "| `f\"{42.12345:.2e}\"`        | Eksponentialnotasjon med 2 desimaler (små bokstaver) | `4.21e+01`          |\n",
    "| `f\"{42.12345:.2E}\"`        | Eksponentialnotasjon med 2 desimaler (store bokstaver) | `4.21E+01`          |\n",
    "| `f\"{{ }}\"`                 | Utskrift av krøllete parenteser `{` og `}`       | `{ }`                   |\n"
   ]
  },
  {
   "cell_type": "code",
   "execution_count": 43,
   "id": "cfc59d6f-c453-402f-b19a-e5e03f76d1ba",
   "metadata": {
    "slideshow": {
     "slide_type": "subslide"
    },
    "tags": []
   },
   "outputs": [
    {
     "name": "stdout",
     "output_type": "stream",
     "text": [
      "12930072.793696342\n",
      "Sluttpopulasjonen i Norge er 12930072.79 som vi avrunder til 12930000\n",
      "Det tilsvarer en vekst siden start på 223.3%\n"
     ]
    }
   ],
   "source": [
    "data_norge = data[0]\n",
    "sluttpopulasjon = data_norge[\"vekst\"][-1]\n",
    "print(sluttpopulasjon)\n",
    "print(f\"Sluttpopulasjonen i {#?#?} er {#?#?#?} som vi avrunder til {????}\")\n",
    "print(f\"Det tilsvarer en vekst siden start på {????}\")"
   ]
  },
  {
   "cell_type": "markdown",
   "id": "66e7fae0-da23-49d0-95b8-2c550cac0a5f",
   "metadata": {
    "slideshow": {
     "slide_type": "slide"
    },
    "tags": []
   },
   "source": [
    "# Slicing"
   ]
  },
  {
   "cell_type": "markdown",
   "id": "cad8abde-a8e8-439a-b49e-2a644834c04d",
   "metadata": {
    "slideshow": {
     "slide_type": "fragment"
    },
    "tags": []
   },
   "source": [
    "* Slicing er en nyttig teknikk som lar oss velge ut deler av en listen eller en tekststreng\n",
    "* Tekststrenger kan indekseres på samme måte som lister, og derfor også \"slices\" på samme måte"
   ]
  },
  {
   "cell_type": "code",
   "execution_count": 84,
   "id": "acbb12f4-4ab4-4c9b-859f-8bf751b93749",
   "metadata": {
    "slideshow": {
     "slide_type": "fragment"
    },
    "tags": []
   },
   "outputs": [],
   "source": [
    "tekst = \"Hei hallo hade\"\n",
    "#Vi kan indeksere tekststrenger"
   ]
  },
  {
   "cell_type": "markdown",
   "id": "05be82ec-ad50-49a6-af11-be0286b5119d",
   "metadata": {
    "slideshow": {
     "slide_type": "subslide"
    },
    "tags": []
   },
   "source": [
    "* Vi kan altså \"slice\" over indekser i en liste eller streng med [start:stop]\n",
    "* Vi kan ta med feks, annet hvert element med [start:stop:step]\n",
    "* Dersom man utelukker `start` eller `stop` antar vi at man mener henholdsvis fra begynnelsen eller til slutten"
   ]
  },
  {
   "cell_type": "code",
   "execution_count": 52,
   "id": "6f541e82-1d7b-4ec0-9883-47f2de31fc5d",
   "metadata": {
    "slideshow": {
     "slide_type": "subslide"
    },
    "tags": []
   },
   "outputs": [
    {
     "name": "stdout",
     "output_type": "stream",
     "text": [
      "[4, 5, 67, 7, 8]\n",
      "11.04.1\n",
      "04.1987\n"
     ]
    }
   ],
   "source": [
    "tekst = '11.04.1987'\n",
    "liste = [1,23,4,5,67,7,8,10]\n",
    "#Fra 3 element til men ikke med 7\n",
    "\n",
    "#Fra begynnelsen til men ikke med 7 tegn\n",
    "\n",
    "#Fra 3 tegn til slutten\n"
   ]
  },
  {
   "cell_type": "code",
   "execution_count": 66,
   "id": "bed83639-8811-4583-926c-bb5f745ed36c",
   "metadata": {
    "slideshow": {
     "slide_type": "subslide"
    },
    "tags": []
   },
   "outputs": [
    {
     "name": "stdout",
     "output_type": "stream",
     "text": [
      "[1, 5, 8]\n",
      "[23, 5, 7, 10]\n",
      "Året i datoen er 1987\n",
      "[10, 8, 7, 67, 5, 4, 23, 1]\n"
     ]
    }
   ],
   "source": [
    "# Hvert tredje element fra start til slutt\n",
    "\n",
    "# Hvert andre element fra 2 til 9 \n",
    "\n",
    "#Vi kan slice med negative indekser\n",
    "year =  #dato i streng\n",
    "print(f\"Året i datoen er {year}\")\n",
    "# Vi kan slice baklengs\n",
    "reversliste = liste[???]\n",
    "print(reversliste)"
   ]
  },
  {
   "cell_type": "code",
   "execution_count": 78,
   "id": "8e1dadd5-7a82-43c2-8b5f-c1317ec6ee75",
   "metadata": {
    "slideshow": {
     "slide_type": ""
    },
    "tags": []
   },
   "outputs": [
    {
     "name": "stdin",
     "output_type": "stream",
     "text": [
      "Hva er ønsket terminbelop? 1000\n"
     ]
    },
    {
     "data": {
      "image/png": "[encoded data removed]",
      "text/plain": [
       "<Figure size 432x288 with 1 Axes>"
      ]
     },
     "metadata": {
      "needs_background": "light"
     },
     "output_type": "display_data"
    },
    {
     "name": "stdout",
     "output_type": "stream",
     "text": [
      "Nedbetalingstiden på  10 år og 10 måneder er for lang\n",
      "[613.1777737643442, 615.732681155029, 618.298233993175, 620.8744766348134, 623.4614536207916, 626.0592096775449, 628.6677897178681, 631.2872388416927, 633.9176023368664, 636.5589256799365, 639.2112545369364, 641.8746347641736]\n"
     ]
    },
    {
     "data": {
      "image/png": "[encoded data removed]",
      "text/plain": [
       "<Figure size 432x288 with 1 Axes>"
      ]
     },
     "metadata": {
      "needs_background": "light"
     },
     "output_type": "display_data"
    }
   ],
   "source": [
    "# Annuitetslån\n",
    "import matplotlib.pyplot as plt\n",
    "\n",
    "laan = 100000\n",
    "rentesats = 0.05\n",
    "terminbelop = float(input(\"Hva er ønsket terminbelop?\"))\n",
    "renter = laan*rentesats/12\n",
    "max_nedbetalingstid = 10\n",
    "\n",
    "def sjekk_terminbelop():\n",
    "    if terminbelop < renter:\n",
    "        print(\"Terminbeløpet er for lite til å dekke rentene av lånet\")\n",
    "        print(\"Renter ved første termin er \", renter)\n",
    "        return False\n",
    "    else:\n",
    "        return True\n",
    "\n",
    "if sjekk_terminbelop():\n",
    "    \n",
    "    renter_liste = []\n",
    "    avdrag_liste = []\n",
    "    \n",
    "    laan_rest = laan\n",
    "    mnd = 0\n",
    "    while laan_rest > 0:\n",
    "        renter = laan_rest*rentesats/12\n",
    "        avdrag = terminbelop - renter\n",
    "        renter_liste.append(renter)\n",
    "        avdrag_liste.append(avdrag)\n",
    "        laan_rest -= avdrag\n",
    "        mnd += 1\n",
    "\n",
    "    mnd_liste = list(range(mnd))\n",
    "\n",
    "    plt.bar(mnd_liste, avdrag_liste, label=\"Avdrag\")\n",
    "    plt.bar(mnd_liste, renter_liste, bottom=avdrag_liste, label=\"Renter\")\n",
    "    plt.xlabel(\"Måneder\")\n",
    "    plt.ylabel(\"Avdrag/[kr]\")\n",
    "    plt.legend()\n",
    "    plt.show()\n",
    "    #Plot ser ikke bra ut ennå...\n",
    "    if mnd/12 > max_nedbetalingstid:\n",
    "        print(\"Nedbetalingstiden på \", mnd//12, \"år og\", mnd%12, \"måneder er for lang\")\n",
    "\n",
    "    n_aar = mnd//12\n",
    "    avdrag_aarlig = []\n",
    "    renter_aarlig = []\n",
    "    print(avdrag_liste[12:12*2])\n",
    "    for year in range(n_aar):\n",
    "        avdrag_y = avdrag_liste[12*year:12*(year+1)]\n",
    "        avdrag_aarlig.append(sum(avdrag_y))\n",
    "        renter_aarlig.append(sum(renter_liste[12*year:12*(year+1)]))\n",
    "\n",
    "    plt.bar(list(range(len(avdrag_aarlig))), avdrag_aarlig, label=\"Avdrag\")\n",
    "    plt.bar(list(range(len(avdrag_aarlig))), renter_aarlig, bottom=avdrag_aarlig, label=\"Renter\")\n",
    "    plt.xlabel(\"År\")\n",
    "    plt.ylabel(\"Avdrag/[kr]\")\n",
    "    plt.legend()\n",
    "    plt.show()\n",
    "        \n",
    "        \n",
    "\n",
    "else:\n",
    "    print(\"Avbryter låneutregning\")\n",
    "    \n"
   ]
  },
  {
   "cell_type": "code",
   "execution_count": null,
   "id": "cbe7f195-d40a-4d87-99ef-aabecb71f1b1",
   "metadata": {},
   "outputs": [],
   "source": []
  }
 ],
 "metadata": {
  "kernelspec": {
   "display_name": "Python 3 (ipykernel)",
   "language": "python",
   "name": "python3"
  },
  "language_info": {
   "codemirror_mode": {
    "name": "ipython",
    "version": 3
   },
   "file_extension": ".py",
   "mimetype": "text/x-python",
   "name": "python",
   "nbconvert_exporter": "python",
   "pygments_lexer": "ipython3",
   "version": "3.10.12"
  }
 },
 "nbformat": 4,
 "nbformat_minor": 5
}
