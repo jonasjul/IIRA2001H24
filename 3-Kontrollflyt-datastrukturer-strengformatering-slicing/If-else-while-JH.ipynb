{
 "cells": [
  {
   "cell_type": "markdown",
   "id": "048edea8-4fd1-4c2f-847c-686d7a1eba4f",
   "metadata": {},
   "source": [
    "# Populasjonsvekst -- skandinavia"
   ]
  },
  {
   "cell_type": "code",
   "execution_count": 1,
   "id": "41d15989-a4b7-4a31-b5d9-3b6bffa84b98",
   "metadata": {
    "editable": true,
    "slideshow": {
     "slide_type": ""
    },
    "tags": []
   },
   "outputs": [
    {
     "name": "stdout",
     "output_type": "stream",
     "text": [
      "Sluttpopulasjonen i Norge er: 4678000\n",
      "Sluttpopulasjonen i Sverige er: 10312000\n",
      "Sluttpopulasjonen i Danmark er: 8227000\n"
     ]
    }
   ],
   "source": [
    "import math\n",
    "land = [\"Norge\", \"Sverige\", \"Danmark\"]\n",
    "K = [20e6, 25e6, 15e6] #Makspopulasjon\n",
    "r = [0.01, 0.02, 0.03] #relativ vekstrate\n",
    "P0 = [4e6, 8e6, 6e6] # Startpopulasjon\n",
    "t = 20 #Hvor mange år vekst\n",
    "\n",
    "\n",
    "def logistisk_vekst(P0,K,r,t):\n",
    "    A = (K-P0)/P0\n",
    "    P = K/(1+A*math.exp(-r*t))\n",
    "    return P\n",
    "  \n",
    "def lag_pop_funk(P0,K,r):\n",
    "    def slutt_populasjon(t):\n",
    "        P = logistisk_vekst(P0,K,r,t)\n",
    "        return P\n",
    "    return slutt_populasjon #Vi returnerer funksjonen vi laget inne i funksjonen!\n",
    "\n",
    "def format_pop(P):\n",
    "    return int(round(P,-3))\n",
    "\n",
    "pop_funksjoner = [] #Liste med funksjoner som regner ut populasjon ved tiden t for land 0,1,2\n",
    "pop_funksjoner.append( lag_pop_funk(P0[0], K[0], r[0]))\n",
    "pop_funksjoner.append(lag_pop_funk(P0[1], K[1], r[1]))\n",
    "pop_funksjoner.append(lag_pop_funk(P0[2], K[2], r[2]))\n",
    "#Vi kunne også lagret disse funksjonene i en liste.. :)\n",
    "\n",
    "#print(type(pop_norge))\n",
    "P_slutt = []\n",
    "P_slutt.append(pop_funksjoner[0](t))\n",
    "P_slutt.append(pop_funksjoner[1](t))\n",
    "P_slutt.append(pop_funksjoner[2](t))\n",
    "\n",
    "print(\"Sluttpopulasjonen i\", land[0], \"er:\", format_pop(P_slutt[0]))\n",
    "print(\"Sluttpopulasjonen i\", land[1], \"er:\", format_pop(P_slutt[1]))\n",
    "print(\"Sluttpopulasjonen i\", land[2], \"er:\", format_pop(P_slutt[2]))\n"
   ]
  },
  {
   "cell_type": "markdown",
   "id": "3e2dd136-96c2-4c84-bc6e-c70245a5f135",
   "metadata": {
    "editable": true,
    "slideshow": {
     "slide_type": ""
    },
    "tags": []
   },
   "source": [
    "### Populasjonsvekst med datastrukturer, funksjoner og løkker"
   ]
  },
  {
   "cell_type": "code",
   "execution_count": null,
   "id": "05f88504-a021-42c7-bae0-90fbc2e3fbcc",
   "metadata": {},
   "outputs": [],
   "source": []
  },
  {
   "cell_type": "markdown",
   "id": "f63c5bb2-1fc1-4f2c-9954-34e7b0e3395d",
   "metadata": {
    "editable": true,
    "slideshow": {
     "slide_type": "slide"
    },
    "tags": []
   },
   "source": [
    "# Oppg.\n",
    "* I eksempelet over er dataene spredt utover flere variabler\n",
    "* Ofte er det bedre å «pakke» den litt mer sammen\n",
    "* Prøv å regne ut og plotte populasjonsveksten slik som over, men pakk sammen dataen først:\n",
    "\n",
    "- Lag en variabler `data` som er en liste av lister som ser omtrent slik ut:\n",
    "```python\n",
    "[\n",
    "    ['Norge', 4000000.0, 20000000.0, 0.01], \n",
    "    ['Sverige', 8000000.0, 25000000.0, 0.02], \n",
    "    ['Danmark', 6000000.0, 15000000.0, 0.03]\n",
    "]\n",
    "```\n",
    "- Bruk en `for` løkke til å sette dette sammen (Skriv ikke inn for hånd)\n",
    "  "
   ]
  },
  {
   "cell_type": "code",
   "execution_count": null,
   "id": "764dd6b0-c51f-4df2-8d95-407552596818",
   "metadata": {
    "editable": true,
    "slideshow": {
     "slide_type": "subslide"
    },
    "tags": []
   },
   "outputs": [],
   "source": []
  },
  {
   "cell_type": "markdown",
   "id": "2a528f09-3abc-4dd4-9393-f61d7592a4eb",
   "metadata": {
    "editable": true,
    "slideshow": {
     "slide_type": "slide"
    },
    "tags": []
   },
   "source": [
    "# Kontrollflyt: (Boolsk aritmetikk og if-else)\n",
    "![hei](https://www.c-sharpcorner.com/UploadFile/BlogImages/06212022091850AM/COntrol.png)"
   ]
  },
  {
   "cell_type": "markdown",
   "id": "5cc64557-8370-44ab-9c91-541b1cdd3c34",
   "metadata": {
    "editable": true,
    "slideshow": {
     "slide_type": "subslide"
    },
    "tags": []
   },
   "source": [
    "# Kontrollflyt\n",
    "* Vi trenger en måte å kontrolle hva av koden vår som blir kjørt i ulike situasjoner\n",
    "* Vi trenger kanskje å kjøre forskjellig kode om det oppstår en feil i koden vår\n",
    "* Vi trenger at koden vår gjør valg og kjører forskjellig kode ved forskjellig data\n",
    "* I Python kan vi bruke `if` `else` og `elif`"
   ]
  },
  {
   "cell_type": "code",
   "execution_count": 6,
   "id": "d0ba469c-e5a5-4126-a386-44a8ce3b0d3d",
   "metadata": {
    "editable": true,
    "slideshow": {
     "slide_type": "subslide"
    },
    "tags": []
   },
   "outputs": [
    {
     "name": "stdin",
     "output_type": "stream",
     "text": [
      "Hva er din alder? 25\n"
     ]
    },
    {
     "name": "stdout",
     "output_type": "stream",
     "text": [
      "Du er myndig\n"
     ]
    }
   ],
   "source": [
    "def er_myndig(alder):\n",
    "    # Funksjonen skal printe ut \"Du er myndig\"\n",
    "    # dersom alder >= 18 og \"Du er ikke myndig ellers\"\n",
    "    \n",
    "alder = int(input(\"Hva er din alder?\"))\n",
    "er_myndig(alder)\n"
   ]
  },
  {
   "cell_type": "markdown",
   "id": "019ba826-52d4-4f2f-bfcf-527e493d409a",
   "metadata": {
    "editable": true,
    "slideshow": {
     "slide_type": "subslide"
    },
    "tags": []
   },
   "source": [
    "```python\n",
    "if «boolsk verdi eller uttrykk»:\n",
    "    #Blokk med kode dersom True\n",
    "else:\n",
    "    #Blokk med kode dersom False\n",
    "```\n",
    "* Boolsk verdier er en datatype som har verdien `True` eller `False`\n",
    "* Et boolsk uttrykk får en av disse verdiene når vi evaluerer de\n",
    "* Boolske uttrykk er bygd av boolske \"operatorer\""
   ]
  },
  {
   "cell_type": "markdown",
   "id": "f47059b3-f60d-4087-87fd-0542ea750bd3",
   "metadata": {
    "editable": true,
    "slideshow": {
     "slide_type": "slide"
    },
    "tags": []
   },
   "source": [
    "# Boolske operatorer\n",
    "| Operator | Beskrivelse                                   | Eksempel               | Resultat    |\n",
    "|----------|----------------------------------------------|------------------------|-------------|\n",
    "| `and`    | Returnerer `True` hvis begge påstandene er sanne | `True and False`    | `False`     |\n",
    "| `or`     | Returnerer `True` hvis én av påstandene er sann | `True or False`     | `True`      |\n",
    "| `not`    | Reverserer den boolske verdien                | `not True`             | `False`     |\n",
    "| `==`     | Sjekker om to verdier er like                 | `5 == 5`               | `True`      |\n",
    "| `!=`     | Sjekker om to verdier ikke er like            | `5 != 3`               | `True`      |\n",
    "| `>`      | Sjekker om venstre verdi er større enn høyre  | `5 > 3`                | `True`      |\n",
    "| `<`      | Sjekker om venstre verdi er mindre enn høyre  | `5 < 3`                | `False`     |\n",
    "| `>=`     | Sjekker om venstre verdi er større enn eller lik høyre | `5 >= 5` | `True`      |\n",
    "| `<=`     | Sjekker om venstre verdi er mindre enn eller lik høyre  | `3 <= 5` | `True`      |\n"
   ]
  },
  {
   "cell_type": "markdown",
   "id": "c45709ee-1518-4f8e-831c-a87b2bd7498c",
   "metadata": {},
   "source": [
    "# Eksempler:"
   ]
  },
  {
   "cell_type": "code",
   "execution_count": 1,
   "id": "9c8c693d-a95c-4c7d-8584-39cfa6fb370f",
   "metadata": {
    "editable": true,
    "slideshow": {
     "slide_type": "subslide"
    },
    "tags": []
   },
   "outputs": [],
   "source": [
    "# =="
   ]
  },
  {
   "cell_type": "code",
   "execution_count": 2,
   "id": "81c8acc0-44c1-46e4-90e9-8e9522f27a27",
   "metadata": {
    "editable": true,
    "slideshow": {
     "slide_type": "fragment"
    },
    "tags": []
   },
   "outputs": [],
   "source": [
    "# !="
   ]
  },
  {
   "cell_type": "code",
   "execution_count": 3,
   "id": "6ea25d39-1d60-4c5b-946e-3eafbae973cf",
   "metadata": {
    "editable": true,
    "slideshow": {
     "slide_type": "subslide"
    },
    "tags": []
   },
   "outputs": [],
   "source": [
    "# and"
   ]
  },
  {
   "cell_type": "code",
   "execution_count": 4,
   "id": "dc1df1d6-e42c-44e0-8078-3e414960fcfb",
   "metadata": {
    "editable": true,
    "slideshow": {
     "slide_type": "fragment"
    },
    "tags": []
   },
   "outputs": [],
   "source": [
    "# or"
   ]
  },
  {
   "cell_type": "code",
   "execution_count": 5,
   "id": "6ff54134-b3fc-4ec3-b78c-be364da7c4a6",
   "metadata": {
    "editable": true,
    "slideshow": {
     "slide_type": "subslide"
    },
    "tags": []
   },
   "outputs": [],
   "source": [
    "# not -- != False"
   ]
  },
  {
   "cell_type": "markdown",
   "id": "e41a5f84-3241-4aa9-980e-0dfb32765258",
   "metadata": {
    "editable": true,
    "slideshow": {
     "slide_type": "slide"
    },
    "tags": []
   },
   "source": [
    "* Vi må ikke bruke `else` blokken\n"
   ]
  },
  {
   "cell_type": "code",
   "execution_count": 6,
   "id": "9ce47def-a50b-41b5-bd85-af7a5b81b52a",
   "metadata": {
    "editable": true,
    "slideshow": {
     "slide_type": "subslide"
    },
    "tags": []
   },
   "outputs": [],
   "source": [
    "# >= (uten else)"
   ]
  },
  {
   "cell_type": "markdown",
   "id": "104e4c06-38b7-4204-99dc-4cf9ed4dc91f",
   "metadata": {
    "editable": true,
    "slideshow": {
     "slide_type": "slide"
    },
    "tags": []
   },
   "source": [
    "* `elif` lar oss gjøre en ny sjekk i stedet for `else`"
   ]
  },
  {
   "cell_type": "code",
   "execution_count": 7,
   "id": "fc59c1e2-561b-4a94-8e3c-5535d80e73d4",
   "metadata": {
    "editable": true,
    "slideshow": {
     "slide_type": "subslide"
    },
    "tags": []
   },
   "outputs": [],
   "source": [
    "#elif"
   ]
  },
  {
   "cell_type": "markdown",
   "id": "a1e6a576-b8ca-4e49-b52e-75485fab3f92",
   "metadata": {
    "editable": true,
    "slideshow": {
     "slide_type": "slide"
    },
    "tags": []
   },
   "source": [
    "# Løkker: While\n",
    "* While løkken lar oss loope/iterere så lenge et boolsk uttrykk er «True»\n",
    "```python\n",
    "while «boolsk uttrykk»:\n",
    "    #Løkke\n",
    "    #Løkke\n",
    "#løkke ferdig\n",
    "```"
   ]
  },
  {
   "cell_type": "code",
   "execution_count": 9,
   "id": "8b10a3cc-6800-440b-91a1-ef8e09734279",
   "metadata": {
    "editable": true,
    "slideshow": {
     "slide_type": "subslide"
    },
    "tags": []
   },
   "outputs": [
    {
     "name": "stdin",
     "output_type": "stream",
     "text": [
      "Hva er ønsket terminbelop? 55\n"
     ]
    }
   ],
   "source": [
    "# Annuitetslån: Lag nedbetalingsplan (plot)\n",
    "import matplotlib.pyplot as plt\n",
    "\n",
    "laan = 100000\n",
    "rentesats = 0.05\n",
    "terminbelop = float(input(\"Hva er ønsket terminbelop?\"))\n",
    "renter = laan*rentesats/12\n",
    "max_nedbetalingstid = 10\n"
   ]
  },
  {
   "cell_type": "code",
   "execution_count": null,
   "id": "f94a7efd-b97e-4255-9472-d2be4be168bc",
   "metadata": {},
   "outputs": [],
   "source": []
  }
 ],
 "metadata": {
  "kernelspec": {
   "display_name": "Python 3 (ipykernel)",
   "language": "python",
   "name": "python3"
  },
  "language_info": {
   "codemirror_mode": {
    "name": "ipython",
    "version": 3
   },
   "file_extension": ".py",
   "mimetype": "text/x-python",
   "name": "python",
   "nbconvert_exporter": "python",
   "pygments_lexer": "ipython3",
   "version": "3.12.3"
  }
 },
 "nbformat": 4,
 "nbformat_minor": 5
}
