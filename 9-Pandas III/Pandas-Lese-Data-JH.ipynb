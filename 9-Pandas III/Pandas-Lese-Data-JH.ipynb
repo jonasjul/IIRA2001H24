{
 "cells": [
  {
   "cell_type": "markdown",
   "id": "6eeeb941",
   "metadata": {
    "slideshow": {
     "slide_type": "slide"
    },
    "tags": []
   },
   "source": [
    "# Hente og lese inn data til pandas"
   ]
  },
  {
   "cell_type": "markdown",
   "id": "76134644",
   "metadata": {
    "slideshow": {
     "slide_type": "slide"
    },
    "tags": []
   },
   "source": [
    "## CSV \n",
    "\n",
    "* En vanlig måte å lagre data på er i csv-format\n",
    "* csv = comma separated values\n",
    "* I en csv-fil har vi data lagret som tekst i en type tabellformat\n",
    "* Hver linje i filen er et datapunkt, og inneholder et eller flere felt med data (kolonner)\n",
    "* Datafeltene er separert med en *separator*, ofte et komma\n",
    "* Første linje i filen gir gjerne metadata (navn på kolonnene)"
   ]
  },
  {
   "cell_type": "markdown",
   "id": "266e4235",
   "metadata": {
    "slideshow": {
     "slide_type": "subslide"
    },
    "tags": []
   },
   "source": [
    "## Tegnkoding\n",
    "\n",
    "* CSV-filer er som sagt vanlig tekst, men:\n",
    "    - Tekst kan representeres på forkjellige måter i en datamaskin\n",
    "    - Måten kalles tegnkodingen (character-coding)\n",
    "    - Vi må ofte sørge for riktig inputkoding (input-encoding) for å få ut riktig tekst\n",
    "* Enkleste mulige tegnkoding er ASCII\n",
    "* Unicode sørger for at vi kan bruke æ,ø,å $\\Delta$, $\\Gamma$ osv. Feks UTF-8 og UTF-16"
   ]
  },
  {
   "cell_type": "markdown",
   "id": "7db380cc",
   "metadata": {
    "slideshow": {
     "slide_type": "subslide"
    },
    "tags": []
   },
   "source": [
    "<img src=\"https://upload.wikimedia.org/wikipedia/commons/1/1b/ASCII-Table-wide.svg\">"
   ]
  },
  {
   "cell_type": "markdown",
   "id": "4b49f2d9",
   "metadata": {
    "slideshow": {
     "slide_type": "subslide"
    },
    "tags": []
   },
   "source": [
    "## Unicode\n",
    "* Unicode er et tegnsett/tegnkoding som har som formål å støtte alle språk\n",
    "* Alle tegn som brukes må da få sin egen kode\n",
    "* Til og med [emojis](https://unicode.org/emoji/charts/full-emoji-list.html)\n",
    "* U+1f911, CLDR Short name: money-mouth-face, 🤑"
   ]
  },
  {
   "cell_type": "markdown",
   "id": "4a6801eb-8ea8-4912-af5b-a14b60028862",
   "metadata": {
    "slideshow": {
     "slide_type": "subslide"
    },
    "tags": []
   },
   "source": [
    "## Vanlige tegnkodinger:\n",
    "* Unicode har flere måter å gi tegnkodingene på:\n",
    "  * 'utf-8'\n",
    "  * 'utf-16'\n",
    "  * 'utf-32'\n",
    "* I tillegg har vi en annen standard litt på siden av  unicode: *ISO-8859-1*\n",
    "  * Kalles ofte \"Latin-1\"\n",
    "  * Koder for det latinske alfabetet\n",
    "  * Vanlig i bruk i Amerika, Vest-Europa, Oceania og store deler av Afrika"
   ]
  },
  {
   "cell_type": "markdown",
   "id": "3e7c6ca9-fcf0-4d91-b9d0-b1a0dd6bb59e",
   "metadata": {
    "slideshow": {
     "slide_type": "subslide"
    },
    "tags": []
   },
   "source": [
    "#### SSB\n",
    "* SSB bruker 'UTF-8' for .XML og JSON formater (mer om JSON senere)\n",
    "* SSB bruker 'ISO-8859-1' for .csv formatene sine"
   ]
  },
  {
   "cell_type": "markdown",
   "id": "f522b091",
   "metadata": {
    "slideshow": {
     "slide_type": "slide"
    },
    "tags": []
   },
   "source": [
    "## CSV + Pandas\n",
    "\n",
    "* Vi bruker pandas til å lese og lagre csv-filer\n",
    "* `pd.read_csv(\"filnavn\")`\n",
    "* `read_csv` har **haugevis** med keyword arguments for å lese rare og potensielt føkka csv-filer\n",
    "* Vi burde i de fleste tilfeller klare oss med:\n",
    "    - `encoding = \"input-enc\"` feks `\"utf-8\"`\n",
    "    - `sep = \"separator\"` feks `\",\"` eller \"`\\t`\" (tab)\n",
    "    -  `header = rad` feks `header=0`dersom første rad gir kolonnenavnene\n",
    "    -  `index_col = «kolonnenummer»` Angir hvilken av kolonnene som skal brukes som indeks (nummer eller etikette) "
   ]
  },
  {
   "cell_type": "code",
   "execution_count": 7,
   "id": "65073db4",
   "metadata": {
    "slideshow": {
     "slide_type": "subslide"
    },
    "tags": []
   },
   "outputs": [
    {
     "data": {
      "text/html": [
       "<div>\n",
       "<style scoped>\n",
       "    .dataframe tbody tr th:only-of-type {\n",
       "        vertical-align: middle;\n",
       "    }\n",
       "\n",
       "    .dataframe tbody tr th {\n",
       "        vertical-align: top;\n",
       "    }\n",
       "\n",
       "    .dataframe thead th {\n",
       "        text-align: right;\n",
       "    }\n",
       "</style>\n",
       "<table border=\"1\" class=\"dataframe\">\n",
       "  <thead>\n",
       "    <tr style=\"text-align: right;\">\n",
       "      <th></th>\n",
       "      <th>Etternavn</th>\n",
       "      <th>Fornavn</th>\n",
       "      <th>Brukernavn</th>\n",
       "    </tr>\n",
       "  </thead>\n",
       "  <tbody>\n",
       "    <tr>\n",
       "      <th>0</th>\n",
       "      <td>Aadde</td>\n",
       "      <td>Petter</td>\n",
       "      <td>petteaad</td>\n",
       "    </tr>\n",
       "    <tr>\n",
       "      <th>1</th>\n",
       "      <td>Aas</td>\n",
       "      <td>Edvard Tynes</td>\n",
       "      <td>edvardta</td>\n",
       "    </tr>\n",
       "    <tr>\n",
       "      <th>2</th>\n",
       "      <td>Adolfsen</td>\n",
       "      <td>Simon Anker</td>\n",
       "      <td>simonado</td>\n",
       "    </tr>\n",
       "    <tr>\n",
       "      <th>3</th>\n",
       "      <td>Amundsen</td>\n",
       "      <td>Albert Bakke</td>\n",
       "      <td>alberbam</td>\n",
       "    </tr>\n",
       "    <tr>\n",
       "      <th>4</th>\n",
       "      <td>Amundsen</td>\n",
       "      <td>Amanda Oddli</td>\n",
       "      <td>amandaam</td>\n",
       "    </tr>\n",
       "    <tr>\n",
       "      <th>...</th>\n",
       "      <td>...</td>\n",
       "      <td>...</td>\n",
       "      <td>...</td>\n",
       "    </tr>\n",
       "    <tr>\n",
       "      <th>105</th>\n",
       "      <td>Ulvestad</td>\n",
       "      <td>Andreas Hovden</td>\n",
       "      <td>andrhul</td>\n",
       "    </tr>\n",
       "    <tr>\n",
       "      <th>106</th>\n",
       "      <td>Vatle</td>\n",
       "      <td>Camilla</td>\n",
       "      <td>camilvat</td>\n",
       "    </tr>\n",
       "    <tr>\n",
       "      <th>107</th>\n",
       "      <td>Vatne</td>\n",
       "      <td>Silje Eiken</td>\n",
       "      <td>siljeeva</td>\n",
       "    </tr>\n",
       "    <tr>\n",
       "      <th>108</th>\n",
       "      <td>Zahl-Brathaug</td>\n",
       "      <td>Saga</td>\n",
       "      <td>sagaz</td>\n",
       "    </tr>\n",
       "    <tr>\n",
       "      <th>109</th>\n",
       "      <td>Årdal</td>\n",
       "      <td>Per Olav</td>\n",
       "      <td>peroaar</td>\n",
       "    </tr>\n",
       "  </tbody>\n",
       "</table>\n",
       "<p>110 rows × 3 columns</p>\n",
       "</div>"
      ],
      "text/plain": [
       "         Etternavn         Fornavn Brukernavn\n",
       "0            Aadde          Petter   petteaad\n",
       "1              Aas    Edvard Tynes   edvardta\n",
       "2         Adolfsen     Simon Anker   simonado\n",
       "3         Amundsen    Albert Bakke   alberbam\n",
       "4         Amundsen    Amanda Oddli   amandaam\n",
       "..             ...             ...        ...\n",
       "105       Ulvestad  Andreas Hovden    andrhul\n",
       "106          Vatle         Camilla   camilvat\n",
       "107          Vatne     Silje Eiken   siljeeva\n",
       "108  Zahl-Brathaug            Saga      sagaz\n",
       "109          Årdal        Per Olav    peroaar\n",
       "\n",
       "[110 rows x 3 columns]"
      ]
     },
     "execution_count": 7,
     "metadata": {},
     "output_type": "execute_result"
    }
   ],
   "source": [
    "import pandas as pd\n",
    "\n",
    "#Leser inn data .csv\n",
    "BB_df = pd.read_csv(\"blackboard.csv\", encoding=\"utf-16\", sep=\"\\t\", index_col=0) \n",
    "BB_df"
   ]
  },
  {
   "cell_type": "markdown",
   "id": "b8282c71",
   "metadata": {
    "slideshow": {
     "slide_type": "subslide"
    },
    "tags": []
   },
   "source": [
    "* Filen vi har lastet inn er klasselisten fra blackboard\n",
    "* på iirmoodle.it.ntnu.no er det mulig å melde folk opp i fag ved å laste *opp* en csv-fil\n",
    "* `moodle_example.csv` viser hvordan denne filen skal se ut"
   ]
  },
  {
   "cell_type": "code",
   "execution_count": 2,
   "id": "0214a120",
   "metadata": {
    "slideshow": {
     "slide_type": "fragment"
    }
   },
   "outputs": [
    {
     "data": {
      "text/html": [
       "<div>\n",
       "<style scoped>\n",
       "    .dataframe tbody tr th:only-of-type {\n",
       "        vertical-align: middle;\n",
       "    }\n",
       "\n",
       "    .dataframe tbody tr th {\n",
       "        vertical-align: top;\n",
       "    }\n",
       "\n",
       "    .dataframe thead th {\n",
       "        text-align: right;\n",
       "    }\n",
       "</style>\n",
       "<table border=\"1\" class=\"dataframe\">\n",
       "  <thead>\n",
       "    <tr style=\"text-align: right;\">\n",
       "      <th></th>\n",
       "      <th>username</th>\n",
       "      <th>firstname</th>\n",
       "      <th>lastname</th>\n",
       "      <th>email</th>\n",
       "    </tr>\n",
       "  </thead>\n",
       "  <tbody>\n",
       "    <tr>\n",
       "      <th>0</th>\n",
       "      <td>student1</td>\n",
       "      <td>Student</td>\n",
       "      <td>One</td>\n",
       "      <td>s1@example.com</td>\n",
       "    </tr>\n",
       "    <tr>\n",
       "      <th>1</th>\n",
       "      <td>student2</td>\n",
       "      <td>Student</td>\n",
       "      <td>Two</td>\n",
       "      <td>s2@example.com</td>\n",
       "    </tr>\n",
       "    <tr>\n",
       "      <th>2</th>\n",
       "      <td>student3</td>\n",
       "      <td>Student</td>\n",
       "      <td>Three</td>\n",
       "      <td>s3@example.com</td>\n",
       "    </tr>\n",
       "  </tbody>\n",
       "</table>\n",
       "</div>"
      ],
      "text/plain": [
       "   username firstname lastname           email\n",
       "0  student1   Student      One  s1@example.com\n",
       "1  student2   Student      Two  s2@example.com\n",
       "2  student3   Student    Three  s3@example.com"
      ]
     },
     "execution_count": 2,
     "metadata": {},
     "output_type": "execute_result"
    }
   ],
   "source": [
    "moodleEx_df = pd.read_csv(\"moodle_example.csv\")\n",
    "moodleEx_df "
   ]
  },
  {
   "cell_type": "markdown",
   "id": "8312e2ab",
   "metadata": {
    "slideshow": {
     "slide_type": "slide"
    }
   },
   "source": [
    "### Opppgave 1\n",
    "\n",
    "* Lag et dataframe fra \"blackboard.csv\" som er formatert slik moodle vil ha det"
   ]
  },
  {
   "cell_type": "code",
   "execution_count": 9,
   "id": "62cea478",
   "metadata": {
    "slideshow": {
     "slide_type": "subslide"
    }
   },
   "outputs": [
    {
     "data": {
      "text/html": [
       "<div>\n",
       "<style scoped>\n",
       "    .dataframe tbody tr th:only-of-type {\n",
       "        vertical-align: middle;\n",
       "    }\n",
       "\n",
       "    .dataframe tbody tr th {\n",
       "        vertical-align: top;\n",
       "    }\n",
       "\n",
       "    .dataframe thead th {\n",
       "        text-align: right;\n",
       "    }\n",
       "</style>\n",
       "<table border=\"1\" class=\"dataframe\">\n",
       "  <thead>\n",
       "    <tr style=\"text-align: right;\">\n",
       "      <th></th>\n",
       "      <th>username</th>\n",
       "      <th>firstname</th>\n",
       "      <th>lastname</th>\n",
       "    </tr>\n",
       "  </thead>\n",
       "  <tbody>\n",
       "    <tr>\n",
       "      <th>0</th>\n",
       "      <td>petteaad</td>\n",
       "      <td>Petter</td>\n",
       "      <td>Aadde</td>\n",
       "    </tr>\n",
       "    <tr>\n",
       "      <th>1</th>\n",
       "      <td>edvardta</td>\n",
       "      <td>Edvard Tynes</td>\n",
       "      <td>Aas</td>\n",
       "    </tr>\n",
       "    <tr>\n",
       "      <th>2</th>\n",
       "      <td>simonado</td>\n",
       "      <td>Simon Anker</td>\n",
       "      <td>Adolfsen</td>\n",
       "    </tr>\n",
       "    <tr>\n",
       "      <th>3</th>\n",
       "      <td>alberbam</td>\n",
       "      <td>Albert Bakke</td>\n",
       "      <td>Amundsen</td>\n",
       "    </tr>\n",
       "    <tr>\n",
       "      <th>4</th>\n",
       "      <td>amandaam</td>\n",
       "      <td>Amanda Oddli</td>\n",
       "      <td>Amundsen</td>\n",
       "    </tr>\n",
       "    <tr>\n",
       "      <th>...</th>\n",
       "      <td>...</td>\n",
       "      <td>...</td>\n",
       "      <td>...</td>\n",
       "    </tr>\n",
       "    <tr>\n",
       "      <th>105</th>\n",
       "      <td>andrhul</td>\n",
       "      <td>Andreas Hovden</td>\n",
       "      <td>Ulvestad</td>\n",
       "    </tr>\n",
       "    <tr>\n",
       "      <th>106</th>\n",
       "      <td>camilvat</td>\n",
       "      <td>Camilla</td>\n",
       "      <td>Vatle</td>\n",
       "    </tr>\n",
       "    <tr>\n",
       "      <th>107</th>\n",
       "      <td>siljeeva</td>\n",
       "      <td>Silje Eiken</td>\n",
       "      <td>Vatne</td>\n",
       "    </tr>\n",
       "    <tr>\n",
       "      <th>108</th>\n",
       "      <td>sagaz</td>\n",
       "      <td>Saga</td>\n",
       "      <td>Zahl-Brathaug</td>\n",
       "    </tr>\n",
       "    <tr>\n",
       "      <th>109</th>\n",
       "      <td>peroaar</td>\n",
       "      <td>Per Olav</td>\n",
       "      <td>Årdal</td>\n",
       "    </tr>\n",
       "  </tbody>\n",
       "</table>\n",
       "<p>110 rows × 3 columns</p>\n",
       "</div>"
      ],
      "text/plain": [
       "     username       firstname       lastname\n",
       "0    petteaad          Petter          Aadde\n",
       "1    edvardta    Edvard Tynes            Aas\n",
       "2    simonado     Simon Anker       Adolfsen\n",
       "3    alberbam    Albert Bakke       Amundsen\n",
       "4    amandaam    Amanda Oddli       Amundsen\n",
       "..        ...             ...            ...\n",
       "105   andrhul  Andreas Hovden       Ulvestad\n",
       "106  camilvat         Camilla          Vatle\n",
       "107  siljeeva     Silje Eiken          Vatne\n",
       "108     sagaz            Saga  Zahl-Brathaug\n",
       "109   peroaar        Per Olav          Årdal\n",
       "\n",
       "[110 rows x 3 columns]"
      ]
     },
     "execution_count": 9,
     "metadata": {},
     "output_type": "execute_result"
    }
   ],
   "source": [
    "BB_df\n",
    "data_til_moodle = {\"username\": BB_df[\"Brukernavn\"], \"firstname\": BB_df[\"Fornavn\"], \"lastname\": BB_df[\"Etternavn\"]}\n",
    "moodle_formatert_df = pd.DataFrame(data=data_til_moodle)\n",
    "moodle_formatert_df"
   ]
  },
  {
   "cell_type": "markdown",
   "id": "d053e6b6",
   "metadata": {
    "slideshow": {
     "slide_type": "subslide"
    },
    "tags": []
   },
   "source": [
    "* Vi lagrer et dataframe til csv med `df.to_csv(\"filnavn.csv\", **kwargs)`\n",
    "* når vi ser `**kwargs` på denne måten, betyr det at her kommer «keyword arguments»\n",
    "* Vi kan se i [dokumentasjonen](https://pandas.pydata.org/docs/reference/api/pandas.DataFrame.to_csv.html) får å finne hvilke «kwargs» funksjonen tar"
   ]
  },
  {
   "cell_type": "code",
   "execution_count": 4,
   "id": "b3ab5e66",
   "metadata": {
    "slideshow": {
     "slide_type": "fragment"
    },
    "tags": []
   },
   "outputs": [],
   "source": [
    "datatest.to_csv(\"moodle_formatert.csv\", index=False)"
   ]
  },
  {
   "cell_type": "markdown",
   "id": "ec1722df",
   "metadata": {
    "slideshow": {
     "slide_type": "slide"
    },
    "tags": []
   },
   "source": [
    "* Det er mye å holde styr på i Pandas, og vi går ikke igjennom alle aspekter\n",
    "* Ha en [cheat sheet](https://pandas.pydata.org/Pandas_Cheat_Sheet.pdf) for hånden\n",
    "* Slå opp i diverse [tutorials](https://pandas.pydata.org/pandas-docs/stable/getting_started/tutorials.html)\n",
    "* Spesielt [denne](https://www.skytowner.com/explore/pandas_recipes_reference) kan være kjekk (Pandas oppskrifter :) )"
   ]
  },
  {
   "cell_type": "markdown",
   "id": "42889099",
   "metadata": {
    "slideshow": {
     "slide_type": "subslide"
    },
    "tags": []
   },
   "source": [
    "# Pandas i praksis\n",
    "\n",
    "* Vi kan hente data å analysere, feks fra [statistisk sentralbyrå](http://www.ssb.no)\n",
    "* SSB bruker tegnkodinger «UTF-8» og «ISO-8859-1»"
   ]
  },
  {
   "cell_type": "code",
   "execution_count": 5,
   "id": "25f86506",
   "metadata": {
    "slideshow": {
     "slide_type": "subslide"
    },
    "tags": []
   },
   "outputs": [
    {
     "data": {
      "text/html": [
       "<div>\n",
       "<style scoped>\n",
       "    .dataframe tbody tr th:only-of-type {\n",
       "        vertical-align: middle;\n",
       "    }\n",
       "\n",
       "    .dataframe tbody tr th {\n",
       "        vertical-align: top;\n",
       "    }\n",
       "\n",
       "    .dataframe thead th {\n",
       "        text-align: right;\n",
       "    }\n",
       "</style>\n",
       "<table border=\"1\" class=\"dataframe\">\n",
       "  <thead>\n",
       "    <tr style=\"text-align: right;\">\n",
       "      <th></th>\n",
       "      <th>Arbeidsledige (1 000 personer)</th>\n",
       "      <th>prosent</th>\n",
       "    </tr>\n",
       "  </thead>\n",
       "  <tbody>\n",
       "    <tr>\n",
       "      <th>1972K1</th>\n",
       "      <td>24</td>\n",
       "      <td>0.024</td>\n",
       "    </tr>\n",
       "    <tr>\n",
       "      <th>1972K2</th>\n",
       "      <td>26</td>\n",
       "      <td>0.026</td>\n",
       "    </tr>\n",
       "    <tr>\n",
       "      <th>1972K3</th>\n",
       "      <td>31</td>\n",
       "      <td>0.031</td>\n",
       "    </tr>\n",
       "    <tr>\n",
       "      <th>1972K4</th>\n",
       "      <td>31</td>\n",
       "      <td>0.031</td>\n",
       "    </tr>\n",
       "    <tr>\n",
       "      <th>1973K1</th>\n",
       "      <td>22</td>\n",
       "      <td>0.022</td>\n",
       "    </tr>\n",
       "    <tr>\n",
       "      <th>...</th>\n",
       "      <td>...</td>\n",
       "      <td>...</td>\n",
       "    </tr>\n",
       "    <tr>\n",
       "      <th>2023K2</th>\n",
       "      <td>105</td>\n",
       "      <td>0.105</td>\n",
       "    </tr>\n",
       "    <tr>\n",
       "      <th>2023K3</th>\n",
       "      <td>107</td>\n",
       "      <td>0.107</td>\n",
       "    </tr>\n",
       "    <tr>\n",
       "      <th>2023K4</th>\n",
       "      <td>106</td>\n",
       "      <td>0.106</td>\n",
       "    </tr>\n",
       "    <tr>\n",
       "      <th>2024K1</th>\n",
       "      <td>119</td>\n",
       "      <td>0.119</td>\n",
       "    </tr>\n",
       "    <tr>\n",
       "      <th>2024K2</th>\n",
       "      <td>129</td>\n",
       "      <td>0.129</td>\n",
       "    </tr>\n",
       "  </tbody>\n",
       "</table>\n",
       "<p>210 rows × 2 columns</p>\n",
       "</div>"
      ],
      "text/plain": [
       "        Arbeidsledige (1 000 personer)  prosent\n",
       "1972K1                              24    0.024\n",
       "1972K2                              26    0.026\n",
       "1972K3                              31    0.031\n",
       "1972K4                              31    0.031\n",
       "1973K1                              22    0.022\n",
       "...                                ...      ...\n",
       "2023K2                             105    0.105\n",
       "2023K3                             107    0.107\n",
       "2023K4                             106    0.106\n",
       "2024K1                             119    0.119\n",
       "2024K2                             129    0.129\n",
       "\n",
       "[210 rows x 2 columns]"
      ]
     },
     "metadata": {},
     "output_type": "display_data"
    },
    {
     "data": {
      "image/png": "[encoded data removed]",
      "text/plain": [
       "<Figure size 640x480 with 1 Axes>"
      ]
     },
     "metadata": {},
     "output_type": "display_data"
    }
   ],
   "source": [
    "#Vi går til ssb.no og henter et datasett om arbeidsledige\n",
    "\n"
   ]
  },
  {
   "cell_type": "code",
   "execution_count": 6,
   "id": "978b7338",
   "metadata": {
    "slideshow": {
     "slide_type": "subslide"
    },
    "tags": []
   },
   "outputs": [
    {
     "data": {
      "text/html": [
       "<div>\n",
       "<style scoped>\n",
       "    .dataframe tbody tr th:only-of-type {\n",
       "        vertical-align: middle;\n",
       "    }\n",
       "\n",
       "    .dataframe tbody tr th {\n",
       "        vertical-align: top;\n",
       "    }\n",
       "\n",
       "    .dataframe thead th {\n",
       "        text-align: right;\n",
       "    }\n",
       "</style>\n",
       "<table border=\"1\" class=\"dataframe\">\n",
       "  <thead>\n",
       "    <tr style=\"text-align: right;\">\n",
       "      <th></th>\n",
       "      <th>Opna konkursar</th>\n",
       "    </tr>\n",
       "  </thead>\n",
       "  <tbody>\n",
       "    <tr>\n",
       "      <th>1980M01</th>\n",
       "      <td>75</td>\n",
       "    </tr>\n",
       "    <tr>\n",
       "      <th>1980M02</th>\n",
       "      <td>49</td>\n",
       "    </tr>\n",
       "    <tr>\n",
       "      <th>1980M03</th>\n",
       "      <td>65</td>\n",
       "    </tr>\n",
       "    <tr>\n",
       "      <th>1980M04</th>\n",
       "      <td>58</td>\n",
       "    </tr>\n",
       "    <tr>\n",
       "      <th>1980M05</th>\n",
       "      <td>56</td>\n",
       "    </tr>\n",
       "    <tr>\n",
       "      <th>...</th>\n",
       "      <td>...</td>\n",
       "    </tr>\n",
       "    <tr>\n",
       "      <th>2024M04</th>\n",
       "      <td>466</td>\n",
       "    </tr>\n",
       "    <tr>\n",
       "      <th>2024M05</th>\n",
       "      <td>387</td>\n",
       "    </tr>\n",
       "    <tr>\n",
       "      <th>2024M06</th>\n",
       "      <td>419</td>\n",
       "    </tr>\n",
       "    <tr>\n",
       "      <th>2024M07</th>\n",
       "      <td>261</td>\n",
       "    </tr>\n",
       "    <tr>\n",
       "      <th>2024M08</th>\n",
       "      <td>305</td>\n",
       "    </tr>\n",
       "  </tbody>\n",
       "</table>\n",
       "<p>536 rows × 1 columns</p>\n",
       "</div>"
      ],
      "text/plain": [
       "         Opna konkursar\n",
       "1980M01              75\n",
       "1980M02              49\n",
       "1980M03              65\n",
       "1980M04              58\n",
       "1980M05              56\n",
       "...                 ...\n",
       "2024M04             466\n",
       "2024M05             387\n",
       "2024M06             419\n",
       "2024M07             261\n",
       "2024M08             305\n",
       "\n",
       "[536 rows x 1 columns]"
      ]
     },
     "execution_count": 6,
     "metadata": {},
     "output_type": "execute_result"
    }
   ],
   "source": [
    "# Vi henter et datasett med åpnede konkurser fra SSB\n",
    "\n"
   ]
  },
  {
   "cell_type": "markdown",
   "id": "357761bf-f456-4f5b-95da-0131abb12f89",
   "metadata": {
    "slideshow": {
     "slide_type": "slide"
    },
    "tags": []
   },
   "source": [
    "### Analyse:\n",
    "* Vi vil slå sammen dataene våre om arbeidsledighet og åpnede konkurser\n",
    "* Er det en sammenheng?"
   ]
  },
  {
   "cell_type": "code",
   "execution_count": 7,
   "id": "929dca2e",
   "metadata": {
    "slideshow": {
     "slide_type": "fragment"
    },
    "tags": []
   },
   "outputs": [
    {
     "data": {
      "text/html": [
       "<div>\n",
       "<style scoped>\n",
       "    .dataframe tbody tr th:only-of-type {\n",
       "        vertical-align: middle;\n",
       "    }\n",
       "\n",
       "    .dataframe tbody tr th {\n",
       "        vertical-align: top;\n",
       "    }\n",
       "\n",
       "    .dataframe thead th {\n",
       "        text-align: right;\n",
       "    }\n",
       "</style>\n",
       "<table border=\"1\" class=\"dataframe\">\n",
       "  <thead>\n",
       "    <tr style=\"text-align: right;\">\n",
       "      <th></th>\n",
       "      <th>Arbeidsledige (1 000 personer)</th>\n",
       "      <th>Opna konkursar</th>\n",
       "    </tr>\n",
       "  </thead>\n",
       "  <tbody>\n",
       "    <tr>\n",
       "      <th>1972K1</th>\n",
       "      <td>NaN</td>\n",
       "      <td>NaN</td>\n",
       "    </tr>\n",
       "    <tr>\n",
       "      <th>1972K2</th>\n",
       "      <td>NaN</td>\n",
       "      <td>NaN</td>\n",
       "    </tr>\n",
       "    <tr>\n",
       "      <th>1972K3</th>\n",
       "      <td>NaN</td>\n",
       "      <td>NaN</td>\n",
       "    </tr>\n",
       "    <tr>\n",
       "      <th>1972K4</th>\n",
       "      <td>NaN</td>\n",
       "      <td>NaN</td>\n",
       "    </tr>\n",
       "    <tr>\n",
       "      <th>1973K1</th>\n",
       "      <td>NaN</td>\n",
       "      <td>NaN</td>\n",
       "    </tr>\n",
       "    <tr>\n",
       "      <th>...</th>\n",
       "      <td>...</td>\n",
       "      <td>...</td>\n",
       "    </tr>\n",
       "    <tr>\n",
       "      <th>2024M04</th>\n",
       "      <td>NaN</td>\n",
       "      <td>NaN</td>\n",
       "    </tr>\n",
       "    <tr>\n",
       "      <th>2024M05</th>\n",
       "      <td>NaN</td>\n",
       "      <td>NaN</td>\n",
       "    </tr>\n",
       "    <tr>\n",
       "      <th>2024M06</th>\n",
       "      <td>NaN</td>\n",
       "      <td>NaN</td>\n",
       "    </tr>\n",
       "    <tr>\n",
       "      <th>2024M07</th>\n",
       "      <td>NaN</td>\n",
       "      <td>NaN</td>\n",
       "    </tr>\n",
       "    <tr>\n",
       "      <th>2024M08</th>\n",
       "      <td>NaN</td>\n",
       "      <td>NaN</td>\n",
       "    </tr>\n",
       "  </tbody>\n",
       "</table>\n",
       "<p>746 rows × 2 columns</p>\n",
       "</div>"
      ],
      "text/plain": [
       "         Arbeidsledige (1 000 personer)  Opna konkursar\n",
       "1972K1                              NaN             NaN\n",
       "1972K2                              NaN             NaN\n",
       "1972K3                              NaN             NaN\n",
       "1972K4                              NaN             NaN\n",
       "1973K1                              NaN             NaN\n",
       "...                                 ...             ...\n",
       "2024M04                             NaN             NaN\n",
       "2024M05                             NaN             NaN\n",
       "2024M06                             NaN             NaN\n",
       "2024M07                             NaN             NaN\n",
       "2024M08                             NaN             NaN\n",
       "\n",
       "[746 rows x 2 columns]"
      ]
     },
     "execution_count": 7,
     "metadata": {},
     "output_type": "execute_result"
    }
   ],
   "source": [
    "konkurser_df+arbeidsledige_df #Det funket dårlig...."
   ]
  },
  {
   "cell_type": "markdown",
   "id": "2ca25ecf-1b0e-4843-859f-365da6fdf81d",
   "metadata": {
    "slideshow": {
     "slide_type": "slide"
    },
    "tags": []
   },
   "source": [
    "# Slå sammen data\n",
    "Vi må passe på en rekke ting når vi skal slå sammen data:\n",
    "* Matchende datatyper: 2 kolonner blir ansett som forkjellige dersom de har forskjellige datatyper men matchende data\n",
    "* Hva skal vi beholde (Alt som matcher, kun matchende data fra nr 1 eller 2 dataframe)\n",
    "* Dersom man slår sammen på index, må disse samsvare"
   ]
  },
  {
   "cell_type": "markdown",
   "id": "7e29d4da-4ce4-477a-801b-c307b9dcb0a9",
   "metadata": {
    "slideshow": {
     "slide_type": "subslide"
    },
    "tags": []
   },
   "source": [
    "* Vi trenger nå å slå sammen data som går over forskjellige tidsspenn\n",
    "* Indeksen vår består av *tekststrenger* -- dette byr på problemer\n",
    "\n",
    "<img src=\"https://blogger.googleusercontent.com/img/b/R29vZ2xl/AVvXsEgCOoEr1biiaMsoejCtfdvgJAq_T6TfbjVkrc-zyfJ8ReSf8BvldJXPjyNy1gjfGVmB2hk2i39ybpaLHKDK4kTn4n2Zh-dXlaayliZoiygxhTQ3W7mC2LoxzTOARAhltRmSn84pdQdmqrbu/s1600/AD951881-737E-4F2C-AE8E-D80E280CFFD5.png\">"
   ]
  },
  {
   "cell_type": "markdown",
   "id": "86e409c9-b178-41f4-a2cd-06ca5be73780",
   "metadata": {
    "slideshow": {
     "slide_type": "slide"
    },
    "tags": []
   },
   "source": [
    "## Datetime, pandas.Period\n",
    "* Veldig mye av data tilgjengelig viser statistiske variabler over tid.\n",
    "* For ingeniører er tid veldig enkelt: Det er en fysisk størrelse og en av grunnenhetene i SI-system: *sekund*\n",
    "* I business er det verre. Vi måler tid i dager, sekunder, minutter, uker, måneder, kvartaler eller år\n",
    "* År er delt inn i måneder med ujevnt fordelte dager, vi har skuddår og tidssoner, sommertid/vintertid osv...\n",
    "* Vi kan få masse hjelp dersom tidsseriene vår bruker datatyper for tid fra `datetime` eller `pandas.Period`"
   ]
  },
  {
   "cell_type": "code",
   "execution_count": 8,
   "id": "d28424ec-5dd9-41a3-9b7e-1861d944b550",
   "metadata": {
    "slideshow": {
     "slide_type": "subslide"
    },
    "tags": []
   },
   "outputs": [],
   "source": [
    "#Jeg måtte gjøre følgende for å få norsk output\n",
    "#import locale\n",
    "#locale.setlocale(locale.LC_ALL, \"nb_NO.utf8\")"
   ]
  },
  {
   "cell_type": "code",
   "execution_count": 9,
   "id": "a5fc0b74-d9b1-4bd4-98d0-2e67259cedb6",
   "metadata": {
    "slideshow": {
     "slide_type": "subslide"
    },
    "tags": []
   },
   "outputs": [
    {
     "name": "stdout",
     "output_type": "stream",
     "text": [
      "I dag er datoen 2024-10-23\n",
      "Mer nøyaktig er vi nå 2024-10-23 09:31:26.832794\n"
     ]
    }
   ],
   "source": [
    "import datetime\n",
    "from zoneinfo import ZoneInfo\n",
    "#Henter tid/dato fra datetime.datetime\n",
    "\n",
    "\n",
    "#Henter dato fra datetime.date\n"
   ]
  },
  {
   "cell_type": "code",
   "execution_count": 10,
   "id": "7a090294-f67d-4102-9f6c-98636998c3c0",
   "metadata": {
    "slideshow": {
     "slide_type": "subslide"
    },
    "tags": []
   },
   "outputs": [
    {
     "name": "stdout",
     "output_type": "stream",
     "text": [
      "Jeg valgte dato:  1990-04-23\n",
      "Mappeinnlevering stenger 2024-12-13 12:00:00+01:00\n",
      "Ny tid for mappeinnlevering: 2024-12-14 16:00:00+01:00\n",
      "True\n"
     ]
    }
   ],
   "source": [
    "#Vi kan lage et spesifikt tidspunkt eller dato:\n",
    "\n",
    "min_dato =  #År, måned, dag\n",
    "print(\"Jeg valgte dato: \", min_dato)\n",
    "\n",
    "#År, måned, dag, time, minutt, sekund, tzinfo=TIDSSONE\n",
    "#tid =  \n",
    "#print(\"Mappeinnlevering stenger\", tid)\n",
    "\n",
    "#Vi kan også lage en ENDRING I TID:\n",
    "#datetime.timedelta(days=0, seconds=0, microseconds=0, milliseconds=0, minutes=0, hours=0, weeks=0)\n",
    "\n",
    "\n",
    "#Vi kan sammenligne tider/datoer\n"
   ]
  },
  {
   "cell_type": "markdown",
   "id": "ef8bcd48-3dd2-4c01-b1ec-8425fe975885",
   "metadata": {
    "slideshow": {
     "slide_type": "subslide"
    },
    "tags": []
   },
   "source": [
    "* Fordelen med en slik datatype er at biblioteket selv kan holde kontroll på tidssoner og denslags\n",
    "* Biblioteket lar oss plusse/trekke fra tider eller datoer med hverandre\n",
    "* Vi kan sammenligne tid/datoer som betyr at vi lett kan sortere de"
   ]
  },
  {
   "cell_type": "markdown",
   "id": "a94a6100-feab-4edc-9c5f-fdb7483f9b7c",
   "metadata": {
    "slideshow": {
     "slide_type": "subslide"
    },
    "tags": []
   },
   "source": [
    "# Formattere dato ut\n",
    "* vi bruker `min_tid.strftime(\"FORMATTERINGSSTRENG\")` for å formatere en dato eller tid\n",
    "* Formateringsstrenger er litt som en f-streng, men vi limer inn feks året for `\"%Y\"` i stedet for `f\"{year}\"`\n",
    "  | Formatkode | Beskrivelse                            | Eksempel (med dato: 2024-10-21 15:30:45) |\n",
    "|------------|----------------------------------------|------------------------------------------|\n",
    "| `%a`       | Forkortet ukedag                       | Man                                      |\n",
    "| `%A`       | Fullt navn på ukedag                   | Mandag                                   |\n",
    "| `%w`       | Ukedag som tall (Søndag=0, Mandag=1)   | 1                                        |\n",
    "| `%d`       | Dag i måneden (nullutfylt)             | 21                                       |\n",
    "| `%b`       | Forkortet månednavn                    | Okt                                      |\n",
    "| `%B`       | Fullt månednavn                        | Oktober                                  |\n",
    "| `%m`       | Måned som tall (nullutfylt)            | 10                                       |\n",
    "| `%y`       | År (to siffer)                         | 24                                       |\n",
    "| `%Y`       | År (fire siffer)                       | 2024                                     |\n",
    "| `%H`       | Time (nullutfylt, 24-timers klokke)    | 15                                       |\n",
    "| `%I`       | Time (nullutfylt, 12-timers klokke)    | 03                                       |\n",
    "| `%p`       | AM/PM                                 | PM                                       |\n",
    "| `%M`       | Minutter (nullutfylt)                  | 30                                       |\n",
    "| `%S`       | Sekunder (nullutfylt)                  | 45                                       |\n",
    "| `%f`       | Mikrosekunder (nullutfylt)             | 000000                                   |\n",
    "| `%z`       | Tidsforskjell fra UTC                  | +0000                                    |\n",
    "| `%Z`       | Tidsnavn (timezone)                    | UTC                                      |\n",
    "| `%j`       | Dagnummer i året (001-366)             | 295                                      |\n",
    "| `%U`       | Ukenummer (Søndag som første dag)      | 43                                       |\n",
    "| `%W`       | Ukenummer (Mandag som første dag)      | 43                                       |\n",
    "| `%c`       | Lokal dato og tid                      | Man 21 Oct 15:30:45 2024                 |\n",
    "| `%x`       | Lokal dato (kort format)               | 21.10.2024                               |\n",
    "| `%X`       | Lokal tid (kort format)                | 15:30:45                                 |\n",
    "| `%%`       | Et prosenttegn                        | %                                        |\n"
   ]
  },
  {
   "cell_type": "code",
   "execution_count": 11,
   "id": "db8b03e2-ec1b-4aae-a624-cc86474aa61f",
   "metadata": {
    "slideshow": {
     "slide_type": ""
    },
    "tags": []
   },
   "outputs": [
    {
     "name": "stdout",
     "output_type": "stream",
     "text": [
      "Mappen skal leveres:  Senest klokken 16:00 Saturday den 14.\n",
      "Sat Dec 14 16:00:00 2024\n"
     ]
    }
   ],
   "source": [
    "#Formatere dato ut i en streng\n"
   ]
  },
  {
   "cell_type": "markdown",
   "id": "8e205d5b-f697-4843-b4b6-677d01bbff19",
   "metadata": {
    "slideshow": {
     "slide_type": "subslide"
    },
    "tags": []
   },
   "source": [
    "## Lese inn et datoformat\n",
    "* Enda mer nyttig er det å kunne lese inn tid/dato skrevet i rare formater\n",
    "* Da bruker vi samme tabell som for `strftime`, men bruker `datetime.datetime.strptime(dato, \"FORMATERINGSSTRENG\")`"
   ]
  },
  {
   "cell_type": "code",
   "execution_count": 12,
   "id": "32f6b09b-6bb4-4e4a-824b-1d71e06536d1",
   "metadata": {
    "slideshow": {
     "slide_type": "fragment"
    },
    "tags": []
   },
   "outputs": [
    {
     "name": "stdout",
     "output_type": "stream",
     "text": [
      "Dato som datetime objekt: 1987-04-21 00:00:00\n"
     ]
    }
   ],
   "source": [
    "dato_inn = \"21/04/1987\"\n",
    "dato_lest = \n",
    "print(\"Dato som datetime objekt:\", dato_lest)"
   ]
  },
  {
   "cell_type": "markdown",
   "id": "107c16ed-d65b-445f-ab09-af18f12724fc",
   "metadata": {
    "slideshow": {
     "slide_type": "slide"
    },
    "tags": []
   },
   "source": [
    "## Pandas.period\n",
    "* Pandas har en egen klasse/type for å jobbe med perioder og tidsintervall\n",
    "* Vi jobber da med spenn av tid, pandas kaller det `frekvenser`\n",
    "  | Frekvenskode | Beskrivelse              | Eksempel                               |\n",
    "|--------------|--------------------------|----------------------------------------|\n",
    "| `A` or `Y`   | Årlig (Year-End)          | 2024                                  |\n",
    "| `Q`          | Kvartalsvis               | 2024Q1                                |\n",
    "| `M`          | Månedlig                  | 2024-10                               |\n",
    "| `W`          | Ukentlig (Søndag)         | 2024-42 (42. uke, sluttdato Søndag)  |\n",
    "| `W-MON`      | Ukentlig (Mandag)         | 2024-42 (42. uke, sluttdato Mandag)  |\n",
    "| `D`          | Daglig                    | 2024-10-21                            |\n",
    "| `B`          | Virkedag (uten helger)    | 2024-10-21                            |\n",
    "| `H`          | Time                     | 2024-10-21 15:00                      |\n",
    "| `T` or `min` | Minutt                    | 2024-10-21 15:30                      |\n",
    "| `S`          | Sekund                    | 2024-10-21 15:30:45                   |\n",
    "| `L`          | Millisekund               | 2024-10-21 15:30:45.123               |\n",
    "| `U`          | Mikrosekund               | 2024-10-21 15:30:45.123456            |\n",
    "| `N`          | Nanosekund                | 2024-10-21 15:30:45.123456789         |\n"
   ]
  },
  {
   "cell_type": "code",
   "execution_count": 13,
   "id": "565e18aa-b2ce-41d4-8a12-5fd93978548d",
   "metadata": {
    "slideshow": {
     "slide_type": "subslide"
    },
    "tags": []
   },
   "outputs": [
    {
     "data": {
      "text/plain": [
       "Period('2031Q2', 'Q-DEC')"
      ]
     },
     "execution_count": 13,
     "metadata": {},
     "output_type": "execute_result"
    }
   ],
   "source": [
    "#pd.Period('verdi', freq='frekvenskode')\n",
    "#Verdien er en gyldig tid i en periode med frekvens freq='frekvenskode'\n",
    "#Verdien kan være et datetime objekt, eller en tekststreng med riktig format (ie tabellen over)\n",
    "periode = \n",
    "\n"
   ]
  },
  {
   "cell_type": "markdown",
   "id": "4aa88aaf-7c5d-4218-87c3-c5ed5f3b13bf",
   "metadata": {
    "slideshow": {
     "slide_type": "subslide"
    },
    "tags": []
   },
   "source": [
    "### pd.PeriodIndex\n",
    "* Vi vil som regel ha mange perioder som indeks i et dataset\n",
    "* Da kan vi bruke:\n",
    "  *  `pd.PeriodIndex([«liste med perioder»], freq='frekvenskode')`\n",
    "  *  `pd.period_range('2024-01', '2025-05', freq='M')` ie (start, slutt, frekvens) \n",
    "  *  `pd.period_range('2024-01', periods=12, freq='Q')` ie (start, antall perioder, frekvens)\n",
    "\n",
    "*Vi har også en `pd.date_range(start, perioder, frekvens)` om vi vil ha `datetime` i stedet*"
   ]
  },
  {
   "cell_type": "code",
   "execution_count": 14,
   "id": "6e261592-3520-4cba-bfc5-bd9818b79f07",
   "metadata": {
    "slideshow": {
     "slide_type": "fragment"
    },
    "tags": []
   },
   "outputs": [
    {
     "data": {
      "text/plain": [
       "PeriodIndex(['1980-01', '1980-02', '1980-03', '1980-04', '1980-05', '1980-06',\n",
       "             '1980-07', '1980-08', '1980-09', '1980-10',\n",
       "             ...\n",
       "             '1999-04', '1999-05', '1999-06', '1999-07', '1999-08', '1999-09',\n",
       "             '1999-10', '1999-11', '1999-12', '2000-01'],\n",
       "            dtype='period[M]', length=241)"
      ]
     },
     "execution_count": 14,
     "metadata": {},
     "output_type": "execute_result"
    }
   ],
   "source": [
    "tidserie =\n"
   ]
  },
  {
   "cell_type": "markdown",
   "id": "b19607f4-88eb-41da-a324-c689a86e468d",
   "metadata": {
    "slideshow": {
     "slide_type": "subslide"
    },
    "tags": []
   },
   "source": [
    "### Konvertere mellom `datetime` og `Period`\n",
    "* Ofte trenger man å konvertere mellom `datetime` og `Period`\n",
    "* Kanskje har man brukt `strptime(...)` til å lese inn riktig dato først\n",
    "* Vi bruker da `df['date'].dt.to_period('frekvenskode')`\n",
    "* Skal vi gå andre veien bruker vi `df[\"periode\"].to_timestamp()`"
   ]
  },
  {
   "cell_type": "markdown",
   "id": "e4959498-cc73-4d17-8217-97b3b88a4324",
   "metadata": {
    "slideshow": {
     "slide_type": "subslide"
    },
    "tags": []
   },
   "source": [
    "* Det er mye mer vi kunne sett på her\n",
    "* Tid/dato kan bli uhyre komplisert i det virkelige liv"
   ]
  },
  {
   "cell_type": "markdown",
   "id": "cdfb88d0-3940-45a2-9f05-1e60a2cb0c7e",
   "metadata": {
    "slideshow": {
     "slide_type": "slide"
    },
    "tags": []
   },
   "source": [
    "# Tilbake til analysen vår:\n",
    "* Vi kan nå prøve å konvertere tidsseriene våres til et ordentlig format, og slå de sammen"
   ]
  },
  {
   "cell_type": "code",
   "execution_count": 22,
   "id": "4635519f-1aa2-4470-9ce3-86a5de0ae87d",
   "metadata": {
    "slideshow": {
     "slide_type": "fragment"
    },
    "tags": []
   },
   "outputs": [
    {
     "data": {
      "text/html": [
       "<div>\n",
       "<style scoped>\n",
       "    .dataframe tbody tr th:only-of-type {\n",
       "        vertical-align: middle;\n",
       "    }\n",
       "\n",
       "    .dataframe tbody tr th {\n",
       "        vertical-align: top;\n",
       "    }\n",
       "\n",
       "    .dataframe thead th {\n",
       "        text-align: right;\n",
       "    }\n",
       "</style>\n",
       "<table border=\"1\" class=\"dataframe\">\n",
       "  <thead>\n",
       "    <tr style=\"text-align: right;\">\n",
       "      <th></th>\n",
       "      <th>Opna konkursar</th>\n",
       "      <th>date</th>\n",
       "    </tr>\n",
       "  </thead>\n",
       "  <tbody>\n",
       "    <tr>\n",
       "      <th>1980M01</th>\n",
       "      <td>75</td>\n",
       "      <td>1980Q1</td>\n",
       "    </tr>\n",
       "    <tr>\n",
       "      <th>1980M02</th>\n",
       "      <td>49</td>\n",
       "      <td>1980Q1</td>\n",
       "    </tr>\n",
       "  </tbody>\n",
       "</table>\n",
       "</div>"
      ],
      "text/plain": [
       "         Opna konkursar    date\n",
       "1980M01              75  1980Q1\n",
       "1980M02              49  1980Q1"
      ]
     },
     "metadata": {},
     "output_type": "display_data"
    },
    {
     "data": {
      "text/html": [
       "<div>\n",
       "<style scoped>\n",
       "    .dataframe tbody tr th:only-of-type {\n",
       "        vertical-align: middle;\n",
       "    }\n",
       "\n",
       "    .dataframe tbody tr th {\n",
       "        vertical-align: top;\n",
       "    }\n",
       "\n",
       "    .dataframe thead th {\n",
       "        text-align: right;\n",
       "    }\n",
       "</style>\n",
       "<table border=\"1\" class=\"dataframe\">\n",
       "  <thead>\n",
       "    <tr style=\"text-align: right;\">\n",
       "      <th></th>\n",
       "      <th>Arbeidsledige (1 000 personer)</th>\n",
       "    </tr>\n",
       "    <tr>\n",
       "      <th>kvartal</th>\n",
       "      <th></th>\n",
       "    </tr>\n",
       "  </thead>\n",
       "  <tbody>\n",
       "    <tr>\n",
       "      <th>1972Q1</th>\n",
       "      <td>24</td>\n",
       "    </tr>\n",
       "    <tr>\n",
       "      <th>1972Q2</th>\n",
       "      <td>26</td>\n",
       "    </tr>\n",
       "  </tbody>\n",
       "</table>\n",
       "</div>"
      ],
      "text/plain": [
       "         Arbeidsledige (1 000 personer)\n",
       "kvartal                                \n",
       "1972Q1                               24\n",
       "1972Q2                               26"
      ]
     },
     "metadata": {},
     "output_type": "display_data"
    }
   ],
   "source": [
    "display(konkurser_df.head(2))\n",
    "display(arbeidsledige_df.head(2))"
   ]
  },
  {
   "cell_type": "markdown",
   "id": "47a43146-567c-479e-8ff0-7cdb90012af8",
   "metadata": {
    "slideshow": {
     "slide_type": "subslide"
    },
    "tags": []
   },
   "source": [
    "* Arbeidsledige har nesten riktig format på indeks\n",
    "* \"1972K1\" skulle vært \"1972Q1\" for at `pd.Periods` skal skunne \"lese det riktig\""
   ]
  },
  {
   "cell_type": "code",
   "execution_count": 23,
   "id": "255bf285-7bdd-4917-b634-059663c5b3b2",
   "metadata": {
    "slideshow": {
     "slide_type": "fragment"
    },
    "tags": []
   },
   "outputs": [
    {
     "data": {
      "text/html": [
       "<div>\n",
       "<style scoped>\n",
       "    .dataframe tbody tr th:only-of-type {\n",
       "        vertical-align: middle;\n",
       "    }\n",
       "\n",
       "    .dataframe tbody tr th {\n",
       "        vertical-align: top;\n",
       "    }\n",
       "\n",
       "    .dataframe thead th {\n",
       "        text-align: right;\n",
       "    }\n",
       "</style>\n",
       "<table border=\"1\" class=\"dataframe\">\n",
       "  <thead>\n",
       "    <tr style=\"text-align: right;\">\n",
       "      <th></th>\n",
       "      <th>Arbeidsledige (1 000 personer)</th>\n",
       "    </tr>\n",
       "    <tr>\n",
       "      <th>kvartal</th>\n",
       "      <th></th>\n",
       "    </tr>\n",
       "  </thead>\n",
       "  <tbody>\n",
       "    <tr>\n",
       "      <th>1972Q1</th>\n",
       "      <td>24</td>\n",
       "    </tr>\n",
       "    <tr>\n",
       "      <th>1972Q2</th>\n",
       "      <td>26</td>\n",
       "    </tr>\n",
       "    <tr>\n",
       "      <th>1972Q3</th>\n",
       "      <td>31</td>\n",
       "    </tr>\n",
       "    <tr>\n",
       "      <th>1972Q4</th>\n",
       "      <td>31</td>\n",
       "    </tr>\n",
       "    <tr>\n",
       "      <th>1973Q1</th>\n",
       "      <td>22</td>\n",
       "    </tr>\n",
       "    <tr>\n",
       "      <th>...</th>\n",
       "      <td>...</td>\n",
       "    </tr>\n",
       "    <tr>\n",
       "      <th>2023Q2</th>\n",
       "      <td>105</td>\n",
       "    </tr>\n",
       "    <tr>\n",
       "      <th>2023Q3</th>\n",
       "      <td>107</td>\n",
       "    </tr>\n",
       "    <tr>\n",
       "      <th>2023Q4</th>\n",
       "      <td>106</td>\n",
       "    </tr>\n",
       "    <tr>\n",
       "      <th>2024Q1</th>\n",
       "      <td>119</td>\n",
       "    </tr>\n",
       "    <tr>\n",
       "      <th>2024Q2</th>\n",
       "      <td>129</td>\n",
       "    </tr>\n",
       "  </tbody>\n",
       "</table>\n",
       "<p>210 rows × 1 columns</p>\n",
       "</div>"
      ],
      "text/plain": [
       "         Arbeidsledige (1 000 personer)\n",
       "kvartal                                \n",
       "1972Q1                               24\n",
       "1972Q2                               26\n",
       "1972Q3                               31\n",
       "1972Q4                               31\n",
       "1973Q1                               22\n",
       "...                                 ...\n",
       "2023Q2                              105\n",
       "2023Q3                              107\n",
       "2023Q4                              106\n",
       "2024Q1                              119\n",
       "2024Q2                              129\n",
       "\n",
       "[210 rows x 1 columns]"
      ]
     },
     "execution_count": 23,
     "metadata": {},
     "output_type": "execute_result"
    }
   ],
   "source": [
    "arbeidsledige_df = pd.read_csv(\"arbeidsledige.csv\", sep=\";\", header=1, index_col=0)\n",
    "arbeidsledige_df.index.name = None\n",
    "\n",
    "#Vi bytter ut \"K\" med \"Q\" ved å bruke .apply eller .map på indexen"
   ]
  },
  {
   "cell_type": "markdown",
   "id": "6715501b-f762-4607-8e5f-13f6d60eea32",
   "metadata": {
    "slideshow": {
     "slide_type": "slide"
    },
    "tags": []
   },
   "source": [
    "* Dataframe av konkurser gjør vi litt mer arbeid med\n",
    "* '1923M01' er ikke gyldig/lesbart for `pd.Period` - det skulle vært '1923-01'\n",
    "* Vi kan gjøre som sist og bytte ut 'M' med '-', men hva om det var enda mer komplisert?\n",
    "* Da kan vi bruke `datetime.datetime.strptime(streng, formatstreng)`"
   ]
  },
  {
   "cell_type": "code",
   "execution_count": 24,
   "id": "d4120bd1-5bc7-4489-9a18-252e70174550",
   "metadata": {
    "slideshow": {
     "slide_type": "fragment"
    },
    "tags": []
   },
   "outputs": [
    {
     "data": {
      "text/html": [
       "<div>\n",
       "<style scoped>\n",
       "    .dataframe tbody tr th:only-of-type {\n",
       "        vertical-align: middle;\n",
       "    }\n",
       "\n",
       "    .dataframe tbody tr th {\n",
       "        vertical-align: top;\n",
       "    }\n",
       "\n",
       "    .dataframe thead th {\n",
       "        text-align: right;\n",
       "    }\n",
       "</style>\n",
       "<table border=\"1\" class=\"dataframe\">\n",
       "  <thead>\n",
       "    <tr style=\"text-align: right;\">\n",
       "      <th></th>\n",
       "      <th>Opna konkursar</th>\n",
       "      <th>date</th>\n",
       "    </tr>\n",
       "  </thead>\n",
       "  <tbody>\n",
       "    <tr>\n",
       "      <th>1980M01</th>\n",
       "      <td>75</td>\n",
       "      <td>1980Q1</td>\n",
       "    </tr>\n",
       "    <tr>\n",
       "      <th>1980M02</th>\n",
       "      <td>49</td>\n",
       "      <td>1980Q1</td>\n",
       "    </tr>\n",
       "    <tr>\n",
       "      <th>1980M03</th>\n",
       "      <td>65</td>\n",
       "      <td>1980Q1</td>\n",
       "    </tr>\n",
       "    <tr>\n",
       "      <th>1980M04</th>\n",
       "      <td>58</td>\n",
       "      <td>1980Q2</td>\n",
       "    </tr>\n",
       "    <tr>\n",
       "      <th>1980M05</th>\n",
       "      <td>56</td>\n",
       "      <td>1980Q2</td>\n",
       "    </tr>\n",
       "    <tr>\n",
       "      <th>...</th>\n",
       "      <td>...</td>\n",
       "      <td>...</td>\n",
       "    </tr>\n",
       "    <tr>\n",
       "      <th>2024M04</th>\n",
       "      <td>466</td>\n",
       "      <td>2024Q2</td>\n",
       "    </tr>\n",
       "    <tr>\n",
       "      <th>2024M05</th>\n",
       "      <td>387</td>\n",
       "      <td>2024Q2</td>\n",
       "    </tr>\n",
       "    <tr>\n",
       "      <th>2024M06</th>\n",
       "      <td>419</td>\n",
       "      <td>2024Q2</td>\n",
       "    </tr>\n",
       "    <tr>\n",
       "      <th>2024M07</th>\n",
       "      <td>261</td>\n",
       "      <td>2024Q3</td>\n",
       "    </tr>\n",
       "    <tr>\n",
       "      <th>2024M08</th>\n",
       "      <td>305</td>\n",
       "      <td>2024Q3</td>\n",
       "    </tr>\n",
       "  </tbody>\n",
       "</table>\n",
       "<p>536 rows × 2 columns</p>\n",
       "</div>"
      ],
      "text/plain": [
       "         Opna konkursar    date\n",
       "1980M01              75  1980Q1\n",
       "1980M02              49  1980Q1\n",
       "1980M03              65  1980Q1\n",
       "1980M04              58  1980Q2\n",
       "1980M05              56  1980Q2\n",
       "...                 ...     ...\n",
       "2024M04             466  2024Q2\n",
       "2024M05             387  2024Q2\n",
       "2024M06             419  2024Q2\n",
       "2024M07             261  2024Q3\n",
       "2024M08             305  2024Q3\n",
       "\n",
       "[536 rows x 2 columns]"
      ]
     },
     "execution_count": 24,
     "metadata": {},
     "output_type": "execute_result"
    }
   ],
   "source": [
    "konkurser_df = pd.read_csv(\"konkurser.csv\", encoding=\"ISO-8859-1\", sep=\"\\t\", index_col = 0)\n",
    "konkurser_df.index.name=None\n",
    "\n"
   ]
  },
  {
   "cell_type": "markdown",
   "id": "23e1e736-de6e-4e97-8dc4-54a384232783",
   "metadata": {
    "slideshow": {
     "slide_type": "subslide"
    },
    "tags": []
   },
   "source": [
    "* Nå trenger vi bare å summe sammen alle konkurser per kvartal\n",
    "* Vi kan bruke `.groupby(...)` til dette\n",
    "* `groupby()` slår sammen deler av data i grupper\n",
    "* feks alle \"menn\" i en gruppe og alle kvinner i en annen gruppe om vi har en kolonne \"kjønn\" i dataene våre\n",
    "* Det returnes et spesialobjekt som vi kan gjøre noe med, typisk, `.sum(), .mean(), .median(), .max(), .min()`\n",
    "* Deretter får vi et nytt dataframe ut"
   ]
  },
  {
   "cell_type": "code",
   "execution_count": 25,
   "id": "ad97bde7-2f1a-44ff-8c24-07b02ee7e74a",
   "metadata": {
    "slideshow": {
     "slide_type": "fragment"
    },
    "tags": []
   },
   "outputs": [],
   "source": []
  },
  {
   "cell_type": "markdown",
   "id": "28b845f8-db3a-4851-a35e-dc1e55625fbb",
   "metadata": {
    "slideshow": {
     "slide_type": "subslide"
    },
    "tags": []
   },
   "source": [
    "* Nå kan vi slå sammen datasettene med `.merge(...)`"
   ]
  },
  {
   "cell_type": "code",
   "execution_count": 26,
   "id": "3502aa37-b86e-40a5-9f62-85c98fb94dd7",
   "metadata": {
    "slideshow": {
     "slide_type": ""
    },
    "tags": []
   },
   "outputs": [
    {
     "data": {
      "text/html": [
       "<div>\n",
       "<style scoped>\n",
       "    .dataframe tbody tr th:only-of-type {\n",
       "        vertical-align: middle;\n",
       "    }\n",
       "\n",
       "    .dataframe tbody tr th {\n",
       "        vertical-align: top;\n",
       "    }\n",
       "\n",
       "    .dataframe thead th {\n",
       "        text-align: right;\n",
       "    }\n",
       "</style>\n",
       "<table border=\"1\" class=\"dataframe\">\n",
       "  <thead>\n",
       "    <tr style=\"text-align: right;\">\n",
       "      <th></th>\n",
       "      <th>Konkurser</th>\n",
       "      <th>Arbeidsledige</th>\n",
       "    </tr>\n",
       "    <tr>\n",
       "      <th>kvartal</th>\n",
       "      <th></th>\n",
       "      <th></th>\n",
       "    </tr>\n",
       "  </thead>\n",
       "  <tbody>\n",
       "    <tr>\n",
       "      <th>1980Q1</th>\n",
       "      <td>189.0</td>\n",
       "      <td>29.0</td>\n",
       "    </tr>\n",
       "    <tr>\n",
       "      <th>1980Q2</th>\n",
       "      <td>180.0</td>\n",
       "      <td>27.0</td>\n",
       "    </tr>\n",
       "    <tr>\n",
       "      <th>1980Q3</th>\n",
       "      <td>179.0</td>\n",
       "      <td>41.0</td>\n",
       "    </tr>\n",
       "    <tr>\n",
       "      <th>1980Q4</th>\n",
       "      <td>217.0</td>\n",
       "      <td>32.0</td>\n",
       "    </tr>\n",
       "    <tr>\n",
       "      <th>1981Q1</th>\n",
       "      <td>199.0</td>\n",
       "      <td>35.0</td>\n",
       "    </tr>\n",
       "    <tr>\n",
       "      <th>...</th>\n",
       "      <td>...</td>\n",
       "      <td>...</td>\n",
       "    </tr>\n",
       "    <tr>\n",
       "      <th>2023Q2</th>\n",
       "      <td>1068.0</td>\n",
       "      <td>105.0</td>\n",
       "    </tr>\n",
       "    <tr>\n",
       "      <th>2023Q3</th>\n",
       "      <td>946.0</td>\n",
       "      <td>107.0</td>\n",
       "    </tr>\n",
       "    <tr>\n",
       "      <th>2023Q4</th>\n",
       "      <td>1186.0</td>\n",
       "      <td>106.0</td>\n",
       "    </tr>\n",
       "    <tr>\n",
       "      <th>2024Q1</th>\n",
       "      <td>1133.0</td>\n",
       "      <td>119.0</td>\n",
       "    </tr>\n",
       "    <tr>\n",
       "      <th>2024Q2</th>\n",
       "      <td>1272.0</td>\n",
       "      <td>129.0</td>\n",
       "    </tr>\n",
       "  </tbody>\n",
       "</table>\n",
       "<p>178 rows × 2 columns</p>\n",
       "</div>"
      ],
      "text/plain": [
       "         Konkurser  Arbeidsledige\n",
       "kvartal                          \n",
       "1980Q1       189.0           29.0\n",
       "1980Q2       180.0           27.0\n",
       "1980Q3       179.0           41.0\n",
       "1980Q4       217.0           32.0\n",
       "1981Q1       199.0           35.0\n",
       "...            ...            ...\n",
       "2023Q2      1068.0          105.0\n",
       "2023Q3       946.0          107.0\n",
       "2023Q4      1186.0          106.0\n",
       "2024Q1      1133.0          119.0\n",
       "2024Q2      1272.0          129.0\n",
       "\n",
       "[178 rows x 2 columns]"
      ]
     },
     "execution_count": 26,
     "metadata": {},
     "output_type": "execute_result"
    }
   ],
   "source": []
  },
  {
   "cell_type": "markdown",
   "id": "cbbd1671-522d-4d2c-a3c2-9dec8b24bca1",
   "metadata": {
    "slideshow": {
     "slide_type": ""
    },
    "tags": []
   },
   "source": [
    "* Når vi har fått dataen slik vi vil ha den er det vanskelige over\n",
    "* Vil vi feks plotte:"
   ]
  },
  {
   "cell_type": "code",
   "execution_count": 27,
   "id": "a9547cef-645b-4b85-956e-e4f7e8f421a3",
   "metadata": {
    "slideshow": {
     "slide_type": ""
    },
    "tags": []
   },
   "outputs": [
    {
     "data": {
      "text/plain": [
       "<Axes: xlabel='Arbeidsledige', ylabel='Konkurser'>"
      ]
     },
     "execution_count": 27,
     "metadata": {},
     "output_type": "execute_result"
    },
    {
     "data": {
      "image/png": "[encoded data removed]",
      "text/plain": [
       "<Figure size 640x480 with 1 Axes>"
      ]
     },
     "metadata": {},
     "output_type": "display_data"
    },
    {
     "data": {
      "image/png": "[encoded data removed]",
      "text/plain": [
       "<Figure size 640x480 with 1 Axes>"
      ]
     },
     "metadata": {},
     "output_type": "display_data"
    }
   ],
   "source": [
    "import matplotlib.pyplot as plt\n",
    "\n"
   ]
  },
  {
   "cell_type": "code",
   "execution_count": null,
   "id": "08a1f5b2-a0ba-4b72-9ecb-b16d1120ad6f",
   "metadata": {
    "slideshow": {
     "slide_type": ""
    },
    "tags": []
   },
   "outputs": [],
   "source": []
  },
  {
   "cell_type": "markdown",
   "id": "17ad5d76",
   "metadata": {
    "slideshow": {
     "slide_type": "subslide"
    },
    "tags": []
   },
   "source": [
    "* Å finne kovarians og korrelasjon er også lett"
   ]
  },
  {
   "cell_type": "code",
   "execution_count": 28,
   "id": "8aa358fc",
   "metadata": {
    "slideshow": {
     "slide_type": "fragment"
    },
    "tags": []
   },
   "outputs": [
    {
     "data": {
      "text/html": [
       "<div>\n",
       "<style scoped>\n",
       "    .dataframe tbody tr th:only-of-type {\n",
       "        vertical-align: middle;\n",
       "    }\n",
       "\n",
       "    .dataframe tbody tr th {\n",
       "        vertical-align: top;\n",
       "    }\n",
       "\n",
       "    .dataframe thead th {\n",
       "        text-align: right;\n",
       "    }\n",
       "</style>\n",
       "<table border=\"1\" class=\"dataframe\">\n",
       "  <thead>\n",
       "    <tr style=\"text-align: right;\">\n",
       "      <th></th>\n",
       "      <th>Konkurser</th>\n",
       "      <th>Arbeidsledige</th>\n",
       "    </tr>\n",
       "  </thead>\n",
       "  <tbody>\n",
       "    <tr>\n",
       "      <th>Konkurser</th>\n",
       "      <td>116239.520091</td>\n",
       "      <td>6932.145813</td>\n",
       "    </tr>\n",
       "    <tr>\n",
       "      <th>Arbeidsledige</th>\n",
       "      <td>6932.145813</td>\n",
       "      <td>767.688980</td>\n",
       "    </tr>\n",
       "  </tbody>\n",
       "</table>\n",
       "</div>"
      ],
      "text/plain": [
       "                   Konkurser  Arbeidsledige\n",
       "Konkurser      116239.520091    6932.145813\n",
       "Arbeidsledige    6932.145813     767.688980"
      ]
     },
     "execution_count": 28,
     "metadata": {},
     "output_type": "execute_result"
    }
   ],
   "source": [
    "df.cov()"
   ]
  },
  {
   "cell_type": "code",
   "execution_count": 29,
   "id": "4aa3e10e",
   "metadata": {
    "slideshow": {
     "slide_type": "fragment"
    },
    "tags": []
   },
   "outputs": [
    {
     "data": {
      "text/html": [
       "<div>\n",
       "<style scoped>\n",
       "    .dataframe tbody tr th:only-of-type {\n",
       "        vertical-align: middle;\n",
       "    }\n",
       "\n",
       "    .dataframe tbody tr th {\n",
       "        vertical-align: top;\n",
       "    }\n",
       "\n",
       "    .dataframe thead th {\n",
       "        text-align: right;\n",
       "    }\n",
       "</style>\n",
       "<table border=\"1\" class=\"dataframe\">\n",
       "  <thead>\n",
       "    <tr style=\"text-align: right;\">\n",
       "      <th></th>\n",
       "      <th>Konkurser</th>\n",
       "      <th>Arbeidsledige</th>\n",
       "    </tr>\n",
       "  </thead>\n",
       "  <tbody>\n",
       "    <tr>\n",
       "      <th>Konkurser</th>\n",
       "      <td>1.000000</td>\n",
       "      <td>0.733835</td>\n",
       "    </tr>\n",
       "    <tr>\n",
       "      <th>Arbeidsledige</th>\n",
       "      <td>0.733835</td>\n",
       "      <td>1.000000</td>\n",
       "    </tr>\n",
       "  </tbody>\n",
       "</table>\n",
       "</div>"
      ],
      "text/plain": [
       "               Konkurser  Arbeidsledige\n",
       "Konkurser       1.000000       0.733835\n",
       "Arbeidsledige   0.733835       1.000000"
      ]
     },
     "execution_count": 29,
     "metadata": {},
     "output_type": "execute_result"
    }
   ],
   "source": [
    "df.corr()"
   ]
  },
  {
   "cell_type": "markdown",
   "id": "deb38d61",
   "metadata": {
    "slideshow": {
     "slide_type": "subslide"
    },
    "tags": []
   },
   "source": [
    "* De som trenger en oppfriskning på kovarians og korrelasjon kan se her:\n",
    "\n",
    "\n",
    "### Kovarians (video)\n",
    "<a href=\"https://www.youtube.com/watch?v=9Y0Alg8huJk\" \n",
    "  target=\"_blank\"><img src=\"https://img.youtube.com/vi/9Y0Alg8huJk/0.jpg\" \n",
    "alt=\"IMAGE ALT TEXT HERE\" width=\"240\" height=\"180\" border=\"10\" /></a>\n",
    "\n",
    "### Korrelasjon (video)\n",
    "<a href=\"https://www.youtube.com/watch?v=WpZi02ulCvQ\" \n",
    "  target=\"_blank\"><img src=\"https://img.youtube.com/vi/WpZi02ulCvQ/0.jpg\" \n",
    "alt=\"IMAGE ALT TEXT HERE\" width=\"240\" height=\"180\" border=\"10\" /></a>\n"
   ]
  }
 ],
 "metadata": {
  "celltoolbar": "Slideshow",
  "kernelspec": {
   "display_name": "Python 3 (ipykernel)",
   "language": "python",
   "name": "python3"
  },
  "language_info": {
   "codemirror_mode": {
    "name": "ipython",
    "version": 3
   },
   "file_extension": ".py",
   "mimetype": "text/x-python",
   "name": "python",
   "nbconvert_exporter": "python",
   "pygments_lexer": "ipython3",
   "version": "3.11.7"
  }
 },
 "nbformat": 4,
 "nbformat_minor": 5
}
