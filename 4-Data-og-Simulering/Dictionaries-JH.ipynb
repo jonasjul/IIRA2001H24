{
 "cells": [
  {
   "cell_type": "markdown",
   "id": "8d48abb8-9944-4620-a15e-d5028916356e",
   "metadata": {
    "slideshow": {
     "slide_type": "slide"
    },
    "tags": []
   },
   "source": [
    "# Mer om hasmaps (dictionaries)\n",
    "* Vi lagde hashmaps/dictionaries slik:\n",
    "\n"
   ]
  },
  {
   "cell_type": "code",
   "execution_count": 1,
   "id": "cda3ca2a-8936-4317-adbe-bfa157d46964",
   "metadata": {
    "slideshow": {
     "slide_type": "fragment"
    },
    "tags": []
   },
   "outputs": [
    {
     "name": "stdout",
     "output_type": "stream",
     "text": [
      "{'navn': 'Jonas', 'alder': 37, 'lengde': 189.7}\n"
     ]
    }
   ],
   "source": [
    "person = {\"navn\": \"Jonas\", \"alder\": 37, \"lengde\": 189.7     }\n",
    "print(person)"
   ]
  },
  {
   "cell_type": "markdown",
   "id": "eae1ffb8-7158-43fe-9242-44e4ff3ada37",
   "metadata": {
    "slideshow": {
     "slide_type": "fragment"
    },
    "tags": []
   },
   "source": [
    "* Vi bruker \"keys\" til å slå opp i verdiene"
   ]
  },
  {
   "cell_type": "code",
   "execution_count": 2,
   "id": "449db7fa-81d7-49f5-a259-0b9df81b9e2d",
   "metadata": {
    "slideshow": {
     "slide_type": "fragment"
    },
    "tags": []
   },
   "outputs": [
    {
     "name": "stdout",
     "output_type": "stream",
     "text": [
      "Høyden til Jonas er 189.70\n"
     ]
    }
   ],
   "source": [
    "print(f\"Høyden til {person['navn']} er {person['lengde']:.2f}\")"
   ]
  },
  {
   "cell_type": "markdown",
   "id": "1d79d71d-8815-47dc-bb7c-90a098c33a71",
   "metadata": {
    "slideshow": {
     "slide_type": "subslide"
    },
    "tags": []
   },
   "source": [
    "Vi kan liste opp alle nøklene slik ved å bruke .keys() og alle verdiene med .values()\n"
   ]
  },
  {
   "cell_type": "code",
   "execution_count": 3,
   "id": "eadcdca2-f005-4937-b450-130e279f11b4",
   "metadata": {
    "slideshow": {
     "slide_type": "fragment"
    },
    "tags": []
   },
   "outputs": [
    {
     "name": "stdout",
     "output_type": "stream",
     "text": [
      "dict_keys(['navn', 'alder', 'lengde'])\n",
      "dict_values(['Jonas', 37, 189.7])\n",
      "listen med keys ['navn', 'alder', 'lengde']\n"
     ]
    }
   ],
   "source": [
    "print(person.keys())\n",
    "print(person.values())\n",
    "liste_keys= list(person.keys()) \n",
    "print(\"listen med keys\", liste_keys)"
   ]
  },
  {
   "cell_type": "markdown",
   "id": "8aa7795a-5c13-4430-af50-8c69469adc76",
   "metadata": {
    "slideshow": {
     "slide_type": "subslide"
    },
    "tags": []
   },
   "source": [
    "* Vi kan legge til nye felt ved å \"slå opp\" med den nye nøkkelen og sette dataen vi vil ha der"
   ]
  },
  {
   "cell_type": "code",
   "execution_count": 4,
   "id": "6aa4226f-2cb9-410c-b952-9dc835919d70",
   "metadata": {
    "slideshow": {
     "slide_type": "fragment"
    },
    "tags": []
   },
   "outputs": [
    {
     "name": "stdout",
     "output_type": "stream",
     "text": [
      "{'navn': 'Jonas', 'alder': 37, 'lengde': 189.7, 'favorittall': [1, 2, 3, 4, 5, 6]}\n"
     ]
    }
   ],
   "source": [
    "person[\"favorittall\"] = [1,2,3,4,5,6]\n",
    "print(person)"
   ]
  },
  {
   "cell_type": "markdown",
   "id": "0b3e616c-ca0d-4230-9b19-9376aa9f6a48",
   "metadata": {
    "slideshow": {
     "slide_type": "fragment"
    },
    "tags": []
   },
   "source": [
    "* Vi sletter key/value med `del` slik"
   ]
  },
  {
   "cell_type": "code",
   "execution_count": 5,
   "id": "35b8de80-4d9b-4311-bf3b-077f4af4b211",
   "metadata": {
    "slideshow": {
     "slide_type": "fragment"
    },
    "tags": []
   },
   "outputs": [],
   "source": [
    "del person[\"favorittall\"]"
   ]
  },
  {
   "cell_type": "code",
   "execution_count": 6,
   "id": "73e04d4f",
   "metadata": {
    "slideshow": {
     "slide_type": "fragment"
    }
   },
   "outputs": [
    {
     "name": "stdout",
     "output_type": "stream",
     "text": [
      "{'navn': 'Jonas', 'alder': 37, 'lengde': 189.7}\n"
     ]
    }
   ],
   "source": [
    "print(person)"
   ]
  },
  {
   "cell_type": "markdown",
   "id": "b064a3da-923a-4a00-af72-0882e0d7d31d",
   "metadata": {
    "slideshow": {
     "slide_type": "subslide"
    },
    "tags": []
   },
   "source": [
    "* Vi kan gå iterere igjennom en dictionary ved bruk av `.items()` som gir en liste med tuple-par av \"nøkkel\"/verdi"
   ]
  },
  {
   "cell_type": "code",
   "execution_count": 10,
   "id": "e35e0c82-93a8-4f2e-b752-40cf79ec69fa",
   "metadata": {
    "slideshow": {
     "slide_type": "fragment"
    },
    "tags": []
   },
   "outputs": [
    {
     "name": "stdout",
     "output_type": "stream",
     "text": [
      "dict_items([('navn', 'Jonas'), ('alder', 37), ('lengde', 189.7)])\n",
      "Nøkkel 'navn' har verdi Jonas\n",
      "Nøkkel 'alder' har verdi 37\n",
      "Nøkkel 'lengde' har verdi 189.7\n"
     ]
    }
   ],
   "source": [
    "print(person.items())\n",
    "for k,v in person.items():\n",
    "    print(f\"Nøkkel '{k}' har verdi {v}\")"
   ]
  },
  {
   "cell_type": "markdown",
   "id": "77bf6412-622c-49df-b588-4328b92c1509",
   "metadata": {
    "slideshow": {
     "slide_type": "subslide"
    },
    "tags": []
   },
   "source": [
    "* Hver gang vi legger til eller fjerner et felt fra hashmappet må python fikse \"hashingen\"\n",
    "   ![tekst](https://www.boardinfinity.com/blog/content/images/2023/03/HashMap-in-Python.png)\n",
    "* Dersom vi skal legge til mange felt er det derfor greit å bruke `.update({  ... })`"
   ]
  },
  {
   "cell_type": "code",
   "execution_count": 12,
   "id": "c649c7a4-edaf-4a00-9f5d-f0325f390fea",
   "metadata": {
    "slideshow": {
     "slide_type": "subslide"
    },
    "tags": []
   },
   "outputs": [
    {
     "name": "stdout",
     "output_type": "stream",
     "text": [
      "{'navn': 'Jonas', 'alder': 37, 'lengde': 189.7, 'yrke': 'Lærer', 'lønn': False, 'Glad': True, 'Favorittall': [1, 2, 3, 4]}\n"
     ]
    }
   ],
   "source": [
    " ny_data = {\"yrke\": \"Lærer\",\n",
    "            \"lønn\": False,\n",
    "            \"Glad\": True,\n",
    "            \"Favorittall\": [1,2,3,4]\n",
    "           }\n",
    "person.update(ny_data)\n",
    "print(person)"
   ]
  },
  {
   "cell_type": "markdown",
   "id": "2eb22b1e-66f0-447b-8e01-a56c3931df3f",
   "metadata": {
    "slideshow": {
     "slide_type": "slide"
    },
    "tags": []
   },
   "source": [
    "### Knep for å printe ut store dictionary litt finere\n"
   ]
  },
  {
   "cell_type": "code",
   "execution_count": 14,
   "id": "b8bed456-b289-4f95-b451-4b0d3c895388",
   "metadata": {
    "slideshow": {
     "slide_type": "fragment"
    },
    "tags": []
   },
   "outputs": [
    {
     "name": "stdout",
     "output_type": "stream",
     "text": [
      "{   'Favorittall': [1, 2, 3, 4],\n",
      "    'Glad': True,\n",
      "    'alder': 37,\n",
      "    'lengde': 189.7,\n",
      "    'lønn': False,\n",
      "    'navn': 'Jonas',\n",
      "    'yrke': 'Lærer'}\n",
      "{'navn': 'Jonas', 'alder': 37, 'lengde': 189.7, 'yrke': 'Lærer', 'lønn': False, 'Glad': True, 'Favorittall': [1, 2, 3, 4]}\n"
     ]
    }
   ],
   "source": [
    "import pprint as pprint\n",
    "pp = pprint.PrettyPrinter(indent=4)\n",
    "\n",
    "pp.pprint(person)\n",
    "print(person)"
   ]
  },
  {
   "cell_type": "code",
   "execution_count": 16,
   "id": "1b49e4c7-d877-4e57-abb2-3c783c22ef35",
   "metadata": {
    "slideshow": {
     "slide_type": "subslide"
    },
    "tags": []
   },
   "outputs": [
    {
     "name": "stdout",
     "output_type": "stream",
     "text": [
      "{   'Favorittall': [1, 2, 3, 4],\n",
      "    'Glad': True,\n",
      "    'alder': 37,\n",
      "    'lengde': 189.7,\n",
      "    'lønn': False,\n",
      "    'navn': 'Jonas',\n",
      "    'studier': {   'Fysikk': ['Trondheim', 'Gjøvik'],\n",
      "                   'PPU': 'Bergen',\n",
      "                   'informatikk': 'Bergen'},\n",
      "    'yrke': 'Lærer'}\n"
     ]
    }
   ],
   "source": [
    "ny_data = { \"studier\" : {\"Fysikk\": [\"Trondheim\", \"Gjøvik\"], \"informatikk\": \"Bergen\", \"PPU\": \"Bergen\"}}\n",
    "person.update(ny_data)\n",
    "pp.pprint(person)"
   ]
  },
  {
   "cell_type": "markdown",
   "id": "796a3d5c-fcda-4e88-8972-d75b7479bd47",
   "metadata": {
    "slideshow": {
     "slide_type": "subslide"
    },
    "tags": []
   },
   "source": [
    "* Vi bruker `[]` flere ganger for å slå opp i nøstede dictionaries:"
   ]
  },
  {
   "cell_type": "code",
   "execution_count": 23,
   "id": "fe8c0ea2-ea01-48ad-8aa4-2033b20d8bbf",
   "metadata": {
    "slideshow": {
     "slide_type": "fragment"
    },
    "tags": []
   },
   "outputs": [
    {
     "name": "stdout",
     "output_type": "stream",
     "text": [
      "{   'Favorittall': [1, 2, 3, 4],\n",
      "    'Glad': True,\n",
      "    'alder': 37,\n",
      "    'lengde': 189.7,\n",
      "    'lønn': False,\n",
      "    'navn': 'Jonas',\n",
      "    'studier': {   'Fysikk': ['Trooondhjeemm', 'Gjøvik'],\n",
      "                   'PPU': 'Bergen',\n",
      "                   'informatikk': 'Bergen'},\n",
      "    'yrke': 'Lærer'}\n",
      "{   'Favorittall': [1, 2, 3, 4],\n",
      "    'Glad': True,\n",
      "    'alder': 37,\n",
      "    'lengde': 189.7,\n",
      "    'lønn': False,\n",
      "    'navn': 'Jonas',\n",
      "    'studier': {   'Fysikk': ['Trooondhjeemm', 'Gjøvik'],\n",
      "                   'PPU': 'Bergen',\n",
      "                   'informatikk': 'Bergen'},\n",
      "    'yrke': 'Lærer'}\n"
     ]
    }
   ],
   "source": [
    "pp.pprint(person)\n",
    "person[\"studier\"][\"Fysikk\"][0] = \"Trooondhjeemm\"\n",
    "pp.pprint(person)"
   ]
  },
  {
   "cell_type": "markdown",
   "id": "016b1a2e-2091-4c49-aa3f-2a14f2b1fa4f",
   "metadata": {},
   "source": [
    "# EKSEMPEL Sparekalkulator"
   ]
  },
  {
   "cell_type": "code",
   "execution_count": 24,
   "id": "07891505-e327-4abf-b823-96adfccf3438",
   "metadata": {},
   "outputs": [
    {
     "name": "stdout",
     "output_type": "stream",
     "text": [
      "Listen inneholder data om 2000 kunder.\n",
      "For hver kunde har vi data om ['fornavn', 'etternavn', 'startsaldo']\n"
     ]
    }
   ],
   "source": [
    "import json\n",
    "with open(\"kundedata1.json\", 'r') as file:\n",
    "    kundedata = json.load(file)\n",
    "info = f\"\"\"Listen inneholder data om {len(kundedata)} kunder.\n",
    "For hver kunde har vi data om {list(kundedata[0].keys())}\"\"\"\n",
    "print(info)"
   ]
  },
  {
   "cell_type": "code",
   "execution_count": 29,
   "id": "9c202033-2673-4336-857c-6cf959c317d3",
   "metadata": {},
   "outputs": [
    {
     "name": "stdout",
     "output_type": "stream",
     "text": [
      "[   {   'etternavn': 'Tunheim',\n",
      "        'fornavn': 'Patrick Olai Bantilan',\n",
      "        'startsaldo': 99199.72},\n",
      "    {'etternavn': 'Pedersen', 'fornavn': 'Camilla', 'startsaldo': 165319.59},\n",
      "    {   'etternavn': 'Aadde',\n",
      "        'fornavn': 'Patrick Olai Bantilan',\n",
      "        'startsaldo': 139382.23},\n",
      "    {   'etternavn': 'Høstland',\n",
      "        'fornavn': 'Elise Espnes',\n",
      "        'startsaldo': 106943.32},\n",
      "    {   'etternavn': 'Hofstad',\n",
      "        'fornavn': 'Johanna Hole',\n",
      "        'startsaldo': 116680.94},\n",
      "    {   'etternavn': 'Ski',\n",
      "        'fornavn': 'Henriette Drevik',\n",
      "        'startsaldo': 119441.15},\n",
      "    {   'etternavn': 'Kifle',\n",
      "        'fornavn': 'Christian Teige',\n",
      "        'startsaldo': 93471.37},\n",
      "    {   'etternavn': 'Tunheim',\n",
      "        'fornavn': 'Jan Håvard Vik',\n",
      "        'startsaldo': 124931.97},\n",
      "    {'etternavn': 'Rosengren', 'fornavn': 'Magnus', 'startsaldo': 117199.67},\n",
      "    {'etternavn': 'Husøy', 'fornavn': 'Tuva Amdam', 'startsaldo': 77042.0}]\n"
     ]
    }
   ],
   "source": [
    "pp.pprint(kundedata[:10])\n"
   ]
  },
  {
   "cell_type": "code",
   "execution_count": 43,
   "id": "3cd5a8b5-5c02-489c-b526-d86c699ee966",
   "metadata": {},
   "outputs": [
    {
     "name": "stdin",
     "output_type": "stream",
     "text": [
      "Hvilket navn vil du søke etter? tunheim\n"
     ]
    },
    {
     "name": "stdout",
     "output_type": "stream",
     "text": [
      "Vi fant 23 kunder med navn 'tunheim'\n"
     ]
    }
   ],
   "source": [
    "#Lag funksjon som søker opp kunde gitt et etternavn \n",
    "#og gir tilbake en liste over kunder med gitt etternavn\n",
    "def finnKunde(etternavn):\n",
    "    treffliste = []\n",
    "    for kunde in kundedata:\n",
    "        if kunde[\"etternavn\"].upper() == etternavn.upper():\n",
    "            treffliste.append(kunde)\n",
    "    return treffliste\n",
    "\n",
    "\n",
    "sokenavn = input(\"Hvilket navn vil du søke etter?\")\n",
    "treffliste = finnKunde(sokenavn)\n",
    "if treffliste == []:\n",
    "    print(f\"Vi fant ingen '{sokenavn}' i kundedata\")\n",
    "else:\n",
    "    print(f\"Vi fant {len(treffliste)} kunder med navn '{sokenavn}'\")\n"
   ]
  },
  {
   "cell_type": "code",
   "execution_count": null,
   "id": "02e7e7d4-28d6-443a-a622-8d09a9524060",
   "metadata": {},
   "outputs": [],
   "source": [
    "# Lag sparefunksjon\n",
    "# Tar terminbeløp, antall terminer i året, rente og startsaldo og gir sluttsaldo\n",
    "# kunde[\"sluttsaldo\"] = 130939843\n",
    "\n"
   ]
  },
  {
   "cell_type": "code",
   "execution_count": null,
   "id": "f54841df-0ec5-41f5-9b43-824b4c878ae5",
   "metadata": {},
   "outputs": [],
   "source": [
    "# Gå over kundelisten og legg inn sluttsaldo\n",
    "# Vi sparer 1000kr/mnd, i 10 år, p.a. rente på 5%\n",
    "P = 1000\n",
    "r = 0.1\n",
    "n=12\n",
    "t_slutt = 10\n",
    "\n",
    "#TODO\n",
    "# Iterer (for løkke) over kundedata\n",
    "# For hver kunde legg til et felt \"sluttsaldo\" som inneholder sluttsaldo ved sparing\n"
   ]
  },
  {
   "cell_type": "code",
   "execution_count": null,
   "id": "193546be-e110-48f8-a3f4-c366305997a4",
   "metadata": {
    "slideshow": {
     "slide_type": ""
    },
    "tags": []
   },
   "outputs": [],
   "source": [
    "# Iterer over listen og legg til en liste med årlig saldo fra start til sluttå for alle kunder\n",
    "\n"
   ]
  },
  {
   "cell_type": "code",
   "execution_count": null,
   "id": "84357b7c-4ead-4e33-bc7f-564913b327ce",
   "metadata": {},
   "outputs": [],
   "source": [
    "# Plott fordelingen av sparepenger i et histogram\n",
    "import matplotlib.pyplot as plt\n",
    "\n",
    "sluttsaldo_liste = []\n",
    "startsaldo_liste = []\n",
    "\n",
    "\n"
   ]
  },
  {
   "cell_type": "code",
   "execution_count": null,
   "id": "bca96984-009f-48a0-8614-f963054019f9",
   "metadata": {},
   "outputs": [],
   "source": [
    "#Finn en måte å dele kundene inn i segmenter: rik, middels bemidlet, lavt bemidlet, etter hvor mye sparepenger de har\n",
    "#Oppdater kundedata med klassifiseringen\n",
    "#Lag et kakediagram over kundegruppen før og etter sparing\n",
    "\n",
    "n_kunder  = len(startsaldo_liste)\n",
    "\n",
    "snitt_start = sum(startsaldo_liste)/n_kunder\n",
    "minste_start = min(startsaldo_liste)\n",
    "max_start = max(startsaldo_liste)\n",
    "\n",
    "snitt_slutt = sum(sluttsaldo_liste)/n_kunder\n",
    "minste_slutt = min(sluttsaldo_liste)\n",
    "max_slutt = max(sluttsaldo_liste)\n",
    "\n",
    "print(f\"\"\"I snitt har kundene {snitt_start:.0f} kr på konto ved start\n",
    "Kunden med lavest saldo har {minste_start:.0f} på konto\n",
    "Kunden med høyest saldo har {max_start:.0f} på konto\"\"\")\n",
    "\n",
    "\n",
    "print(f\"\"\"\n",
    "I snitt har kundene {snitt_slutt:.0f} kr på konto ved slutt\n",
    "Kunden med lavest saldo har {minste_slutt:.0f} på konto\n",
    "Kunden med høyest saldo har {max_slutt:.0f} på konto\"\"\")\n",
    "\n",
    "#Forslag: 50% over middelverdi er rik, 50% under middelverdi er lavt bemidlet\n"
   ]
  },
  {
   "cell_type": "code",
   "execution_count": null,
   "id": "c0ec7c15-165e-4520-9714-2f92689b34ff",
   "metadata": {},
   "outputs": [],
   "source": []
  },
  {
   "cell_type": "code",
   "execution_count": null,
   "id": "1f3a8f92-f8a3-45b7-ab87-6e45b27c0588",
   "metadata": {},
   "outputs": [],
   "source": []
  }
 ],
 "metadata": {
  "kernelspec": {
   "display_name": "Python 3 (ipykernel)",
   "language": "python",
   "name": "python3"
  },
  "language_info": {
   "codemirror_mode": {
    "name": "ipython",
    "version": 3
   },
   "file_extension": ".py",
   "mimetype": "text/x-python",
   "name": "python",
   "nbconvert_exporter": "python",
   "pygments_lexer": "ipython3",
   "version": "3.11.7"
  }
 },
 "nbformat": 4,
 "nbformat_minor": 5
}
