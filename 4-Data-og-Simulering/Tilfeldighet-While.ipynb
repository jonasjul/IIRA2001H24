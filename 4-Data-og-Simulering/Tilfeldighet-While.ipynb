{
 "cells": [
  {
   "cell_type": "markdown",
   "id": "cbe06462-4c37-4f3b-8089-01ee7623ebfb",
   "metadata": {
    "slideshow": {
     "slide_type": "slide"
    },
    "tags": []
   },
   "source": [
    "# Simulering og modellering"
   ]
  },
  {
   "cell_type": "markdown",
   "id": "1c5b8fbb-5202-48c3-a723-cf61c2e43a52",
   "metadata": {
    "slideshow": {
     "slide_type": "fragment"
    },
    "tags": []
   },
   "source": [
    "## Pseudotilfeldig tallgenerator"
   ]
  },
  {
   "cell_type": "markdown",
   "id": "0993c205-9fbe-4dce-bd3a-09d6d879d235",
   "metadata": {
    "slideshow": {
     "slide_type": "fragment"
    },
    "tags": []
   },
   "source": [
    "* Når man skal kjøre simuleringer på datamaskin trenger man ofte å bruke tilfeldige tall\n",
    "* Vi trenger elementer av tilfeldighet i simuleringene våres for å beskrive prossesser vi ikke kan forklare analytisk/matematisk\n",
    "* Dette gjelder både i ingeniørfagene, men spesielt når man skal modellere *mennesklig adferd*"
   ]
  },
  {
   "cell_type": "markdown",
   "id": "65f12169-fb97-4256-9719-1263d8326c35",
   "metadata": {
    "slideshow": {
     "slide_type": "subslide"
    },
    "tags": []
   },
   "source": [
    "![newton](https://pbs.twimg.com/media/D2EZ4DwVAAApNdd?format=jpg&name=900x900)"
   ]
  },
  {
   "cell_type": "markdown",
   "id": "f083dd0c-de6d-456c-877d-382eef6d2246",
   "metadata": {
    "slideshow": {
     "slide_type": "subslide"
    },
    "tags": []
   },
   "source": [
    "* Faktisk tilfeldighet er vanskelig å oppdrive på kommando\n",
    "* På datamaskinen gjør vi «mattetriks» til å generere tall som ser tilsynelatende tilfeldige ut\n",
    "* I python finner vi metoder vi kan bruke i `random`biblioteket"
   ]
  },
  {
   "cell_type": "code",
   "execution_count": 38,
   "id": "c4f9c6e8-e84b-4e14-9479-3186493411cb",
   "metadata": {
    "slideshow": {
     "slide_type": "fragment"
    },
    "tags": []
   },
   "outputs": [
    {
     "name": "stdout",
     "output_type": "stream",
     "text": [
      "Mitt tilfeldige tall er 0.9218\n"
     ]
    }
   ],
   "source": [
    "import random\n",
    "tilfeldig_tall = random.random()\n",
    "#random() gir et \"tilfeldig\" flyttall mellom 0 og 1\n",
    "print(f\"Mitt tilfeldige tall er {tilfeldig_tall:.4f}\")"
   ]
  },
  {
   "cell_type": "markdown",
   "id": "a8ac591c-797d-49f7-ad24-bc1dabe33837",
   "metadata": {
    "slideshow": {
     "slide_type": "subslide"
    },
    "tags": []
   },
   "source": [
    "* De tilfeldige tallene regnes ut -- de bruker da en såkalt «*seed*» til å begynne utregningen\n",
    "* Default er systemklokken på dataen -- men vi kan gi vår egen med `random.seed(«tall»)`"
   ]
  },
  {
   "cell_type": "code",
   "execution_count": 91,
   "id": "93780964-0479-438b-8bca-d34f834e8e74",
   "metadata": {
    "slideshow": {
     "slide_type": "fragment"
    },
    "tags": []
   },
   "outputs": [],
   "source": [
    "random.seed(10)"
   ]
  },
  {
   "cell_type": "code",
   "execution_count": 93,
   "id": "9504b3c2-deb7-4838-9c26-9e96d925409b",
   "metadata": {
    "slideshow": {
     "slide_type": "fragment"
    },
    "tags": []
   },
   "outputs": [
    {
     "name": "stdout",
     "output_type": "stream",
     "text": [
      "Mitt tilfeldige tall er 0.4289\n"
     ]
    }
   ],
   "source": [
    "tilfeldig_tall = random.random()\n",
    "#random() gir et \"tilfeldig\" flyttall mellom 0 og 1\n",
    "print(f\"Mitt tilfeldige tall er {tilfeldig_tall:.4f}\")"
   ]
  },
  {
   "cell_type": "markdown",
   "id": "c8cb7b01-2a44-4b53-9646-58fcdfb7da92",
   "metadata": {
    "slideshow": {
     "slide_type": "subslide"
    },
    "tags": []
   },
   "source": [
    "* Dersom man kan trekke et tilfeldig tall mellom 0 og 1, har man egentlig alt man trenger"
   ]
  },
  {
   "cell_type": "code",
   "execution_count": 134,
   "id": "087237b2-a730-43fc-a626-c65da8de43a8",
   "metadata": {
    "slideshow": {
     "slide_type": "fragment"
    },
    "tags": []
   },
   "outputs": [
    {
     "name": "stdout",
     "output_type": "stream",
     "text": [
      "9\n"
     ]
    },
    {
     "data": {
      "text/plain": [
       "(array([ 258.,  588.,  841., 1138., 1395., 1675., 1359., 1111.,  855.,\n",
       "         513.,  267.]),\n",
       " array([ 2.        ,  2.90909091,  3.81818182,  4.72727273,  5.63636364,\n",
       "         6.54545455,  7.45454545,  8.36363636,  9.27272727, 10.18181818,\n",
       "        11.09090909, 12.        ]),\n",
       " <BarContainer object of 11 artists>)"
      ]
     },
     "execution_count": 134,
     "metadata": {},
     "output_type": "execute_result"
    },
    {
     "data": {
      "image/png": "[encoded data removed]",
      "text/plain": [
       "<Figure size 640x480 with 1 Axes>"
      ]
     },
     "metadata": {},
     "output_type": "display_data"
    }
   ],
   "source": [
    "import matplotlib.pyplot as plt\n",
    "#EKs terningkast\n",
    "def kast_terning():\n",
    "    kast = int(random.random()*6)+1\n",
    "    return kast\n",
    "\n",
    "def kast_to():\n",
    "    return kast_terning()+kast_terning()\n",
    "print(kast_to())\n",
    "\n",
    "mange_kast = []\n",
    "for _ in range(10000):\n",
    "    mange_kast.append(kast_to())\n",
    "\n",
    "plt.hist(mange_kast, bins=11)"
   ]
  },
  {
   "cell_type": "code",
   "execution_count": 152,
   "id": "e10e34b8-1c07-4730-bc43-f1fb1a1d4514",
   "metadata": {
    "slideshow": {
     "slide_type": "subslide"
    },
    "tags": []
   },
   "outputs": [
    {
     "name": "stdout",
     "output_type": "stream",
     "text": [
      "Tilfeldig element i listen er 3\n"
     ]
    }
   ],
   "source": [
    "# Trekk tilfeldig element fra liste\n",
    "def trekk_tilfeldig(liste):\n",
    "    n = len(mange_kast)\n",
    "    tilfeldig_indeks = int(random.random()*n)\n",
    "    return liste[tilfeldig_indeks]\n",
    "\n",
    "print(f\"Tilfeldig element i listen er {trekk_tilfeldig(mange_kast)}\")"
   ]
  },
  {
   "cell_type": "markdown",
   "id": "d41bd49a-c123-40f2-9a61-a75fbe55ee89",
   "metadata": {
    "slideshow": {
     "slide_type": "subslide"
    },
    "tags": []
   },
   "source": [
    "* Av og til må man lage egne rutiner slik som dette\n",
    "* Andre ganger kan vi bruke en av de mange innebygde funksjonene i `random` biblioteket\n",
    "* [Dokumentasjon, random](https://docs.python.org/3/library/random.html)"
   ]
  },
  {
   "cell_type": "code",
   "execution_count": 179,
   "id": "a1871b08-b445-42e4-a1d9-247b655b2fa3",
   "metadata": {
    "slideshow": {
     "slide_type": "fragment"
    },
    "tags": []
   },
   "outputs": [
    {
     "name": "stdout",
     "output_type": "stream",
     "text": [
      "Fruktkurven vår består av: ['Pærer', 'Dragefrukt', 'Pærer', 'Pærer', 'Dragefrukt', 'Fruktdrage', 'Pærer', 'Pærer', 'Mango', 'Pærer']\n",
      "Tilfeldig heltall er:  76\n"
     ]
    }
   ],
   "source": [
    "frukt = [\"Epler\", \"Pærer\", \"Mango\", \"Dragefrukt\", \"Fruktdrage\"] \n",
    "#Velg et utvalg av 10 frukter\n",
    "fruktkurv = random.choices(frukt, k=10)\n",
    "print(f\"Fruktkurven vår består av: {fruktkurv}\")\n",
    "\n",
    "#Velg et tilfeldig heltall mellom 10 og 100\n",
    "tilfeldig_heltall = random.randint(10,100)\n",
    "print(f\"Tilfeldig heltall er: \", tilfeldig_heltall)"
   ]
  },
  {
   "cell_type": "code",
   "execution_count": 220,
   "id": "5bbe350c-ac81-46aa-b895-95b0c9267217",
   "metadata": {
    "slideshow": {
     "slide_type": "subslide"
    },
    "tags": []
   },
   "outputs": [
    {
     "data": {
      "image/png": "[encoded data removed]",
      "text/plain": [
       "<Figure size 640x480 with 1 Axes>"
      ]
     },
     "metadata": {},
     "output_type": "display_data"
    }
   ],
   "source": [
    "# Trekk et tilfeldig tall fra en normalfordeling:\n",
    "tall = random.gauss(mu=3, sigma=1.5)\n",
    "mange_tall = []\n",
    "for _ in range(10000):\n",
    "    tilf_trekk = random.gauss(mu=3, sigma=1.5) \n",
    "    mange_tall.append(tilf_trekk)\n",
    "plt.hist(mange_tall, bins=40)\n",
    "plt.show()"
   ]
  },
  {
   "cell_type": "markdown",
   "id": "bba35e49-96b8-4b36-b4e5-3e44270cb64e",
   "metadata": {
    "slideshow": {
     "slide_type": "slide"
    },
    "tags": []
   },
   "source": [
    "# Simulere med `While`\n",
    "* Vi har blitt ganske godt kjent med `for`-løkken\n",
    "* Den bruker vi når vi skal gjøre noe «for» alle elementene i en samling\n",
    "* Vi vet altså på forhånd hvor mange ganger løkken skal iterere"
   ]
  },
  {
   "cell_type": "markdown",
   "id": "8d8ede8d-23d3-4a5b-9cde-12bc85f3ce8a",
   "metadata": {
    "slideshow": {
     "slide_type": "subslide"
    },
    "tags": []
   },
   "source": [
    "* Dersom vi undersøker feks kundeadferd og bruker tilfeldige tall til å simulere avgjørelser vet man typisk ikke hvor mange ganger en løkke trenger å kjøre\n",
    "* Da kan vi bruke `while` løkken\n",
    "\n"
   ]
  },
  {
   "cell_type": "markdown",
   "id": "67abafe6-015c-4c96-a0c7-df8e0a36c0e2",
   "metadata": {
    "slideshow": {
     "slide_type": "fragment"
    },
    "tags": []
   },
   "source": [
    "```python\n",
    "while «boolsk uttrykk»:\n",
    "    #Koded\n",
    "    #Kode\n",
    "    #Kode\n",
    "```\n",
    "* Løkken kjører så lenge det \"boolske uttrykket\" evalueres til `True`"
   ]
  },
  {
   "cell_type": "markdown",
   "id": "4b8c5f4c-4bfc-4ba5-b271-aff980bc5f29",
   "metadata": {
    "slideshow": {
     "slide_type": "subslide"
    },
    "tags": []
   },
   "source": [
    "* Dersom vi trenger å avbryte en løkke midt i en iterasjon kan vi bruke `break`\n",
    "* Dersom vi trenger å starte løkken på nytt midt i en iterasjon kan vi bruke `continue`"
   ]
  },
  {
   "cell_type": "code",
   "execution_count": 258,
   "id": "5f0ae1b2-872e-492d-a863-13bb05811569",
   "metadata": {
    "slideshow": {
     "slide_type": "fragment"
    },
    "tags": []
   },
   "outputs": [
    {
     "name": "stdout",
     "output_type": "stream",
     "text": [
      "Vi fortsetter\n",
      "Vi fortsetter\n",
      "Vi avbryter\n"
     ]
    }
   ],
   "source": [
    "sjekkevariabel = True\n",
    "while sjekkevariabel:\n",
    "    tilfeldig_tall = random.random()\n",
    "    if tilfeldig_tall < 0.2:\n",
    "        print(\"Vi avbryter\")\n",
    "        break\n",
    "    else:\n",
    "        print(\"Vi fortsetter\")\n",
    "        continue\n",
    "    print(\"Her kommer vi aldri\")\n",
    "    "
   ]
  },
  {
   "cell_type": "markdown",
   "id": "2bbae4a3-ecc1-4317-9fcf-2556d40b2222",
   "metadata": {
    "slideshow": {
     "slide_type": "slide"
    },
    "tags": []
   },
   "source": [
    "# EKS:\n",
    "* Vi simulerer en kunde som handler\n",
    "* Den fyller handlekurven med varer helt til budsjettet er tomt\n",
    "* Eller kunden har fått det den trenger\n",
    "\n",
    "* Vi sier at etter hver vare kunden handler, er det 10% sjanse for at den er ferdig å handle\n",
    "* Kunden trekker en tilfeldig vare hver gang"
   ]
  },
  {
   "cell_type": "code",
   "execution_count": 272,
   "id": "6a7884c0-493b-4f14-9f2f-44efe865a75e",
   "metadata": {
    "slideshow": {
     "slide_type": "slide"
    },
    "tags": []
   },
   "outputs": [
    {
     "name": "stdout",
     "output_type": "stream",
     "text": [
      "Kunden handlet følgende varer ['Melk', 'Epler', 'Pærer', 'Pærer', 'Rundstykker', 'Epler', 'Bleier', 'Epler', 'Bleier', 'Epler', 'Melk']\n",
      "Det koster kroner 193.0\n",
      "Da er det igjen 7.0 kroner i budsjettet\n",
      "\n"
     ]
    }
   ],
   "source": [
    "varer = {\"Epler\": 10.0,\n",
    "         \"Pærer\": 15.0,\n",
    "         \"Bleier\": 35.0,\n",
    "         \"Sjokolade\": 6.0,\n",
    "         \"Melk\": 20.0,\n",
    "         \"Rundstykker\": 13.0\n",
    "        }\n",
    "\n",
    "handlekurv = []\n",
    "budsjett = 200\n",
    "sluttsjanse = 0.1\n",
    "total_pris = 0.0\n",
    "\n",
    "varenavn = list(varer.keys())\n",
    "\n",
    "shopper = True\n",
    "while shopper:\n",
    "    vare = random.choice(varenavn)\n",
    "    varepris = varer[vare]\n",
    "    if budsjett > varepris:\n",
    "        handlekurv.append(vare)\n",
    "        total_pris += varepris\n",
    "        budsjett -= varepris\n",
    "    else:\n",
    "        shopper = False\n",
    "    \n",
    "    if random.random()<sluttsjanse:\n",
    "        shopper = False\n",
    "\n",
    "print(f\"\"\"Kunden handlet følgende varer {handlekurv}\n",
    "Det koster kroner {total_pris:.1f}\n",
    "Da er det igjen {budsjett} kroner i budsjettet\n",
    "\"\"\")"
   ]
  }
 ],
 "metadata": {
  "kernelspec": {
   "display_name": "Python 3 (ipykernel)",
   "language": "python",
   "name": "python3"
  },
  "language_info": {
   "codemirror_mode": {
    "name": "ipython",
    "version": 3
   },
   "file_extension": ".py",
   "mimetype": "text/x-python",
   "name": "python",
   "nbconvert_exporter": "python",
   "pygments_lexer": "ipython3",
   "version": "3.11.7"
  }
 },
 "nbformat": 4,
 "nbformat_minor": 5
}
