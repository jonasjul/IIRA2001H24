{
 "cells": [
  {
   "cell_type": "markdown",
   "id": "cbe06462-4c37-4f3b-8089-01ee7623ebfb",
   "metadata": {
    "editable": true,
    "slideshow": {
     "slide_type": "slide"
    },
    "tags": []
   },
   "source": [
    "# Simulering og modellering"
   ]
  },
  {
   "cell_type": "markdown",
   "id": "1c5b8fbb-5202-48c3-a723-cf61c2e43a52",
   "metadata": {
    "editable": true,
    "slideshow": {
     "slide_type": "fragment"
    },
    "tags": []
   },
   "source": [
    "## Pseudotilfeldig tallgenerator"
   ]
  },
  {
   "cell_type": "markdown",
   "id": "0993c205-9fbe-4dce-bd3a-09d6d879d235",
   "metadata": {
    "editable": true,
    "slideshow": {
     "slide_type": "fragment"
    },
    "tags": []
   },
   "source": [
    "* Når man skal kjøre simuleringer på datamaskin trenger man ofte å bruke tilfeldige tall\n",
    "* Vi trenger elementer av tilfeldighet i simuleringene våres for å beskrive prossesser vi ikke kan forklare analytisk/matematisk\n",
    "* Dette gjelder både i ingeniørfagene, men spesielt når man skal modellere *mennesklig adferd*"
   ]
  },
  {
   "cell_type": "markdown",
   "id": "65f12169-fb97-4256-9719-1263d8326c35",
   "metadata": {
    "editable": true,
    "slideshow": {
     "slide_type": "subslide"
    },
    "tags": []
   },
   "source": [
    "![newton](https://pbs.twimg.com/media/D2EZ4DwVAAApNdd?format=jpg&name=900x900)"
   ]
  },
  {
   "cell_type": "markdown",
   "id": "f083dd0c-de6d-456c-877d-382eef6d2246",
   "metadata": {
    "editable": true,
    "slideshow": {
     "slide_type": "subslide"
    },
    "tags": []
   },
   "source": [
    "* Faktisk tilfeldighet er vanskelig å oppdrive på kommando\n",
    "* På datamaskinen gjør vi «mattetriks» til å generere tall som ser tilsynelatende tilfeldige ut\n",
    "* I python finner vi metoder vi kan bruke i `random`biblioteket"
   ]
  },
  {
   "cell_type": "code",
   "execution_count": null,
   "id": "c4f9c6e8-e84b-4e14-9479-3186493411cb",
   "metadata": {
    "editable": true,
    "slideshow": {
     "slide_type": "fragment"
    },
    "tags": []
   },
   "outputs": [],
   "source": [
    "\n",
    "#random() gir et \"tilfeldig\" flyttall mellom 0 og 1\n"
   ]
  },
  {
   "cell_type": "markdown",
   "id": "a8ac591c-797d-49f7-ad24-bc1dabe33837",
   "metadata": {
    "editable": true,
    "slideshow": {
     "slide_type": "subslide"
    },
    "tags": []
   },
   "source": [
    "* De tilfeldige tallene regnes ut -- de bruker da en såkalt «*seed*» til å begynne utregningen\n",
    "* Default er systemklokken på dataen -- men vi kan gi vår egen med `random.seed(«tall»)`"
   ]
  },
  {
   "cell_type": "code",
   "execution_count": null,
   "id": "93780964-0479-438b-8bca-d34f834e8e74",
   "metadata": {
    "editable": true,
    "slideshow": {
     "slide_type": "fragment"
    },
    "tags": []
   },
   "outputs": [],
   "source": []
  },
  {
   "cell_type": "code",
   "execution_count": null,
   "id": "9504b3c2-deb7-4838-9c26-9e96d925409b",
   "metadata": {
    "editable": true,
    "slideshow": {
     "slide_type": "fragment"
    },
    "tags": []
   },
   "outputs": [],
   "source": []
  },
  {
   "cell_type": "markdown",
   "id": "c8cb7b01-2a44-4b53-9646-58fcdfb7da92",
   "metadata": {
    "editable": true,
    "slideshow": {
     "slide_type": "subslide"
    },
    "tags": []
   },
   "source": [
    "* Dersom man kan trekke et tilfeldig tall mellom 0 og 1, har man egentlig alt man trenger"
   ]
  },
  {
   "cell_type": "code",
   "execution_count": null,
   "id": "087237b2-a730-43fc-a626-c65da8de43a8",
   "metadata": {
    "editable": true,
    "slideshow": {
     "slide_type": "fragment"
    },
    "tags": []
   },
   "outputs": [],
   "source": [
    "#EKs terningkast\n"
   ]
  },
  {
   "cell_type": "code",
   "execution_count": null,
   "id": "e10e34b8-1c07-4730-bc43-f1fb1a1d4514",
   "metadata": {
    "editable": true,
    "slideshow": {
     "slide_type": "subslide"
    },
    "tags": []
   },
   "outputs": [],
   "source": [
    "# Trekk tilfeldig element fra liste\n"
   ]
  },
  {
   "cell_type": "markdown",
   "id": "d41bd49a-c123-40f2-9a61-a75fbe55ee89",
   "metadata": {
    "editable": true,
    "slideshow": {
     "slide_type": "subslide"
    },
    "tags": []
   },
   "source": [
    "* Av og til må man lage egne rutiner slik som dette\n",
    "* Andre ganger kan vi bruke en av de mange innebygde funksjonene i `random` biblioteket\n",
    "* [Dokumentasjon, random](https://docs.python.org/3/library/random.html)"
   ]
  },
  {
   "cell_type": "code",
   "execution_count": null,
   "id": "a1871b08-b445-42e4-a1d9-247b655b2fa3",
   "metadata": {
    "editable": true,
    "slideshow": {
     "slide_type": "fragment"
    },
    "tags": []
   },
   "outputs": [],
   "source": [
    "frukt = [\"Epler\", \"Pærer\", \"Mango\", \"Dragefrukt\", \"Fruktdrage\"]\n",
    "#Velg et utvalg av 10 frukter\n",
    "\n",
    "\n",
    "#Velg et tilfeldig heltall mellom 10 og 100\n",
    "\n"
   ]
  },
  {
   "cell_type": "code",
   "execution_count": null,
   "id": "5bbe350c-ac81-46aa-b895-95b0c9267217",
   "metadata": {
    "editable": true,
    "slideshow": {
     "slide_type": "subslide"
    },
    "tags": []
   },
   "outputs": [],
   "source": [
    "# Trekk et tilfeldig tall fra en normalfordeling:\n",
    "\n"
   ]
  },
  {
   "cell_type": "markdown",
   "id": "bba35e49-96b8-4b36-b4e5-3e44270cb64e",
   "metadata": {
    "editable": true,
    "slideshow": {
     "slide_type": "slide"
    },
    "tags": []
   },
   "source": [
    "# Simulere med `While`\n",
    "* Vi har blitt ganske godt kjent med `for`-løkken\n",
    "* Den bruker vi når vi skal gjøre noe «for» alle elementene i en samling\n",
    "* Vi vet altså på forhånd hvor mange ganger løkken skal iterere"
   ]
  },
  {
   "cell_type": "markdown",
   "id": "8d8ede8d-23d3-4a5b-9cde-12bc85f3ce8a",
   "metadata": {
    "editable": true,
    "slideshow": {
     "slide_type": "subslide"
    },
    "tags": []
   },
   "source": [
    "* Dersom vi undersøker feks kundeadferd og bruker tilfeldige tall til å simulere avgjørelser vet man typisk ikke hvor mange ganger en løkke trenger å kjøre\n",
    "* Da kan vi bruke `while` løkken\n",
    "\n"
   ]
  },
  {
   "cell_type": "markdown",
   "id": "67abafe6-015c-4c96-a0c7-df8e0a36c0e2",
   "metadata": {
    "editable": true,
    "slideshow": {
     "slide_type": "fragment"
    },
    "tags": []
   },
   "source": [
    "```python\n",
    "while «boolsk uttrykk»:\n",
    "    #Koded\n",
    "    #Kode\n",
    "    #Kode\n",
    "```\n",
    "* Løkken kjører så lenge det \"boolske uttrykket\" evalueres til `True`"
   ]
  },
  {
   "cell_type": "markdown",
   "id": "4b8c5f4c-4bfc-4ba5-b271-aff980bc5f29",
   "metadata": {
    "editable": true,
    "slideshow": {
     "slide_type": "subslide"
    },
    "tags": []
   },
   "source": [
    "* Dersom vi trenger å avbryte en løkke midt i en iterasjon kan vi bruke `break`\n",
    "* Dersom vi trenger å starte løkken på nytt midt i en iterasjon kan vi bruke `continue`"
   ]
  },
  {
   "cell_type": "code",
   "execution_count": null,
   "id": "5f0ae1b2-872e-492d-a863-13bb05811569",
   "metadata": {
    "editable": true,
    "slideshow": {
     "slide_type": "fragment"
    },
    "tags": []
   },
   "outputs": [],
   "source": []
  },
  {
   "cell_type": "markdown",
   "id": "2bbae4a3-ecc1-4317-9fcf-2556d40b2222",
   "metadata": {
    "editable": true,
    "slideshow": {
     "slide_type": "slide"
    },
    "tags": []
   },
   "source": [
    "# EKS:\n",
    "* Vi simulerer en kunde som handler\n",
    "* Den fyller handlekurven med varer helt til budsjettet er tomt\n",
    "* Eller kunden har fått det den trenger\n",
    "\n",
    "* Vi sier at etter hver vare kunden handler, er det 10% sjanse for at den er ferdig å handle\n",
    "* Kunden trekker en tilfeldig vare hver gang"
   ]
  },
  {
   "cell_type": "code",
   "execution_count": null,
   "id": "6a7884c0-493b-4f14-9f2f-44efe865a75e",
   "metadata": {
    "editable": true,
    "slideshow": {
     "slide_type": "slide"
    },
    "tags": []
   },
   "outputs": [],
   "source": [
    "varer = {\"Epler\": 10.0,\n",
    "         \"Pærer\": 15.0,\n",
    "         \"Bleier\": 35.0,\n",
    "         \"Sjokolade\": 6.0,\n",
    "         \"Melk\": 20.0,\n",
    "         \"Rundstykker\": 13.0\n",
    "        }"
   ]
  }
 ],
 "metadata": {
  "kernelspec": {
   "display_name": "Python 3 (ipykernel)",
   "language": "python",
   "name": "python3"
  },
  "language_info": {
   "codemirror_mode": {
    "name": "ipython",
    "version": 3
   },
   "file_extension": ".py",
   "mimetype": "text/x-python",
   "name": "python",
   "nbconvert_exporter": "python",
   "pygments_lexer": "ipython3",
   "version": "3.10.12"
  }
 },
 "nbformat": 4,
 "nbformat_minor": 5
}
