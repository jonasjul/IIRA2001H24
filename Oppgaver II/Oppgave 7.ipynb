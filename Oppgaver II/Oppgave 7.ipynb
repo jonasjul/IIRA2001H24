{
 "cells": [
  {
   "cell_type": "markdown",
   "id": "a5bb15da-a311-48c9-aade-d7e36df6778a",
   "metadata": {},
   "source": [
    "# Oppgave 7:\n",
    "\n",
    "## Gå berserk på ssb.no:\n",
    "* Sjekk at du kan:\n",
    "  1. Lese inn csv-filer\n",
    "  2. Fylle inn manglende verdier (\"..\" -> np.nan)\n",
    "  3. Gjøre om datatypene, spesielt tid til datetime eller pandas.Period\n",
    "  4. Slå opp og slice i dataframene med .loc[], og med pandas.IndexSlice\n",
    "  5. Legge til nye kolonner\n",
    "  6. Bruke .map() eller .apply() til å lage nye kolonner eller dataset\n",
    "  7. Skifte navn på kolonner\n",
    "  8. Skifte index\n",
    "  9. Lage og bruke multiindex\n",
    "  10. Plotte data, (kake, linje, prikkeplott (og kanskje histogram))\n",
    "  11. Filtrere ut data med feks `df[df[\"alder\"] > 25]` og med .query()\n",
    "  12. Bruke .melt() og .pivot() til å reforme dataframe"
   ]
  }
 ],
 "metadata": {
  "kernelspec": {
   "display_name": "Python 3 (ipykernel)",
   "language": "python",
   "name": "python3"
  },
  "language_info": {
   "codemirror_mode": {
    "name": "ipython",
    "version": 3
   },
   "file_extension": ".py",
   "mimetype": "text/x-python",
   "name": "python",
   "nbconvert_exporter": "python",
   "pygments_lexer": "ipython3",
   "version": "3.12.4"
  }
 },
 "nbformat": 4,
 "nbformat_minor": 5
}
