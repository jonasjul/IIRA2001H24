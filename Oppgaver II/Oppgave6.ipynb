{
 "cells": [
  {
   "cell_type": "markdown",
   "id": "05de8427-1e1a-47af-b7bd-49e71e6ca777",
   "metadata": {},
   "source": [
    "## Oppgave 6.1\n",
    "\n",
    "* Lag dataframen vist under\n",
    "<img src=\"https://folk.ntnu.no/jonajh/iira2001/42/img/oppgave1.png\">\n",
    "\n",
    "* Programmet er påbegynt under\n",
    "* Merk at det trekkes tilfeldige tall, slik at tallverdiene ikke blir nøyaktig de samme som på figuren\n",
    "\n",
    "*Tips:* For å formatere heltall til 2 plasser med innledende nuller i en f-streng: \n",
    "`f\"heltallet mitt er {tall:02d}\"`"
   ]
  },
  {
   "cell_type": "code",
   "execution_count": 1,
   "id": "8c881fce-ebf8-4c0f-a7ca-6f50e6d29393",
   "metadata": {},
   "outputs": [],
   "source": [
    "import pandas as pd\n",
    "import numpy as np\n",
    "import matplotlib.pyplot as plt\n",
    "\n",
    "n = 180\n",
    "populasjon = np.random.normal(10.0,0.1,n) # Trekker tilfeldige tall med normalfordeling rundt 10\n",
    "arbeidsledighet = np.random.normal(0.03,0.002,n) # Trekker tilfeldig arbeidsledighet, normalfordelt"
   ]
  },
  {
   "cell_type": "markdown",
   "id": "ab263452-f000-4919-ba32-c863a5072847",
   "metadata": {},
   "source": [
    "# Oppgave 6.2\n",
    "Når du har gjort 6.1 sjekk at du kan slå opp i dataframe ved å:\n",
    "1. Hente ut enkteltvise kolonner\n",
    "2. Hente ut flere kolonner\n",
    "3. Hente ut en rad\n",
    "4. Hente ut flere rader\n",
    "5. Hente ut enkeltvise datapunkt\n",
    "6. Hente ut rader ved å slice (feks fra november 2003 til august 2004)\n",
    "7. Hente ut deler av dataframe med å slice radene og velge 1 eller flere av kolonnene"
   ]
  },
  {
   "cell_type": "markdown",
   "id": "ce254f0a-6fa4-4d61-9097-854fc1d5c097",
   "metadata": {},
   "source": [
    "# Oppgave 6.3\n",
    "\n",
    "Vi skal lage en funksjon som hjelper oss med å omgjøre dataframes med data for hver måned til hvert kvartal\n",
    "og hvert kvartal til hvert år.\n",
    "\n",
    "* Anta at tidene er på formene:\n",
    "    - yyyyKq feks 1983K2 for  andre kvartal 1983\n",
    "    - yyyyMmm feks 2001M03 for mars (måned 3) i 2001\n",
    "    - yyyy feks 2020\n",
    "* Lag to funksjoner:\n",
    "    - Det ene tar et dataframe med index på månedsformen og gir tilbake et på kvartalsformen\n",
    "    - Den andre funksjonen tar et dataframe med index på kvartalsformen og gir tilbake et på «årsformen»\n",
    "\n",
    "Anta først at dataframen kun har 1 kolonne. Når du har fått det til kan du gjøre om funksjonen slik at den\n",
    "fungerer med flere kolonner.\n",
    "\n",
    "Et par ting å ta hensyn til/problemer å løse:\n",
    "\n",
    "* Noen ganger gir det mening å legge sammen dataene fra månedene i et kvartal, feks ved åpnede konkurser\n",
    "* Andre ganger må man gjøre noe annet, feks ved arbeidsledighet kanskje man tar gjennomsnittet\n",
    "* Hvordan lage en funksjon som tar hensyn til dette ved kun 1 kolonne og ved flere kolonner?\n",
    "* Hva med kolonner som gir prosent som en streng `\"2.1%\"`i stedet for `0.021`, kan vi tilpasse funksjonen?\n",
    "\n",
    "Du kan teste funksjonene dine på dataframe vi lagde i 6.1, eller i settene i 6.4\n",
    "Forslag på funksjon er påbegynt i cellene under\n",
    "    "
   ]
  },
  {
   "cell_type": "code",
   "execution_count": null,
   "id": "7362495d-23d9-4a55-89c1-946fdb95d807",
   "metadata": {},
   "outputs": [],
   "source": [
    "def month_to_quarter(df, kumulative=[]):\n",
    "    \"\"\"\n",
    "    df: dataframe med indeks på månedsform yyyyMmm (ie 1987M04 = april 1987)\n",
    "    \n",
    "    kumulative: En liste med kolonnenavn hvor kvartalsverdien \n",
    "        skal være summen av månedsverdiene. Default er en tom liste.\n",
    "        For øvrige kolonner blir kvartalsverdien gjennomsnittsverdien av månedsverdiene\n",
    "\n",
    "    Funksjonen returnerer et nytt dataframe med indeks på kvartalsform yyyyKq (ie 1987K2 for andre kvartal 1987)\n",
    "    \"\"\"\n",
    "\n",
    "\n",
    "    \n",
    "    # Kode Kode\n",
    "    return .....\n"
   ]
  },
  {
   "cell_type": "code",
   "execution_count": null,
   "id": "6b74b7ae-3c4a-4ae4-acf2-7b345bbdb204",
   "metadata": {},
   "outputs": [],
   "source": [
    "def quarter_to_year(df, kumulative=[]):\n",
    "    \"\"\"\n",
    "    df: dataframe med indeks på kvartalsform yyyyKk (ie 1987K2 = andre kvartal 1987)\n",
    "    \n",
    "    kumulative: En liste med kolonnenavn hvor årsverdien \n",
    "        skal være summen av kvartalsverdiene. Default er en tom liste.\n",
    "        For øvrige kolonner blir årsverdien gjennomsnittsverdien av kvartalsverdiene\n",
    "\n",
    "    Funksjonen returnerer et nytt dataframe med indeks på årsform yyyy (ie 1987 for herrens år 1987)\n",
    "    \"\"\"\n",
    "    # Kode Kode\n",
    "    return .....\n",
    "    "
   ]
  },
  {
   "cell_type": "code",
   "execution_count": 3,
   "id": "6c11278e-89fc-4aa7-a9f0-e368d301856a",
   "metadata": {},
   "outputs": [],
   "source": [
    "arbeidsledige_df = pd.read_csv(\"08518_20231018-095706.csv\", sep=\"\\t\")\n",
    "konkurser_df = pd.read_csv(\"09695_20231018-104409.csv\", sep=\"\\t\", encoding=\"ISO-8859-1\")"
   ]
  },
  {
   "cell_type": "code",
   "execution_count": null,
   "id": "1859bc9a-91df-4347-a6f7-3d940bbd6f77",
   "metadata": {},
   "outputs": [],
   "source": []
  }
 ],
 "metadata": {
  "kernelspec": {
   "display_name": "Python 3 (ipykernel)",
   "language": "python",
   "name": "python3"
  },
  "language_info": {
   "codemirror_mode": {
    "name": "ipython",
    "version": 3
   },
   "file_extension": ".py",
   "mimetype": "text/x-python",
   "name": "python",
   "nbconvert_exporter": "python",
   "pygments_lexer": "ipython3",
   "version": "3.11.7"
  }
 },
 "nbformat": 4,
 "nbformat_minor": 5
}
