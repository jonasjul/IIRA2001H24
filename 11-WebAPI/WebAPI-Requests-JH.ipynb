{
 "cells": [
  {
   "cell_type": "markdown",
   "id": "10bf8166",
   "metadata": {
    "slideshow": {
     "slide_type": "slide"
    }
   },
   "source": [
    "# Hente data programmatisk\n",
    "\n",
    "* Så langt har vi bladd igjennom statistikkbanken til ssb, funnet data vi er interessert i.\n",
    "* Deretter har vi lastet det ned som csv-fil og lest det inn til pandas\n",
    " "
   ]
  },
  {
   "cell_type": "markdown",
   "id": "3621444a",
   "metadata": {
    "slideshow": {
     "slide_type": "fragment"
    }
   },
   "source": [
    "* Dersom dataen er ferskvare, feks de forskjellige vareindeksene på ssb, valutakurser, aksjekurser osv har vi ikke tid til å laste ned dataen manuelt hver gang\n"
   ]
  },
  {
   "cell_type": "markdown",
   "id": "28fcbc50",
   "metadata": {
    "slideshow": {
     "slide_type": "fragment"
    }
   },
   "source": [
    "* Da vil vi at python skal hente inn dataen for oss. \n",
    "* Vi kan for eksempel lage en valutakalkulator som automatisk henter inn de nyeste valutakursene\n",
    "* For å se på hvordan dette kan gjøres i python må vi undersøke hvordan datanettverk er bygd opp"
   ]
  },
  {
   "cell_type": "markdown",
   "id": "cfe73fda",
   "metadata": {
    "slideshow": {
     "slide_type": "slide"
    }
   },
   "source": [
    "# OSI-modellen:\n",
    "<img src=\"https://cf-assets.www.cloudflare.com/slt3lc6tev37/6ZH2Etm3LlFHTgmkjLmkxp/59ff240fb3ebdc7794ffaa6e1d69b7c2/osi_model_7_layers.png\">\n",
    "\n",
    "* Hvert lag i OSI-modellen har protokoller/måter å løse sine oppgaver på.\n",
    "* For å hente data fra nettet bruker vi en protokoll i lag 7: **h**yper**t**ext **t**ransfer **p**rotocol"
   ]
  },
  {
   "cell_type": "markdown",
   "id": "9a5c231c",
   "metadata": {
    "slideshow": {
     "slide_type": "subslide"
    }
   },
   "source": [
    "## Http: Hyptertext transfer protocol\n",
    "<img src=\"https://study-ccna.com/wp-content/images/http_process_explained.jpg\">\n",
    "\n",
    " * Http protokollen består av et sett regler/fremgangsmåter som følges av *klient* og *server*\n",
    " * Når vi skal laste inn en nettside, feks nrk.no, sender vi en *http-request* til nrk.no webserveren\n",
    " * nrk.no leser denne og sender tilbake en *http-respons* som inneholder diverse data pluss nettsiden i html-format\n",
    " * Nettleseren vår kan da vise nettsiden til nrk.no"
   ]
  },
  {
   "cell_type": "markdown",
   "id": "4f52d2f6",
   "metadata": {
    "slideshow": {
     "slide_type": "slide"
    }
   },
   "source": [
    "# HTTP-request\n",
    "<img src=\"https://miro.medium.com/v2/resize:fit:720/format:webp/1*R8Li_PHLFdB-VyMtl8G5_w.png\">\n",
    "\n",
    "* Vi har et lite antall request-metoder, vi trenger:\n",
    "    - *GET*: Ber om data eller en annen ressurs på webserver\n",
    "    - *PUT*: Gir webserveren noe data som den skal gjøre noe med"
   ]
  },
  {
   "cell_type": "markdown",
   "id": "a16659e7",
   "metadata": {
    "slideshow": {
     "slide_type": "subslide"
    }
   },
   "source": [
    "# HTTP-request\n",
    "<img src=\"https://www3.ntu.edu.sg/home/ehchua/programming/webprogramming/images/HTTP_RequestMessageExample.png\">\n",
    "\n",
    " * Metodene består i alle tilfeller av 4 deler:\n",
    "     - requestlinjen: GET/POST + ressurs-URI + HTTP-versjon\n",
    "     - requestheaders: flere linjer av typen: *header-name: header-value*\n",
    "     - en tom linje markerer slutt på headerern\n",
    "     - data"
   ]
  },
  {
   "cell_type": "markdown",
   "id": "ce12b7ff",
   "metadata": {
    "slideshow": {
     "slide_type": "slide"
    }
   },
   "source": [
    "# HTTP-respons\n",
    "\n",
    "<img src=\"https://www3.ntu.edu.sg/home/ehchua/programming/webprogramming/images/HTTP_ResponseMessageExample.png\">\n",
    "\n",
    "* Responsen har også 4 deler:\n",
    "    - Statuslinje\n",
    "    - Responsheadere\n",
    "    - blank linje\n",
    "    - data\n"
   ]
  },
  {
   "cell_type": "markdown",
   "id": "dd0fe722",
   "metadata": {
    "slideshow": {
     "slide_type": "subslide"
    }
   },
   "source": [
    "# Responskoder\n",
    "\n",
    "* Statuslinjen gir en responskode med 3 siffer.\n",
    "* Responskoder under 400 betyr at ting har gått greit.\n",
    "* Du har kanskje sett:\n",
    "    - 404: not found\n",
    "    - 403: forbidden\n",
    "* Dersom alt gikk greit sendes *200 OK*"
   ]
  },
  {
   "cell_type": "markdown",
   "id": "fcfe4566",
   "metadata": {
    "slideshow": {
     "slide_type": "subslide"
    }
   },
   "source": [
    "<img src=\"https://preview.redd.it/3lsp5tedugt41.jpg?auto=webp&s=d26b8d5a5b6825ce14f3b872ad44f05e89ce67af\">"
   ]
  },
  {
   "cell_type": "markdown",
   "id": "c54f8129",
   "metadata": {
    "slideshow": {
     "slide_type": "slide"
    }
   },
   "source": [
    "# Web API\n",
    "<img src=\"https://content.altexsoft.com/media/2021/03/rest_api_works.png.webp\">\n",
    "\n",
    "* Vi skal hente data fra ulike kilder ved å sende http-requests til forskjellige *web-apier*\n",
    "* API er en forkortelse for **a**plication **p**rogramming **i**nterface og er en type protokoll eller måte for to programmer å snakke sammen\n",
    "* I et webapi dreier det seg om kommunikasjon mellom en klient (pythonprogrammet ditt) og en server (ssb, eurostat etc)\n",
    "* De kommer i mange former, et vanlig type API er bygget på REST-prinsipper\n"
   ]
  },
  {
   "cell_type": "markdown",
   "id": "e2955626",
   "metadata": {
    "slideshow": {
     "slide_type": "subslide"
    }
   },
   "source": [
    "<img src=\"https://images.ctfassets.net/vwq10xzbe6iz/5sBH4Agl614xM7exeLsTo7/9e84dce01735f155911e611c42c9793f/rest-api.png\" width=\"600px\">\n",
    "\n",
    "* Et http-request til et REST-API består av:\n",
    "    - http-metode (GET PUT)\n",
    "    - Et URL-endepunkt\n",
    "    - Parametre/data\n",
    "* Web-APIer gir typisk tilbake data i *xml* eller *json* format.\n",
    "* Vi skal konsentrere oss om JSON"
   ]
  },
  {
   "cell_type": "markdown",
   "id": "055bb748",
   "metadata": {
    "slideshow": {
     "slide_type": "slide"
    }
   },
   "source": [
    "# JSON\n",
    "* JSON er forkortelse for javascript object notation\n",
    "* Det har nesten helt identisk form som et dictionary i python\n",
    "* Noen forskjeller:\n",
    "    - `None`er erstattet med `null`\n",
    "    - `True/False` er erstattet med `true/false`"
   ]
  },
  {
   "cell_type": "code",
   "execution_count": 3,
   "id": "c7a57acb",
   "metadata": {
    "slideshow": {
     "slide_type": "fragment"
    }
   },
   "outputs": [
    {
     "name": "stdout",
     "output_type": "stream",
     "text": [
      "{\"Alder\": 32, \"Ansatt\": true, \"Verv\": null, \"fag\": [\"matematikk\", \"programmering\"]}\n"
     ]
    }
   ],
   "source": [
    "import json\n",
    "\n",
    "minDict = {\"Alder\": 32,\n",
    "           \"Ansatt\": True,\n",
    "           \"Verv\": None,\n",
    "           \"fag\": [\"matematikk\", \"programmering\"]\n",
    "}\n",
    "\n",
    "#json.dumps(dict) - printer ut dictionary som json-streng\n",
    "\n"
   ]
  },
  {
   "cell_type": "markdown",
   "id": "f1372a3b-31ac-479b-843b-296e9774e98b",
   "metadata": {
    "editable": true,
    "slideshow": {
     "slide_type": "subslide"
    },
    "tags": []
   },
   "source": [
    "#### Nyttiger json-funksjoner\n",
    "* `json.dump(fil, dictionary)` - skriver dictionary til json-fil\n",
    "* `dictionary =json.load(fil)` - leser inn jsonfil til dictionary\n",
    "* `dictionary =json.loads(\"strengrep av json objekt\")` - leser json-streng til dict\n",
    "* `tekst_rep = json.dumps(dictionary)` skriver dictionary til json-formatert tekststreng"
   ]
  },
  {
   "cell_type": "code",
   "execution_count": 1,
   "id": "181d27cb-3773-4b3b-a914-f154d907a143",
   "metadata": {
    "editable": true,
    "slideshow": {
     "slide_type": "subslide"
    },
    "tags": []
   },
   "outputs": [],
   "source": [
    "# Eksempler\n",
    " # Skriv dict om til json-formatert tekst\n",
    " # Les json-formatert tekst til dict\n",
    "\n",
    " #Åpne fil \"test.json\" - vi skal skrive til filen (write = \"w\")\n",
    " # Skriv dictionary til json-fil\n",
    "\n",
    " #Åpne fil \"test.json\" - vi skal lese filen (read = \"r\")\n"
   ]
  },
  {
   "cell_type": "markdown",
   "id": "d40a895b-ea3b-44a0-8bc5-bb17b2aebf4c",
   "metadata": {
    "editable": true,
    "slideshow": {
     "slide_type": "subslide"
    },
    "tags": []
   },
   "source": [
    "# URL -- Uniform resource locator\n",
    "`https://www.ntnu.no/sok?query=IIRA2001&category=all&sortby=magic`\n",
    "* En url har flere deler: `protokoll://host/path?spørring`\n",
    "* Protokollen er som regel `http://` (hypertext transfer protocoll)\n",
    "  * Det finnes andre, feks `ftp`(file transfer protocoll)\n",
    "* host er er \"tjeneren\" `feks www.nrk.no`, eller `www.ntnu.no`\n",
    "* path er en sti på tjeneren feks `studies/courses/IIRA2001` er path til emnet på tjeneren ntnu.edu\n",
    "* `?` Kalles en *separator* og bak separatoren kan vi \"legge til litt data\" eller en spørring\n",
    "  * *Kalles typisk parametre*"
   ]
  },
  {
   "cell_type": "markdown",
   "id": "f04ff342",
   "metadata": {
    "slideshow": {
     "slide_type": "slide"
    }
   },
   "source": [
    "## URL\n",
    "<img src=\"https://wikis.ec.europa.eu/download/attachments/44165598/image_10.png?version=1&modificationDate=1651036868305&api=v2\">\n",
    "\n",
    "* Figuren viser et api-url fra eurostat\n",
    "* Alt frem til spørsmålstegnet er api-endepunktet\n",
    "* Spørsmålstegnet i url'en kalles en separator\n",
    "* Bak separator i url kan man legge ved forskjellige *parametre*\n",
    "     - Parameterverdiene har en egen tegnkoding `urlencoding`\n",
    "     - De har form: `...?variabel1=verdi&variabel=verdi2`"
   ]
  },
  {
   "cell_type": "markdown",
   "id": "6d269ab2",
   "metadata": {
    "slideshow": {
     "slide_type": "slide"
    }
   },
   "source": [
    "# Hvordan?\n",
    "\n",
    "* Hvordan parametre, url-endepunkt, http-metoder osv skal se ut er det web-api som bestemmer\n",
    "* Skal vi bruke et web-api **MÅ VI LESE DOKUMENTASJONEN TIL API'ET**\n",
    "    - Det forteller oss hvordan det skal brukes\n",
    "    - Bruker ofte å være gode\n",
    "    - Eksempler kan ofte finnes i python med `urllib` eller `requests` bibliotek\n",
    "    - Eksempler på bruk også ofte gitt med `cURL`(et kommandolinjeverktøy)\n",
    "* Noen API'er har også verktøy som lar deg bygge riktig url med et grafisk grensesnitt (feks SSB)"
   ]
  },
  {
   "cell_type": "markdown",
   "id": "a7d7d02c",
   "metadata": {},
   "source": [
    "# Eksempelvis:\n",
    "\n",
    "* [Trivia/quiz API](https://opentdb.com)\n",
    "\n",
    "Vi fikk følgende url:\n",
    "\n",
    "Vi kan bruke [CURL](https://reqbin.com/curl) til å sende api-spørringen/HTTP requestet\n"
   ]
  },
  {
   "cell_type": "markdown",
   "id": "a7dc2a6f",
   "metadata": {},
   "source": [
    "<img src=\"https://jvns.ca/images/curl.jpeg\">"
   ]
  },
  {
   "cell_type": "markdown",
   "id": "3c21f43f",
   "metadata": {
    "slideshow": {
     "slide_type": "subslide"
    }
   },
   "source": [
    "* Vi skal ikke bruke *curl*, men mange api'er bruker det i tutorials.\n",
    "* Vi trenger kanskje å lese ut hva som er headere, parametre, url-endepunkt og data\n",
    "    - `curl -G -d \"parameter=value\" http:/test.com/api` sender en GET request til `http:/test.com/api?parameter=value`\n"
   ]
  },
  {
   "cell_type": "markdown",
   "id": "8413459e",
   "metadata": {
    "slideshow": {
     "slide_type": "fragment"
    }
   },
   "source": [
    "* Finner dere et kult API dere vil bruke og dokumentasjon/tutorials er gitt med curl kan dere spørre studass"
   ]
  },
  {
   "cell_type": "markdown",
   "id": "b5a05e1b",
   "metadata": {
    "editable": true,
    "slideshow": {
     "slide_type": "slide"
    },
    "tags": []
   },
   "source": [
    "# http requests i python!\n",
    "\n",
    "* Da er vi klare til å bruke et web-api i python\n",
    "* Der er 2 populære bibliotek:`urllib` og `requests`\n",
    "* Vi anbefaler å bruke `requests`\n",
    "* La oss gjøre noen sidesøk i wikipedia med python\n",
    "* wikipedia API [her](https://www.mediawiki.org/wiki/API:REST_API)"
   ]
  },
  {
   "cell_type": "markdown",
   "id": "a7b88ffd-9a42-4f07-b226-783cb8dc9868",
   "metadata": {
    "editable": true,
    "slideshow": {
     "slide_type": ""
    },
    "tags": []
   },
   "source": [
    "*Noen bruker urllib -- det virker som det stort sett er borte*"
   ]
  },
  {
   "cell_type": "code",
   "execution_count": 23,
   "id": "0feab504",
   "metadata": {
    "editable": true,
    "slideshow": {
     "slide_type": "fragment"
    },
    "tags": []
   },
   "outputs": [
    {
     "name": "stdout",
     "output_type": "stream",
     "text": [
      "Hva vil du søke etter?\n",
      "led zeppelin\n",
      "Led Zeppelin :\n",
      "------------------\n",
      "English rock band (1968–1980) \n",
      "\n",
      "\n",
      "Led Zeppelin IV :\n",
      "------------------\n",
      "1971 studio album by Led Zeppelin \n",
      "\n",
      "\n",
      "Led Zeppelin (album) :\n",
      "------------------\n",
      "1969 studio album by Led Zeppelin \n",
      "\n",
      "\n",
      "Led Zeppelin III :\n",
      "------------------\n",
      "1970 studio album by Led Zeppelin \n",
      "\n",
      "\n",
      "Led Zeppelin II :\n",
      "------------------\n",
      "1969 studio album by Led Zeppelin \n",
      "\n",
      "\n",
      "led%20zeppelin\n"
     ]
    }
   ],
   "source": [
    "import urllib\n",
    "import json\n",
    "\n",
    "limit = 5\n",
    "query = input(\"Hva vil du søke etter?\\n\")\n",
    "query_urlencoded = urllib.parse.quote(query)\n",
    "url = f\"https://en.wikipedia.org/w/rest.php/v1/search/page?q={query_urlencoded}&limit={limit}\"\n",
    "\n",
    "response = urllib.request.urlopen(url) #\"åpne\" url og motta resultat\n",
    "data = response.read() #hent data\n",
    "data_str = data.decode('utf-8')\n",
    "data_dict = json.loads(data_str)\n",
    "\n",
    "for page in data_dict[\"pages\"]:\n",
    "    print(page[\"title\"], \":\")\n",
    "    print(\"------------------\")\n",
    "    print(page[\"description\"],\"\\n\\n\")\n",
    "\n",
    "print(query_urlencoded)"
   ]
  },
  {
   "cell_type": "code",
   "execution_count": 13,
   "id": "79e44ae5",
   "metadata": {
    "editable": true,
    "slideshow": {
     "slide_type": ""
    },
    "tags": []
   },
   "outputs": [
    {
     "name": "stdin",
     "output_type": "stream",
     "text": [
      "Hva vil du søke etter?\n",
      " Led zeppelin\n"
     ]
    },
    {
     "name": "stdout",
     "output_type": "stream",
     "text": [
      "('< GET /w/rest.php/v1/search/page?q=Led+zeppelin&limit=5 HTTP/1.1\\r\\n'\n",
      " '< Host: en.wikipedia.org\\r\\n'\n",
      " '< User-Agent: python-requests/2.32.2\\r\\n'\n",
      " '< Accept-Encoding: gzip, deflate, br, zstd\\r\\n'\n",
      " '< Accept: */*\\r\\n'\n",
      " '< Connection: Close\\r\\n'\n",
      " '< \\r\\n'\n",
      " '\\r\\n'\n",
      " '> HTTP/1.1 200 OK\\r\\n'\n",
      " '> date: Thu, 07 Nov 2024 06:53:14 GMT\\r\\n'\n",
      " '> server: mw-api-ext.eqiad.main-7f76f795d6-7mjrk\\r\\n'\n",
      " '> x-content-type-options: nosniff\\r\\n'\n",
      " '> cache-control: no-cache\\r\\n'\n",
      " '> access-control-allow-origin: *\\r\\n'\n",
      " '> content-type: application/json\\r\\n'\n",
      " '> content-encoding: gzip\\r\\n'\n",
      " '> vary: x-restbase-compat, Accept-Encoding\\r\\n'\n",
      " '> age: 0\\r\\n'\n",
      " '> x-cache: cp3071 miss, cp3071 pass\\r\\n'\n",
      " '> x-cache-status: pass\\r\\n'\n",
      " '> server-timing: cache;desc=\"pass\", host;desc=\"cp3071\"\\r\\n'\n",
      " '> strict-transport-security: max-age=106384710; includeSubDomains; '\n",
      " 'preload\\r\\n'\n",
      " '> report-to: { \"group\": \"wm_nel\", \"max_age\": 604800, \"endpoints\": [{ \"url\": '\n",
      " '\"https://intake-logging.wikimedia.org/v1/events?stream=w3c.reportingapi.network_error&schema_uri=/w3c/reportingapi/network_error/1.0.0\" '\n",
      " '}] }\\r\\n'\n",
      " '> nel: { \"report_to\": \"wm_nel\", \"max_age\": 604800, \"failure_fraction\": 0.05, '\n",
      " '\"success_fraction\": 0.0}\\r\\n'\n",
      " '> set-cookie: '\n",
      " 'WMF-Last-Access=07-Nov-2024;Path=/;HttpOnly;secure;Expires=Mon, 09 Dec 2024 '\n",
      " '00:00:00 GMT\\r\\n'\n",
      " '> set-cookie: '\n",
      " 'WMF-Last-Access-Global=07-Nov-2024;Path=/;Domain=.wikipedia.org;HttpOnly;secure;Expires=Mon, '\n",
      " '09 Dec 2024 00:00:00 GMT\\r\\n'\n",
      " '> set-cookie: GeoIP=NO:50:Trondheim:63.43:10.40:v4; Path=/; secure; '\n",
      " 'Domain=.wikipedia.org\\r\\n'\n",
      " '> set-cookie: '\n",
      " 'NetworkProbeLimit=0.001;Path=/;Secure;SameSite=Lax;Max-Age=3600\\r\\n'\n",
      " '> x-client-ip: 2001:700:300:17bc:b1f1:1399:d08a:b68c\\r\\n'\n",
      " '> accept-ranges: bytes\\r\\n'\n",
      " '> transfer-encoding: chunked\\r\\n'\n",
      " '> connection: close\\r\\n'\n",
      " '> \\r\\n'\n",
      " '{\"pages\":[{\"id\":17909,\"key\":\"Led_Zeppelin\",\"title\":\"Led '\n",
      " 'Zeppelin\",\"excerpt\":\"<span class=\\\\\"searchmatch\\\\\">Led</span> <span '\n",
      " 'class=\\\\\"searchmatch\\\\\">Zeppelin</span> were an English rock band formed in '\n",
      " 'London in 1968. The band comprised Robert Plant (vocals), Jimmy Page '\n",
      " '(guitar), John Paul Jones (bass '\n",
      " 'and\",\"matched_title\":null,\"description\":\"English rock band '\n",
      " '(1968–1980)\",\"thumbnail\":{\"mimetype\":\"image/jpeg\",\"width\":60,\"height\":42,\"duration\":null,\"url\":\"//upload.wikimedia.org/wikipedia/commons/thumb/6/63/Led_Zeppelin_-_promotional_image_%281971%29.jpg/60px-Led_Zeppelin_-_promotional_image_%281971%29.jpg\"}},{\"id\":50242,\"key\":\"Led_Zeppelin_IV\",\"title\":\"Led '\n",
      " 'Zeppelin IV\",\"excerpt\":\"untitled fourth studio album by the English rock '\n",
      " 'band <span class=\\\\\"searchmatch\\\\\">Led</span> <span '\n",
      " 'class=\\\\\"searchmatch\\\\\">Zeppelin</span>, commonly known as <span '\n",
      " 'class=\\\\\"searchmatch\\\\\">Led</span> <span '\n",
      " 'class=\\\\\"searchmatch\\\\\">Zeppelin</span> IV, was released on 8 November 1971 '\n",
      " 'by Atlantic Records\",\"matched_title\":null,\"description\":\"1971 studio album '\n",
      " 'by Led '\n",
      " 'Zeppelin\",\"thumbnail\":null},{\"id\":50241,\"key\":\"Led_Zeppelin_III\",\"title\":\"Led '\n",
      " 'Zeppelin III\",\"excerpt\":\"<span class=\\\\\"searchmatch\\\\\">Led</span> <span '\n",
      " 'class=\\\\\"searchmatch\\\\\">Zeppelin</span> III is the third album by the '\n",
      " 'English rock band <span class=\\\\\"searchmatch\\\\\">Led</span> <span '\n",
      " 'class=\\\\\"searchmatch\\\\\">Zeppelin</span>, released on 5 October 1970. It was '\n",
      " 'recorded in three locations. Much of '\n",
      " 'the\",\"matched_title\":null,\"description\":\"1970 studio album by Led '\n",
      " 'Zeppelin\",\"thumbnail\":null},{\"id\":50239,\"key\":\"Led_Zeppelin_II\",\"title\":\"Led '\n",
      " 'Zeppelin II\",\"excerpt\":\"<span class=\\\\\"searchmatch\\\\\">Led</span> <span '\n",
      " 'class=\\\\\"searchmatch\\\\\">Zeppelin</span> II is the second album by the '\n",
      " 'English rock band <span class=\\\\\"searchmatch\\\\\">Led</span> <span '\n",
      " 'class=\\\\\"searchmatch\\\\\">Zeppelin</span>, released on 22 October 1969 in the '\n",
      " 'United States and on 31 October 1969 '\n",
      " 'in\",\"matched_title\":null,\"description\":\"1969 studio album by Led '\n",
      " 'Zeppelin\",\"thumbnail\":null},{\"id\":44640,\"key\":\"Led_Zeppelin_(album)\",\"title\":\"Led '\n",
      " 'Zeppelin (album)\",\"excerpt\":\"<span class=\\\\\"searchmatch\\\\\">Led</span> <span '\n",
      " 'class=\\\\\"searchmatch\\\\\">Zeppelin</span> (sometimes referred to as <span '\n",
      " 'class=\\\\\"searchmatch\\\\\">Led</span> <span '\n",
      " 'class=\\\\\"searchmatch\\\\\">Zeppelin</span> I) is the first album by the English '\n",
      " 'rock band <span class=\\\\\"searchmatch\\\\\">Led</span> <span '\n",
      " 'class=\\\\\"searchmatch\\\\\">Zeppelin</span>. It was released on 13 January 1969 '\n",
      " 'in\",\"matched_title\":null,\"description\":\"1969 studio album by Led '\n",
      " 'Zeppelin\",\"thumbnail\":null}]}')\n",
      "\n",
      "\n",
      "Exit code: 200\n",
      "URL:  https://en.wikipedia.org/w/rest.php/v1/search/page?q=Led+zeppelin&limit=5\n",
      "headers {'date': 'Thu, 07 Nov 2024 06:53:14 GMT', 'server': 'mw-api-ext.eqiad.main-7f76f795d6-7mjrk', 'x-content-type-options': 'nosniff', 'cache-control': 'no-cache', 'access-control-allow-origin': '*', 'content-type': 'application/json', 'content-encoding': 'gzip', 'vary': 'x-restbase-compat, Accept-Encoding', 'age': '0', 'x-cache': 'cp3071 miss, cp3071 pass', 'x-cache-status': 'pass', 'server-timing': 'cache;desc=\"pass\", host;desc=\"cp3071\"', 'strict-transport-security': 'max-age=106384710; includeSubDomains; preload', 'report-to': '{ \"group\": \"wm_nel\", \"max_age\": 604800, \"endpoints\": [{ \"url\": \"https://intake-logging.wikimedia.org/v1/events?stream=w3c.reportingapi.network_error&schema_uri=/w3c/reportingapi/network_error/1.0.0\" }] }', 'nel': '{ \"report_to\": \"wm_nel\", \"max_age\": 604800, \"failure_fraction\": 0.05, \"success_fraction\": 0.0}', 'set-cookie': 'WMF-Last-Access=07-Nov-2024;Path=/;HttpOnly;secure;Expires=Mon, 09 Dec 2024 00:00:00 GMT, WMF-Last-Access-Global=07-Nov-2024;Path=/;Domain=.wikipedia.org;HttpOnly;secure;Expires=Mon, 09 Dec 2024 00:00:00 GMT, GeoIP=NO:50:Trondheim:63.43:10.40:v4; Path=/; secure; Domain=.wikipedia.org, NetworkProbeLimit=0.001;Path=/;Secure;SameSite=Lax;Max-Age=3600', 'x-client-ip': '2001:700:300:17bc:b1f1:1399:d08a:b68c', 'accept-ranges': 'bytes', 'transfer-encoding': 'chunked', 'connection': 'close'}\n",
      "Led Zeppelin :\n",
      "------------------\n",
      "English rock band (1968–1980) \n",
      "\n",
      "\n",
      "Led Zeppelin IV :\n",
      "------------------\n",
      "1971 studio album by Led Zeppelin \n",
      "\n",
      "\n",
      "Led Zeppelin III :\n",
      "------------------\n",
      "1970 studio album by Led Zeppelin \n",
      "\n",
      "\n",
      "Led Zeppelin II :\n",
      "------------------\n",
      "1969 studio album by Led Zeppelin \n",
      "\n",
      "\n",
      "Led Zeppelin (album) :\n",
      "------------------\n",
      "1969 studio album by Led Zeppelin \n",
      "\n",
      "\n"
     ]
    }
   ],
   "source": [
    "# Gjør et søk på wikipedia med python!\n",
    "\n",
    "#Anbefaler å bruke requests\n",
    "#!pip install requests_toolbelt\n",
    "import requests\n",
    "from requests_toolbelt.utils import dump #Fordi jeg vil undersøke nøyaktig hva som blir sendt\n",
    "import pprint\n",
    "\n",
    "pp = pprint.PrettyPrinter(indent=4)\n",
    "\n",
    "search =input(\"Hva vil du søke etter?\\n\")\n",
    "\n",
    "#URL endepunkt sidesøk på wiki-api \n",
    "\n",
    "\n",
    "#Antall Søkeresultat\n",
    "\n",
    "\n",
    "# Med requests lager vi dictionaries med headere og parametere\n",
    "\n",
    "# requests fyller ut mange headere automatisk også\n",
    "header = {\"Connection\": \"Close\"}\n",
    "\n",
    "#Send get-request\n",
    "\n",
    "#http_melding = dump.dump_all(response)\n",
    "#pp.pprint(http_melding.decode('utf-8'))\n",
    "\n",
    "#print(\"Tilgjenglige metoder til responsen: \", dir(response))\n",
    "\n",
    " # Dersom vi får json tilbake\n",
    "#data = resonse.text # Dersom vi får noe annet enn json tilbake\n",
    "\n",
    "print(\"\\n\\nExit code:\", \"\")\n",
    "print(\"URL: \", \"\")\n",
    "print(\"headers\", \"\")\n",
    "\n",
    "#Print ut søketreff på en fornuftig måte"
   ]
  },
  {
   "cell_type": "markdown",
   "id": "121da2b2",
   "metadata": {
    "editable": true,
    "slideshow": {
     "slide_type": ""
    },
    "tags": []
   },
   "source": [
    "# Eurostats api:\n",
    "\n",
    "* Eurostat api: [https://ec.europa.eu/eurostat/web/user-guides/data-browser/api-data-access/api-detailed-guidelines/api-statistics](https://ec.europa.eu/eurostat/web/user-guides/data-browser/api-data-access/api-detailed-guidelines/api-statistics)\n"
   ]
  },
  {
   "cell_type": "code",
   "execution_count": 2,
   "id": "3253f893",
   "metadata": {
    "editable": true,
    "slideshow": {
     "slide_type": ""
    },
    "tags": []
   },
   "outputs": [],
   "source": [
    "import requests\n",
    "import pprint\n",
    "\n",
    "pp = pprint.PrettyPrinter()\n",
    "\n",
    "tabell = \"nama_10_gdp\"\n"
   ]
  },
  {
   "cell_type": "markdown",
   "id": "81c8f4bb",
   "metadata": {
    "editable": true,
    "slideshow": {
     "slide_type": ""
    },
    "tags": []
   },
   "source": [
    "# JSON-stat\n",
    "\n",
    "* Man får gjerne statistisk data tilbake i json_stat-format\n",
    "* Vi kan bruke `pyjstat` til å lese data inn til pandas\n",
    "* Eurostat og ssb anbefaler json_stat format"
   ]
  },
  {
   "cell_type": "code",
   "execution_count": 4,
   "id": "adc507b7",
   "metadata": {
    "editable": true,
    "slideshow": {
     "slide_type": ""
    },
    "tags": []
   },
   "outputs": [],
   "source": [
    "#!pip install pyjstat\n",
    "from pyjstat import pyjstat\n",
    "import pandas as pd\n",
    "\n",
    "\n",
    "#dataset = pyjstat.Dataset.read(json.dumps(data))\n"
   ]
  },
  {
   "cell_type": "code",
   "execution_count": null,
   "id": "eee2f590-8689-45d0-afea-3b0a812c8d9d",
   "metadata": {
    "editable": true,
    "slideshow": {
     "slide_type": ""
    },
    "tags": []
   },
   "outputs": [],
   "source": []
  },
  {
   "cell_type": "code",
   "execution_count": 3,
   "id": "1c6aa5de-881d-4c94-a26a-3d2f5542b5df",
   "metadata": {
    "editable": true,
    "slideshow": {
     "slide_type": ""
    },
    "tags": []
   },
   "outputs": [],
   "source": [
    "# Plot kake av top 10 GDP europa"
   ]
  },
  {
   "cell_type": "code",
   "execution_count": null,
   "id": "8f7f4082-80ff-4aee-9e7b-8b1e8f9adebb",
   "metadata": {},
   "outputs": [],
   "source": []
  }
 ],
 "metadata": {
  "celltoolbar": "Slideshow",
  "kernelspec": {
   "display_name": "Python 3 (ipykernel)",
   "language": "python",
   "name": "python3"
  },
  "language_info": {
   "codemirror_mode": {
    "name": "ipython",
    "version": 3
   },
   "file_extension": ".py",
   "mimetype": "text/x-python",
   "name": "python",
   "nbconvert_exporter": "python",
   "pygments_lexer": "ipython3",
   "version": "3.12.4"
  }
 },
 "nbformat": 4,
 "nbformat_minor": 5
}
