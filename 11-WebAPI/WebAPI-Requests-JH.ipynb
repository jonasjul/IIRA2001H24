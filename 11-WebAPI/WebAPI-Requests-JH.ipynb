{
 "cells": [
  {
   "cell_type": "markdown",
   "id": "10bf8166",
   "metadata": {
    "slideshow": {
     "slide_type": "slide"
    }
   },
   "source": [
    "# Hente data programmatisk\n",
    "\n",
    "* Så langt har vi bladd igjennom statistikkbanken til ssb, funnet data vi er interessert i.\n",
    "* Deretter har vi lastet det ned som csv-fil og lest det inn til pandas\n",
    " "
   ]
  },
  {
   "cell_type": "markdown",
   "id": "3621444a",
   "metadata": {
    "slideshow": {
     "slide_type": "fragment"
    }
   },
   "source": [
    "* Dersom dataen er ferskvare, feks de forskjellige vareindeksene på ssb, valutakurser, aksjekurser osv har vi ikke tid til å laste ned dataen manuelt hver gang\n"
   ]
  },
  {
   "cell_type": "markdown",
   "id": "28fcbc50",
   "metadata": {
    "slideshow": {
     "slide_type": "fragment"
    }
   },
   "source": [
    "* Da vil vi at python skal hente inn dataen for oss. \n",
    "* Vi kan for eksempel lage en valutakalkulator som automatisk henter inn de nyeste valutakursene\n",
    "* For å se på hvordan dette kan gjøres i python må vi undersøke hvordan datanettverk er bygd opp"
   ]
  },
  {
   "cell_type": "markdown",
   "id": "cfe73fda",
   "metadata": {
    "slideshow": {
     "slide_type": "slide"
    }
   },
   "source": [
    "# OSI-modellen:\n",
    "<img src=\"https://cf-assets.www.cloudflare.com/slt3lc6tev37/6ZH2Etm3LlFHTgmkjLmkxp/59ff240fb3ebdc7794ffaa6e1d69b7c2/osi_model_7_layers.png\">\n",
    "\n",
    "* Hvert lag i OSI-modellen har protokoller/måter å løse sine oppgaver på.\n",
    "* For å hente data fra nettet bruker vi en protokoll i lag 7: **h**yper**t**ext **t**ransfer **p**rotocol"
   ]
  },
  {
   "cell_type": "markdown",
   "id": "9a5c231c",
   "metadata": {
    "slideshow": {
     "slide_type": "subslide"
    }
   },
   "source": [
    "## Http: Hyptertext transfer protocol\n",
    "<img src=\"https://study-ccna.com/wp-content/images/http_process_explained.jpg\">\n",
    "\n",
    " * Http protokollen består av et sett regler/fremgangsmåter som følges av *klient* og *server*\n",
    " * Når vi skal laste inn en nettside, feks nrk.no, sender vi en *http-request* til nrk.no webserveren\n",
    " * nrk.no leser denne og sender tilbake en *http-respons* som inneholder diverse data pluss nettsiden i html-format\n",
    " * Nettleseren vår kan da vise nettsiden til nrk.no"
   ]
  },
  {
   "cell_type": "markdown",
   "id": "4f52d2f6",
   "metadata": {
    "slideshow": {
     "slide_type": "slide"
    }
   },
   "source": [
    "# HTTP-request\n",
    "<img src=\"https://miro.medium.com/v2/resize:fit:720/format:webp/1*R8Li_PHLFdB-VyMtl8G5_w.png\">\n",
    "\n",
    "* Vi har et lite antall request-metoder, vi trenger:\n",
    "    - *GET*: Ber om data eller en annen ressurs på webserver\n",
    "    - *PUT*: Gir webserveren noe data som den skal gjøre noe med"
   ]
  },
  {
   "cell_type": "markdown",
   "id": "a16659e7",
   "metadata": {
    "slideshow": {
     "slide_type": "subslide"
    }
   },
   "source": [
    "# HTTP-request\n",
    "<img src=\"https://www3.ntu.edu.sg/home/ehchua/programming/webprogramming/images/HTTP_RequestMessageExample.png\">\n",
    "\n",
    " * Metodene består i alle tilfeller av 4 deler:\n",
    "     - requestlinjen: GET/POST + ressurs-URI + HTTP-versjon\n",
    "     - requestheaders: flere linjer av typen: *header-name: header-value*\n",
    "     - en tom linje markerer slutt på headerern\n",
    "     - data"
   ]
  },
  {
   "cell_type": "markdown",
   "id": "ce12b7ff",
   "metadata": {
    "slideshow": {
     "slide_type": "slide"
    }
   },
   "source": [
    "# HTTP-respons\n",
    "\n",
    "<img src=\"https://www3.ntu.edu.sg/home/ehchua/programming/webprogramming/images/HTTP_ResponseMessageExample.png\">\n",
    "\n",
    "* Responsen har også 4 deler:\n",
    "    - Statuslinje\n",
    "    - Responsheadere\n",
    "    - blank linje\n",
    "    - data\n"
   ]
  },
  {
   "cell_type": "markdown",
   "id": "dd0fe722",
   "metadata": {
    "slideshow": {
     "slide_type": "subslide"
    }
   },
   "source": [
    "# Responskoder\n",
    "\n",
    "* Statuslinjen gir en responskode med 3 siffer.\n",
    "* Responskoder under 400 betyr at ting har gått greit.\n",
    "* Du har kanskje sett:\n",
    "    - 404: not found\n",
    "    - 403: forbidden\n",
    "* Dersom alt gikk greit sendes *200 OK*"
   ]
  },
  {
   "cell_type": "markdown",
   "id": "fcfe4566",
   "metadata": {
    "slideshow": {
     "slide_type": "subslide"
    }
   },
   "source": [
    "<img src=\"https://preview.redd.it/3lsp5tedugt41.jpg?auto=webp&s=d26b8d5a5b6825ce14f3b872ad44f05e89ce67af\">"
   ]
  },
  {
   "cell_type": "markdown",
   "id": "c54f8129",
   "metadata": {
    "slideshow": {
     "slide_type": "slide"
    }
   },
   "source": [
    "# Web API\n",
    "<img src=\"https://content.altexsoft.com/media/2021/03/rest_api_works.png.webp\">\n",
    "\n",
    "* Vi skal hente data fra ulike kilder ved å sende http-requests til forskjellige *web-apier*\n",
    "* API er en forkortelse for **a**plication **p**rogramming **i**nterface og er en type protokoll eller måte for to programmer å snakke sammen\n",
    "* I et webapi dreier det seg om kommunikasjon mellom en klient (pythonprogrammet ditt) og en server (ssb, eurostat etc)\n",
    "* De kommer i mange former, et vanlig type API er bygget på REST-prinsipper\n"
   ]
  },
  {
   "cell_type": "markdown",
   "id": "e2955626",
   "metadata": {
    "slideshow": {
     "slide_type": "subslide"
    }
   },
   "source": [
    "<img src=\"https://images.ctfassets.net/vwq10xzbe6iz/5sBH4Agl614xM7exeLsTo7/9e84dce01735f155911e611c42c9793f/rest-api.png\" width=\"600px\">\n",
    "\n",
    "* Et http-request til et REST-API består av:\n",
    "    - http-metode (GET PUT)\n",
    "    - Et URL-endepunkt\n",
    "    - Parametre/data\n",
    "* Web-APIer gir typisk tilbake data i *xml* eller *json* format.\n",
    "* Vi skal konsentrere oss om JSON"
   ]
  },
  {
   "cell_type": "markdown",
   "id": "055bb748",
   "metadata": {
    "slideshow": {
     "slide_type": "slide"
    }
   },
   "source": [
    "# JSON\n",
    "* JSON er forkortelse for javascript object notation\n",
    "* Det har nesten helt identisk form som et dictionary i python\n",
    "* Noen forskjeller:\n",
    "    - `None`er erstattet med `null`\n",
    "    - `True/False` er erstattet med `true/false`"
   ]
  },
  {
   "cell_type": "code",
   "execution_count": 2,
   "id": "c7a57acb",
   "metadata": {
    "slideshow": {
     "slide_type": "fragment"
    }
   },
   "outputs": [
    {
     "data": {
      "text/plain": [
       "'{\"Alder\": 32, \"Ansatt\": true, \"Verv\": null, \"fag\": [\"matematikk\", \"programmering\"]}'"
      ]
     },
     "execution_count": 2,
     "metadata": {},
     "output_type": "execute_result"
    }
   ],
   "source": [
    "import json\n",
    "\n",
    "minDict = {\"Alder\": 32,\n",
    "           \"Ansatt\": True,\n",
    "           \"Verv\": None,\n",
    "           \"fag\": [\"matematikk\", \"programmering\"]\n",
    "}\n",
    "\n",
    "#json.dumps(dict) - printer ut dictionary som json-streng\n",
    "json.dumps(minDict) \n"
   ]
  },
  {
   "cell_type": "markdown",
   "id": "f1372a3b-31ac-479b-843b-296e9774e98b",
   "metadata": {
    "slideshow": {
     "slide_type": "subslide"
    },
    "tags": []
   },
   "source": [
    "#### Nyttiger json-funksjoner\n",
    "* `json.dump(fil, dictionary)` - skriver dictionary til json-fil\n",
    "* `dictionary =json.load(fil)` - leser inn jsonfil til dictionary\n",
    "* `dictionary =json.loads(\"strengrep av json objekt\")` - leser json-streng til dict\n",
    "* `tekst_rep = json.dumps(dictionary)` skriver dictionary til json-formatert tekststreng"
   ]
  },
  {
   "cell_type": "code",
   "execution_count": 9,
   "id": "181d27cb-3773-4b3b-a914-f154d907a143",
   "metadata": {
    "slideshow": {
     "slide_type": "subslide"
    },
    "tags": []
   },
   "outputs": [
    {
     "data": {
      "text/plain": [
       "{'Alder': 32,\n",
       " 'Ansatt': True,\n",
       " 'Verv': None,\n",
       " 'fag': ['matematikk', 'programmering']}"
      ]
     },
     "execution_count": 9,
     "metadata": {},
     "output_type": "execute_result"
    }
   ],
   "source": [
    "# Eksempler\n",
    " # Skriv dict om til json-formatert tekst\n",
    "json_tekst = json.dumps(minDict)\n",
    " # Les json-formatert tekst til dict\n",
    "nyDictionary = json.loads(json_tekst)\n",
    "\n",
    " #Åpne fil \"test.json\" - vi skal skrive til filen (write = \"w\")\n",
    "with open(\"test.json\", \"w\") as jsonfil:\n",
    "    json.dump(nyDictionary, jsonfil)\n",
    " # Skriv dictionary til json-fil\n",
    "\n",
    " #Åpne fil \"test.json\" - vi skal lese filen (read = \"r\")\n",
    "with open(\"test.json\", \"r\") as file:\n",
    "    sisteDict = json.load(file)\n",
    "sisteDict"
   ]
  },
  {
   "cell_type": "markdown",
   "id": "d40a895b-ea3b-44a0-8bc5-bb17b2aebf4c",
   "metadata": {
    "slideshow": {
     "slide_type": "subslide"
    },
    "tags": []
   },
   "source": [
    "# URL -- Uniform resource locator\n",
    "`https://www.ntnu.no/sok?query=IIRA2001&category=all&sortby=magic`\n",
    "* En url har flere deler: `protokoll://host/path?spørring`\n",
    "* Protokollen er som regel `http://` (hypertext transfer protocoll)\n",
    "  * Det finnes andre, feks `ftp`(file transfer protocoll)\n",
    "* host er er \"tjeneren\" `feks www.nrk.no`, eller `www.ntnu.no`\n",
    "* path er en sti på tjeneren feks `studies/courses/IIRA2001` er path til emnet på tjeneren ntnu.edu\n",
    "* `?` Kalles en *separator* og bak separatoren kan vi \"legge til litt data\" eller en spørring\n",
    "  * *Kalles typisk parametre*"
   ]
  },
  {
   "cell_type": "markdown",
   "id": "f04ff342",
   "metadata": {
    "slideshow": {
     "slide_type": "slide"
    }
   },
   "source": [
    "## URL\n",
    "<img src=\"https://wikis.ec.europa.eu/download/attachments/44165598/image_10.png?version=1&modificationDate=1651036868305&api=v2\">\n",
    "\n",
    "* Figuren viser et api-url fra eurostat\n",
    "* Alt frem til spørsmålstegnet er api-endepunktet\n",
    "* Spørsmålstegnet i url'en kalles en separator\n",
    "* Bak separator i url kan man legge ved forskjellige *parametre*\n",
    "     - Parameterverdiene har en egen tegnkoding `urlencoding`\n",
    "     - De har form: `...?variabel1=verdi&variabel=verdi2`"
   ]
  },
  {
   "cell_type": "markdown",
   "id": "6d269ab2",
   "metadata": {
    "slideshow": {
     "slide_type": "slide"
    }
   },
   "source": [
    "# Hvordan?\n",
    "\n",
    "* Hvordan parametre, url-endepunkt, http-metoder osv skal se ut er det web-api som bestemmer\n",
    "* Skal vi bruke et web-api **MÅ VI LESE DOKUMENTASJONEN TIL API'ET**\n",
    "    - Det forteller oss hvordan det skal brukes\n",
    "    - Bruker ofte å være gode\n",
    "    - Eksempler kan ofte finnes i python med `urllib` eller `requests` bibliotek\n",
    "    - Eksempler på bruk også ofte gitt med `cURL`(et kommandolinjeverktøy)\n",
    "* Noen API'er har også verktøy som lar deg bygge riktig url med et grafisk grensesnitt (feks SSB)"
   ]
  },
  {
   "cell_type": "markdown",
   "id": "a7d7d02c",
   "metadata": {},
   "source": [
    "# Eksempelvis:\n",
    "\n",
    "* [Trivia/quiz API](https://opentdb.com)\n",
    "\n",
    "Vi fikk følgende url:\n",
    "\n",
    "Vi kan bruke [CURL](https://reqbin.com/curl) til å sende api-spørringen/HTTP requestet\n"
   ]
  },
  {
   "cell_type": "markdown",
   "id": "a7dc2a6f",
   "metadata": {},
   "source": [
    "<img src=\"https://jvns.ca/images/curl.jpeg\">"
   ]
  },
  {
   "cell_type": "markdown",
   "id": "3c21f43f",
   "metadata": {
    "slideshow": {
     "slide_type": "subslide"
    }
   },
   "source": [
    "* Vi skal ikke bruke *curl*, men mange api'er bruker det i tutorials.\n",
    "* Vi trenger kanskje å lese ut hva som er headere, parametre, url-endepunkt og data\n",
    "    - `curl -G -d \"parameter=value\" http:/test.com/api` sender en GET request til `http:/test.com/api?parameter=value`\n"
   ]
  },
  {
   "cell_type": "markdown",
   "id": "8413459e",
   "metadata": {
    "slideshow": {
     "slide_type": "fragment"
    }
   },
   "source": [
    "* Finner dere et kult API dere vil bruke og dokumentasjon/tutorials er gitt med curl kan dere spørre studass"
   ]
  },
  {
   "cell_type": "markdown",
   "id": "b5a05e1b",
   "metadata": {
    "slideshow": {
     "slide_type": "slide"
    },
    "tags": []
   },
   "source": [
    "# http requests i python!\n",
    "\n",
    "* Da er vi klare til å bruke et web-api i python\n",
    "* Der er 2 populære bibliotek:`urllib` og `requests`\n",
    "* Vi anbefaler å bruke `requests`\n",
    "* La oss gjøre noen sidesøk i wikipedia med python\n",
    "* wikipedia API [her](https://www.mediawiki.org/wiki/API:REST_API)"
   ]
  },
  {
   "cell_type": "markdown",
   "id": "a7b88ffd-9a42-4f07-b226-783cb8dc9868",
   "metadata": {
    "slideshow": {
     "slide_type": ""
    },
    "tags": []
   },
   "source": [
    "*Noen bruker urllib -- det virker som det stort sett er borte*"
   ]
  },
  {
   "cell_type": "code",
   "execution_count": 23,
   "id": "0feab504",
   "metadata": {
    "slideshow": {
     "slide_type": "fragment"
    },
    "tags": []
   },
   "outputs": [
    {
     "name": "stdout",
     "output_type": "stream",
     "text": [
      "Hva vil du søke etter?\n",
      "led zeppelin\n",
      "Led Zeppelin :\n",
      "------------------\n",
      "English rock band (1968–1980) \n",
      "\n",
      "\n",
      "Led Zeppelin IV :\n",
      "------------------\n",
      "1971 studio album by Led Zeppelin \n",
      "\n",
      "\n",
      "Led Zeppelin (album) :\n",
      "------------------\n",
      "1969 studio album by Led Zeppelin \n",
      "\n",
      "\n",
      "Led Zeppelin III :\n",
      "------------------\n",
      "1970 studio album by Led Zeppelin \n",
      "\n",
      "\n",
      "Led Zeppelin II :\n",
      "------------------\n",
      "1969 studio album by Led Zeppelin \n",
      "\n",
      "\n",
      "led%20zeppelin\n"
     ]
    }
   ],
   "source": [
    "import urllib\n",
    "import json\n",
    "\n",
    "limit = 5\n",
    "query = input(\"Hva vil du søke etter?\\n\")\n",
    "query_urlencoded = urllib.parse.quote(query)\n",
    "url = f\"https://en.wikipedia.org/w/rest.php/v1/search/page?q={query_urlencoded}&limit={limit}\"\n",
    "\n",
    "response = urllib.request.urlopen(url) #\"åpne\" url og motta resultat\n",
    "data = response.read() #hent data\n",
    "data_str = data.decode('utf-8')\n",
    "data_dict = json.loads(data_str)\n",
    "\n",
    "for page in data_dict[\"pages\"]:\n",
    "    print(page[\"title\"], \":\")\n",
    "    print(\"------------------\")\n",
    "    print(page[\"description\"],\"\\n\\n\")\n",
    "\n",
    "print(query_urlencoded)"
   ]
  },
  {
   "cell_type": "code",
   "execution_count": 31,
   "id": "79e44ae5",
   "metadata": {
    "slideshow": {
     "slide_type": ""
    },
    "tags": []
   },
   "outputs": [
    {
     "name": "stdout",
     "output_type": "stream",
     "text": [
      "Hva vil du søke etter?\n",
      "Deep purple\n",
      "URL:  https://en.wikipedia.org/w/rest.php/v1/search/page?q=Deep+purple&limit=10\n",
      "Deep Purple\n",
      "================\n",
      "\n",
      "English rock band \n",
      "\n",
      "\n",
      "Deep Purple discography\n",
      "================\n",
      "\n",
      "Cataloguing of published recordings by English rock band Deep Purple \n",
      "\n",
      "\n",
      "Deep Purple in Rock\n",
      "================\n",
      "\n",
      "1970 studio album by Deep Purple \n",
      "\n",
      "\n",
      "Shades of Deep Purple\n",
      "================\n",
      "\n",
      "1968 studio album by Deep Purple \n",
      "\n",
      "\n",
      "Deep Purple (album)\n",
      "================\n",
      "\n",
      "1969 studio album by Deep Purple \n",
      "\n",
      "\n",
      "Burn (Deep Purple album)\n",
      "================\n",
      "\n",
      "1974 studio album by Deep Purple \n",
      "\n",
      "\n",
      "List of Deep Purple members\n",
      "================\n",
      "\n",
      "None \n",
      "\n",
      "\n",
      "Deep Purple (song)\n",
      "================\n",
      "\n",
      "1933 song by Peter DeRose \n",
      "\n",
      "\n",
      "Rod Evans\n",
      "================\n",
      "\n",
      "English singer \n",
      "\n",
      "\n",
      "Bananas (Deep Purple album)\n",
      "================\n",
      "\n",
      "2003 studio album by Deep Purple \n",
      "\n",
      "\n",
      "\n",
      "\n",
      "Exit code: \n",
      "URL:  \n",
      "headers \n"
     ]
    }
   ],
   "source": [
    "# Gjør et søk på wikipedia med python!\n",
    "\n",
    "#Anbefaler å bruke requests\n",
    "#!pip install requests_toolbelt\n",
    "import requests\n",
    "from requests_toolbelt.utils import dump #Fordi jeg vil undersøke nøyaktig hva som blir sendt\n",
    "import pprint\n",
    "\n",
    "pp = pprint.PrettyPrinter(indent=4)\n",
    "\n",
    "search =input(\"Hva vil du søke etter?\\n\")\n",
    "\n",
    "#URL endepunkt sidesøk på wiki-api \n",
    "url_endepunkt = \"https://en.wikipedia.org/w/rest.php/v1/search/page\"\n",
    "\n",
    "#Antall Søkeresultat\n",
    "antall_resultat=10\n",
    "\n",
    "\n",
    "# Med requests lager vi dictionaries med headere og parametere\n",
    "parametere = {\"q\": search, \"limit\": antall_resultat }\n",
    "\n",
    "# requests fyller ut mange headere automatisk også\n",
    "header = {\"Connection\": \"Close\"}\n",
    "\n",
    "#Send get-request\n",
    "response = requests.get(url_endepunkt, params=parametere, headers=header)\n",
    "\n",
    "#http_melding = dump.dump_all(response)\n",
    "#pp.pprint(http_melding.decode('utf-8'))\n",
    "\n",
    "#print(\"Tilgjenglige metoder til responsen: \", dir(response))\n",
    "\n",
    " # Dersom vi får json tilbake\n",
    "#data = resonse.text # Dersom vi får noe annet enn json tilbake\n",
    "\n",
    "#print(\"Tilgjenglige metoder til responsen: \", dir(response))\n",
    "\n",
    " # Dersom vi får json tilbake\n",
    "#data = response.text # Dersom vi får noe annet enn json tilbake\n",
    "data = response.json()\n",
    "\n",
    "#print(\"\\n\\nExit code:\", response.status_code)\n",
    "print(\"URL: \", response.url)\n",
    "#print(\"headers\", response.headers)\n",
    "\n",
    "#Print ut søketreff på en fornuftig måte\n",
    "#pp.pprint(data)\n",
    "for page in data[\"pages\"]:\n",
    "    print(page[\"title\"])\n",
    "    print(\"================\\n\")\n",
    "    print(page[\"description\"],\"\\n\\n\")\n",
    "print(\"\\n\\nExit code:\", \"\")\n",
    "print(\"URL: \", \"\")\n",
    "print(\"headers\", \"\")\n",
    "\n",
    "\n",
    "#Print ut søketreff på en fornuftig måte"
   ]
  },
  {
   "cell_type": "code",
   "execution_count": 29,
   "id": "2264f51c",
   "metadata": {},
   "outputs": [
    {
     "name": "stdout",
     "output_type": "stream",
     "text": [
      "URL:  https://en.wikipedia.org/w/rest.php/v1/search/page?q=Donald+Trump&limit=10\n",
      "Donald Trump\n",
      "================\n",
      "\n",
      "47th President-elect and 45th President of the United States \n",
      "\n",
      "\n",
      "Donald Trump Jr.\n",
      "================\n",
      "\n",
      "American businessman (born 1977) \n",
      "\n",
      "\n",
      "Family of Donald Trump\n",
      "================\n",
      "\n",
      "None \n",
      "\n",
      "\n",
      "Attempted assassination of Donald Trump in Pennsylvania\n",
      "================\n",
      "\n",
      "2024 shooting in Pennsylvania, U.S. \n",
      "\n",
      "\n",
      "Donald Trump 2024 presidential campaign\n",
      "================\n",
      "\n",
      "American political campaign \n",
      "\n",
      "\n",
      "Donald Trump and fascism\n",
      "================\n",
      "\n",
      "None \n",
      "\n",
      "\n",
      "Political positions of Donald Trump\n",
      "================\n",
      "\n",
      "None \n",
      "\n",
      "\n",
      "Donald Trump 2016 presidential campaign\n",
      "================\n",
      "\n",
      "2016 presidential campaign \n",
      "\n",
      "\n",
      "Age and health concerns about Donald Trump\n",
      "================\n",
      "\n",
      "American political controversy \n",
      "\n",
      "\n",
      "Racial views of Donald Trump\n",
      "================\n",
      "\n",
      "None \n",
      "\n",
      "\n"
     ]
    }
   ],
   "source": [
    "#print(\"Tilgjenglige metoder til responsen: \", dir(response))\n",
    "\n",
    " # Dersom vi får json tilbake\n",
    "#data = response.text # Dersom vi får noe annet enn json tilbake\n",
    "data = response.json()\n",
    "\n",
    "#print(\"\\n\\nExit code:\", response.status_code)\n",
    "print(\"URL: \", response.url)\n",
    "#print(\"headers\", response.headers)\n",
    "\n",
    "#Print ut søketreff på en fornuftig måte\n",
    "#pp.pprint(data)\n",
    "for page in data[\"pages\"]:\n",
    "    print(page[\"title\"])\n",
    "    print(\"================\\n\")\n",
    "    print(page[\"description\"],\"\\n\\n\")"
   ]
  },
  {
   "cell_type": "markdown",
   "id": "121da2b2",
   "metadata": {
    "slideshow": {
     "slide_type": ""
    },
    "tags": []
   },
   "source": [
    "# Eurostats api:\n",
    "\n",
    "* Eurostat api: [https://ec.europa.eu/eurostat/web/user-guides/data-browser/api-data-access/api-detailed-guidelines/api-statistics](https://ec.europa.eu/eurostat/web/user-guides/data-browser/api-data-access/api-detailed-guidelines/api-statistics)\n"
   ]
  },
  {
   "cell_type": "code",
   "execution_count": 44,
   "id": "3253f893",
   "metadata": {
    "slideshow": {
     "slide_type": ""
    },
    "tags": []
   },
   "outputs": [],
   "source": [
    "import requests\n",
    "import pprint\n",
    "\n",
    "pp = pprint.PrettyPrinter()\n",
    "\n",
    "tabell = \"nama_10_gdp\"\n",
    "url = f\"https://ec.europa.eu/eurostat/api/dissemination/statistics/1.0/data/{tabell}\"\n",
    "\n",
    "parametere = {\"format\": \"JSON\", \"lang\": \"EN\", \"sinceTimePeriod\": 2018}\n",
    "\n",
    "response = requests.get(url, params=parametere)"
   ]
  },
  {
   "cell_type": "code",
   "execution_count": null,
   "id": "0e17bdb2",
   "metadata": {},
   "outputs": [],
   "source": [
    "response.json()"
   ]
  },
  {
   "cell_type": "markdown",
   "id": "81c8f4bb",
   "metadata": {
    "slideshow": {
     "slide_type": "slide"
    },
    "tags": []
   },
   "source": [
    "# JSON-stat\n",
    "\n",
    "* Man får gjerne statistisk data tilbake i json_stat-format\n",
    "* Vi kan bruke `pyjstat` til å lese data inn til pandas\n",
    "* Eurostat og ssb anbefaler json_stat format"
   ]
  },
  {
   "cell_type": "code",
   "execution_count": 46,
   "id": "adc507b7",
   "metadata": {
    "slideshow": {
     "slide_type": ""
    },
    "tags": []
   },
   "outputs": [],
   "source": [
    "#!pip install pyjstat\n",
    "from pyjstat import pyjstat\n",
    "import pandas as pd\n",
    "\n",
    "\n",
    "dataset = pyjstat.Dataset.read(response.text)\n",
    "\n",
    "tittel = dataset[\"label\"]\n",
    "df = dataset.write(\"dataframe\")\n",
    "df_id = dataset.write(\"dataframe\", naming=\"id\")"
   ]
  },
  {
   "cell_type": "code",
   "execution_count": 67,
   "id": "eee2f590-8689-45d0-afea-3b0a812c8d9d",
   "metadata": {
    "slideshow": {
     "slide_type": ""
    },
    "tags": []
   },
   "outputs": [
    {
     "data": {
      "text/plain": [
       "array(['Gross domestic product at market prices', 'Value added, gross',\n",
       "       'Final consumption expenditure',\n",
       "       'Final consumption expenditure of general government',\n",
       "       'Individual consumption expenditure of general government',\n",
       "       'Collective consumption expenditure of general government',\n",
       "       'Household and NPISH final consumption expenditure',\n",
       "       'Final consumption expenditure of households',\n",
       "       'Final consumption expenditure of NPISH',\n",
       "       'Actual individual consumption', 'Gross capital formation',\n",
       "       'Gross fixed capital formation',\n",
       "       'Changes in inventories and acquisitions less disposals of valuables',\n",
       "       'Changes in inventories',\n",
       "       'Acquisitions less disposals of valuables',\n",
       "       'Exports of goods and services', 'Exports of goods',\n",
       "       'Exports of services', 'Imports of goods and services',\n",
       "       'Imports of goods', 'Imports of services',\n",
       "       'External balance of goods and services',\n",
       "       'External balance - goods', 'External balance - services',\n",
       "       'Compensation of employees', 'Wages and salaries',\n",
       "       \"Employers' social contributions\",\n",
       "       'Operating surplus and mixed income, gross',\n",
       "       'Taxes on production and imports less subsidies',\n",
       "       'Taxes on production and imports', 'Subsidies',\n",
       "       'Taxes less subsidies on products', 'Taxes on products',\n",
       "       'Subsidies on products',\n",
       "       'Statistical discrepancy (production approach)',\n",
       "       'Statistical discrepancy (expenditure approach)',\n",
       "       'Statistical discrepancy (income approach)',\n",
       "       'Final consumption expenditure and gross capital formation',\n",
       "       'Final consumption expenditure, gross capital formation and exports of goods and services'],\n",
       "      dtype=object)"
      ]
     },
     "execution_count": 67,
     "metadata": {},
     "output_type": "execute_result"
    }
   ],
   "source": [
    "#df = df.drop(columns=\"Time frequency\")\n",
    "#df[\"Unit of measure\"].unique()\n",
    "#df = df.query(\"`Unit of measure` =='Current prices, million euro'\").drop(columns=\"Unit of measure\")\n",
    "df[\"National accounts indicator (ESA 2010)\"].unique()"
   ]
  },
  {
   "cell_type": "code",
   "execution_count": 3,
   "id": "1c6aa5de-881d-4c94-a26a-3d2f5542b5df",
   "metadata": {
    "slideshow": {
     "slide_type": ""
    },
    "tags": []
   },
   "outputs": [],
   "source": [
    "# Plot kake av top 10 GDP europa"
   ]
  },
  {
   "cell_type": "code",
   "execution_count": null,
   "id": "8f7f4082-80ff-4aee-9e7b-8b1e8f9adebb",
   "metadata": {},
   "outputs": [],
   "source": []
  }
 ],
 "metadata": {
  "celltoolbar": "Slideshow",
  "kernelspec": {
   "display_name": "Python 3 (ipykernel)",
   "language": "python",
   "name": "python3"
  },
  "language_info": {
   "codemirror_mode": {
    "name": "ipython",
    "version": 3
   },
   "file_extension": ".py",
   "mimetype": "text/x-python",
   "name": "python",
   "nbconvert_exporter": "python",
   "pygments_lexer": "ipython3",
   "version": "3.11.7"
  }
 },
 "nbformat": 4,
 "nbformat_minor": 5
}
