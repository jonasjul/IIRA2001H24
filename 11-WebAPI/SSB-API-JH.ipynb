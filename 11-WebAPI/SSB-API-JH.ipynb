{
 "cells": [
  {
   "cell_type": "code",
   "execution_count": null,
   "id": "87bbbc64-aa7b-4e99-94e8-0ec32fb10e9e",
   "metadata": {
    "editable": true,
    "slideshow": {
     "slide_type": "slide"
    },
    "tags": []
   },
   "outputs": [],
   "source": [
    "import pandas as pd\n",
    "import requests\n",
    "import json\n",
    "from pyjstat import pyjstat"
   ]
  },
  {
   "cell_type": "markdown",
   "id": "ede74e57-65e2-4524-a2de-4dc5a4a6a9d8",
   "metadata": {
    "editable": true,
    "slideshow": {
     "slide_type": "slide"
    },
    "tags": []
   },
   "source": [
    "## Først et lite sports-api\n",
    "* [https://api-sports.io/](https://api-sports.io/)\n",
    "* Lag gratis konto eller logg in med google"
   ]
  },
  {
   "cell_type": "code",
   "execution_count": null,
   "id": "c93ad489-af87-4112-94cc-b216205f8e2e",
   "metadata": {
    "editable": true,
    "slideshow": {
     "slide_type": "subslide"
    },
    "tags": []
   },
   "outputs": [],
   "source": [
    "api_key = \"31d5cf4a12d29e845d6b08db3ede0685\" #Din api-nøkkel\n",
    "\n",
    "headers = {\"x-apisports-key\": api_key}\n",
    "\n",
    "base_url = \"https://v3.football.api-sports.io/\"\n",
    "\n"
   ]
  },
  {
   "cell_type": "code",
   "execution_count": null,
   "id": "b1686ad2-5799-4775-a80e-02d61d040823",
   "metadata": {
    "editable": true,
    "slideshow": {
     "slide_type": "subslide"
    },
    "tags": []
   },
   "outputs": [],
   "source": []
  },
  {
   "cell_type": "code",
   "execution_count": null,
   "id": "0c5a11fc-b850-458b-9081-032c199aaf77",
   "metadata": {
    "editable": true,
    "slideshow": {
     "slide_type": "subslide"
    },
    "tags": []
   },
   "outputs": [],
   "source": []
  },
  {
   "cell_type": "code",
   "execution_count": null,
   "id": "5105ba90-3a41-4800-857d-f4d642de8408",
   "metadata": {
    "editable": true,
    "slideshow": {
     "slide_type": "subslide"
    },
    "tags": []
   },
   "outputs": [],
   "source": [
    "\n"
   ]
  },
  {
   "cell_type": "code",
   "execution_count": null,
   "id": "d0eb1506-d652-422a-bfa7-0d4f1f5fd3bd",
   "metadata": {
    "editable": true,
    "slideshow": {
     "slide_type": "subslide"
    },
    "tags": []
   },
   "outputs": [],
   "source": []
  },
  {
   "cell_type": "code",
   "execution_count": null,
   "id": "f55eadce-e2c5-434d-8c5d-f1b54adb9902",
   "metadata": {
    "editable": true,
    "slideshow": {
     "slide_type": ""
    },
    "tags": []
   },
   "outputs": [],
   "source": []
  },
  {
   "cell_type": "markdown",
   "id": "46f9956b-2e70-46be-9fa1-74136413abe9",
   "metadata": {
    "editable": true,
    "slideshow": {
     "slide_type": "slide"
    },
    "tags": []
   },
   "source": [
    "# SSB sitt webAPI"
   ]
  },
  {
   "cell_type": "markdown",
   "id": "92fceb43-c235-4645-b276-535708172576",
   "metadata": {
    "editable": true,
    "slideshow": {
     "slide_type": "fragment"
    },
    "tags": []
   },
   "source": [
    "* SSB har et eget webAPI slik at du automatisk kan hente inn nyeste data til:\n",
    "  * Analyse\n",
    "  * Visualisering\n",
    "* Man kan få data på flere formater, vi anbefaler `json_stat`\n",
    "  * Bruk `pyjstat` til å lese data inn i dataframe slik som fra eurostat"
   ]
  },
  {
   "cell_type": "markdown",
   "id": "d11f9821-8b4a-42de-bf1b-f8b0b21d1fcb",
   "metadata": {
    "editable": true,
    "slideshow": {
     "slide_type": "subslide"
    },
    "tags": []
   },
   "source": [
    "* Dersom man prøver å hente inn data fra feks tabell 09695 med et GET request får man tilbake meta-data om tabellen:\n",
    "* [https://data.ssb.no/api/v0/no/table/09695](https://data.ssb.no/api/v0/no/table/09695)"
   ]
  },
  {
   "cell_type": "code",
   "execution_count": null,
   "id": "4b5e3c63-cd12-47ee-93b4-1d3c86d1f5ad",
   "metadata": {
    "editable": true,
    "slideshow": {
     "slide_type": "fragment"
    },
    "tags": []
   },
   "outputs": [],
   "source": [
    "konkurser_url =\"https://data.ssb.no/api/v0/no/table/09695\"\n",
    "response = requests.get(konkurser_url)\n",
    "metadata = response.json()\n",
    "metadata"
   ]
  },
  {
   "cell_type": "markdown",
   "id": "3507a67c-3a71-4f02-9517-558375d9d33c",
   "metadata": {
    "editable": true,
    "slideshow": {
     "slide_type": "subslide"
    },
    "tags": []
   },
   "source": [
    "* Det kan være nyttig å hente ut metadata og undersøke den\n",
    "* Vi kan laste det inn i python og gjøre filtrering på hva vi vil ha med\n",
    "* Vi kan kan også \"klikke på linken\" i en nettleser og se på verdiene der"
   ]
  },
  {
   "cell_type": "markdown",
   "id": "415c1452-50e8-4aab-90ac-fcaa2e934409",
   "metadata": {
    "editable": true,
    "slideshow": {
     "slide_type": "slide"
    },
    "tags": []
   },
   "source": [
    "## Sende spørring mot SSB sine dataset\n",
    "* For å hente inn de faktiske dataene må vi sende en POST request til samme URL\n",
    "* Denne post-requesten må inneholde egen data om spørringen vi gjør (Hvilke variabler vil vi ha + eventuelle filtreringer"
   ]
  },
  {
   "cell_type": "markdown",
   "id": "936c098b-3ee9-4106-9d8b-bd733ba46e4a",
   "metadata": {
    "editable": true,
    "slideshow": {
     "slide_type": "subslide"
    },
    "tags": []
   },
   "source": [
    "![img/ssbapikonsoll.png](img/ssbapikonsoll.png)"
   ]
  },
  {
   "cell_type": "markdown",
   "id": "478d5375-b97b-4c86-a670-a069623209c8",
   "metadata": {
    "editable": true,
    "slideshow": {
     "slide_type": "subslide"
    },
    "tags": []
   },
   "source": [
    "* Det er ikke nødvendigvis plankekjøring å lage denne spørringen:\n",
    "  * Vi kan bruke SSB sin [API-konsoll](https://data.ssb.no/api/v0/no/console) (bildet over)\n",
    "  * I statistikkbanken kan vi undersøke og velge ut data, og nederst på siden kan vi hente spørringen for dataene vi har valgt"
   ]
  },
  {
   "cell_type": "markdown",
   "id": "0847deb9-c3c2-43ae-856a-2b61607bce2a",
   "metadata": {
    "editable": true,
    "slideshow": {
     "slide_type": "subslide"
    },
    "tags": []
   },
   "source": [
    "![spørring](img/lagresporring.png)"
   ]
  },
  {
   "cell_type": "markdown",
   "id": "620a0087-8297-42ae-9597-3425b5305997",
   "metadata": {
    "editable": true,
    "slideshow": {
     "slide_type": "subslide"
    },
    "tags": []
   },
   "source": [
    "* Her kan vi klippe og lime teksten inn i python\n",
    "* Eller lagre som fil og åpne i python med json.load(\"filnavn.json\"):\n",
    "```python\n",
    "import json\n",
    "with open(\"filnavn.json\", \"r\") as file:\n",
    "    ssb_query = json.load(file)\n",
    "#\n",
    "#\n",
    "```"
   ]
  },
  {
   "cell_type": "markdown",
   "id": "5028d669-1cc4-4e35-980a-e3765a2e7695",
   "metadata": {
    "editable": true,
    "slideshow": {
     "slide_type": "subslide"
    },
    "tags": []
   },
   "source": [
    "* SSB-spørringen inneholder et felt \"query\", som er en liste av \"dictionaries\" med variablene eller feltene fra tabellen vi vil hente\n",
    "* Hvert dataobjekt vi spør etter har under \"selection\" et felt \"filter\" hvor vi angir hvilke av dataene vi vil ha"
   ]
  },
  {
   "cell_type": "markdown",
   "id": "d5cb4221-13a8-4184-bfa4-aa9dfbc265ca",
   "metadata": {
    "editable": true,
    "slideshow": {
     "slide_type": "slide"
    },
    "tags": []
   },
   "source": [
    "### SSB: Filter\n",
    "* Vi kan velge \"item\", da spesifiserer vi alle verdiene:\n",
    "  * `\"filter\": \"item\", \"values\": [«Liste med verdiene vi vil ha»]`\n",
    "* Eller \"top\", da ber vi om feks de første 10 verdiene\n",
    "  * `\"filter\": \"top\", \"values\": [«antall»]`\n",
    "* Eller \"all\", da ber vi om alle som passer inn i et gitt \"mønster\"\n",
    "  * `\"filter\": \"all\", \"values\": [\"*\"]` Alle resultat\n",
    "  * `\"filter\": \"all\", \"values\": [\"198*\"]` Alle årstall fra 80-tallet (\"*\" matcher med 0,1,2,3...)"
   ]
  },
  {
   "cell_type": "code",
   "execution_count": null,
   "id": "7f38b16b-5dbe-4bad-8056-478c4ffec397",
   "metadata": {
    "editable": true,
    "slideshow": {
     "slide_type": "subslide"
    },
    "tags": []
   },
   "outputs": [],
   "source": [
    "import requests\n",
    "import json\n",
    "import random\n",
    "\n",
    "jsonstreng = \"\"\"{ \"query\": [\n",
    "    {\"code\": \"ContentsCode\",\"selection\": {\n",
    "        \"filter\": \"item\",\n",
    "        \"values\": [\"Konkursar\"]\n",
    "      }\n",
    "    },\n",
    "    {\"code\": \"Tid\", \"selection\": {\n",
    "        \"filter\": \"all\",\n",
    "        \"values\": []\n",
    "      }\n",
    "    }\n",
    "  ],\"response\": {\"format\": \"json-stat2\"}\n",
    "}\"\"\"\n",
    "\n"
   ]
  },
  {
   "cell_type": "code",
   "execution_count": null,
   "id": "da6a9f78-9a63-4f52-abd6-d3f4648542e8",
   "metadata": {
    "editable": true,
    "slideshow": {
     "slide_type": "subslide"
    },
    "tags": []
   },
   "outputs": [],
   "source": [
    "#Spørring etter åpna konkurser på 80-tallet\n",
    "ssb_query_string = \"\"\"\n",
    "{\n",
    "  \"query\": [\n",
    "    {\n",
    "      \"code\": \"ContentsCode\",\n",
    "      \"selection\": {\n",
    "        \"filter\": \"item\",\n",
    "        \"values\": [\n",
    "          \"Konkursar\"\n",
    "        ]\n",
    "      }\n",
    "    },\n",
    "    {\n",
    "      \"code\": \"Tid\",\n",
    "      \"selection\": {\n",
    "        \"filter\": \"all\",\n",
    "        \"values\": [\"198*\"]\n",
    "      }\n",
    "    }\n",
    "  ],\n",
    "  \"response\": {\n",
    "    \"format\": \"json-stat2\"\n",
    "  }\n",
    "}\n",
    "\"\"\""
   ]
  },
  {
   "cell_type": "code",
   "execution_count": null,
   "id": "5d19f4a3-e35d-4c37-9b9a-5d721f9a5f5f",
   "metadata": {
    "editable": true,
    "slideshow": {
     "slide_type": "subslide"
    },
    "tags": []
   },
   "outputs": [],
   "source": [
    "#Spørring etter åpna konkurser de 15 siste månedene\n",
    "ssb_query_string = \"\"\"\n",
    "{\n",
    "  \"query\": [\n",
    "    {\n",
    "      \"code\": \"ContentsCode\",\n",
    "      \"selection\": {\n",
    "        \"filter\": \"item\",\n",
    "        \"values\": [\n",
    "          \"Konkursar\"\n",
    "        ]\n",
    "      }\n",
    "    },\n",
    "    {\n",
    "      \"code\": \"Tid\",\n",
    "      \"selection\": {\n",
    "        \"filter\": \"top\",\n",
    "        \"values\": [\"15\"]\n",
    "      }\n",
    "    }\n",
    "  ],\n",
    "  \"response\": {\n",
    "    \"format\": \"json-stat2\"\n",
    "  }\n",
    "}\n",
    "\"\"\""
   ]
  },
  {
   "cell_type": "markdown",
   "id": "0ae4e4fe-84c3-47cb-81c5-dbb1353512bd",
   "metadata": {
    "editable": true,
    "slideshow": {
     "slide_type": "slide"
    },
    "tags": []
   },
   "source": [
    "# Eksempel: SSB-spørring->Pandas dataframe via pyjstat"
   ]
  },
  {
   "cell_type": "code",
   "execution_count": null,
   "id": "4914ae56-16ef-43a7-aaf5-bf6a75fb85f0",
   "metadata": {
    "editable": true,
    "slideshow": {
     "slide_type": "fragment"
    },
    "tags": []
   },
   "outputs": [],
   "source": [
    "# Gå inn i api-konsoll eller statistikkbanken og lag en spørring og last ned spørringen som json fil\n"
   ]
  },
  {
   "cell_type": "code",
   "execution_count": null,
   "id": "4d90204b-beae-4828-a5a9-5da69a090d85",
   "metadata": {
    "editable": true,
    "slideshow": {
     "slide_type": "subslide"
    },
    "tags": []
   },
   "outputs": [],
   "source": []
  },
  {
   "cell_type": "code",
   "execution_count": null,
   "id": "488fe08b-cbca-48f3-89f7-2926c98df0cc",
   "metadata": {
    "editable": true,
    "slideshow": {
     "slide_type": "subslide"
    },
    "tags": []
   },
   "outputs": [],
   "source": []
  },
  {
   "cell_type": "code",
   "execution_count": null,
   "id": "0966f15d-9a5a-4bed-ae49-9c01d94315f8",
   "metadata": {
    "editable": true,
    "slideshow": {
     "slide_type": ""
    },
    "tags": []
   },
   "outputs": [],
   "source": []
  }
 ],
 "metadata": {
  "kernelspec": {
   "display_name": "Python 3 (ipykernel)",
   "language": "python",
   "name": "python3"
  },
  "language_info": {
   "codemirror_mode": {
    "name": "ipython",
    "version": 3
   },
   "file_extension": ".py",
   "mimetype": "text/x-python",
   "name": "python",
   "nbconvert_exporter": "python",
   "pygments_lexer": "ipython3",
   "version": "3.12.4"
  }
 },
 "nbformat": 4,
 "nbformat_minor": 5
}
