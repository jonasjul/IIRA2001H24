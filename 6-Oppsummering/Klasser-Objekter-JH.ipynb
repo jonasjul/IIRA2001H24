{
 "cells": [
  {
   "cell_type": "markdown",
   "id": "2d4de23f-f230-4802-83e9-01f203a367a8",
   "metadata": {
    "editable": true,
    "slideshow": {
     "slide_type": "slide"
    },
    "tags": []
   },
   "source": [
    "# Klasser og objekter (Til orientering)"
   ]
  },
  {
   "cell_type": "markdown",
   "id": "b836f397-326f-4441-bb59-bbab36cbbadb",
   "metadata": {
    "editable": true,
    "slideshow": {
     "slide_type": "fragment"
    },
    "tags": []
   },
   "source": [
    "* Når vi skulle simulere fiskeskuter lagde vi en dictionay som holdt dataen til de individuelle fiskeskutene"
   ]
  },
  {
   "cell_type": "code",
   "execution_count": 3,
   "id": "36afc3b3-6e90-4c2f-a534-6d401f0f7567",
   "metadata": {
    "editable": true,
    "slideshow": {
     "slide_type": "fragment"
    },
    "tags": []
   },
   "outputs": [],
   "source": [
    "skute = {\"navn\": \"Tilfeldig\", \n",
    "         \"last\": 0,\n",
    "         \"fiskefunksjon\": lambda: 75}"
   ]
  },
  {
   "cell_type": "markdown",
   "id": "b499f6c9-05c0-4600-aa00-76d57d242db0",
   "metadata": {
    "editable": true,
    "slideshow": {
     "slide_type": "fragment"
    },
    "tags": []
   },
   "source": [
    "* Her representerer dataen vår en skute, et objekt -- og skuten har inneholder både data *og metoder*"
   ]
  },
  {
   "cell_type": "markdown",
   "id": "9e01b0d5-0ea9-4a34-924c-7410238fd607",
   "metadata": {
    "editable": true,
    "slideshow": {
     "slide_type": "subslide"
    },
    "tags": []
   },
   "source": [
    "* Når dataen vår er slik (objekter med vanlig data og metoder) er det vanlig å representere dataen i en *klasse* heller enn en dictionary\n",
    "* Klasser definerer objekter slik som skuten vår, og vi har egentlig brukt de masse"
   ]
  },
  {
   "cell_type": "code",
   "execution_count": 10,
   "id": "6d47b74d-9cca-4907-8d74-ca5ffed0a2e0",
   "metadata": {
    "editable": true,
    "slideshow": {
     "slide_type": "subslide"
    },
    "tags": []
   },
   "outputs": [
    {
     "name": "stdout",
     "output_type": "stream",
     "text": [
      "<class 'int'>\n"
     ]
    }
   ],
   "source": [
    "heltall = 4\n",
    "print(type(heltall))"
   ]
  },
  {
   "cell_type": "code",
   "execution_count": 13,
   "id": "77ff6779-bd53-431e-bc62-bdea57dd16ce",
   "metadata": {
    "editable": true,
    "slideshow": {
     "slide_type": "fragment"
    },
    "tags": []
   },
   "outputs": [
    {
     "name": "stdout",
     "output_type": "stream",
     "text": [
      "<class 'str'>\n"
     ]
    }
   ],
   "source": [
    "tekststreng = \"Heisann!\"\n",
    "print(type(tekststreng))"
   ]
  },
  {
   "cell_type": "markdown",
   "id": "a3c74582-f1aa-4502-8c7c-30aa9ec342ab",
   "metadata": {
    "editable": true,
    "slideshow": {
     "slide_type": "fragment"
    },
    "tags": []
   },
   "source": [
    "* Variablene `heltall` og `tekststreng` er objekter, eller instanser av henholdsvis klassene `int` og `str`\n",
    "* Når vi skal ha tak i et objekts data og metoder (funksjoner) bruker vi punktum `objekt.data`, `objekt.funksjon()`"
   ]
  },
  {
   "cell_type": "code",
   "execution_count": 19,
   "id": "67ffb1c0-992e-4c96-9745-5f5fddf0cdb7",
   "metadata": {
    "editable": true,
    "slideshow": {
     "slide_type": "subslide"
    },
    "tags": []
   },
   "outputs": [
    {
     "name": "stdout",
     "output_type": "stream",
     "text": [
      "<class 'list'>\n"
     ]
    },
    {
     "data": {
      "text/plain": [
       "4"
      ]
     },
     "execution_count": 19,
     "metadata": {},
     "output_type": "execute_result"
    }
   ],
   "source": [
    "min_liste = [1,2,3,4]\n",
    "print(type(min_liste))\n",
    "min_liste.pop()"
   ]
  },
  {
   "cell_type": "markdown",
   "id": "7dcb43df-14dc-446d-93e6-0b5ffd4039a4",
   "metadata": {
    "editable": true,
    "slideshow": {
     "slide_type": "fragment"
    },
    "tags": []
   },
   "source": [
    "* Her er `min_liste` et objekt av typen `list` eller en instans av klassen `list`\n",
    "* Listeobjekter har innebygde metoder/funksjoner som gjør ting med dataen til objektet (feks, pop(), append() osv)"
   ]
  },
  {
   "cell_type": "markdown",
   "id": "8bf095a4-a0bc-4c67-a315-32f51ce34076",
   "metadata": {
    "editable": true,
    "slideshow": {
     "slide_type": "subslide"
    },
    "tags": []
   },
   "source": [
    "* Vi kan lage egne klasser:"
   ]
  },
  {
   "cell_type": "code",
   "execution_count": 47,
   "id": "c240d4e2-93fb-4e47-b468-c837b39a349b",
   "metadata": {
    "editable": true,
    "slideshow": {
     "slide_type": "fragment"
    },
    "tags": []
   },
   "outputs": [],
   "source": [
    "\n",
    "        \n",
    "        "
   ]
  },
  {
   "cell_type": "code",
   "execution_count": null,
   "id": "e85af9e3-aa52-4a9d-b45c-f2601cb58823",
   "metadata": {
    "editable": true,
    "slideshow": {
     "slide_type": "subslide"
    },
    "tags": []
   },
   "outputs": [],
   "source": []
  },
  {
   "cell_type": "markdown",
   "id": "51201198-30d1-4c9b-a3fd-228d9b9b2372",
   "metadata": {
    "editable": true,
    "slideshow": {
     "slide_type": "subslide"
    },
    "tags": []
   },
   "source": [
    "* Når man baserer programmet sitt på bruk av klasser og objekter kaller vi dette *objektorientert programmering*\n",
    "* Dette er ikke pensum, eller noe vi skal gjøre\n",
    "* Men vi bruker objekter og klasser hele tiden når vi henter inn funksjonalitet fra ulike biblioteker\n",
    "* Det er derfor greit å *vite om*"
   ]
  }
 ],
 "metadata": {
  "kernelspec": {
   "display_name": "Python 3 (ipykernel)",
   "language": "python",
   "name": "python3"
  },
  "language_info": {
   "codemirror_mode": {
    "name": "ipython",
    "version": 3
   },
   "file_extension": ".py",
   "mimetype": "text/x-python",
   "name": "python",
   "nbconvert_exporter": "python",
   "pygments_lexer": "ipython3",
   "version": "3.10.12"
  }
 },
 "nbformat": 4,
 "nbformat_minor": 5
}
