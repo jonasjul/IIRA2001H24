{
 "cells": [
  {
   "cell_type": "markdown",
   "id": "41834b65-b2e8-4283-b364-34d73f7c4ba0",
   "metadata": {},
   "source": [
    "## AE201808 Næringsøkonomi  \n",
    "\n",
    "Competition and cooperation in oligopolies: \n",
    "\n",
    " “The Shrimp Game” \n",
    "----\n",
    "\n",
    "The game \n",
    "\n",
    "* Atari, BMI and Commodore own the only three shrimp boats on the island of New Ålesund.  \n",
    "\n",
    "* Each shrimper incurs the same cost of $5.00 per pound of shrimp they catch (this includes the opportunity cost of time) and each can catch at most 75 pounds per day.  \n",
    "\n",
    "* At the end of each day, they bring their catch to the only market on the island where price is determined by market demand and the supply of fish, and all shrimp is sold. All shrimp goes bad after one day, so a shrimper cannot keep shrimps off the market and sell them the next day.  \n",
    "\n",
    "    The mayor of New Ålesund is also the supervisor of this market. He/she controls the pounds caught by each shrimper and announces the day’s price for shrimp. \n",
    "\n",
    "*    Let QA, QB, and QC denote Atari’s, BMI’s and Commodore’s catch, respectively. Once each has decided when to stop fishing and has brought his or her shrimp to market, the price is determined by the following equation:  \n",
    "\n",
    "$$ P (Q_A, Q_B, Q_C)  =  45 – [ 0.2 \\times (QA + QB + QC ) ] $$\n",
    "\n",
    "* Each shrimper agrees that the above equation correctly predicts the market price of shrimp, and each tries to catch enough shrimp so as to maximize his or her dollar profits.  \n",
    "\n",
    "* The profits $\\pi$ for each shrimper equals the number of pounds caught multiplied by its profit margin, that is:   \n",
    "\n",
    "$$ \\pi_A (Q_A, Q_B, Q_C) = Q_A \\left[ P (Q_A, Q_B, Q_C) – 5 \\right]$$\n",
    "\n",
    "* The three shrimpers have a history of family feuds and no personal contact. Each will have to set its shrimp production for the day without knowing what levels the other two shrimpers set. However, as described above, at the end of each day the production levels that were set by each shrimper will become public knowledge. "
   ]
  },
  {
   "cell_type": "markdown",
   "id": "02bc13a3-dae5-45be-95a8-f18258c19981",
   "metadata": {},
   "source": [
    "# Simuleringsoppgave i Python :)\n",
    "* Vi vil lage et pythonprogram som simulerer ulike strategier fiskerene kan velge\n",
    "* Fek:\n",
    "  - Fisk så mye som mulig\n",
    "  - Fisk tilfeldig mengde\n",
    "  - Se på hvor mye konkurrentene har tidligere har fisket, og fisk optimal mengde (\n"
   ]
  },
  {
   "cell_type": "code",
   "execution_count": null,
   "id": "a32f69a4-87db-4142-8619-5744a6bf22ec",
   "metadata": {},
   "outputs": [],
   "source": []
  }
 ],
 "metadata": {
  "kernelspec": {
   "display_name": "Python 3 (ipykernel)",
   "language": "python",
   "name": "python3"
  },
  "language_info": {
   "codemirror_mode": {
    "name": "ipython",
    "version": 3
   },
   "file_extension": ".py",
   "mimetype": "text/x-python",
   "name": "python",
   "nbconvert_exporter": "python",
   "pygments_lexer": "ipython3",
   "version": "3.10.12"
  }
 },
 "nbformat": 4,
 "nbformat_minor": 5
}
