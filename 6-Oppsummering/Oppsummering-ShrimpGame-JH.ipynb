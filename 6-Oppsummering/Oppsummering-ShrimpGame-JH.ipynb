{
 "cells": [
  {
   "cell_type": "markdown",
   "id": "41834b65-b2e8-4283-b364-34d73f7c4ba0",
   "metadata": {},
   "source": [
    "## AE201808 Næringsøkonomi  \n",
    "\n",
    "Competition and cooperation in oligopolies: \n",
    "\n",
    " “The Shrimp Game” \n",
    "----\n",
    "\n",
    "The game \n",
    "\n",
    "* Atari, BMI and Commodore own the only three shrimp boats on the island of New Ålesund.  \n",
    "\n",
    "* Each shrimper incurs the same cost of $5.00 per pound of shrimp they catch (this includes the opportunity cost of time) and each can catch at most 75 pounds per day.  \n",
    "\n",
    "* At the end of each day, they bring their catch to the only market on the island where price is determined by market demand and the supply of fish, and all shrimp is sold. All shrimp goes bad after one day, so a shrimper cannot keep shrimps off the market and sell them the next day.  \n",
    "\n",
    "    The mayor of New Ålesund is also the supervisor of this market. He/she controls the pounds caught by each shrimper and announces the day’s price for shrimp. \n",
    "\n",
    "*    Let QA, QB, and QC denote Atari’s, BMI’s and Commodore’s catch, respectively. Once each has decided when to stop fishing and has brought his or her shrimp to market, the price is determined by the following equation:  \n",
    "\n",
    "$$ P (Q_A, Q_B, Q_C)  =  45 – [ 0.2 \\times (QA + QB + QC ) ] $$\n",
    "\n",
    "* Each shrimper agrees that the above equation correctly predicts the market price of shrimp, and each tries to catch enough shrimp so as to maximize his or her dollar profits.  \n",
    "\n",
    "* The profits $\\pi$ for each shrimper equals the number of pounds caught multiplied by its profit margin, that is:   \n",
    "\n",
    "$$ \\pi_A (Q_A, Q_B, Q_C) = Q_A \\left[ P (Q_A, Q_B, Q_C) – 5 \\right]$$\n",
    "\n",
    "* The three shrimpers have a history of family feuds and no personal contact. Each will have to set its shrimp production for the day without knowing what levels the other two shrimpers set. However, as described above, at the end of each day the production levels that were set by each shrimper will become public knowledge. "
   ]
  },
  {
   "cell_type": "markdown",
   "id": "02bc13a3-dae5-45be-95a8-f18258c19981",
   "metadata": {},
   "source": [
    "# Simuleringsoppgave i Python :)\n",
    "* Vi vil lage et pythonprogram som simulerer ulike strategier fiskerene kan velge\n",
    "* Fek:\n",
    "  - Fisk så mye som mulig\n",
    "  - Fisk tilfeldig mengde\n",
    "  - Se på hvor mye konkurrentene har tidligere har fisket, og fisk optimal mengde (*Cournot modellen*)\n"
   ]
  },
  {
   "cell_type": "code",
   "execution_count": 9,
   "id": "a32f69a4-87db-4142-8619-5744a6bf22ec",
   "metadata": {},
   "outputs": [
    {
     "name": "stdout",
     "output_type": "stream",
     "text": [
      "[ 0.   0.5  1.   1.5  2.   2.5  3.   3.5  4.   4.5  5.   5.5  6.   6.5\n",
      "  7.   7.5  8.   8.5  9.   9.5 10.  10.5 11.  11.5 12.  12.5 13.  13.5\n",
      " 14.  14.5 15.  15.5 16.  16.5 17.  17.5 18.  18.5 19.  19.5 20.  20.5\n",
      " 21.  21.5 22.  22.5 23.  23.5 24.  24.5 25.  25.5 26.  26.5 27.  27.5\n",
      " 28.  28.5 29.  29.5 30.  30.5 31.  31.5 32.  32.5 33.  33.5 34.  34.5\n",
      " 35.  35.5 36.  36.5 37.  37.5 38.  38.5 39.  39.5 40.  40.5 41.  41.5\n",
      " 42.  42.5 43.  43.5 44.  44.5 45.  45.5 46.  46.5 47.  47.5 48.  48.5\n",
      " 49.  49.5 50.  50.5 51.  51.5 52.  52.5 53.  53.5 54.  54.5 55.  55.5\n",
      " 56.  56.5 57.  57.5 58.  58.5 59.  59.5 60.  60.5 61.  61.5 62.  62.5\n",
      " 63.  63.5 64.  64.5 65.  65.5 66.  66.5 67.  67.5 68.  68.5 69.  69.5\n",
      " 70.  70.5 71.  71.5 72.  72.5 73.  73.5 74.  74.5]\n"
     ]
    },
    {
     "data": {
      "image/png": "[encoded data removed]",
      "text/plain": [
       "<Figure size 640x480 with 1 Axes>"
      ]
     },
     "metadata": {},
     "output_type": "display_data"
    }
   ],
   "source": [
    "# Importere Bibliotek\n",
    "import matplotlib.pyplot as plt\n",
    "import random\n",
    "import numpy as np\n",
    "\n",
    "#Definerer parametre / konstanter\n",
    "maks_last = 75 #kg\n",
    "kost_fiske = 5 #kr/kg\n",
    "n_baater = 3 #Båter per fisketur\n",
    "n_totalt = 3*100\n",
    "\n",
    "\n",
    "#Lag P funksjon (markedspris)\n",
    "def beregn_markedspris(Qa, Qb, Qc):\n",
    "    pris = 45-(0.2*(Qa+Qb+Qc))\n",
    "    return pris\n",
    "\n",
    "#Lag profittfunksjon\n",
    "def beregn_profit(Q,P):\n",
    "    return P*(Q-kost_fiske)\n",
    "\n",
    "\n",
    "laster = np.arange(0,maks_last,0.5)\n",
    "print(laster)\n",
    "P_liste = [beregn_markedspris(q,q,q) for q in laster]\n",
    "plt.plot(laster,P_liste)\n",
    "\n",
    "profitliste = \n",
    "\n",
    "\n",
    "\n",
    "\n",
    "def fisk_tilfeldig():\n",
    "    return random.random()*maks_last\n",
    "    \n",
    "def lag_tilfeldig_skute():\n",
    "    skute = {\"navn\": \"Tilfeldig\", \n",
    "         \"saldo\": 1000, \n",
    "         \"tidligere_fangst\": [], \n",
    "         \"fangst\": 0,\n",
    "         \"fiskefunksjon\": fisk_tilfeldig}\n",
    "    return skute\n",
    "\n",
    "skuteliste = []\n",
    "for i in range(n_totalt):\n",
    "    skuteliste.append(lag_tilfeldig_skute())\n",
    "skuteliste = [lag_tilfeldig_skute() for _ in range(n_totalt)]\n",
    "\n",
    "\n",
    "\n",
    "\n"
   ]
  },
  {
   "cell_type": "code",
   "execution_count": null,
   "id": "88fc33ee-8408-4e3d-ac6b-bd21e9dc06d7",
   "metadata": {},
   "outputs": [],
   "source": []
  }
 ],
 "metadata": {
  "kernelspec": {
   "display_name": "Python 3 (ipykernel)",
   "language": "python",
   "name": "python3"
  },
  "language_info": {
   "codemirror_mode": {
    "name": "ipython",
    "version": 3
   },
   "file_extension": ".py",
   "mimetype": "text/x-python",
   "name": "python",
   "nbconvert_exporter": "python",
   "pygments_lexer": "ipython3",
   "version": "3.11.7"
  }
 },
 "nbformat": 4,
 "nbformat_minor": 5
}
