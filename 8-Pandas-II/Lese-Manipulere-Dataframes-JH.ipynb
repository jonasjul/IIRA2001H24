{
 "cells": [
  {
   "cell_type": "markdown",
   "id": "c23c7d86",
   "metadata": {
    "slideshow": {
     "slide_type": "slide"
    },
    "tags": []
   },
   "source": [
    "<img src=\"img/dfnavn1.jpg\" width=\"550\">"
   ]
  },
  {
   "cell_type": "markdown",
   "id": "590d191e",
   "metadata": {
    "slideshow": {
     "slide_type": "subslide"
    },
    "tags": []
   },
   "source": [
    "### Oppgave 3:\n",
    "\n",
    "\n",
    "Under har vi et lite pandas dataframe.\n",
    "![oppg1](img/dataframe_oppg3.png)\n",
    "\n",
    "Prøv å lage tabellen ved å bruke metodene over\n",
    "\n"
   ]
  },
  {
   "cell_type": "markdown",
   "id": "8ec27a1e",
   "metadata": {
    "slideshow": {
     "slide_type": "subslide"
    },
    "tags": []
   },
   "source": [
    "### Series\n",
    "* Vi lagde pandas `Series` med `pd.Series(data=None, index=None, dtype=None, name=None, copy=None)`\n",
    "* Når argumentene står som feks `index = None` betyr det at den ikke er obligatorisk å ha med når vi lager et `Series`-objekt\n",
    "* Dersom vi ikke tar de med får de verdien `None` som «default»"
   ]
  },
  {
   "cell_type": "code",
   "execution_count": 1,
   "id": "3d82473e",
   "metadata": {
    "slideshow": {
     "slide_type": "subslide"
    },
    "tags": []
   },
   "outputs": [
    {
     "data": {
      "text/plain": [
       "2010    2000000.0\n",
       "2011    3000000.0\n",
       "2012    1800000.0\n",
       "2013    1500000.0\n",
       "Name: BNP, dtype: float64"
      ]
     },
     "execution_count": 1,
     "metadata": {},
     "output_type": "execute_result"
    }
   ],
   "source": [
    "import pandas as pd\n",
    "import numpy as np\n",
    "\n",
    "indeks = range(2010,2014)\n",
    "arbeidsledighet = pd.Series(data=[0.02, 0.023, 0.026, 0.031], index=indeks, name=\"Arbeidsledighet\")\n",
    "\n",
    "#vi kan droppe data=..., index=... så lenge vi gir data i riktig rekkefølge\n",
    "konkurser = pd.Series([100,120,250,180], indeks, name=\"Konkurser\") \n",
    "\n",
    "#Det er ofte lurt å ha viktige argumenter til series som egne variabler\n",
    "BNPdata = np.array([2e6, 3e6, 1.8e6, 1.5e6])\n",
    "BNP = pd.Series(BNPdata, indeks, name=\"BNP\", copy=True)\n",
    "\n",
    "# Ofte er data til Series eller DataFrame ikke kopiert inn -- men lagret som referanser til originaldata\n",
    "BNPdata[0] = 2.1e6\n",
    "BNP"
   ]
  },
  {
   "cell_type": "markdown",
   "id": "fa699c52-97e9-4c53-965f-74e7eb01232c",
   "metadata": {
    "slideshow": {
     "slide_type": "subslide"
    },
    "tags": []
   },
   "source": [
    "### DataFrame\n",
    "\n",
    "* Vi lagde pandas dataframes med `pd.DataFrame(data=None, index=None, columns=None, dtype=None, copy=None)`\n",
    "* Her er `columns` nytt -- den gir navnene til kolonnene i \"tabellen\" vår dersom de mangler fra `data`\n",
    "* Dersom kolonnenavnene er gitt fra `data` bruker vi `columns` til å velge ut hvilke kolonner vi vil ha i dataframet vårt"
   ]
  },
  {
   "cell_type": "markdown",
   "id": "da470ee7-4340-4559-99b3-84188e546466",
   "metadata": {
    "slideshow": {
     "slide_type": "subslide"
    },
    "tags": []
   },
   "source": [
    "### DataFrame-- data\n",
    "\n",
    "* `data` til Series var 1-dimensjonal, men i en dataframe må vi oppgi (sannsynligvis) flere dataserier som kolonner\n",
    "* Den mest vanlige måten er med en dictionary: ` data = {\"Kolonne1\": data1, \"Kolonne2\": data2, ... }`\n",
    "* Dersom vi har en rekke `Series` som beskriver *radene* har vi `data = [rad1, rad2, ....]` hvor `rad1` er en `Series`"
   ]
  },
  {
   "cell_type": "code",
   "execution_count": 2,
   "id": "5d5ff652-7647-45c7-a642-6c7a60b7ee2b",
   "metadata": {
    "slideshow": {
     "slide_type": "subslide"
    },
    "tags": []
   },
   "outputs": [
    {
     "data": {
      "text/html": [
       "<div>\n",
       "<style scoped>\n",
       "    .dataframe tbody tr th:only-of-type {\n",
       "        vertical-align: middle;\n",
       "    }\n",
       "\n",
       "    .dataframe tbody tr th {\n",
       "        vertical-align: top;\n",
       "    }\n",
       "\n",
       "    .dataframe thead th {\n",
       "        text-align: right;\n",
       "    }\n",
       "</style>\n",
       "<table border=\"1\" class=\"dataframe\">\n",
       "  <thead>\n",
       "    <tr style=\"text-align: right;\">\n",
       "      <th></th>\n",
       "      <th>Arbeidsledighet</th>\n",
       "      <th>Konkurser</th>\n",
       "      <th>BNP</th>\n",
       "    </tr>\n",
       "  </thead>\n",
       "  <tbody>\n",
       "    <tr>\n",
       "      <th>2010</th>\n",
       "      <td>0.020</td>\n",
       "      <td>100</td>\n",
       "      <td>2000000.0</td>\n",
       "    </tr>\n",
       "    <tr>\n",
       "      <th>2011</th>\n",
       "      <td>0.023</td>\n",
       "      <td>120</td>\n",
       "      <td>3000000.0</td>\n",
       "    </tr>\n",
       "    <tr>\n",
       "      <th>2012</th>\n",
       "      <td>0.026</td>\n",
       "      <td>250</td>\n",
       "      <td>1800000.0</td>\n",
       "    </tr>\n",
       "    <tr>\n",
       "      <th>2013</th>\n",
       "      <td>0.031</td>\n",
       "      <td>180</td>\n",
       "      <td>1500000.0</td>\n",
       "    </tr>\n",
       "  </tbody>\n",
       "</table>\n",
       "</div>"
      ],
      "text/plain": [
       "      Arbeidsledighet  Konkurser        BNP\n",
       "2010            0.020        100  2000000.0\n",
       "2011            0.023        120  3000000.0\n",
       "2012            0.026        250  1800000.0\n",
       "2013            0.031        180  1500000.0"
      ]
     },
     "execution_count": 2,
     "metadata": {},
     "output_type": "execute_result"
    }
   ],
   "source": [
    "#Lag datavariabel til dataframe\n",
    "oppg3_data = {arbeidsledighet.name: arbeidsledighet, \n",
    "             konkurser.name: konkurser,\n",
    "             BNP.name: BNP}\n",
    "\n",
    "#Lag dataframe\n",
    "oppg3_df = pd.DataFrame(oppg3_data)\n",
    "oppg3_df"
   ]
  },
  {
   "cell_type": "markdown",
   "id": "5d03e9a0-794d-46fe-bdf1-a17696f0396f",
   "metadata": {
    "slideshow": {
     "slide_type": "slide"
    },
    "tags": []
   },
   "source": [
    "## Hente ut eller endre deler av DataFrame/Series"
   ]
  },
  {
   "cell_type": "markdown",
   "id": "a6024601-8e03-43aa-9130-b42bc71ccae7",
   "metadata": {
    "slideshow": {
     "slide_type": "fragment"
    },
    "tags": []
   },
   "source": [
    "* Når vi har lagt til dataen vår in en dataframe, trenger vi å kunne slå opp i den\n",
    "* Enten vi vil endre eller bare lese dataene, er det forholdsvis mange måter på gjøre dette på"
   ]
  },
  {
   "cell_type": "markdown",
   "id": "5decfb76-49ad-4cc9-ae9d-eab255c25624",
   "metadata": {
    "slideshow": {
     "slide_type": "subslide"
    },
    "tags": []
   },
   "source": [
    "### Series\n",
    "* Vi Kan slå opp med label (etikketter i index) eller med radnummer\n",
    "* Det kjappeste er å bruke `s[\"label\"]` eller `s[index]` for å slå opp dataen på «label» eller indeks i serien `s`"
   ]
  },
  {
   "cell_type": "code",
   "execution_count": 3,
   "id": "bb15329e-1100-43b3-8df9-cb029d58f7c7",
   "metadata": {
    "slideshow": {
     "slide_type": "fragment"
    },
    "tags": []
   },
   "outputs": [
    {
     "name": "stdout",
     "output_type": "stream",
     "text": [
      "BNP i 2011 var 3000000.0\n"
     ]
    }
   ],
   "source": [
    "#Lagre verdi i serie som varibel\n",
    "BNP_2011 = BNP[2011]\n",
    "print(\"BNP i 2011 var\", BNP_2011)"
   ]
  },
  {
   "cell_type": "code",
   "execution_count": 4,
   "id": "dc9ac72d-7539-43d4-8c70-80c379fed722",
   "metadata": {
    "slideshow": {
     "slide_type": "fragment"
    },
    "tags": []
   },
   "outputs": [
    {
     "data": {
      "text/plain": [
       "2010    2000000.0\n",
       "2011    7000000.0\n",
       "2012    1800000.0\n",
       "2013    1500000.0\n",
       "Name: BNP, dtype: float64"
      ]
     },
     "execution_count": 4,
     "metadata": {},
     "output_type": "execute_result"
    }
   ],
   "source": [
    "#Endre verdi i serie\n",
    "BNP[2011] = 7e6\n",
    "BNP "
   ]
  },
  {
   "cell_type": "code",
   "execution_count": 5,
   "id": "6db122fa-e822-4fb5-8c25-696604671ba5",
   "metadata": {
    "slideshow": {
     "slide_type": "subslide"
    },
    "tags": []
   },
   "outputs": [
    {
     "data": {
      "text/plain": [
       "a    100\n",
       "b     20\n",
       "c     30\n",
       "d     40\n",
       "e     50\n",
       "f     60\n",
       "dtype: int64"
      ]
     },
     "execution_count": 5,
     "metadata": {},
     "output_type": "execute_result"
    }
   ],
   "source": [
    "# Series med tekstreng etiketter\n",
    "s = pd.Series([10, 20, 30, 40, 50, 60], index=['a', 'b', 'c', 'd', 'e', 'f'])\n",
    "s['a'] = 100 # Modifiserer verdi på label 'a'\n",
    "s"
   ]
  },
  {
   "cell_type": "markdown",
   "id": "373258e4-df83-48f6-891f-614709f0adee",
   "metadata": {
    "slideshow": {
     "slide_type": "subslide"
    },
    "tags": []
   },
   "source": [
    "* Dersom vi heller vil bruke nummeret enn etikketten bruker vi .iloc(...)"
   ]
  },
  {
   "cell_type": "code",
   "execution_count": 6,
   "id": "cb78c119-154c-4895-bc4a-ee9a4c6acab9",
   "metadata": {
    "slideshow": {
     "slide_type": "fragment"
    },
    "tags": []
   },
   "outputs": [
    {
     "data": {
      "text/plain": [
       "7000000.0"
      ]
     },
     "execution_count": 6,
     "metadata": {},
     "output_type": "execute_result"
    }
   ],
   "source": [
    "# Datapunkt nummer 2\n",
    "BNP.iloc[1]"
   ]
  },
  {
   "cell_type": "markdown",
   "id": "f413de84-f4e2-4862-ac23-aca7c230f3dd",
   "metadata": {
    "slideshow": {
     "slide_type": "subslide"
    },
    "tags": []
   },
   "source": [
    "* Vi kan slå opp i flere verdier samtidig ved å gi en liste\n",
    "  * `s[[\"label2\", \"label4\"]]` eller `s[[indeks2, indeks4]]`\n",
    "  * `s.iloc[[indeks4,indeks6]]`"
   ]
  },
  {
   "cell_type": "code",
   "execution_count": 7,
   "id": "621312de-4fae-4894-9a93-9dc7e68f6a2f",
   "metadata": {
    "slideshow": {
     "slide_type": "fragment"
    },
    "tags": []
   },
   "outputs": [
    {
     "name": "stdout",
     "output_type": "stream",
     "text": [
      "2011    7000000.0\n",
      "2013    1500000.0\n",
      "Name: BNP, dtype: float64\n",
      "a    100\n",
      "c     30\n",
      "dtype: int64\n",
      "2010    2000000.0\n",
      "2012    1800000.0\n",
      "Name: BNP, dtype: float64\n"
     ]
    }
   ],
   "source": [
    "#Hent BNP i 2011 og 2013\n",
    "print(BNP[[2011, 2013]])\n",
    "#Hent fra indexetiketter 'a' og 'c'\n",
    "print(s[['a', 'c']])\n",
    "#Hent fra indexnummer 0 og 2\n",
    "print(BNP.iloc[[0,2]])"
   ]
  },
  {
   "cell_type": "markdown",
   "id": "91cfd971-3b81-44f7-90cc-27556d80e0b0",
   "metadata": {
    "slideshow": {
     "slide_type": "subslide"
    },
    "tags": []
   },
   "source": [
    "#### Skjæring/Slicing\n",
    "* Ofte vil vi slå opp en rekke eller et spenn med verdier -- feks alle mellom 1995 og 2000\n",
    "* Da kan vi *skjære* eller *slice*\n",
    "* Vi slicer på samme måter som vanlige lister `s[start:stop]`\n",
    "* Start/stop kan være indekser eller etiketter"
   ]
  },
  {
   "cell_type": "code",
   "execution_count": 8,
   "id": "b865bacd-b57b-4536-9048-468c4f419a61",
   "metadata": {
    "slideshow": {
     "slide_type": "subslide"
    },
    "tags": []
   },
   "outputs": [
    {
     "name": "stdout",
     "output_type": "stream",
     "text": [
      "b    20\n",
      "c    30\n",
      "d    40\n",
      "e    50\n",
      "dtype: int64\n",
      "b    20\n",
      "c    30\n",
      "d    40\n",
      "e    50\n",
      "dtype: int64\n"
     ]
    }
   ],
   "source": [
    "# fra 'b' til og med 'e'\n",
    "print(s['b':'e'])\n",
    "# fra 1 til men IKKE med 5\n",
    "print(s.iloc[1:5])"
   ]
  },
  {
   "cell_type": "markdown",
   "id": "a62954cb-2a0c-4bda-93c6-3a90314f5099",
   "metadata": {
    "slideshow": {
     "slide_type": "subslide"
    },
    "tags": []
   },
   "source": [
    "Tabellen under oppsummerer flere måter å slå opp i `Series`-objekter på \n",
    "\n",
    "| Operasjon                            | Syntaks / Metode                                   | Eksempelkode                                                 | Beskrivelse                                                                 |\n",
    "|--------------------------------------|----------------------------------------------------|--------------------------------------------------------------|-----------------------------------------------------------------------------|\n",
    "| Tilgang til et element med indeksering| `s[index]`                                         | `s[0]`                                                       | Returnerer verdien på den spesifikke posisjonen (0-indeksert).              |\n",
    "| Tilgang til et element med etikett    | `s['label']`                                       | `s['Alice']`                                                 | Returnerer verdien for det spesifikke etikettenavnet.                       |\n",
    "| Tilgang til flere elementer (liste)   | `s[[index1, index2]]`                              | `s[[0, 2]]`                                                  | Returnerer en ny Serie med verdier for de spesifikke posisjonene.           |\n",
    "| Tilgang til flere elementer (etiketter)| `s[['label1', 'label2']]`                          | `s[['Alice', 'Bob']]`                                        | Returnerer en ny Serie med verdier for de spesifikke etikettene.            |\n",
    "| Tilgang til verdi med `.at[]`         | `s.at['label']`                                    | `s.at['Bob']`                                                | Henter en enkelt verdi ved å bruke etikett.                                 |\n",
    "| Tilgang til verdi med `.iat[]`        | `s.iat[index]`                                     | `s.iat[1]`                                                   | Henter en enkelt verdi ved å bruke indeksposisjon.                          |\n",
    "| Skjæring (slicing) med etiketter      | `s['start_label':'end_label']`                     | `s['Alice':'Charlie']`                                       | Returnerer verdiene mellom start- og sluttetiketten (inklusiv).             |\n",
    "| Skjæring (slicing) med indeksering    | `s[start_index:end_index]`                         | `s[0:2]`                                                     | Returnerer verdiene mellom start- og sluttindeks (slutten eksklusiv).       |\n",
    "| Betinget valg                        | `s[s > value]`                                     | `s[s > 25]`                                                  | Returnerer verdier der betingelsen er oppfylt.                              |\n",
    "| Tilgang med flere betingelser         | `s[(s > value1) & (s < value2)]`                   | `s[(s > 25) & (s < 35)]`                                     | Returnerer verdier der begge betingelser er oppfylt (`&` for OG).           |\n",
    "| Verdier i en liste                   | `s[s.isin([list_of_values])]`                      | `s[s.isin([25, 35])]`                                        | Returnerer verdier som er i den oppgitte listen.                            |\n",
    "| Tilgang til elementer med `.loc[]`    | `s.loc['label']` eller `s.loc[start:end]`          | `s.loc['Alice']` eller `s.loc['Alice':'Charlie']`            | Returnerer verdier med etiketter eller skjæring.                            |\n",
    "| Tilgang til elementer med `.iloc[]`   | `s.iloc[index]` eller `s.iloc[start:end]`          | `s.iloc[1]` eller `s.iloc[0:2]`                              | Returnerer verdier med indeksering eller skjæring.                          |\n",
    "\n"
   ]
  },
  {
   "cell_type": "markdown",
   "id": "1dbd2a74-ad5e-4707-a388-4aeedbddd02e",
   "metadata": {
    "slideshow": {
     "slide_type": "subslide"
    },
    "tags": []
   },
   "source": [
    "* Fra tabellen ser vi at man kan både bruke `s[\"label\"]` og `s.loc[\"label\"]`\n",
    "* Med `.loc[]` mener vi eksplisitt at vi skal bruke label, mens `[]` er litt tvetydig\n",
    "* Med og uten `s[..]` og `s.loc[...]` er identiske i bruk, bortsett fra med slicing\n",
    "* `s.loc[start:stop]` er fra start til og med stop, mens `s[start:stop]` er fra start til men IKKE med stop\n",
    "* Andre rare forskjeller kan forekomme, så test begge om rare ting foregår"
   ]
  },
  {
   "cell_type": "code",
   "execution_count": 9,
   "id": "68a8f34b-87d9-4327-8c52-06b897a256ab",
   "metadata": {
    "slideshow": {
     "slide_type": "subslide"
    },
    "tags": []
   },
   "outputs": [
    {
     "name": "stdout",
     "output_type": "stream",
     "text": [
      "Series([], Name: BNP, dtype: float64)\n",
      "2011    7000000.0\n",
      "2012    1800000.0\n",
      "2013    1500000.0\n",
      "Name: BNP, dtype: float64\n",
      "2010    2000000.0\n",
      "2011    7000000.0\n",
      "2012    1800000.0\n",
      "Name: BNP, dtype: float64\n"
     ]
    }
   ],
   "source": [
    "BNP.index #BNP har en RangeIndex index\n",
    "print(BNP[2011:2014]) #Returnerer ingenting\n",
    "print(BNP.loc[2011:2013])#Funker som forventet fra/til og med\n",
    "print(BNP[0:3]) # [] vet ikke om den skal bruke labels eller indeks -- .loc[] gjør det tydelig at det er med labels"
   ]
  },
  {
   "cell_type": "markdown",
   "id": "a01487e6-0483-48cc-ba40-3f9cf92bf594",
   "metadata": {
    "slideshow": {
     "slide_type": "slide"
    },
    "tags": []
   },
   "source": [
    "### DataFrames\n",
    "* Med DataFrames har vi 2-dimensjonal data.\n",
    "  * Vi trenger å velge kolonner\n",
    "  * Vi trenger å velge rader\n",
    "  * Vi trenger å velge et datapunkt på en (rad, kolonne)"
   ]
  },
  {
   "cell_type": "markdown",
   "id": "437ab2cb-e859-4381-8c6e-5e3c628e1fdb",
   "metadata": {
    "slideshow": {
     "slide_type": "subslide"
    },
    "tags": []
   },
   "source": [
    "#### Kolonner\n",
    "* Vi bruker nå `df[\"kolonne\"]` for å velge en kolonne (Gir en Series)\n",
    "* Eventuelt `df[[\"kolonne2\", \"kolonne4\", ...]]` for å velge flere kolonner (Gir et DataFrame)"
   ]
  },
  {
   "cell_type": "code",
   "execution_count": 10,
   "id": "e01a3c82-b82e-47ad-bce7-b9c7edc91b87",
   "metadata": {
    "slideshow": {
     "slide_type": "fragment"
    },
    "tags": []
   },
   "outputs": [
    {
     "data": {
      "text/html": [
       "<div>\n",
       "<style scoped>\n",
       "    .dataframe tbody tr th:only-of-type {\n",
       "        vertical-align: middle;\n",
       "    }\n",
       "\n",
       "    .dataframe tbody tr th {\n",
       "        vertical-align: top;\n",
       "    }\n",
       "\n",
       "    .dataframe thead th {\n",
       "        text-align: right;\n",
       "    }\n",
       "</style>\n",
       "<table border=\"1\" class=\"dataframe\">\n",
       "  <thead>\n",
       "    <tr style=\"text-align: right;\">\n",
       "      <th></th>\n",
       "      <th>Arbeidsledighet</th>\n",
       "      <th>Konkurser</th>\n",
       "      <th>BNP</th>\n",
       "    </tr>\n",
       "  </thead>\n",
       "  <tbody>\n",
       "    <tr>\n",
       "      <th>2010</th>\n",
       "      <td>0.020</td>\n",
       "      <td>100</td>\n",
       "      <td>2000000.0</td>\n",
       "    </tr>\n",
       "    <tr>\n",
       "      <th>2011</th>\n",
       "      <td>0.023</td>\n",
       "      <td>120</td>\n",
       "      <td>3000000.0</td>\n",
       "    </tr>\n",
       "    <tr>\n",
       "      <th>2012</th>\n",
       "      <td>0.026</td>\n",
       "      <td>250</td>\n",
       "      <td>1800000.0</td>\n",
       "    </tr>\n",
       "    <tr>\n",
       "      <th>2013</th>\n",
       "      <td>0.031</td>\n",
       "      <td>180</td>\n",
       "      <td>1500000.0</td>\n",
       "    </tr>\n",
       "  </tbody>\n",
       "</table>\n",
       "</div>"
      ],
      "text/plain": [
       "      Arbeidsledighet  Konkurser        BNP\n",
       "2010            0.020        100  2000000.0\n",
       "2011            0.023        120  3000000.0\n",
       "2012            0.026        250  1800000.0\n",
       "2013            0.031        180  1500000.0"
      ]
     },
     "execution_count": 10,
     "metadata": {},
     "output_type": "execute_result"
    }
   ],
   "source": [
    "df = oppg3_df\n",
    "df "
   ]
  },
  {
   "cell_type": "code",
   "execution_count": 11,
   "id": "de8a0818-a079-4ddf-b1ce-cb041d5074af",
   "metadata": {
    "slideshow": {
     "slide_type": "subslide"
    },
    "tags": []
   },
   "outputs": [
    {
     "name": "stdout",
     "output_type": "stream",
     "text": [
      "2010    0.020\n",
      "2011    0.023\n",
      "2012    0.026\n",
      "2013    0.031\n",
      "Name: Arbeidsledighet, dtype: float64\n",
      "      Arbeidsledighet        BNP\n",
      "2010            0.020  2000000.0\n",
      "2011            0.023  3000000.0\n",
      "2012            0.026  1800000.0\n",
      "2013            0.031  1500000.0\n"
     ]
    }
   ],
   "source": [
    "print(df[\"Arbeidsledighet\"])#Velg 1 kolonne\n",
    "print(df[[\"Arbeidsledighet\", \"BNP\"]])# Velg flere kolonner\n",
    "#df[[\"Arbeidsledighet\", \"BNP\"]]"
   ]
  },
  {
   "cell_type": "markdown",
   "id": "5038c1fd-46d9-4718-a7e3-3be3e2b5e507",
   "metadata": {
    "slideshow": {
     "slide_type": "subslide"
    },
    "tags": []
   },
   "source": [
    "#### Rader\n",
    "* For de fleste andre operasjoner kan vi bruke en variant med `.loc[]`\n",
    "* For å velge en eller flere rader, feks:"
   ]
  },
  {
   "cell_type": "code",
   "execution_count": 12,
   "id": "830185da-97ad-4874-90fd-93b71d43d0b7",
   "metadata": {
    "slideshow": {
     "slide_type": "fragment"
    },
    "tags": []
   },
   "outputs": [
    {
     "name": "stdout",
     "output_type": "stream",
     "text": [
      "Arbeidsledighet          0.02\n",
      "Konkurser              100.00\n",
      "BNP                2000000.00\n",
      "Name: 2010, dtype: float64\n",
      "      Arbeidsledighet  Konkurser        BNP\n",
      "2010            0.020        100  2000000.0\n",
      "2012            0.026        250  1800000.0\n"
     ]
    },
    {
     "data": {
      "text/html": [
       "<div>\n",
       "<style scoped>\n",
       "    .dataframe tbody tr th:only-of-type {\n",
       "        vertical-align: middle;\n",
       "    }\n",
       "\n",
       "    .dataframe tbody tr th {\n",
       "        vertical-align: top;\n",
       "    }\n",
       "\n",
       "    .dataframe thead th {\n",
       "        text-align: right;\n",
       "    }\n",
       "</style>\n",
       "<table border=\"1\" class=\"dataframe\">\n",
       "  <thead>\n",
       "    <tr style=\"text-align: right;\">\n",
       "      <th></th>\n",
       "      <th>Arbeidsledighet</th>\n",
       "      <th>Konkurser</th>\n",
       "      <th>BNP</th>\n",
       "    </tr>\n",
       "  </thead>\n",
       "  <tbody>\n",
       "    <tr>\n",
       "      <th>2011</th>\n",
       "      <td>0.023</td>\n",
       "      <td>120</td>\n",
       "      <td>3000000.0</td>\n",
       "    </tr>\n",
       "    <tr>\n",
       "      <th>2012</th>\n",
       "      <td>0.026</td>\n",
       "      <td>250</td>\n",
       "      <td>1800000.0</td>\n",
       "    </tr>\n",
       "    <tr>\n",
       "      <th>2013</th>\n",
       "      <td>0.031</td>\n",
       "      <td>180</td>\n",
       "      <td>1500000.0</td>\n",
       "    </tr>\n",
       "  </tbody>\n",
       "</table>\n",
       "</div>"
      ],
      "text/plain": [
       "      Arbeidsledighet  Konkurser        BNP\n",
       "2011            0.023        120  3000000.0\n",
       "2012            0.026        250  1800000.0\n",
       "2013            0.031        180  1500000.0"
      ]
     },
     "execution_count": 12,
     "metadata": {},
     "output_type": "execute_result"
    }
   ],
   "source": [
    "print(df.loc[2010])# Rad med indeks 2010\n",
    "print(df.loc[[2010, 2012]]) # []-liste med indekser for å få flere rader\n",
    "df.loc[2011:2013] #Slicing av rader fra -> til og med\n",
    "    "
   ]
  },
  {
   "cell_type": "markdown",
   "id": "b991f3ff-0a1d-484c-b4f4-7ca3a868e3df",
   "metadata": {
    "slideshow": {
     "slide_type": "subslide"
    },
    "tags": []
   },
   "source": [
    "#### Rader og Kolonner\n",
    "* Vi bruker også gjerne `.loc[]` nå man velger både rader og kolonner\n",
    "* Det har former som:\n",
    "  * `df.loc[rad, kolonne]` gir datapunkt på rad \"rad\" og i kolonne \"kolonne\"\n",
    "  * `df.loc[start:stop, kolonne]` gir rader fra start til og med stop og verdier i kolonne \"kolonne\"\n",
    "  * `df.loc[:, [\"kolonne1\", \"kolonne2\"]]` gir alle rader, og kolonner \"kolonne1\" og \"kolonne2\""
   ]
  },
  {
   "cell_type": "code",
   "execution_count": 13,
   "id": "7b483b01-8303-4a7a-ba92-f156918e8afe",
   "metadata": {
    "slideshow": {
     "slide_type": "subslide"
    },
    "tags": []
   },
   "outputs": [
    {
     "name": "stdout",
     "output_type": "stream",
     "text": [
      "BNP i 2011 er: 3000000.0\n"
     ]
    },
    {
     "data": {
      "text/html": [
       "<div>\n",
       "<style scoped>\n",
       "    .dataframe tbody tr th:only-of-type {\n",
       "        vertical-align: middle;\n",
       "    }\n",
       "\n",
       "    .dataframe tbody tr th {\n",
       "        vertical-align: top;\n",
       "    }\n",
       "\n",
       "    .dataframe thead th {\n",
       "        text-align: right;\n",
       "    }\n",
       "</style>\n",
       "<table border=\"1\" class=\"dataframe\">\n",
       "  <thead>\n",
       "    <tr style=\"text-align: right;\">\n",
       "      <th></th>\n",
       "      <th>Arbeidsledighet</th>\n",
       "      <th>BNP</th>\n",
       "    </tr>\n",
       "  </thead>\n",
       "  <tbody>\n",
       "    <tr>\n",
       "      <th>2012</th>\n",
       "      <td>0.026</td>\n",
       "      <td>1800000.0</td>\n",
       "    </tr>\n",
       "    <tr>\n",
       "      <th>2013</th>\n",
       "      <td>0.031</td>\n",
       "      <td>1500000.0</td>\n",
       "    </tr>\n",
       "  </tbody>\n",
       "</table>\n",
       "</div>"
      ],
      "text/plain": [
       "      Arbeidsledighet        BNP\n",
       "2012            0.026  1800000.0\n",
       "2013            0.031  1500000.0"
      ]
     },
     "execution_count": 13,
     "metadata": {},
     "output_type": "execute_result"
    }
   ],
   "source": [
    "print(\"BNP i 2011 er:\", df.loc[2011, \"BNP\"])\n",
    "df.loc[2011:2013, \"Arbeidsledighet\"]#Arbeidsledighet i årene 2011 til og med 2013\n",
    "df.loc[2012:2013, [\"Arbeidsledighet\", \"BNP\"]] # Arbeidsledighet og BNP, alle rader\n"
   ]
  },
  {
   "cell_type": "markdown",
   "id": "05c1438b-02a1-4eb1-bf2d-05817f09fe67",
   "metadata": {
    "slideshow": {
     "slide_type": "subslide"
    },
    "tags": []
   },
   "source": [
    "#### Tabell: Oppslag i dataframe\n",
    "\n",
    "| Operasjon                            | Syntaks / Metode                                  | Eksempelkode                                              | Beskrivelse                                                                 |\n",
    "|--------------------------------------|---------------------------------------------------|------------------------------------------------------------|-----------------------------------------------------------------------------|\n",
    "| Tilgang til en kolonne               | `df['kolonnenavn']`                               | `df['alder']`                                               | Returnerer en Serie av den valgte kolonnen.                                 |\n",
    "| Tilgang til flere kolonner           | `df[['kolonne1', 'kolonne2']]`                    | `df[['alder', 'lønn']]`                                     | Returnerer en DataFrame av de valgte kolonnene.                             |\n",
    "| Tilgang til en rad med `.loc[]`      | `df.loc[indeks]`                                  | `df.loc[0]`                                                 | Returnerer en Serie for den spesifiserte raden ved etikett eller indeks.    |\n",
    "| Tilgang til en rad med `.iloc[]`     | `df.iloc[posisjon]`                               | `df.iloc[3]`                                                | Returnerer en Serie for den spesifiserte raden basert på posisjon (0-indeksert). |\n",
    "| Tilgang til en enkelt verdi med `.at[]`| `df.at[rad_label, 'kolonne']`                 | `df.at[0, 'alder']`                                         | Henter en enkelt verdi ved hjelp av rad- og kolonneetiketter.               |\n",
    "| Tilgang til en enkelt verdi med `.iat[]`| `df.iat[rad_posisjon, kolonne_posisjon]`        | `df.iat[0, 2]`                                              | Henter en enkelt verdi ved å bruke heltallsposisjoner for rader og kolonner.|\n",
    "| Valg med betingelse                  | `df[df['kolonne'] == verdi]`                      | `df[df['alder'] > 30]`                                      | Returnerer rader der betingelsen er oppfylt.                                |\n",
    "| Slicing av rader med `.loc[]`        | `df.loc[start_rad:slutt_rad, :]`                    | `df.loc[1:3, :]`                                            | Returnerer et utvalg av rader basert på radetiketter (inklusiv).            |\n",
    "| Slicing av rader og kolonner med `.loc[]`| `df.loc[start_rad:slutt_rad, 'kol1':'kol3']`      | `df.loc[1:3, 'alder':'lønn']`                               | Returnerer et utvalg av rader og kolonner ved bruk av etiketter (inklusiv). |\n",
    "| Slicing av rader med `.iloc[]`       | `df.iloc[start_pos:slutt_pos]`                      | `df.iloc[1:4]`                                              | Returnerer et utvalg av rader basert på posisjon (eksklusiv ende).          |\n",
    "| Slicing av rader og kolonner med `.iloc[]`| `df.iloc[start_rad:slutt_rad, start_kol:slutt_kol]` | `df.iloc[1:4, 1:3]`                                         | Returnerer et utvalg av rader og kolonner basert på posisjon (eksklusiv ende).|\n",
    "| Boolske indekser                     | `df[df['kolonne'] > verdi]`                       | `df[df['lønn'] > 50000]`                                    | Filtrerer rader basert på en betingelse.                                    |\n",
    "| Tilgang med flere betingelser        | `df[(df['kol1'] > verdi1) & (df['kol2'] == verdi2)]` | `df[(df['alder'] > 30) & (df['kjønn'] == 'Mann')]`       | Returnerer rader der begge betingelser er oppfylt (`&` for OG, `|` for ELLER). |\n",
    "| Kolonneverdi i en liste              | `df[df['kolonne'].isin([liste_av_verdier])]`      | `df[df['by'].isin(['Oslo', 'Bergen'])]`                     | Returnerer rader der kolonneverdien er i den oppgitte listen.               |\n",
    "\n"
   ]
  },
  {
   "cell_type": "markdown",
   "id": "a1a9622c-6353-43a1-b715-2ef8f5c2742b",
   "metadata": {
    "slideshow": {
     "slide_type": "subslide"
    },
    "tags": []
   },
   "source": [
    "#### Viktigste å huske:\n",
    "* `df.loc[1995, \"populasjon\"]` slå opp på rad 1995 i kolonne \"populasjon\"\n",
    "* `df.loc[:, [\"populasjon\", \"utflytting\"]` Hent ut alle rader, og kolonner \"populasjon\" og \"utflytting\"\n",
    "* `df.loc[1987:2002, \"populasjon\"]` Slå opp på rader fra 1987 til 2002 i kolonnen \"populasjon\"\n",
    "\n",
    "* `df.loc[rad,kolonne]` rad/kolonne kan være:\n",
    "  * Enkeltverdi: 0, 12, 2002, \"Populasjon\", \"Ålesund\", ...\n",
    "  * Slice: 1994:2002, \"Populasjon\":\"Innflytting\", \"Adam\":\"Åge\", 1994::\n",
    "  * Liste: [\"Ålesund\", \"Molde\", \"Trondheim\"], [1994, 1997, 2000]"
   ]
  },
  {
   "cell_type": "markdown",
   "id": "f22c9f96-24b3-4f47-9f08-643aa6227c7c",
   "metadata": {
    "slideshow": {
     "slide_type": "slide"
    },
    "tags": []
   },
   "source": [
    "## Viktige metoder/funksjoner for dataframes:\n",
    "| **Funksjon/Metode**  | **Beskrivelse**                                                                                   | **Eksempel**                                |\n",
    "|----------------------|---------------------------------------------------------------------------------------------------|---------------------------------------------|\n",
    "| `df.astype()`        | Konverterer datatypen til kolonner.                                                                | `df['kolonne'].astype('int')`              |\n",
    "| `df.rename()`        | Omdøper etiketter for rader eller kolonner.                                                        | `df.rename(columns={'gammel':'ny'})`       |\n",
    "| `df.insert()`        | Setter inn en ny kolonne på en spesifisert posisjon.                                               | `df.insert(2, 'ny_kolonne', verdier)`      |\n",
    "| `df.replace()`      | Erstatter verdier med en annen verdi                                                                | `df.replace(\"Ingen verdi\", np.nan)`        |  \n",
    "| `df.transpose()`     | Transponerer DataFrame (rader blir kolonner og omvendt).                                           | `df.transpose()` eller `df.T`              |\n",
    "| `df.drop()`          | Fjerner spesifiserte etiketter fra rader eller kolonner.                                           | `df.drop(columns=['kolonne'])`             |\n",
    "| `df.set_index()`     | Angir en kolonne som den nye indeksen.                                                             | `df.set_index('kolonne')`                  |\n",
    "| `df.reset_index()`   | Tilbakestiller indeksen og gjør den om til en kolonne igjen.                                       | `df.reset_index(drop=False)`               |\n",
    "| `df.sort_values()`   | Sorterer DataFrame etter verdier i én eller flere kolonner.                                        | `df.sort_values(by='kolonne')`             |\n",
    "| `df.sort_index()`    | Sorterer DataFrame etter indeks.                                                                   | `df.sort_index()`                          |\n",
    "| `df.apply()`         | Bruker en funksjon langs en akse (rader eller kolonner).                                           | `df.apply(np.mean, axis=1)`                |\n",
    "| `df.filter()`        | Subsetter DataFrame basert på spesifiserte etiketter for rader eller kolonner.                     | `df.filter(items=['kolonne1', 'kolonne2'])`|\n",
    "| `df.groupby()`       | Grupperer DataFrame ved hjelp av en mapper eller etter kolonner.                                   | `df.groupby('kolonne').sum()`              |\n",
    "| `df.pivot_table()`   | Oppretter en pivot-tabell for DataFrame.                                                           | `df.pivot_table(verdier, indeks, kolonner)`|\n",
    "| `df.melt()`          | Konverterer DataFrame fra bredt til langt format.                                                  | `df.melt(id_vars, value_vars)`             |\n",
    "| `df.merge()`         | Slår sammen DataFrame-objekter ved bruk av en database-lignende join.                              | `df.merge(df2, on='nøkkel')`               |\n",
    "| `df.join()`          | Slår sammen kolonner fra en annen DataFrame ved bruk av indeks.                                    | `df.join(df2)`                             |\n",
    "| `df.dropna()`        | Fjerner manglende verdier.                                                                         | `df.dropna()`                              |\n",
    "| `df.fillna()`        | Fyller inn manglende verdier med en spesifisert verdi eller metode.                                | `df.fillna(0)`                             |\n",
    "| `df.isna()`          | Oppdager manglende verdier og returnerer en DataFrame med booleanske verdier.                      | `df.isna()`                                |\n",
    "| `df.duplicated()`    | Returnerer en booleansk DataFrame som indikerer om hver rad er en duplikat.                        | `df.duplicated()`                          |\n",
    "| `df.corr()`          | Beregner parvise korrelasjoner mellom kolonner.                                                    | `df.corr()`                                |\n",
    "| `df.describe()`      | Gir en statistisk oppsummering av DataFrame, inkludert gjennomsnitt, min, maks, med mer.           | `df.describe()`                            |\n",
    "| `df.info()`          | Viser en kort oppsummering av DataFrame (som typer, ikke-null verdier).                            | `df.info()`                                |\n",
    "| `df.value_counts()`  | Teller unike verdier i en kolonne.                                                                 | `df['kolonne'].value_counts()`             |\n",
    "| `df.head()`          | Returnerer de første `n` radene i DataFrame (standard er 5).                                       | `df.head(10)`                              |\n",
    "| `df.tail()`          | Returnerer de siste `n` radene i DataFrame (standard er 5).                                        | `df.tail(10)`                              |\n"
   ]
  },
  {
   "cell_type": "markdown",
   "id": "4b13cf7d-11be-4aa8-8191-87c51cea421c",
   "metadata": {
    "slideshow": {
     "slide_type": "slide"
    },
    "tags": []
   },
   "source": [
    "## Manipulere og «preppe» DataFrames\n",
    "La oss si at vi har hentet data fra en datakilde, feks SSB, og lastet det inn som et `DataFrame`\n",
    "* Typisk må vi preppe, vaske, og rydde opp i dataen vår før vi bruker den:\n",
    "  * Vi må kanskje fikse opp datatypene\n",
    "  * Vi må erstatte verdier feks '...' må gjøres om til `np.NaN`\n",
    "  * Vi må kanskje formatere dataene, feks fra tekststrenger som \"2.1%\" til \"0.021\" som flyttal\n",
    "  * Vi vil kanskje fjerne noen rader eller kolonner\n",
    "  * Kanskje vi vil legge til nye kolonner\n",
    "  * Vi vil kanskje gi nye navn til kolonner\n",
    "  * +++ mange andre ting (reindeksere, sortere, pivotere, interpolere osv.)"
   ]
  },
  {
   "cell_type": "markdown",
   "id": "9ced6c42-91b3-42ef-8fe3-15dcd05265c1",
   "metadata": {
    "slideshow": {
     "slide_type": "subslide"
    },
    "tags": []
   },
   "source": [
    "Vi skal se på noen av de viktigste.\n",
    "\n",
    "Anta at vi har hentet inn dataen under"
   ]
  },
  {
   "cell_type": "code",
   "execution_count": 14,
   "id": "aae70f69-600d-4ded-bac9-299334026dbe",
   "metadata": {
    "slideshow": {
     "slide_type": "fragment"
    },
    "tags": []
   },
   "outputs": [
    {
     "name": "stdout",
     "output_type": "stream",
     "text": [
      "Dataframe før prepping\n"
     ]
    },
    {
     "data": {
      "text/html": [
       "<div>\n",
       "<style scoped>\n",
       "    .dataframe tbody tr th:only-of-type {\n",
       "        vertical-align: middle;\n",
       "    }\n",
       "\n",
       "    .dataframe tbody tr th {\n",
       "        vertical-align: top;\n",
       "    }\n",
       "\n",
       "    .dataframe thead th {\n",
       "        text-align: right;\n",
       "    }\n",
       "</style>\n",
       "<table border=\"1\" class=\"dataframe\">\n",
       "  <thead>\n",
       "    <tr style=\"text-align: right;\">\n",
       "      <th></th>\n",
       "      <th>CustomerID</th>\n",
       "      <th>Name</th>\n",
       "      <th>Age</th>\n",
       "      <th>Income</th>\n",
       "      <th>Gender</th>\n",
       "      <th>Tax Bracket</th>\n",
       "    </tr>\n",
       "  </thead>\n",
       "  <tbody>\n",
       "    <tr>\n",
       "      <th>0</th>\n",
       "      <td>101</td>\n",
       "      <td>Alice</td>\n",
       "      <td>25</td>\n",
       "      <td>50000</td>\n",
       "      <td>Female</td>\n",
       "      <td>22.5%</td>\n",
       "    </tr>\n",
       "    <tr>\n",
       "      <th>1</th>\n",
       "      <td>102</td>\n",
       "      <td>Bob</td>\n",
       "      <td>...</td>\n",
       "      <td>60000</td>\n",
       "      <td>Male</td>\n",
       "      <td>25.2%</td>\n",
       "    </tr>\n",
       "    <tr>\n",
       "      <th>2</th>\n",
       "      <td>103</td>\n",
       "      <td>Charlie</td>\n",
       "      <td>35</td>\n",
       "      <td>45000</td>\n",
       "      <td>Male</td>\n",
       "      <td>17.8%</td>\n",
       "    </tr>\n",
       "    <tr>\n",
       "      <th>3</th>\n",
       "      <td>104</td>\n",
       "      <td>David</td>\n",
       "      <td>45</td>\n",
       "      <td>...</td>\n",
       "      <td>Male</td>\n",
       "      <td>32.5%</td>\n",
       "    </tr>\n",
       "    <tr>\n",
       "      <th>4</th>\n",
       "      <td>105</td>\n",
       "      <td>...</td>\n",
       "      <td>28</td>\n",
       "      <td>52000</td>\n",
       "      <td>Female</td>\n",
       "      <td>37.4%</td>\n",
       "    </tr>\n",
       "    <tr>\n",
       "      <th>5</th>\n",
       "      <td>106</td>\n",
       "      <td>Eve</td>\n",
       "      <td>30</td>\n",
       "      <td>...</td>\n",
       "      <td>Female</td>\n",
       "      <td>52.7%</td>\n",
       "    </tr>\n",
       "    <tr>\n",
       "      <th>6</th>\n",
       "      <td>107</td>\n",
       "      <td>Frank</td>\n",
       "      <td>29</td>\n",
       "      <td>58000</td>\n",
       "      <td>Male</td>\n",
       "      <td>22.1%</td>\n",
       "    </tr>\n",
       "    <tr>\n",
       "      <th>7</th>\n",
       "      <td>107</td>\n",
       "      <td>Frank</td>\n",
       "      <td>29</td>\n",
       "      <td>58000</td>\n",
       "      <td>Male</td>\n",
       "      <td>22.1%</td>\n",
       "    </tr>\n",
       "  </tbody>\n",
       "</table>\n",
       "</div>"
      ],
      "text/plain": [
       "   CustomerID     Name  Age Income  Gender Tax Bracket\n",
       "0         101    Alice   25  50000  Female       22.5%\n",
       "1         102      Bob  ...  60000    Male       25.2%\n",
       "2         103  Charlie   35  45000    Male       17.8%\n",
       "3         104    David   45    ...    Male       32.5%\n",
       "4         105      ...   28  52000  Female       37.4%\n",
       "5         106      Eve   30    ...  Female       52.7%\n",
       "6         107    Frank   29  58000    Male       22.1%\n",
       "7         107    Frank   29  58000    Male       22.1%"
      ]
     },
     "execution_count": 14,
     "metadata": {},
     "output_type": "execute_result"
    }
   ],
   "source": [
    "import pandas as pd\n",
    "import numpy as np\n",
    "\n",
    "# Dictionary med kundedata\n",
    "data = {\n",
    "    'CustomerID': [101, 102, 103, 104, 105, 106, 107, 107],  # Duplikat CustomerID (107)\n",
    "    'Name': ['Alice', 'Bob', 'Charlie', 'David', \"...\", 'Eve', 'Frank', 'Frank'],  # Mangler navn for ID 105\n",
    "    'Age': [25, \"...\", 35, 45, 28, 30, 29, 29],  # Mangler alder for ID 102\n",
    "    'Income': [50000, 60000, 45000, \"...\", 52000, \"...\", 58000, 58000],  # Manlger inntekt for IDs 104, 106\n",
    "    'Gender': ['Female', 'Male', 'Male', 'Male', 'Female', 'Female', 'Male', 'Male'],\n",
    "    'Tax Bracket': ['22.5%', '25.2%', '17.8%', '32.5%', '37.4%', '52.7%', '22.1%', '22.1%']\n",
    "}\n",
    "\n",
    "#Lag dataframe\n",
    "df = pd.DataFrame(data)\n",
    "\n",
    "#Viser dataframe\n",
    "print(\"Dataframe før prepping\")\n",
    "df"
   ]
  },
  {
   "cell_type": "markdown",
   "id": "1122bdbe-429d-4f11-9e9a-f108773e5e5c",
   "metadata": {
    "slideshow": {
     "slide_type": "subslide"
    },
    "tags": []
   },
   "source": [
    "### Erstatte verdier og ordne datatyper\n",
    "* I dataframet vårt er det brukt \"...\" for å representere manglende data\n",
    "* I pandas bruker vi `np.nan`\n",
    "* Vi kan bruke `df.replace()` til å endre dette"
   ]
  },
  {
   "cell_type": "code",
   "execution_count": 15,
   "id": "339bf2cc-a905-4b41-a407-0b211599a127",
   "metadata": {
    "slideshow": {
     "slide_type": "fragment"
    },
    "tags": []
   },
   "outputs": [
    {
     "name": "stderr",
     "output_type": "stream",
     "text": [
      "/tmp/ipykernel_2174719/1463314665.py:2: FutureWarning: Downcasting behavior in `replace` is deprecated and will be removed in a future version. To retain the old behavior, explicitly call `result.infer_objects(copy=False)`. To opt-in to the future behavior, set `pd.set_option('future.no_silent_downcasting', True)`\n",
      "  df.replace(to_replace={\"...\": np.nan, \"..\": np.nan})#Angi mange verdier med dictionary\n"
     ]
    },
    {
     "data": {
      "text/html": [
       "<div>\n",
       "<style scoped>\n",
       "    .dataframe tbody tr th:only-of-type {\n",
       "        vertical-align: middle;\n",
       "    }\n",
       "\n",
       "    .dataframe tbody tr th {\n",
       "        vertical-align: top;\n",
       "    }\n",
       "\n",
       "    .dataframe thead th {\n",
       "        text-align: right;\n",
       "    }\n",
       "</style>\n",
       "<table border=\"1\" class=\"dataframe\">\n",
       "  <thead>\n",
       "    <tr style=\"text-align: right;\">\n",
       "      <th></th>\n",
       "      <th>CustomerID</th>\n",
       "      <th>Name</th>\n",
       "      <th>Age</th>\n",
       "      <th>Income</th>\n",
       "      <th>Gender</th>\n",
       "      <th>Tax Bracket</th>\n",
       "    </tr>\n",
       "  </thead>\n",
       "  <tbody>\n",
       "    <tr>\n",
       "      <th>0</th>\n",
       "      <td>101</td>\n",
       "      <td>Alice</td>\n",
       "      <td>25</td>\n",
       "      <td>50000</td>\n",
       "      <td>Female</td>\n",
       "      <td>22.5%</td>\n",
       "    </tr>\n",
       "    <tr>\n",
       "      <th>1</th>\n",
       "      <td>102</td>\n",
       "      <td>Bob</td>\n",
       "      <td>...</td>\n",
       "      <td>60000</td>\n",
       "      <td>Male</td>\n",
       "      <td>25.2%</td>\n",
       "    </tr>\n",
       "    <tr>\n",
       "      <th>2</th>\n",
       "      <td>103</td>\n",
       "      <td>Charlie</td>\n",
       "      <td>35</td>\n",
       "      <td>45000</td>\n",
       "      <td>Male</td>\n",
       "      <td>17.8%</td>\n",
       "    </tr>\n",
       "    <tr>\n",
       "      <th>3</th>\n",
       "      <td>104</td>\n",
       "      <td>David</td>\n",
       "      <td>45</td>\n",
       "      <td>...</td>\n",
       "      <td>Male</td>\n",
       "      <td>32.5%</td>\n",
       "    </tr>\n",
       "    <tr>\n",
       "      <th>4</th>\n",
       "      <td>105</td>\n",
       "      <td>...</td>\n",
       "      <td>28</td>\n",
       "      <td>52000</td>\n",
       "      <td>Female</td>\n",
       "      <td>37.4%</td>\n",
       "    </tr>\n",
       "    <tr>\n",
       "      <th>5</th>\n",
       "      <td>106</td>\n",
       "      <td>Eve</td>\n",
       "      <td>30</td>\n",
       "      <td>...</td>\n",
       "      <td>Female</td>\n",
       "      <td>52.7%</td>\n",
       "    </tr>\n",
       "    <tr>\n",
       "      <th>6</th>\n",
       "      <td>107</td>\n",
       "      <td>Frank</td>\n",
       "      <td>29</td>\n",
       "      <td>58000</td>\n",
       "      <td>Male</td>\n",
       "      <td>22.1%</td>\n",
       "    </tr>\n",
       "    <tr>\n",
       "      <th>7</th>\n",
       "      <td>107</td>\n",
       "      <td>Frank</td>\n",
       "      <td>29</td>\n",
       "      <td>58000</td>\n",
       "      <td>Male</td>\n",
       "      <td>22.1%</td>\n",
       "    </tr>\n",
       "  </tbody>\n",
       "</table>\n",
       "</div>"
      ],
      "text/plain": [
       "   CustomerID     Name  Age Income  Gender Tax Bracket\n",
       "0         101    Alice   25  50000  Female       22.5%\n",
       "1         102      Bob  ...  60000    Male       25.2%\n",
       "2         103  Charlie   35  45000    Male       17.8%\n",
       "3         104    David   45    ...    Male       32.5%\n",
       "4         105      ...   28  52000  Female       37.4%\n",
       "5         106      Eve   30    ...  Female       52.7%\n",
       "6         107    Frank   29  58000    Male       22.1%\n",
       "7         107    Frank   29  58000    Male       22.1%"
      ]
     },
     "execution_count": 15,
     "metadata": {},
     "output_type": "execute_result"
    }
   ],
   "source": [
    "#df.replace(to_replace='...', value=np.nan) #Angi verdi direkte\n",
    "df.replace(to_replace={\"...\": np.nan, \"..\": np.nan})#Angi mange verdier med dictionary\n",
    "df"
   ]
  },
  {
   "cell_type": "markdown",
   "id": "e0e8fbdb-291b-4049-82ab-152b1734e189",
   "metadata": {
    "slideshow": {
     "slide_type": "subslide"
    },
    "tags": []
   },
   "source": [
    "Vi legger merke til følgende:\n",
    "* `df.replace()`gir en advarsel\n",
    "* `df.replace()` ser ut til å gjøre det den skal\n",
    "* Når vi viser dataframet på nytt er ikke endringene gjort "
   ]
  },
  {
   "cell_type": "markdown",
   "id": "7a337bb5-b288-464f-89d9-30076559c2ac",
   "metadata": {
    "slideshow": {
     "slide_type": "fragment"
    },
    "tags": []
   },
   "source": [
    "* Advarsel forteller oss at python/pandas automatisk har fikset opp i datatypene"
   ]
  },
  {
   "cell_type": "code",
   "execution_count": 16,
   "id": "d9b4c49d-a83d-4b4f-b246-8cecf47f09af",
   "metadata": {
    "slideshow": {
     "slide_type": "subslide"
    },
    "tags": []
   },
   "outputs": [
    {
     "data": {
      "text/html": [
       "<div>\n",
       "<style scoped>\n",
       "    .dataframe tbody tr th:only-of-type {\n",
       "        vertical-align: middle;\n",
       "    }\n",
       "\n",
       "    .dataframe tbody tr th {\n",
       "        vertical-align: top;\n",
       "    }\n",
       "\n",
       "    .dataframe thead th {\n",
       "        text-align: right;\n",
       "    }\n",
       "</style>\n",
       "<table border=\"1\" class=\"dataframe\">\n",
       "  <thead>\n",
       "    <tr style=\"text-align: right;\">\n",
       "      <th></th>\n",
       "      <th>CustomerID</th>\n",
       "      <th>Name</th>\n",
       "      <th>Age</th>\n",
       "      <th>Income</th>\n",
       "      <th>Gender</th>\n",
       "      <th>Tax Bracket</th>\n",
       "    </tr>\n",
       "  </thead>\n",
       "  <tbody>\n",
       "    <tr>\n",
       "      <th>0</th>\n",
       "      <td>101</td>\n",
       "      <td>Alice</td>\n",
       "      <td>25.0</td>\n",
       "      <td>50000.0</td>\n",
       "      <td>Female</td>\n",
       "      <td>22.5%</td>\n",
       "    </tr>\n",
       "    <tr>\n",
       "      <th>1</th>\n",
       "      <td>102</td>\n",
       "      <td>Bob</td>\n",
       "      <td>NaN</td>\n",
       "      <td>60000.0</td>\n",
       "      <td>Male</td>\n",
       "      <td>25.2%</td>\n",
       "    </tr>\n",
       "    <tr>\n",
       "      <th>2</th>\n",
       "      <td>103</td>\n",
       "      <td>Charlie</td>\n",
       "      <td>35.0</td>\n",
       "      <td>45000.0</td>\n",
       "      <td>Male</td>\n",
       "      <td>17.8%</td>\n",
       "    </tr>\n",
       "    <tr>\n",
       "      <th>3</th>\n",
       "      <td>104</td>\n",
       "      <td>David</td>\n",
       "      <td>45.0</td>\n",
       "      <td>NaN</td>\n",
       "      <td>Male</td>\n",
       "      <td>32.5%</td>\n",
       "    </tr>\n",
       "    <tr>\n",
       "      <th>4</th>\n",
       "      <td>105</td>\n",
       "      <td>NaN</td>\n",
       "      <td>28.0</td>\n",
       "      <td>52000.0</td>\n",
       "      <td>Female</td>\n",
       "      <td>37.4%</td>\n",
       "    </tr>\n",
       "    <tr>\n",
       "      <th>5</th>\n",
       "      <td>106</td>\n",
       "      <td>Eve</td>\n",
       "      <td>30.0</td>\n",
       "      <td>NaN</td>\n",
       "      <td>Female</td>\n",
       "      <td>52.7%</td>\n",
       "    </tr>\n",
       "    <tr>\n",
       "      <th>6</th>\n",
       "      <td>107</td>\n",
       "      <td>Frank</td>\n",
       "      <td>29.0</td>\n",
       "      <td>58000.0</td>\n",
       "      <td>Male</td>\n",
       "      <td>22.1%</td>\n",
       "    </tr>\n",
       "    <tr>\n",
       "      <th>7</th>\n",
       "      <td>107</td>\n",
       "      <td>Frank</td>\n",
       "      <td>29.0</td>\n",
       "      <td>58000.0</td>\n",
       "      <td>Male</td>\n",
       "      <td>22.1%</td>\n",
       "    </tr>\n",
       "  </tbody>\n",
       "</table>\n",
       "</div>"
      ],
      "text/plain": [
       "   CustomerID     Name   Age   Income  Gender Tax Bracket\n",
       "0         101    Alice  25.0  50000.0  Female       22.5%\n",
       "1         102      Bob   NaN  60000.0    Male       25.2%\n",
       "2         103  Charlie  35.0  45000.0    Male       17.8%\n",
       "3         104    David  45.0      NaN    Male       32.5%\n",
       "4         105      NaN  28.0  52000.0  Female       37.4%\n",
       "5         106      Eve  30.0      NaN  Female       52.7%\n",
       "6         107    Frank  29.0  58000.0    Male       22.1%\n",
       "7         107    Frank  29.0  58000.0    Male       22.1%"
      ]
     },
     "execution_count": 16,
     "metadata": {},
     "output_type": "execute_result"
    }
   ],
   "source": [
    "pd.set_option('future.no_silent_downcasting', True) #Kvitter oss med feilmelding\n",
    "df.replace(to_replace={\"...\": np.nan, \"..\": np.nan}).infer_objects()#Erstatter \"...\" og fikser datatyper"
   ]
  },
  {
   "cell_type": "markdown",
   "id": "1a22024a-3634-456a-b89e-8cc773fe5ea4",
   "metadata": {
    "slideshow": {
     "slide_type": "subslide"
    },
    "tags": []
   },
   "source": [
    "* Vi bruker `df.dtypes` til å se datatypene i dataframe\n",
    "* Merk at vi kan kjøre mange operasjoner etter hverandre `df.rename().replace().drop()`"
   ]
  },
  {
   "cell_type": "markdown",
   "id": "15514742-e69b-4a9b-bf6e-de582bb279d4",
   "metadata": {
    "slideshow": {
     "slide_type": "subslide"
    },
    "tags": []
   },
   "source": [
    "* Som regel gjør slike operasjoner ikke noe med det originale dataframet\n",
    "* Den lager heller et nytt et (Det er det som blir printet ut)\n",
    "* For å oppdatere endringene kan vi:\n",
    "  * `df = df.replace(....)` Oppdatere gammel variabel\n",
    "  * `df.replace(...., inplace=True)` Eller sette `inplace = True` (Da gjøres operasjonene på selve dataframen)"
   ]
  },
  {
   "cell_type": "code",
   "execution_count": 17,
   "id": "63c2a5b8-e7fd-4b23-be1c-fe6375e6ecf4",
   "metadata": {
    "slideshow": {
     "slide_type": "fragment"
    },
    "tags": []
   },
   "outputs": [
    {
     "data": {
      "text/plain": [
       "CustomerID       int64\n",
       "Name            object\n",
       "Age            float64\n",
       "Income         float64\n",
       "Gender          object\n",
       "Tax Bracket     object\n",
       "dtype: object"
      ]
     },
     "execution_count": 17,
     "metadata": {},
     "output_type": "execute_result"
    }
   ],
   "source": [
    "df = df.replace(to_replace={\"...\": np.nan}).infer_objects() # Gjør endringer og oppdaterer df\n",
    "df.dtypes #Nye datatyper"
   ]
  },
  {
   "cell_type": "markdown",
   "id": "a14aeab5-d254-436e-8124-1a0e99ecad74",
   "metadata": {
    "slideshow": {
     "slide_type": "subslide"
    },
    "tags": []
   },
   "source": [
    "### Caste om datatyper\n",
    "* Tekst blir ofte lagret som `object`, men dersom vi vet at der kun skal være tekst bør vi lagre det med datatypen `string`\n",
    "* Vi ser at `Age` har typen \"float64\", her kan vi heller bruke heltall, feks \"int16\""
   ]
  },
  {
   "cell_type": "markdown",
   "id": "e0399a0f-5fa9-488e-9e0e-2d58daed6093",
   "metadata": {
    "slideshow": {
     "slide_type": "subslide"
    },
    "tags": []
   },
   "source": [
    "* Vi kan bruke `df.astype(\"datatype\")` til å gjøre om datatyper\n",
    "* Eksempelet over forandrer alle datatyper i DataFrame\n",
    "* Vi kan også velge ut en kolonne:\n",
    "  * `df.astype({\"kolonne3\": \"datatype\"}, inplace=True)`\n",
    "  * `df[\"kolonne\"] = df[\"kolonne\"].astype(\"datatype\")`\n",
    "* I det første eksempelet gir vi .astype en dictionary med {\"kolonnenavn\": \"datatype\"} for alle kolonnen vi vil endre"
   ]
  },
  {
   "cell_type": "code",
   "execution_count": 18,
   "id": "ccff832c-5eb2-419d-b03b-0faa19a2592e",
   "metadata": {
    "slideshow": {
     "slide_type": "subslide"
    },
    "tags": []
   },
   "outputs": [
    {
     "name": "stdout",
     "output_type": "stream",
     "text": [
      "datatyper:\n",
      " CustomerID       int64\n",
      "Name            object\n",
      "Age            float64\n",
      "Income         float64\n",
      "Gender          object\n",
      "Tax Bracket     object\n",
      "dtype: object\n"
     ]
    },
    {
     "data": {
      "text/html": [
       "<div>\n",
       "<style scoped>\n",
       "    .dataframe tbody tr th:only-of-type {\n",
       "        vertical-align: middle;\n",
       "    }\n",
       "\n",
       "    .dataframe tbody tr th {\n",
       "        vertical-align: top;\n",
       "    }\n",
       "\n",
       "    .dataframe thead th {\n",
       "        text-align: right;\n",
       "    }\n",
       "</style>\n",
       "<table border=\"1\" class=\"dataframe\">\n",
       "  <thead>\n",
       "    <tr style=\"text-align: right;\">\n",
       "      <th></th>\n",
       "      <th>CustomerID</th>\n",
       "      <th>Name</th>\n",
       "      <th>Age</th>\n",
       "      <th>Income</th>\n",
       "      <th>Gender</th>\n",
       "      <th>Tax Bracket</th>\n",
       "    </tr>\n",
       "  </thead>\n",
       "  <tbody>\n",
       "    <tr>\n",
       "      <th>0</th>\n",
       "      <td>101</td>\n",
       "      <td>Alice</td>\n",
       "      <td>25</td>\n",
       "      <td>50000.0</td>\n",
       "      <td>Female</td>\n",
       "      <td>22.5%</td>\n",
       "    </tr>\n",
       "    <tr>\n",
       "      <th>1</th>\n",
       "      <td>102</td>\n",
       "      <td>Bob</td>\n",
       "      <td>&lt;NA&gt;</td>\n",
       "      <td>60000.0</td>\n",
       "      <td>Male</td>\n",
       "      <td>25.2%</td>\n",
       "    </tr>\n",
       "    <tr>\n",
       "      <th>2</th>\n",
       "      <td>103</td>\n",
       "      <td>Charlie</td>\n",
       "      <td>35</td>\n",
       "      <td>45000.0</td>\n",
       "      <td>Male</td>\n",
       "      <td>17.8%</td>\n",
       "    </tr>\n",
       "    <tr>\n",
       "      <th>3</th>\n",
       "      <td>104</td>\n",
       "      <td>David</td>\n",
       "      <td>45</td>\n",
       "      <td>NaN</td>\n",
       "      <td>Male</td>\n",
       "      <td>32.5%</td>\n",
       "    </tr>\n",
       "    <tr>\n",
       "      <th>4</th>\n",
       "      <td>105</td>\n",
       "      <td>&lt;NA&gt;</td>\n",
       "      <td>28</td>\n",
       "      <td>52000.0</td>\n",
       "      <td>Female</td>\n",
       "      <td>37.4%</td>\n",
       "    </tr>\n",
       "    <tr>\n",
       "      <th>5</th>\n",
       "      <td>106</td>\n",
       "      <td>Eve</td>\n",
       "      <td>30</td>\n",
       "      <td>NaN</td>\n",
       "      <td>Female</td>\n",
       "      <td>52.7%</td>\n",
       "    </tr>\n",
       "    <tr>\n",
       "      <th>6</th>\n",
       "      <td>107</td>\n",
       "      <td>Frank</td>\n",
       "      <td>29</td>\n",
       "      <td>58000.0</td>\n",
       "      <td>Male</td>\n",
       "      <td>22.1%</td>\n",
       "    </tr>\n",
       "    <tr>\n",
       "      <th>7</th>\n",
       "      <td>107</td>\n",
       "      <td>Frank</td>\n",
       "      <td>29</td>\n",
       "      <td>58000.0</td>\n",
       "      <td>Male</td>\n",
       "      <td>22.1%</td>\n",
       "    </tr>\n",
       "  </tbody>\n",
       "</table>\n",
       "</div>"
      ],
      "text/plain": [
       "   CustomerID     Name   Age   Income  Gender Tax Bracket\n",
       "0         101    Alice    25  50000.0  Female       22.5%\n",
       "1         102      Bob  <NA>  60000.0    Male       25.2%\n",
       "2         103  Charlie    35  45000.0    Male       17.8%\n",
       "3         104    David    45      NaN    Male       32.5%\n",
       "4         105     <NA>    28  52000.0  Female       37.4%\n",
       "5         106      Eve    30      NaN  Female       52.7%\n",
       "6         107    Frank    29  58000.0    Male       22.1%\n",
       "7         107    Frank    29  58000.0    Male       22.1%"
      ]
     },
     "execution_count": 18,
     "metadata": {},
     "output_type": "execute_result"
    }
   ],
   "source": [
    "print(\"datatyper:\\n\", df.dtypes)\n",
    "#df.astype(\"string\") #Gjør alt om til strings!\n",
    "df[\"Name\"] = df[\"Name\"].astype(\"string\") #Gjør om \"Name\" kolonne til string\n",
    "df = df.astype({\"Age\": \"Int16\", \"Gender\": \"string\"})#Gjør om Age og Gender til Int16 og string\n",
    "df"
   ]
  },
  {
   "cell_type": "markdown",
   "id": "2edfe2c9-84c1-485e-9251-fca8d92edfbd",
   "metadata": {
    "slideshow": {
     "slide_type": "subslide"
    },
    "tags": []
   },
   "source": [
    "*Merk: Det er forskjell på \"int16\" (numpy) og \"Int16\" (pandas). Numpy sin versjon mangler en måte å representere manglende data, derfor har pandas egen versjon*"
   ]
  },
  {
   "cell_type": "markdown",
   "id": "95c00886-10ff-436c-991b-f564d278f882",
   "metadata": {
    "slideshow": {
     "slide_type": "slide"
    },
    "tags": []
   },
   "source": [
    "\n",
    "### Manglende data\n",
    "Dersom vi mangler data kan vi:\n",
    "* Fjerne rader eller kolonner med manglende data\n",
    "* Fylle inn en bestemt verdi\n",
    "* Gjøre en slags interpolasjon (sette inn manglende data basert på feks datapunktene før og etter)\n",
    "  "
   ]
  },
  {
   "cell_type": "markdown",
   "id": "1536e79b-f799-4af2-bfac-6bad24dc96da",
   "metadata": {
    "slideshow": {
     "slide_type": "subslide"
    },
    "tags": []
   },
   "source": [
    "#### Fylle inn verdi\n",
    "* `df.fillna(verdi)` fyller inn en `verdi` for alle manglende datapunkt\n",
    "* `df[\"kolonne\"].fillna(verdi)` fyller inn for manglende verdier i \"kolonne\""
   ]
  },
  {
   "cell_type": "code",
   "execution_count": 19,
   "id": "14116374-3319-49a5-bdc6-dfbbefc77dfb",
   "metadata": {
    "slideshow": {
     "slide_type": "fragment"
    },
    "tags": []
   },
   "outputs": [
    {
     "data": {
      "text/html": [
       "<div>\n",
       "<style scoped>\n",
       "    .dataframe tbody tr th:only-of-type {\n",
       "        vertical-align: middle;\n",
       "    }\n",
       "\n",
       "    .dataframe tbody tr th {\n",
       "        vertical-align: top;\n",
       "    }\n",
       "\n",
       "    .dataframe thead th {\n",
       "        text-align: right;\n",
       "    }\n",
       "</style>\n",
       "<table border=\"1\" class=\"dataframe\">\n",
       "  <thead>\n",
       "    <tr style=\"text-align: right;\">\n",
       "      <th></th>\n",
       "      <th>CustomerID</th>\n",
       "      <th>Name</th>\n",
       "      <th>Age</th>\n",
       "      <th>Income</th>\n",
       "      <th>Gender</th>\n",
       "      <th>Tax Bracket</th>\n",
       "    </tr>\n",
       "  </thead>\n",
       "  <tbody>\n",
       "    <tr>\n",
       "      <th>0</th>\n",
       "      <td>101</td>\n",
       "      <td>Alice</td>\n",
       "      <td>25</td>\n",
       "      <td>50000.0</td>\n",
       "      <td>Female</td>\n",
       "      <td>22.5%</td>\n",
       "    </tr>\n",
       "    <tr>\n",
       "      <th>1</th>\n",
       "      <td>102</td>\n",
       "      <td>Bob</td>\n",
       "      <td>31</td>\n",
       "      <td>60000.0</td>\n",
       "      <td>Male</td>\n",
       "      <td>25.2%</td>\n",
       "    </tr>\n",
       "    <tr>\n",
       "      <th>2</th>\n",
       "      <td>103</td>\n",
       "      <td>Charlie</td>\n",
       "      <td>35</td>\n",
       "      <td>45000.0</td>\n",
       "      <td>Male</td>\n",
       "      <td>17.8%</td>\n",
       "    </tr>\n",
       "    <tr>\n",
       "      <th>3</th>\n",
       "      <td>104</td>\n",
       "      <td>David</td>\n",
       "      <td>45</td>\n",
       "      <td>NaN</td>\n",
       "      <td>Male</td>\n",
       "      <td>32.5%</td>\n",
       "    </tr>\n",
       "    <tr>\n",
       "      <th>4</th>\n",
       "      <td>105</td>\n",
       "      <td>&lt;NA&gt;</td>\n",
       "      <td>28</td>\n",
       "      <td>52000.0</td>\n",
       "      <td>Female</td>\n",
       "      <td>37.4%</td>\n",
       "    </tr>\n",
       "    <tr>\n",
       "      <th>5</th>\n",
       "      <td>106</td>\n",
       "      <td>Eve</td>\n",
       "      <td>30</td>\n",
       "      <td>NaN</td>\n",
       "      <td>Female</td>\n",
       "      <td>52.7%</td>\n",
       "    </tr>\n",
       "    <tr>\n",
       "      <th>6</th>\n",
       "      <td>107</td>\n",
       "      <td>Frank</td>\n",
       "      <td>29</td>\n",
       "      <td>58000.0</td>\n",
       "      <td>Male</td>\n",
       "      <td>22.1%</td>\n",
       "    </tr>\n",
       "    <tr>\n",
       "      <th>7</th>\n",
       "      <td>107</td>\n",
       "      <td>Frank</td>\n",
       "      <td>29</td>\n",
       "      <td>58000.0</td>\n",
       "      <td>Male</td>\n",
       "      <td>22.1%</td>\n",
       "    </tr>\n",
       "  </tbody>\n",
       "</table>\n",
       "</div>"
      ],
      "text/plain": [
       "   CustomerID     Name  Age   Income  Gender Tax Bracket\n",
       "0         101    Alice   25  50000.0  Female       22.5%\n",
       "1         102      Bob   31  60000.0    Male       25.2%\n",
       "2         103  Charlie   35  45000.0    Male       17.8%\n",
       "3         104    David   45      NaN    Male       32.5%\n",
       "4         105     <NA>   28  52000.0  Female       37.4%\n",
       "5         106      Eve   30      NaN  Female       52.7%\n",
       "6         107    Frank   29  58000.0    Male       22.1%\n",
       "7         107    Frank   29  58000.0    Male       22.1%"
      ]
     },
     "execution_count": 19,
     "metadata": {},
     "output_type": "execute_result"
    }
   ],
   "source": [
    "df.isna()#Oppdager manglende verdier for dataframe\n",
    "df[\"Age\"].isna()#Oppdager manglende verdier for Series\n",
    "\n",
    "ny_alder = df[\"Age\"].fillna(int(df[\"Age\"].mean())) #Vi fyller inn gjennomsnittsalder for manglende aldre\n",
    "df[\"Age\"] = ny_alder\n",
    "df"
   ]
  },
  {
   "cell_type": "code",
   "execution_count": 20,
   "id": "de36e780-2cdd-4d15-863a-bdf9a993297f",
   "metadata": {
    "slideshow": {
     "slide_type": "subslide"
    },
    "tags": []
   },
   "outputs": [],
   "source": [
    "minimum = df[\"Income\"].min() #minimumsinntekt\n",
    "df[\"Income\"] = df[\"Income\"].fillna(minimum) #Erstatte manglende lønn med minste lønn"
   ]
  },
  {
   "cell_type": "code",
   "execution_count": 21,
   "id": "2ab9d1aa-aba5-4d3f-9516-aa6d2b6c50ec",
   "metadata": {
    "slideshow": {
     "slide_type": "fragment"
    },
    "tags": []
   },
   "outputs": [
    {
     "data": {
      "text/html": [
       "<div>\n",
       "<style scoped>\n",
       "    .dataframe tbody tr th:only-of-type {\n",
       "        vertical-align: middle;\n",
       "    }\n",
       "\n",
       "    .dataframe tbody tr th {\n",
       "        vertical-align: top;\n",
       "    }\n",
       "\n",
       "    .dataframe thead th {\n",
       "        text-align: right;\n",
       "    }\n",
       "</style>\n",
       "<table border=\"1\" class=\"dataframe\">\n",
       "  <thead>\n",
       "    <tr style=\"text-align: right;\">\n",
       "      <th></th>\n",
       "      <th>CustomerID</th>\n",
       "      <th>Name</th>\n",
       "      <th>Age</th>\n",
       "      <th>Income</th>\n",
       "      <th>Gender</th>\n",
       "      <th>Tax Bracket</th>\n",
       "    </tr>\n",
       "  </thead>\n",
       "  <tbody>\n",
       "    <tr>\n",
       "      <th>0</th>\n",
       "      <td>101</td>\n",
       "      <td>Alice</td>\n",
       "      <td>25</td>\n",
       "      <td>50000.0</td>\n",
       "      <td>Female</td>\n",
       "      <td>22.5%</td>\n",
       "    </tr>\n",
       "    <tr>\n",
       "      <th>1</th>\n",
       "      <td>102</td>\n",
       "      <td>Bob</td>\n",
       "      <td>31</td>\n",
       "      <td>60000.0</td>\n",
       "      <td>Male</td>\n",
       "      <td>25.2%</td>\n",
       "    </tr>\n",
       "    <tr>\n",
       "      <th>2</th>\n",
       "      <td>103</td>\n",
       "      <td>Charlie</td>\n",
       "      <td>35</td>\n",
       "      <td>45000.0</td>\n",
       "      <td>Male</td>\n",
       "      <td>17.8%</td>\n",
       "    </tr>\n",
       "    <tr>\n",
       "      <th>3</th>\n",
       "      <td>104</td>\n",
       "      <td>David</td>\n",
       "      <td>45</td>\n",
       "      <td>45000.0</td>\n",
       "      <td>Male</td>\n",
       "      <td>32.5%</td>\n",
       "    </tr>\n",
       "    <tr>\n",
       "      <th>4</th>\n",
       "      <td>105</td>\n",
       "      <td>&lt;NA&gt;</td>\n",
       "      <td>28</td>\n",
       "      <td>52000.0</td>\n",
       "      <td>Female</td>\n",
       "      <td>37.4%</td>\n",
       "    </tr>\n",
       "    <tr>\n",
       "      <th>5</th>\n",
       "      <td>106</td>\n",
       "      <td>Eve</td>\n",
       "      <td>30</td>\n",
       "      <td>45000.0</td>\n",
       "      <td>Female</td>\n",
       "      <td>52.7%</td>\n",
       "    </tr>\n",
       "    <tr>\n",
       "      <th>6</th>\n",
       "      <td>107</td>\n",
       "      <td>Frank</td>\n",
       "      <td>29</td>\n",
       "      <td>58000.0</td>\n",
       "      <td>Male</td>\n",
       "      <td>22.1%</td>\n",
       "    </tr>\n",
       "    <tr>\n",
       "      <th>7</th>\n",
       "      <td>107</td>\n",
       "      <td>Frank</td>\n",
       "      <td>29</td>\n",
       "      <td>58000.0</td>\n",
       "      <td>Male</td>\n",
       "      <td>22.1%</td>\n",
       "    </tr>\n",
       "  </tbody>\n",
       "</table>\n",
       "</div>"
      ],
      "text/plain": [
       "   CustomerID     Name  Age   Income  Gender Tax Bracket\n",
       "0         101    Alice   25  50000.0  Female       22.5%\n",
       "1         102      Bob   31  60000.0    Male       25.2%\n",
       "2         103  Charlie   35  45000.0    Male       17.8%\n",
       "3         104    David   45  45000.0    Male       32.5%\n",
       "4         105     <NA>   28  52000.0  Female       37.4%\n",
       "5         106      Eve   30  45000.0  Female       52.7%\n",
       "6         107    Frank   29  58000.0    Male       22.1%\n",
       "7         107    Frank   29  58000.0    Male       22.1%"
      ]
     },
     "execution_count": 21,
     "metadata": {},
     "output_type": "execute_result"
    }
   ],
   "source": [
    "df"
   ]
  },
  {
   "cell_type": "markdown",
   "id": "60f617ee-1b48-43e6-9764-9f45d68259c1",
   "metadata": {
    "slideshow": {
     "slide_type": "subslide"
    },
    "tags": []
   },
   "source": [
    "#### Fjerne rader/kolonner med mangler\n",
    "* Noen ganger er det OK å fylle inn en eller annen verdi for manglende datapunkter\n",
    "* Andre ganger blir det helt feil å \"dikte opp\" data\n",
    "* Da må vi enten la de stå, eller fjerne de"
   ]
  },
  {
   "cell_type": "markdown",
   "id": "fa7a4ed0-66cc-48fb-aed9-42c48b8791a2",
   "metadata": {
    "slideshow": {
     "slide_type": "subslide"
    },
    "tags": []
   },
   "source": [
    "* Vi kan fjerne manglende data med `df.dropna(axis=0)` for hele dataframe\n",
    "* Eller `s.dropna()` for en Series, ie `df.[\"kolonne\"].dropna()`\n",
    "* `axis` her forteller om vi skal droppe raden eller kolonnen med manglende data\n",
    "* `axis=0` for rad og `axis=1` for kolonne"
   ]
  },
  {
   "cell_type": "code",
   "execution_count": 22,
   "id": "111676c7-4ee1-4cb6-b864-78cc39a8206e",
   "metadata": {
    "slideshow": {
     "slide_type": "subslide"
    },
    "tags": []
   },
   "outputs": [
    {
     "data": {
      "text/html": [
       "<div>\n",
       "<style scoped>\n",
       "    .dataframe tbody tr th:only-of-type {\n",
       "        vertical-align: middle;\n",
       "    }\n",
       "\n",
       "    .dataframe tbody tr th {\n",
       "        vertical-align: top;\n",
       "    }\n",
       "\n",
       "    .dataframe thead th {\n",
       "        text-align: right;\n",
       "    }\n",
       "</style>\n",
       "<table border=\"1\" class=\"dataframe\">\n",
       "  <thead>\n",
       "    <tr style=\"text-align: right;\">\n",
       "      <th></th>\n",
       "      <th>CustomerID</th>\n",
       "      <th>Name</th>\n",
       "      <th>Age</th>\n",
       "      <th>Income</th>\n",
       "      <th>Gender</th>\n",
       "      <th>Tax Bracket</th>\n",
       "    </tr>\n",
       "  </thead>\n",
       "  <tbody>\n",
       "    <tr>\n",
       "      <th>0</th>\n",
       "      <td>101</td>\n",
       "      <td>Alice</td>\n",
       "      <td>25</td>\n",
       "      <td>50000.0</td>\n",
       "      <td>Female</td>\n",
       "      <td>22.5%</td>\n",
       "    </tr>\n",
       "    <tr>\n",
       "      <th>1</th>\n",
       "      <td>102</td>\n",
       "      <td>Bob</td>\n",
       "      <td>31</td>\n",
       "      <td>60000.0</td>\n",
       "      <td>Male</td>\n",
       "      <td>25.2%</td>\n",
       "    </tr>\n",
       "    <tr>\n",
       "      <th>2</th>\n",
       "      <td>103</td>\n",
       "      <td>Charlie</td>\n",
       "      <td>35</td>\n",
       "      <td>45000.0</td>\n",
       "      <td>Male</td>\n",
       "      <td>17.8%</td>\n",
       "    </tr>\n",
       "    <tr>\n",
       "      <th>3</th>\n",
       "      <td>104</td>\n",
       "      <td>David</td>\n",
       "      <td>45</td>\n",
       "      <td>45000.0</td>\n",
       "      <td>Male</td>\n",
       "      <td>32.5%</td>\n",
       "    </tr>\n",
       "    <tr>\n",
       "      <th>5</th>\n",
       "      <td>106</td>\n",
       "      <td>Eve</td>\n",
       "      <td>30</td>\n",
       "      <td>45000.0</td>\n",
       "      <td>Female</td>\n",
       "      <td>52.7%</td>\n",
       "    </tr>\n",
       "    <tr>\n",
       "      <th>6</th>\n",
       "      <td>107</td>\n",
       "      <td>Frank</td>\n",
       "      <td>29</td>\n",
       "      <td>58000.0</td>\n",
       "      <td>Male</td>\n",
       "      <td>22.1%</td>\n",
       "    </tr>\n",
       "    <tr>\n",
       "      <th>7</th>\n",
       "      <td>107</td>\n",
       "      <td>Frank</td>\n",
       "      <td>29</td>\n",
       "      <td>58000.0</td>\n",
       "      <td>Male</td>\n",
       "      <td>22.1%</td>\n",
       "    </tr>\n",
       "  </tbody>\n",
       "</table>\n",
       "</div>"
      ],
      "text/plain": [
       "   CustomerID     Name  Age   Income  Gender Tax Bracket\n",
       "0         101    Alice   25  50000.0  Female       22.5%\n",
       "1         102      Bob   31  60000.0    Male       25.2%\n",
       "2         103  Charlie   35  45000.0    Male       17.8%\n",
       "3         104    David   45  45000.0    Male       32.5%\n",
       "5         106      Eve   30  45000.0  Female       52.7%\n",
       "6         107    Frank   29  58000.0    Male       22.1%\n",
       "7         107    Frank   29  58000.0    Male       22.1%"
      ]
     },
     "execution_count": 22,
     "metadata": {},
     "output_type": "execute_result"
    }
   ],
   "source": [
    "df.dropna(axis=1)#Dropper kolonner\n",
    "df.dropna(axis=0, inplace=True)# axis=0, default, dropper rader\n",
    "df\n"
   ]
  },
  {
   "cell_type": "markdown",
   "id": "2630005e-90bb-40ca-8b87-bae3fb90743f",
   "metadata": {
    "slideshow": {
     "slide_type": "slide"
    },
    "tags": []
   },
   "source": [
    "#### Interpolere\n",
    "* Noen ganger kan man interpolere for å fylle inn manglende verdier\n",
    "* Dersom feks folketallet er 10,000 i 1999 og 12,000 i 2001 er det en rimelig antakelse at folketallet var 11,000 i 2000\n",
    "* Vi kan bruke `df.interpolate()` eller `df[\"kolonne\"].interpolate()` for å interpolere hele dataframe, eller kun en kolonne\n",
    "* Det er mange metoder man kan bruke for å interpolere, standard er 'linear' for linjær interpolasjon.\n",
    "* Man kan også bruke feks kubisk interpolasjon -- `df.interpolate(method=\"cubic\")`"
   ]
  },
  {
   "cell_type": "code",
   "execution_count": 23,
   "id": "0f677cf0-2c81-4539-9e4d-79419561417a",
   "metadata": {
    "slideshow": {
     "slide_type": "subslide"
    },
    "tags": []
   },
   "outputs": [
    {
     "data": {
      "text/plain": [
       "Text(0.5, 1.0, 'Etter interpolasjon')"
      ]
     },
     "execution_count": 23,
     "metadata": {},
     "output_type": "execute_result"
    },
    {
     "data": {
      "image/png": "[encoded data removed]",
      "text/plain": [
       "<Figure size 640x480 with 1 Axes>"
      ]
     },
     "metadata": {},
     "output_type": "display_data"
    },
    {
     "data": {
      "image/png": "[encoded data removed]",
      "text/plain": [
       "<Figure size 640x480 with 1 Axes>"
      ]
     },
     "metadata": {},
     "output_type": "display_data"
    }
   ],
   "source": [
    "import matplotlib.pyplot as plt\n",
    "\n",
    "pop = np.array([ 96500.93856734,  90363.04270208, 112429.36382302, np.nan,\n",
    "       125544.71695161,  69633.98414487, 115983.80699903, 114977.31534508,\n",
    "       np.nan,  74276.15092698])\n",
    "innflyttinger = np.array([ 7666.28360188,  9446.22396195, 11933.314542  , np.nan,\n",
    "        9183.3708486 , 11139.45988542, 12842.7452119 , 13724.65673835,\n",
    "        np.nan,  6204.26244614])\n",
    "t = [2000+i for i in range(10)]\n",
    "\n",
    "df_pop = pd.DataFrame({\"populasjon\": pop, \"innflyttinger\": innflyttinger}, index=t)\n",
    "df_pop.plot()\n",
    "plt.title(\"Før interpolasjon\")\n",
    "\n",
    "df_pop.interpolate(method=\"cubic\", inplace=True)\n",
    "df_pop.plot()\n",
    "plt.title(\"Etter interpolasjon\")"
   ]
  },
  {
   "cell_type": "code",
   "execution_count": null,
   "id": "56d52c20-b15a-47e4-8ef8-e1a502b1888b",
   "metadata": {},
   "outputs": [],
   "source": []
  },
  {
   "cell_type": "markdown",
   "id": "71064325-7935-4d53-9a6c-3fc148d65ce2",
   "metadata": {
    "slideshow": {
     "slide_type": "slide"
    },
    "tags": []
   },
   "source": [
    "### Skifte index\n",
    "\n",
    "* Dersom vi vil bruke en av kolonnene som indeks kan vi bruke `df.set_index(\"kolonne\")`\n",
    "* Dersom vi ombestemmer oss kan vi bruke `df.reset_index()` for å gå tilbake"
   ]
  },
  {
   "cell_type": "code",
   "execution_count": 24,
   "id": "ac1769ec-21ce-4662-a55e-43abd22adda4",
   "metadata": {
    "slideshow": {
     "slide_type": "subslide"
    },
    "tags": []
   },
   "outputs": [
    {
     "data": {
      "text/html": [
       "<div>\n",
       "<style scoped>\n",
       "    .dataframe tbody tr th:only-of-type {\n",
       "        vertical-align: middle;\n",
       "    }\n",
       "\n",
       "    .dataframe tbody tr th {\n",
       "        vertical-align: top;\n",
       "    }\n",
       "\n",
       "    .dataframe thead th {\n",
       "        text-align: right;\n",
       "    }\n",
       "</style>\n",
       "<table border=\"1\" class=\"dataframe\">\n",
       "  <thead>\n",
       "    <tr style=\"text-align: right;\">\n",
       "      <th></th>\n",
       "      <th>Name</th>\n",
       "      <th>Age</th>\n",
       "      <th>Income</th>\n",
       "      <th>Gender</th>\n",
       "      <th>Tax Bracket</th>\n",
       "    </tr>\n",
       "    <tr>\n",
       "      <th>CustomerID</th>\n",
       "      <th></th>\n",
       "      <th></th>\n",
       "      <th></th>\n",
       "      <th></th>\n",
       "      <th></th>\n",
       "    </tr>\n",
       "  </thead>\n",
       "  <tbody>\n",
       "    <tr>\n",
       "      <th>101</th>\n",
       "      <td>Alice</td>\n",
       "      <td>25</td>\n",
       "      <td>50000.0</td>\n",
       "      <td>Female</td>\n",
       "      <td>22.5%</td>\n",
       "    </tr>\n",
       "    <tr>\n",
       "      <th>102</th>\n",
       "      <td>Bob</td>\n",
       "      <td>31</td>\n",
       "      <td>60000.0</td>\n",
       "      <td>Male</td>\n",
       "      <td>25.2%</td>\n",
       "    </tr>\n",
       "    <tr>\n",
       "      <th>103</th>\n",
       "      <td>Charlie</td>\n",
       "      <td>35</td>\n",
       "      <td>45000.0</td>\n",
       "      <td>Male</td>\n",
       "      <td>17.8%</td>\n",
       "    </tr>\n",
       "    <tr>\n",
       "      <th>104</th>\n",
       "      <td>David</td>\n",
       "      <td>45</td>\n",
       "      <td>45000.0</td>\n",
       "      <td>Male</td>\n",
       "      <td>32.5%</td>\n",
       "    </tr>\n",
       "    <tr>\n",
       "      <th>106</th>\n",
       "      <td>Eve</td>\n",
       "      <td>30</td>\n",
       "      <td>45000.0</td>\n",
       "      <td>Female</td>\n",
       "      <td>52.7%</td>\n",
       "    </tr>\n",
       "    <tr>\n",
       "      <th>107</th>\n",
       "      <td>Frank</td>\n",
       "      <td>29</td>\n",
       "      <td>58000.0</td>\n",
       "      <td>Male</td>\n",
       "      <td>22.1%</td>\n",
       "    </tr>\n",
       "    <tr>\n",
       "      <th>107</th>\n",
       "      <td>Frank</td>\n",
       "      <td>29</td>\n",
       "      <td>58000.0</td>\n",
       "      <td>Male</td>\n",
       "      <td>22.1%</td>\n",
       "    </tr>\n",
       "  </tbody>\n",
       "</table>\n",
       "</div>"
      ],
      "text/plain": [
       "               Name  Age   Income  Gender Tax Bracket\n",
       "CustomerID                                           \n",
       "101           Alice   25  50000.0  Female       22.5%\n",
       "102             Bob   31  60000.0    Male       25.2%\n",
       "103         Charlie   35  45000.0    Male       17.8%\n",
       "104           David   45  45000.0    Male       32.5%\n",
       "106             Eve   30  45000.0  Female       52.7%\n",
       "107           Frank   29  58000.0    Male       22.1%\n",
       "107           Frank   29  58000.0    Male       22.1%"
      ]
     },
     "execution_count": 24,
     "metadata": {},
     "output_type": "execute_result"
    }
   ],
   "source": [
    "df.set_index(\"CustomerID\", inplace=True) #Setter \"CustomerID\" til å være index\n",
    "df"
   ]
  },
  {
   "cell_type": "code",
   "execution_count": 25,
   "id": "14568dc7-eaa7-424b-9a20-8d885a8d7cb5",
   "metadata": {
    "slideshow": {
     "slide_type": "fragment"
    },
    "tags": []
   },
   "outputs": [
    {
     "data": {
      "text/html": [
       "<div>\n",
       "<style scoped>\n",
       "    .dataframe tbody tr th:only-of-type {\n",
       "        vertical-align: middle;\n",
       "    }\n",
       "\n",
       "    .dataframe tbody tr th {\n",
       "        vertical-align: top;\n",
       "    }\n",
       "\n",
       "    .dataframe thead th {\n",
       "        text-align: right;\n",
       "    }\n",
       "</style>\n",
       "<table border=\"1\" class=\"dataframe\">\n",
       "  <thead>\n",
       "    <tr style=\"text-align: right;\">\n",
       "      <th></th>\n",
       "      <th>CustomerID</th>\n",
       "      <th>Name</th>\n",
       "      <th>Age</th>\n",
       "      <th>Income</th>\n",
       "      <th>Gender</th>\n",
       "      <th>Tax Bracket</th>\n",
       "    </tr>\n",
       "  </thead>\n",
       "  <tbody>\n",
       "    <tr>\n",
       "      <th>0</th>\n",
       "      <td>101</td>\n",
       "      <td>Alice</td>\n",
       "      <td>25</td>\n",
       "      <td>50000.0</td>\n",
       "      <td>Female</td>\n",
       "      <td>22.5%</td>\n",
       "    </tr>\n",
       "    <tr>\n",
       "      <th>1</th>\n",
       "      <td>102</td>\n",
       "      <td>Bob</td>\n",
       "      <td>31</td>\n",
       "      <td>60000.0</td>\n",
       "      <td>Male</td>\n",
       "      <td>25.2%</td>\n",
       "    </tr>\n",
       "    <tr>\n",
       "      <th>2</th>\n",
       "      <td>103</td>\n",
       "      <td>Charlie</td>\n",
       "      <td>35</td>\n",
       "      <td>45000.0</td>\n",
       "      <td>Male</td>\n",
       "      <td>17.8%</td>\n",
       "    </tr>\n",
       "    <tr>\n",
       "      <th>3</th>\n",
       "      <td>104</td>\n",
       "      <td>David</td>\n",
       "      <td>45</td>\n",
       "      <td>45000.0</td>\n",
       "      <td>Male</td>\n",
       "      <td>32.5%</td>\n",
       "    </tr>\n",
       "    <tr>\n",
       "      <th>4</th>\n",
       "      <td>106</td>\n",
       "      <td>Eve</td>\n",
       "      <td>30</td>\n",
       "      <td>45000.0</td>\n",
       "      <td>Female</td>\n",
       "      <td>52.7%</td>\n",
       "    </tr>\n",
       "    <tr>\n",
       "      <th>5</th>\n",
       "      <td>107</td>\n",
       "      <td>Frank</td>\n",
       "      <td>29</td>\n",
       "      <td>58000.0</td>\n",
       "      <td>Male</td>\n",
       "      <td>22.1%</td>\n",
       "    </tr>\n",
       "    <tr>\n",
       "      <th>6</th>\n",
       "      <td>107</td>\n",
       "      <td>Frank</td>\n",
       "      <td>29</td>\n",
       "      <td>58000.0</td>\n",
       "      <td>Male</td>\n",
       "      <td>22.1%</td>\n",
       "    </tr>\n",
       "  </tbody>\n",
       "</table>\n",
       "</div>"
      ],
      "text/plain": [
       "   CustomerID     Name  Age   Income  Gender Tax Bracket\n",
       "0         101    Alice   25  50000.0  Female       22.5%\n",
       "1         102      Bob   31  60000.0    Male       25.2%\n",
       "2         103  Charlie   35  45000.0    Male       17.8%\n",
       "3         104    David   45  45000.0    Male       32.5%\n",
       "4         106      Eve   30  45000.0  Female       52.7%\n",
       "5         107    Frank   29  58000.0    Male       22.1%\n",
       "6         107    Frank   29  58000.0    Male       22.1%"
      ]
     },
     "execution_count": 25,
     "metadata": {},
     "output_type": "execute_result"
    }
   ],
   "source": [
    "df = df.reset_index() #Resetter index\n",
    "df"
   ]
  },
  {
   "cell_type": "code",
   "execution_count": 26,
   "id": "f9cf567d-dd49-425b-86a5-123082ba07d6",
   "metadata": {
    "slideshow": {
     "slide_type": "fragment"
    },
    "tags": []
   },
   "outputs": [],
   "source": [
    "#setter index igjen\n",
    "df = df.set_index(\"CustomerID\")"
   ]
  },
  {
   "cell_type": "markdown",
   "id": "771646de-0f14-47cd-be86-42b5d0683f30",
   "metadata": {
    "slideshow": {
     "slide_type": "slide"
    },
    "tags": []
   },
   "source": [
    "### Fjerne duplikater\n",
    "* Dersom man har duplikate rader kan dette by på problemer eller være feil\n",
    "* Vi kan fjerne de med `df.drop_duplicates()`"
   ]
  },
  {
   "cell_type": "code",
   "execution_count": 27,
   "id": "4ecf245b-d2a8-4ada-8b32-34c9010c65b3",
   "metadata": {
    "slideshow": {
     "slide_type": "fragment"
    },
    "tags": []
   },
   "outputs": [
    {
     "data": {
      "text/html": [
       "<div>\n",
       "<style scoped>\n",
       "    .dataframe tbody tr th:only-of-type {\n",
       "        vertical-align: middle;\n",
       "    }\n",
       "\n",
       "    .dataframe tbody tr th {\n",
       "        vertical-align: top;\n",
       "    }\n",
       "\n",
       "    .dataframe thead th {\n",
       "        text-align: right;\n",
       "    }\n",
       "</style>\n",
       "<table border=\"1\" class=\"dataframe\">\n",
       "  <thead>\n",
       "    <tr style=\"text-align: right;\">\n",
       "      <th></th>\n",
       "      <th>Name</th>\n",
       "      <th>Age</th>\n",
       "      <th>Income</th>\n",
       "      <th>Gender</th>\n",
       "      <th>Tax Bracket</th>\n",
       "    </tr>\n",
       "    <tr>\n",
       "      <th>CustomerID</th>\n",
       "      <th></th>\n",
       "      <th></th>\n",
       "      <th></th>\n",
       "      <th></th>\n",
       "      <th></th>\n",
       "    </tr>\n",
       "  </thead>\n",
       "  <tbody>\n",
       "    <tr>\n",
       "      <th>101</th>\n",
       "      <td>Alice</td>\n",
       "      <td>25</td>\n",
       "      <td>50000.0</td>\n",
       "      <td>Female</td>\n",
       "      <td>22.5%</td>\n",
       "    </tr>\n",
       "    <tr>\n",
       "      <th>102</th>\n",
       "      <td>Bob</td>\n",
       "      <td>31</td>\n",
       "      <td>60000.0</td>\n",
       "      <td>Male</td>\n",
       "      <td>25.2%</td>\n",
       "    </tr>\n",
       "    <tr>\n",
       "      <th>103</th>\n",
       "      <td>Charlie</td>\n",
       "      <td>35</td>\n",
       "      <td>45000.0</td>\n",
       "      <td>Male</td>\n",
       "      <td>17.8%</td>\n",
       "    </tr>\n",
       "    <tr>\n",
       "      <th>104</th>\n",
       "      <td>David</td>\n",
       "      <td>45</td>\n",
       "      <td>45000.0</td>\n",
       "      <td>Male</td>\n",
       "      <td>32.5%</td>\n",
       "    </tr>\n",
       "    <tr>\n",
       "      <th>106</th>\n",
       "      <td>Eve</td>\n",
       "      <td>30</td>\n",
       "      <td>45000.0</td>\n",
       "      <td>Female</td>\n",
       "      <td>52.7%</td>\n",
       "    </tr>\n",
       "    <tr>\n",
       "      <th>107</th>\n",
       "      <td>Frank</td>\n",
       "      <td>29</td>\n",
       "      <td>58000.0</td>\n",
       "      <td>Male</td>\n",
       "      <td>22.1%</td>\n",
       "    </tr>\n",
       "  </tbody>\n",
       "</table>\n",
       "</div>"
      ],
      "text/plain": [
       "               Name  Age   Income  Gender Tax Bracket\n",
       "CustomerID                                           \n",
       "101           Alice   25  50000.0  Female       22.5%\n",
       "102             Bob   31  60000.0    Male       25.2%\n",
       "103         Charlie   35  45000.0    Male       17.8%\n",
       "104           David   45  45000.0    Male       32.5%\n",
       "106             Eve   30  45000.0  Female       52.7%\n",
       "107           Frank   29  58000.0    Male       22.1%"
      ]
     },
     "execution_count": 27,
     "metadata": {},
     "output_type": "execute_result"
    }
   ],
   "source": [
    "df.drop_duplicates() #Fjerner duplikater -- radene må være HELT like "
   ]
  },
  {
   "cell_type": "markdown",
   "id": "94c91978-623e-4943-b3b6-42844cbf72fd",
   "metadata": {
    "slideshow": {
     "slide_type": "subslide"
    },
    "tags": []
   },
   "source": [
    "* Her krever vi at alle kolonnene er like\n",
    "* Dersom vi kun skal se på et subset av kolonner bruker vi `df.drop_duplicates(subset=['kol1', 'kol2']`\n",
    "* I vårt tilfelle vil vi kanskje fjerne duplikate ID-nummer, men dettee er nå blitt til indeksen\n",
    "* I tillegg tar `drop_duplicate(keep = 'first'/'last'/'False') som forteller om man skal beholde henholdsvis først, siste eller ingen duplikate rader"
   ]
  },
  {
   "cell_type": "code",
   "execution_count": 28,
   "id": "1bb7a854-8f4f-49b4-a770-7d104beb0aed",
   "metadata": {
    "slideshow": {
     "slide_type": "fragment"
    },
    "tags": []
   },
   "outputs": [
    {
     "data": {
      "text/html": [
       "<div>\n",
       "<style scoped>\n",
       "    .dataframe tbody tr th:only-of-type {\n",
       "        vertical-align: middle;\n",
       "    }\n",
       "\n",
       "    .dataframe tbody tr th {\n",
       "        vertical-align: top;\n",
       "    }\n",
       "\n",
       "    .dataframe thead th {\n",
       "        text-align: right;\n",
       "    }\n",
       "</style>\n",
       "<table border=\"1\" class=\"dataframe\">\n",
       "  <thead>\n",
       "    <tr style=\"text-align: right;\">\n",
       "      <th></th>\n",
       "      <th>Name</th>\n",
       "      <th>Age</th>\n",
       "      <th>Income</th>\n",
       "      <th>Gender</th>\n",
       "      <th>Tax Bracket</th>\n",
       "    </tr>\n",
       "    <tr>\n",
       "      <th>CustomerID</th>\n",
       "      <th></th>\n",
       "      <th></th>\n",
       "      <th></th>\n",
       "      <th></th>\n",
       "      <th></th>\n",
       "    </tr>\n",
       "  </thead>\n",
       "  <tbody>\n",
       "    <tr>\n",
       "      <th>101</th>\n",
       "      <td>Alice</td>\n",
       "      <td>25</td>\n",
       "      <td>50000.0</td>\n",
       "      <td>Female</td>\n",
       "      <td>22.5%</td>\n",
       "    </tr>\n",
       "    <tr>\n",
       "      <th>102</th>\n",
       "      <td>Bob</td>\n",
       "      <td>31</td>\n",
       "      <td>60000.0</td>\n",
       "      <td>Male</td>\n",
       "      <td>25.2%</td>\n",
       "    </tr>\n",
       "    <tr>\n",
       "      <th>103</th>\n",
       "      <td>Charlie</td>\n",
       "      <td>35</td>\n",
       "      <td>45000.0</td>\n",
       "      <td>Male</td>\n",
       "      <td>17.8%</td>\n",
       "    </tr>\n",
       "    <tr>\n",
       "      <th>104</th>\n",
       "      <td>David</td>\n",
       "      <td>45</td>\n",
       "      <td>45000.0</td>\n",
       "      <td>Male</td>\n",
       "      <td>32.5%</td>\n",
       "    </tr>\n",
       "    <tr>\n",
       "      <th>106</th>\n",
       "      <td>Eve</td>\n",
       "      <td>30</td>\n",
       "      <td>45000.0</td>\n",
       "      <td>Female</td>\n",
       "      <td>52.7%</td>\n",
       "    </tr>\n",
       "    <tr>\n",
       "      <th>107</th>\n",
       "      <td>Frank</td>\n",
       "      <td>29</td>\n",
       "      <td>58000.0</td>\n",
       "      <td>Male</td>\n",
       "      <td>22.1%</td>\n",
       "    </tr>\n",
       "  </tbody>\n",
       "</table>\n",
       "</div>"
      ],
      "text/plain": [
       "               Name  Age   Income  Gender Tax Bracket\n",
       "CustomerID                                           \n",
       "101           Alice   25  50000.0  Female       22.5%\n",
       "102             Bob   31  60000.0    Male       25.2%\n",
       "103         Charlie   35  45000.0    Male       17.8%\n",
       "104           David   45  45000.0    Male       32.5%\n",
       "106             Eve   30  45000.0  Female       52.7%\n",
       "107           Frank   29  58000.0    Male       22.1%"
      ]
     },
     "execution_count": 28,
     "metadata": {},
     "output_type": "execute_result"
    }
   ],
   "source": [
    "# Vi resetter index, fjerner duplikate \"customerID\" og setter tilbake indeks til customer id\n",
    "df = df.reset_index().drop_duplicates(subset=[\"CustomerID\"]).set_index(\"CustomerID\")\n",
    "df\n",
    "#Vi kan gjøre mange \"operasjoner\" ved å sette de sammen med en kjede av .operasjon1().operasjon2() ...."
   ]
  },
  {
   "cell_type": "markdown",
   "id": "5f0942bd-9fe3-4a85-9114-b92459102822",
   "metadata": {
    "slideshow": {
     "slide_type": "slide"
    },
    "tags": []
   },
   "source": [
    "### Skifte navn på kolonner\n",
    "* Dersom vi vil skifte kolonnenav, feks 'Name' til 'Firstname' bruker vi `df.rename(columns = {\"gammeltnavn\": \"nyttnavn\", ...})`\n",
    "* Den tar enten en dictionary med gamlenavn: nyenavn som nøkkel/verdipaper -- (evt en funksjon som tar navn og gir nytt navn)"
   ]
  },
  {
   "cell_type": "code",
   "execution_count": 29,
   "id": "f3855a38-f0e8-448f-bc28-335cdcdb2050",
   "metadata": {
    "slideshow": {
     "slide_type": "fragment"
    },
    "tags": []
   },
   "outputs": [
    {
     "data": {
      "text/html": [
       "<div>\n",
       "<style scoped>\n",
       "    .dataframe tbody tr th:only-of-type {\n",
       "        vertical-align: middle;\n",
       "    }\n",
       "\n",
       "    .dataframe tbody tr th {\n",
       "        vertical-align: top;\n",
       "    }\n",
       "\n",
       "    .dataframe thead th {\n",
       "        text-align: right;\n",
       "    }\n",
       "</style>\n",
       "<table border=\"1\" class=\"dataframe\">\n",
       "  <thead>\n",
       "    <tr style=\"text-align: right;\">\n",
       "      <th></th>\n",
       "      <th>Firstname</th>\n",
       "      <th>Age</th>\n",
       "      <th>Income</th>\n",
       "      <th>Gender</th>\n",
       "      <th>Tax Bracket</th>\n",
       "    </tr>\n",
       "    <tr>\n",
       "      <th>CustomerID</th>\n",
       "      <th></th>\n",
       "      <th></th>\n",
       "      <th></th>\n",
       "      <th></th>\n",
       "      <th></th>\n",
       "    </tr>\n",
       "  </thead>\n",
       "  <tbody>\n",
       "    <tr>\n",
       "      <th>101</th>\n",
       "      <td>Alice</td>\n",
       "      <td>25</td>\n",
       "      <td>50000.0</td>\n",
       "      <td>Female</td>\n",
       "      <td>22.5%</td>\n",
       "    </tr>\n",
       "    <tr>\n",
       "      <th>102</th>\n",
       "      <td>Bob</td>\n",
       "      <td>31</td>\n",
       "      <td>60000.0</td>\n",
       "      <td>Male</td>\n",
       "      <td>25.2%</td>\n",
       "    </tr>\n",
       "    <tr>\n",
       "      <th>103</th>\n",
       "      <td>Charlie</td>\n",
       "      <td>35</td>\n",
       "      <td>45000.0</td>\n",
       "      <td>Male</td>\n",
       "      <td>17.8%</td>\n",
       "    </tr>\n",
       "    <tr>\n",
       "      <th>104</th>\n",
       "      <td>David</td>\n",
       "      <td>45</td>\n",
       "      <td>45000.0</td>\n",
       "      <td>Male</td>\n",
       "      <td>32.5%</td>\n",
       "    </tr>\n",
       "    <tr>\n",
       "      <th>106</th>\n",
       "      <td>Eve</td>\n",
       "      <td>30</td>\n",
       "      <td>45000.0</td>\n",
       "      <td>Female</td>\n",
       "      <td>52.7%</td>\n",
       "    </tr>\n",
       "    <tr>\n",
       "      <th>107</th>\n",
       "      <td>Frank</td>\n",
       "      <td>29</td>\n",
       "      <td>58000.0</td>\n",
       "      <td>Male</td>\n",
       "      <td>22.1%</td>\n",
       "    </tr>\n",
       "  </tbody>\n",
       "</table>\n",
       "</div>"
      ],
      "text/plain": [
       "           Firstname  Age   Income  Gender Tax Bracket\n",
       "CustomerID                                            \n",
       "101            Alice   25  50000.0  Female       22.5%\n",
       "102              Bob   31  60000.0    Male       25.2%\n",
       "103          Charlie   35  45000.0    Male       17.8%\n",
       "104            David   45  45000.0    Male       32.5%\n",
       "106              Eve   30  45000.0  Female       52.7%\n",
       "107            Frank   29  58000.0    Male       22.1%"
      ]
     },
     "execution_count": 29,
     "metadata": {},
     "output_type": "execute_result"
    }
   ],
   "source": [
    "navneskifte = {\"Name\": \"Firstname\"} #Vi vil skifte kolonnenavn Name til Firstname\n",
    "df = df.rename(columns=navneskifte)\n",
    "df"
   ]
  },
  {
   "cell_type": "markdown",
   "id": "fdc506e6-f015-4ab2-9b99-d8408132f829",
   "metadata": {
    "slideshow": {
     "slide_type": "slide"
    },
    "tags": []
   },
   "source": [
    "### Endre verdier (apply/map)\n",
    "* Dersom vi vil endre verdier i kolonne -- feks fra prosent til desimal -- kan vi gjøre dette med en løkke\n",
    "* MEN - vi må iterere over indeksen til dataframe"
   ]
  },
  {
   "cell_type": "code",
   "execution_count": 30,
   "id": "df762803-4b1b-4d12-8bc7-fab83f4d09de",
   "metadata": {
    "slideshow": {
     "slide_type": "subslide"
    },
    "tags": []
   },
   "outputs": [
    {
     "data": {
      "text/html": [
       "<div>\n",
       "<style scoped>\n",
       "    .dataframe tbody tr th:only-of-type {\n",
       "        vertical-align: middle;\n",
       "    }\n",
       "\n",
       "    .dataframe tbody tr th {\n",
       "        vertical-align: top;\n",
       "    }\n",
       "\n",
       "    .dataframe thead th {\n",
       "        text-align: right;\n",
       "    }\n",
       "</style>\n",
       "<table border=\"1\" class=\"dataframe\">\n",
       "  <thead>\n",
       "    <tr style=\"text-align: right;\">\n",
       "      <th></th>\n",
       "      <th>Firstname</th>\n",
       "      <th>Age</th>\n",
       "      <th>Income</th>\n",
       "      <th>Gender</th>\n",
       "      <th>Tax Bracket</th>\n",
       "    </tr>\n",
       "    <tr>\n",
       "      <th>CustomerID</th>\n",
       "      <th></th>\n",
       "      <th></th>\n",
       "      <th></th>\n",
       "      <th></th>\n",
       "      <th></th>\n",
       "    </tr>\n",
       "  </thead>\n",
       "  <tbody>\n",
       "    <tr>\n",
       "      <th>101</th>\n",
       "      <td>Alice</td>\n",
       "      <td>25</td>\n",
       "      <td>50000.0</td>\n",
       "      <td>Female</td>\n",
       "      <td>22.5% hei</td>\n",
       "    </tr>\n",
       "    <tr>\n",
       "      <th>102</th>\n",
       "      <td>Bob</td>\n",
       "      <td>31</td>\n",
       "      <td>60000.0</td>\n",
       "      <td>Male</td>\n",
       "      <td>25.2% hei</td>\n",
       "    </tr>\n",
       "    <tr>\n",
       "      <th>103</th>\n",
       "      <td>Charlie</td>\n",
       "      <td>35</td>\n",
       "      <td>45000.0</td>\n",
       "      <td>Male</td>\n",
       "      <td>17.8% hei</td>\n",
       "    </tr>\n",
       "    <tr>\n",
       "      <th>104</th>\n",
       "      <td>David</td>\n",
       "      <td>45</td>\n",
       "      <td>45000.0</td>\n",
       "      <td>Male</td>\n",
       "      <td>32.5% hei</td>\n",
       "    </tr>\n",
       "    <tr>\n",
       "      <th>106</th>\n",
       "      <td>Eve</td>\n",
       "      <td>30</td>\n",
       "      <td>45000.0</td>\n",
       "      <td>Female</td>\n",
       "      <td>52.7% hei</td>\n",
       "    </tr>\n",
       "    <tr>\n",
       "      <th>107</th>\n",
       "      <td>Frank</td>\n",
       "      <td>29</td>\n",
       "      <td>58000.0</td>\n",
       "      <td>Male</td>\n",
       "      <td>22.1% hei</td>\n",
       "    </tr>\n",
       "  </tbody>\n",
       "</table>\n",
       "</div>"
      ],
      "text/plain": [
       "           Firstname  Age   Income  Gender Tax Bracket\n",
       "CustomerID                                            \n",
       "101            Alice   25  50000.0  Female   22.5% hei\n",
       "102              Bob   31  60000.0    Male   25.2% hei\n",
       "103          Charlie   35  45000.0    Male   17.8% hei\n",
       "104            David   45  45000.0    Male   32.5% hei\n",
       "106              Eve   30  45000.0  Female   52.7% hei\n",
       "107            Frank   29  58000.0    Male   22.1% hei"
      ]
     },
     "execution_count": 30,
     "metadata": {},
     "output_type": "execute_result"
    }
   ],
   "source": [
    "df_copy = pd.DataFrame(df, copy=True) #Lager en kopi av dataframe\n",
    "for prosent in df[\"Tax Bracket\"]:\n",
    "    prosent += \" hei\"\n",
    "#FUNKER IKKE\n",
    "\n",
    "#Vi må iterere over indeksen!\n",
    "for index in df.index:\n",
    "    df.at[index, \"Tax Bracket\"] += \" hei\"\n",
    "\n",
    "\n",
    "\n",
    "#Det er styr med jupyter-notebook siden du jobber med celler som kjøres på nytt flere ganger\n",
    "df_rot = df\n",
    "df = df_copy\n",
    "df_rot"
   ]
  },
  {
   "cell_type": "markdown",
   "id": "f5f43345-4ab2-4285-ba95-7eb743b0ff7d",
   "metadata": {
    "slideshow": {
     "slide_type": "subslide"
    },
    "tags": []
   },
   "source": [
    "* Merk at vi bruker `df.at[....]` i stedet for `df.loc[...]`\n",
    "* Dette er fordi `df.at[..]` er spesiallaget til å slå opp i enkeltverdier\n",
    "* `.loc[...]` må gjøre mange ting som slicing o.l. og er *tregere* i slike løkker"
   ]
  },
  {
   "cell_type": "markdown",
   "id": "47fd9eed-c15b-451d-8d8f-57383c7a8d9f",
   "metadata": {
    "slideshow": {
     "slide_type": "subslide"
    },
    "tags": []
   },
   "source": [
    "* Har du et stort dataset kan slike løkker være trege\n",
    "* Det er raskere å bruke *vektoriserte operasjoner* eller `.apply()` (dataframes og series) eller `.map()` (kun series)\n",
    "  * Skal vi feks doble alle tallene kan vi skrive `df[\"kolonne\"] = df.[\"kolonne\"]*2`\n",
    "  * Maskinen vet da at den kan gjøre doblingene *parallelt* (samtidig)\n",
    "* .apply() og .map() anvender funksjoner på alle elementene i en rad/kolonne, og er også raskere enn å itere med for"
   ]
  },
  {
   "cell_type": "code",
   "execution_count": 31,
   "id": "c642fc21-09a4-4bf8-b695-96c25761f4a2",
   "metadata": {
    "slideshow": {
     "slide_type": "subslide"
    },
    "tags": []
   },
   "outputs": [
    {
     "data": {
      "text/html": [
       "<div>\n",
       "<style scoped>\n",
       "    .dataframe tbody tr th:only-of-type {\n",
       "        vertical-align: middle;\n",
       "    }\n",
       "\n",
       "    .dataframe tbody tr th {\n",
       "        vertical-align: top;\n",
       "    }\n",
       "\n",
       "    .dataframe thead th {\n",
       "        text-align: right;\n",
       "    }\n",
       "</style>\n",
       "<table border=\"1\" class=\"dataframe\">\n",
       "  <thead>\n",
       "    <tr style=\"text-align: right;\">\n",
       "      <th></th>\n",
       "      <th>Firstname</th>\n",
       "      <th>Age</th>\n",
       "      <th>Income</th>\n",
       "      <th>Gender</th>\n",
       "      <th>Tax Bracket</th>\n",
       "    </tr>\n",
       "    <tr>\n",
       "      <th>CustomerID</th>\n",
       "      <th></th>\n",
       "      <th></th>\n",
       "      <th></th>\n",
       "      <th></th>\n",
       "      <th></th>\n",
       "    </tr>\n",
       "  </thead>\n",
       "  <tbody>\n",
       "    <tr>\n",
       "      <th>101</th>\n",
       "      <td>Alice</td>\n",
       "      <td>25</td>\n",
       "      <td>50000.0</td>\n",
       "      <td>Female</td>\n",
       "      <td>0.225</td>\n",
       "    </tr>\n",
       "    <tr>\n",
       "      <th>102</th>\n",
       "      <td>Bob</td>\n",
       "      <td>31</td>\n",
       "      <td>60000.0</td>\n",
       "      <td>Male</td>\n",
       "      <td>0.252</td>\n",
       "    </tr>\n",
       "    <tr>\n",
       "      <th>103</th>\n",
       "      <td>Charlie</td>\n",
       "      <td>35</td>\n",
       "      <td>45000.0</td>\n",
       "      <td>Male</td>\n",
       "      <td>0.178</td>\n",
       "    </tr>\n",
       "    <tr>\n",
       "      <th>104</th>\n",
       "      <td>David</td>\n",
       "      <td>45</td>\n",
       "      <td>45000.0</td>\n",
       "      <td>Male</td>\n",
       "      <td>0.325</td>\n",
       "    </tr>\n",
       "    <tr>\n",
       "      <th>106</th>\n",
       "      <td>Eve</td>\n",
       "      <td>30</td>\n",
       "      <td>45000.0</td>\n",
       "      <td>Female</td>\n",
       "      <td>0.527</td>\n",
       "    </tr>\n",
       "    <tr>\n",
       "      <th>107</th>\n",
       "      <td>Frank</td>\n",
       "      <td>29</td>\n",
       "      <td>58000.0</td>\n",
       "      <td>Male</td>\n",
       "      <td>0.221</td>\n",
       "    </tr>\n",
       "  </tbody>\n",
       "</table>\n",
       "</div>"
      ],
      "text/plain": [
       "           Firstname  Age   Income  Gender  Tax Bracket\n",
       "CustomerID                                             \n",
       "101            Alice   25  50000.0  Female        0.225\n",
       "102              Bob   31  60000.0    Male        0.252\n",
       "103          Charlie   35  45000.0    Male        0.178\n",
       "104            David   45  45000.0    Male        0.325\n",
       "106              Eve   30  45000.0  Female        0.527\n",
       "107            Frank   29  58000.0    Male        0.221"
      ]
     },
     "execution_count": 31,
     "metadata": {},
     "output_type": "execute_result"
    }
   ],
   "source": [
    "# Vi vil endre tax-bracket til desimaltall istedet for \"21.5%\" en tekststreng\n",
    "\n",
    "#Funksjon som gjør om tekststrenger som \"2.1%\" til 0.021\n",
    "def prosent_til_desimal(tekststreng):\n",
    "    tall = tekststreng[:-1]\n",
    "    return float(tall)/100\n",
    "\n",
    "df[\"Tax Bracket\"].map(prosent_til_desimal)# Kjører funksjonen over alle verdier i Tax Bracket (map)\n",
    "df[\"Tax Bracket\"] = df[\"Tax Bracket\"].apply(prosent_til_desimal)# Kjører funksjonen over alle verdier i Tax Bracket (apply)\n",
    "df"
   ]
  },
  {
   "cell_type": "code",
   "execution_count": 32,
   "id": "9796f43a-b960-457d-bb2f-b54ef82c0d20",
   "metadata": {
    "slideshow": {
     "slide_type": "fragment"
    },
    "tags": []
   },
   "outputs": [
    {
     "data": {
      "text/html": [
       "<div>\n",
       "<style scoped>\n",
       "    .dataframe tbody tr th:only-of-type {\n",
       "        vertical-align: middle;\n",
       "    }\n",
       "\n",
       "    .dataframe tbody tr th {\n",
       "        vertical-align: top;\n",
       "    }\n",
       "\n",
       "    .dataframe thead th {\n",
       "        text-align: right;\n",
       "    }\n",
       "</style>\n",
       "<table border=\"1\" class=\"dataframe\">\n",
       "  <thead>\n",
       "    <tr style=\"text-align: right;\">\n",
       "      <th></th>\n",
       "      <th>Firstname</th>\n",
       "      <th>Age</th>\n",
       "      <th>Income</th>\n",
       "      <th>Gender</th>\n",
       "      <th>Tax Bracket</th>\n",
       "    </tr>\n",
       "    <tr>\n",
       "      <th>CustomerID</th>\n",
       "      <th></th>\n",
       "      <th></th>\n",
       "      <th></th>\n",
       "      <th></th>\n",
       "      <th></th>\n",
       "    </tr>\n",
       "  </thead>\n",
       "  <tbody>\n",
       "    <tr>\n",
       "      <th>101</th>\n",
       "      <td>Alice</td>\n",
       "      <td>25</td>\n",
       "      <td>50000.0</td>\n",
       "      <td>Female</td>\n",
       "      <td>0.225</td>\n",
       "    </tr>\n",
       "    <tr>\n",
       "      <th>102</th>\n",
       "      <td>Bob</td>\n",
       "      <td>31</td>\n",
       "      <td>60000.0</td>\n",
       "      <td>Male</td>\n",
       "      <td>0.252</td>\n",
       "    </tr>\n",
       "    <tr>\n",
       "      <th>103</th>\n",
       "      <td>Charlie</td>\n",
       "      <td>35</td>\n",
       "      <td>45000.0</td>\n",
       "      <td>Male</td>\n",
       "      <td>0.178</td>\n",
       "    </tr>\n",
       "    <tr>\n",
       "      <th>104</th>\n",
       "      <td>David</td>\n",
       "      <td>45</td>\n",
       "      <td>45000.0</td>\n",
       "      <td>Male</td>\n",
       "      <td>0.325</td>\n",
       "    </tr>\n",
       "    <tr>\n",
       "      <th>106</th>\n",
       "      <td>Eve</td>\n",
       "      <td>30</td>\n",
       "      <td>45000.0</td>\n",
       "      <td>Female</td>\n",
       "      <td>0.527</td>\n",
       "    </tr>\n",
       "    <tr>\n",
       "      <th>107</th>\n",
       "      <td>Frank</td>\n",
       "      <td>29</td>\n",
       "      <td>58000.0</td>\n",
       "      <td>Male</td>\n",
       "      <td>0.221</td>\n",
       "    </tr>\n",
       "  </tbody>\n",
       "</table>\n",
       "</div>"
      ],
      "text/plain": [
       "           Firstname  Age   Income  Gender  Tax Bracket\n",
       "CustomerID                                             \n",
       "101            Alice   25  50000.0  Female        0.225\n",
       "102              Bob   31  60000.0    Male        0.252\n",
       "103          Charlie   35  45000.0    Male        0.178\n",
       "104            David   45  45000.0    Male        0.325\n",
       "106              Eve   30  45000.0  Female        0.527\n",
       "107            Frank   29  58000.0    Male        0.221"
      ]
     },
     "execution_count": 32,
     "metadata": {},
     "output_type": "execute_result"
    }
   ],
   "source": [
    "df"
   ]
  },
  {
   "cell_type": "markdown",
   "id": "1d0aa64a-90fa-436a-9e93-0d2cbfccbdc7",
   "metadata": {
    "slideshow": {
     "slide_type": "subslide"
    },
    "tags": []
   },
   "source": [
    "* `apply()` og `.map()` gjør det samme her\n",
    "* `apply()` kan man bruke på hele dataframet (`df.apply(np.sqrt)`) tar kvadratrot av alle tallene i df)\n",
    "* Eller på alle rader/kolonner (`df.apply(sum, axis=0/1)` summer sammen henholdsvis kolonner/rader og gir en Series med summene"
   ]
  },
  {
   "cell_type": "markdown",
   "id": "8030d16c-6cfd-4bcd-b643-ac6aa738a607",
   "metadata": {
    "slideshow": {
     "slide_type": "slide"
    },
    "tags": []
   },
   "source": [
    "### Legge til kolonner\n",
    "* Vi legger til nye kolonner med `.insert(loc, column, value)` dersom vi vil ha kontroll på posisjonen til kolonnen\n",
    "* loc (0,1,2,3,..) gir hvor kolonnen skal være, \"column\" er navnet til kolonnen og \"value\" er verdiene\n",
    "* Dersom vi ikke bryr oss om hvor kolonnen står kan vi gjøre det litt som når vi legger til i dictionaries:\n",
    "  * `df[\"nytt kolonne\"] = kolonne_data`\n"
   ]
  },
  {
   "cell_type": "code",
   "execution_count": 33,
   "id": "2987ca9a-3ed9-468b-a722-9c6bf19aa94c",
   "metadata": {
    "slideshow": {
     "slide_type": "subslide"
    },
    "tags": []
   },
   "outputs": [
    {
     "data": {
      "text/html": [
       "<div>\n",
       "<style scoped>\n",
       "    .dataframe tbody tr th:only-of-type {\n",
       "        vertical-align: middle;\n",
       "    }\n",
       "\n",
       "    .dataframe tbody tr th {\n",
       "        vertical-align: top;\n",
       "    }\n",
       "\n",
       "    .dataframe thead th {\n",
       "        text-align: right;\n",
       "    }\n",
       "</style>\n",
       "<table border=\"1\" class=\"dataframe\">\n",
       "  <thead>\n",
       "    <tr style=\"text-align: right;\">\n",
       "      <th></th>\n",
       "      <th>Firstname</th>\n",
       "      <th>Lastname</th>\n",
       "      <th>Age</th>\n",
       "      <th>Income</th>\n",
       "      <th>Gender</th>\n",
       "      <th>Tax Bracket</th>\n",
       "    </tr>\n",
       "    <tr>\n",
       "      <th>CustomerID</th>\n",
       "      <th></th>\n",
       "      <th></th>\n",
       "      <th></th>\n",
       "      <th></th>\n",
       "      <th></th>\n",
       "      <th></th>\n",
       "    </tr>\n",
       "  </thead>\n",
       "  <tbody>\n",
       "    <tr>\n",
       "      <th>101</th>\n",
       "      <td>Alice</td>\n",
       "      <td>Smith</td>\n",
       "      <td>25</td>\n",
       "      <td>50000.0</td>\n",
       "      <td>Female</td>\n",
       "      <td>0.225</td>\n",
       "    </tr>\n",
       "    <tr>\n",
       "      <th>102</th>\n",
       "      <td>Bob</td>\n",
       "      <td>Johnson</td>\n",
       "      <td>31</td>\n",
       "      <td>60000.0</td>\n",
       "      <td>Male</td>\n",
       "      <td>0.252</td>\n",
       "    </tr>\n",
       "    <tr>\n",
       "      <th>103</th>\n",
       "      <td>Charlie</td>\n",
       "      <td>Williams</td>\n",
       "      <td>35</td>\n",
       "      <td>45000.0</td>\n",
       "      <td>Male</td>\n",
       "      <td>0.178</td>\n",
       "    </tr>\n",
       "    <tr>\n",
       "      <th>104</th>\n",
       "      <td>David</td>\n",
       "      <td>Brown</td>\n",
       "      <td>45</td>\n",
       "      <td>45000.0</td>\n",
       "      <td>Male</td>\n",
       "      <td>0.325</td>\n",
       "    </tr>\n",
       "    <tr>\n",
       "      <th>106</th>\n",
       "      <td>Eve</td>\n",
       "      <td>Jones</td>\n",
       "      <td>30</td>\n",
       "      <td>45000.0</td>\n",
       "      <td>Female</td>\n",
       "      <td>0.527</td>\n",
       "    </tr>\n",
       "    <tr>\n",
       "      <th>107</th>\n",
       "      <td>Frank</td>\n",
       "      <td>Garcia</td>\n",
       "      <td>29</td>\n",
       "      <td>58000.0</td>\n",
       "      <td>Male</td>\n",
       "      <td>0.221</td>\n",
       "    </tr>\n",
       "  </tbody>\n",
       "</table>\n",
       "</div>"
      ],
      "text/plain": [
       "           Firstname  Lastname  Age   Income  Gender  Tax Bracket\n",
       "CustomerID                                                       \n",
       "101            Alice     Smith   25  50000.0  Female        0.225\n",
       "102              Bob   Johnson   31  60000.0    Male        0.252\n",
       "103          Charlie  Williams   35  45000.0    Male        0.178\n",
       "104            David     Brown   45  45000.0    Male        0.325\n",
       "106              Eve     Jones   30  45000.0  Female        0.527\n",
       "107            Frank    Garcia   29  58000.0    Male        0.221"
      ]
     },
     "execution_count": 33,
     "metadata": {},
     "output_type": "execute_result"
    }
   ],
   "source": [
    "last_names = ['Smith', 'Johnson', 'Williams', 'Brown', 'Jones', 'Garcia']\n",
    "df.insert(1, \"Lastname\", last_names) #Legger til ny kolonne til høyre for \"Firstname\"\n",
    "df"
   ]
  },
  {
   "cell_type": "code",
   "execution_count": 35,
   "id": "7b67aeb7-23aa-447c-a7d2-5e22b41f79ea",
   "metadata": {
    "scrolled": true,
    "slideshow": {
     "slide_type": "subslide"
    },
    "tags": []
   },
   "outputs": [
    {
     "data": {
      "text/html": [
       "<div>\n",
       "<style scoped>\n",
       "    .dataframe tbody tr th:only-of-type {\n",
       "        vertical-align: middle;\n",
       "    }\n",
       "\n",
       "    .dataframe tbody tr th {\n",
       "        vertical-align: top;\n",
       "    }\n",
       "\n",
       "    .dataframe thead th {\n",
       "        text-align: right;\n",
       "    }\n",
       "</style>\n",
       "<table border=\"1\" class=\"dataframe\">\n",
       "  <thead>\n",
       "    <tr style=\"text-align: right;\">\n",
       "      <th></th>\n",
       "      <th>Firstname</th>\n",
       "      <th>Lastname</th>\n",
       "      <th>Age</th>\n",
       "      <th>Income</th>\n",
       "      <th>Gender</th>\n",
       "      <th>Tax Bracket</th>\n",
       "      <th>Income, After tax</th>\n",
       "    </tr>\n",
       "    <tr>\n",
       "      <th>CustomerID</th>\n",
       "      <th></th>\n",
       "      <th></th>\n",
       "      <th></th>\n",
       "      <th></th>\n",
       "      <th></th>\n",
       "      <th></th>\n",
       "      <th></th>\n",
       "    </tr>\n",
       "  </thead>\n",
       "  <tbody>\n",
       "    <tr>\n",
       "      <th>101</th>\n",
       "      <td>Alice</td>\n",
       "      <td>Smith</td>\n",
       "      <td>25</td>\n",
       "      <td>50000.0</td>\n",
       "      <td>Female</td>\n",
       "      <td>0.225</td>\n",
       "      <td>38750.0</td>\n",
       "    </tr>\n",
       "    <tr>\n",
       "      <th>102</th>\n",
       "      <td>Bob</td>\n",
       "      <td>Johnson</td>\n",
       "      <td>31</td>\n",
       "      <td>60000.0</td>\n",
       "      <td>Male</td>\n",
       "      <td>0.252</td>\n",
       "      <td>44880.0</td>\n",
       "    </tr>\n",
       "    <tr>\n",
       "      <th>103</th>\n",
       "      <td>Charlie</td>\n",
       "      <td>Williams</td>\n",
       "      <td>35</td>\n",
       "      <td>45000.0</td>\n",
       "      <td>Male</td>\n",
       "      <td>0.178</td>\n",
       "      <td>36990.0</td>\n",
       "    </tr>\n",
       "    <tr>\n",
       "      <th>104</th>\n",
       "      <td>David</td>\n",
       "      <td>Brown</td>\n",
       "      <td>45</td>\n",
       "      <td>45000.0</td>\n",
       "      <td>Male</td>\n",
       "      <td>0.325</td>\n",
       "      <td>30375.0</td>\n",
       "    </tr>\n",
       "    <tr>\n",
       "      <th>106</th>\n",
       "      <td>Eve</td>\n",
       "      <td>Jones</td>\n",
       "      <td>30</td>\n",
       "      <td>45000.0</td>\n",
       "      <td>Female</td>\n",
       "      <td>0.527</td>\n",
       "      <td>21285.0</td>\n",
       "    </tr>\n",
       "    <tr>\n",
       "      <th>107</th>\n",
       "      <td>Frank</td>\n",
       "      <td>Garcia</td>\n",
       "      <td>29</td>\n",
       "      <td>58000.0</td>\n",
       "      <td>Male</td>\n",
       "      <td>0.221</td>\n",
       "      <td>45182.0</td>\n",
       "    </tr>\n",
       "  </tbody>\n",
       "</table>\n",
       "</div>"
      ],
      "text/plain": [
       "           Firstname  Lastname  Age   Income  Gender  Tax Bracket  \\\n",
       "CustomerID                                                          \n",
       "101            Alice     Smith   25  50000.0  Female        0.225   \n",
       "102              Bob   Johnson   31  60000.0    Male        0.252   \n",
       "103          Charlie  Williams   35  45000.0    Male        0.178   \n",
       "104            David     Brown   45  45000.0    Male        0.325   \n",
       "106              Eve     Jones   30  45000.0  Female        0.527   \n",
       "107            Frank    Garcia   29  58000.0    Male        0.221   \n",
       "\n",
       "            Income, After tax  \n",
       "CustomerID                     \n",
       "101                   38750.0  \n",
       "102                   44880.0  \n",
       "103                   36990.0  \n",
       "104                   30375.0  \n",
       "106                   21285.0  \n",
       "107                   45182.0  "
      ]
     },
     "execution_count": 35,
     "metadata": {},
     "output_type": "execute_result"
    }
   ],
   "source": [
    "#Lager ny kolonne direkte\n",
    "df[\"Income, After tax\"] = df[\"Income\"]-df[\"Income\"]*df[\"Tax Bracket\"]\n",
    "df"
   ]
  },
  {
   "cell_type": "markdown",
   "id": "1c30d35e-6d1c-4893-b4c8-73757e336389",
   "metadata": {
    "slideshow": {
     "slide_type": "subslide"
    },
    "tags": []
   },
   "source": [
    "#### Aritmetikk med serier\n",
    "* Legg merke til hvordan vi kan gjøre \"elementvise operasjoner\" med dataserier ganske lett\n",
    "  | Operasjon                   | Beskrivelse                                          | Eksempel i Python                                     | Resultat                                     |\n",
    "|-----------------------------|------------------------------------------------------|-------------------------------------------------------|----------------------------------------------|\n",
    "| Addisjon (+)                | Legger til verdier i to serier.                       | `s1 = pd.Series([1, 2, 3])`<br>`s2 = pd.Series([4, 5, 6])`<br>`s3 = s1 + s2` | `0: 5, 1: 7, 2: 9`                          |\n",
    "| Subtraksjon (-)             | Trekker verdier i én serie fra en annen.              | `s3 = s1 - s2`                                        | `0: -3, 1: -3, 2: -3`                       |\n",
    "| Multiplikasjon (*)          | Multipliserer verdier i to serier.                    | `s3 = s1 * s2`                                        | `0: 4, 1: 10, 2: 18`                        |\n",
    "| Divisjon (/)                | Deler verdier i én serie med en annen.                | `s3 = s2 / s1`                                        | `0: 4.0, 1: 2.5, 2: 2.0`                    |\n",
    "| Potens (**)                 | Opphøyer verdier i en serie til en eksponent.         | `s3 = s1 ** 2`                                        | `0: 1, 1: 4, 2: 9`                          |\n",
    "| Modulo (%)                  | Finner resten etter divisjon av to serier.            | `s3 = s2 % s1`                                        | `0: 0, 1: 1, 2: 0`                          |\n"
   ]
  }
 ],
 "metadata": {
  "kernelspec": {
   "display_name": "Python 3 (ipykernel)",
   "language": "python",
   "name": "python3"
  },
  "language_info": {
   "codemirror_mode": {
    "name": "ipython",
    "version": 3
   },
   "file_extension": ".py",
   "mimetype": "text/x-python",
   "name": "python",
   "nbconvert_exporter": "python",
   "pygments_lexer": "ipython3",
   "version": "3.12.4"
  }
 },
 "nbformat": 4,
 "nbformat_minor": 5
}
