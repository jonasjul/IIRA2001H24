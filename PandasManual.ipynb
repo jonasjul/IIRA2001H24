{
 "cells": [
  {
   "cell_type": "markdown",
   "id": "9c33f11c-0d0e-492a-a122-c1c0b112efc8",
   "metadata": {},
   "source": [
    "# Pandas Manual\n",
    "*Vi forsøker å oppsummere bruk av pandas i manualformat*\n",
    "\n",
    "*Trykk: View->Left Sidebar->Show Table of Contents*"
   ]
  },
  {
   "cell_type": "code",
   "execution_count": 2,
   "id": "6cf16c54-f4c0-421b-bc06-fe0311175fc5",
   "metadata": {},
   "outputs": [],
   "source": [
    "import pandas as pd\n",
    "import numpy as np"
   ]
  },
  {
   "cell_type": "markdown",
   "id": "ac5e7d8c-6c31-49f6-8c93-cd7eb3baf460",
   "metadata": {},
   "source": [
    "## Pandas Series\n",
    "* En pandas serie inneholder «1-dimensjonal» data -- altså en slags liste\n",
    "* Denne dataseriene har typisk:\n",
    "  * Et navn (Hvilken data er dette?)\n",
    "  * En indeks (unike etiketter for hvert datapunkt (feks en «liste» av tidspunkt, datoer, områder, osv)\n",
    "  * Verdier («values») -- de faktiske datapunktene"
   ]
  },
  {
   "cell_type": "markdown",
   "id": "08b3cd5b-0765-4842-be3c-36110df4ae3a",
   "metadata": {},
   "source": [
    "### Lage pandas Series\n",
    "Vi kan lage en pandas `Series` slik:\n",
    "\n",
    "`s = pd.Series(data=None, index=None, dtype=None, name=None, copy=None)`\n",
    "| Metode                         | Eksempel                                       | Beskrivelse                                                                                     |\n",
    "|---------------------------------|------------------------------------------------|-------------------------------------------------------------------------------------------------|\n",
    "| **Fra liste**                   | `pd.Series([1, 2, 3])`                        | Oppretter en Series fra en Python-liste. Indeksen vil automatisk være heltall fra 0.             |\n",
    "| **Fra NumPy-array**             | `pd.Series(np.array([1, 2, 3]))`              | Oppretter en Series fra en NumPy-array.                                                          |\n",
    "| **Fra dictionary**                  | `pd.Series({'a': 1, 'b': 2, 'c': 3})`         | Oppretter en Series fra en dictionary der nøkler blir indeksen og verdier blir dataene.              |\n",
    "| **Med egendefinert indeks**     | `pd.Series([1, 2, 3], index=['a', 'b', 'c'])` | Oppretter en Series fra en liste med en egendefinert indeks i stedet for standard heltallindeks. |\n",
    "| **Fra én verdi**                | `pd.Series(5, index=['a', 'b', 'c'])`         | Oppretter en Series der samme verdi gjentas for hver indeks.                                     |\n",
    "| **Fra Pandas DataFrame-kolonne**| `pd.Series(df['kolonne'])`                    | Oppretter en Series ved å velge en kolonne fra en DataFrame.                                     |\n",
    "| **Fra annen Series**            | `pd.Series(existing_series)`                  | Oppretter en ny Series basert på en eksisterende Series.                                         |\n"
   ]
  },
  {
   "cell_type": "code",
   "execution_count": 25,
   "id": "bb51f318-37dc-438f-ae34-da4cf51d1e13",
   "metadata": {},
   "outputs": [
    {
     "data": {
      "text/plain": [
       "0     3.5\n",
       "1     4.5\n",
       "2     5.6\n",
       "3     6.5\n",
       "4     7.2\n",
       "5     7.9\n",
       "6     8.5\n",
       "7     9.0\n",
       "8     9.3\n",
       "9     9.5\n",
       "10    9.7\n",
       "11    9.8\n",
       "Name: Vekt, Ole, dtype: float32"
      ]
     },
     "execution_count": 25,
     "metadata": {},
     "output_type": "execute_result"
    }
   ],
   "source": [
    "# Eksempel: numpy array\n",
    "\n",
    "vekt = np.array([3.5, 4.5, 5.6, 6.5, 7.2, 7.9, 8.5, 9.0, 9.3, 9.5, 9.7, 9.8]) #Vekt (kg)\n",
    "alder = range(12) #Alder, måneder 0 til 11\n",
    "vekt_ole = pd.Series(vekt, index=alder, name=\"Vekt, Ole\", copy=True, dtype=\"float32\")\n",
    "vekt_ole"
   ]
  },
  {
   "cell_type": "code",
   "execution_count": 6,
   "id": "c3896c39-09b4-4811-a658-da9a226fe552",
   "metadata": {},
   "outputs": [
    {
     "data": {
      "text/plain": [
       "navn                                    Fjordvik\n",
       "befolkning                                 32000\n",
       "bnp_per_innbygger                          45000\n",
       "arbeidsledighet                              3.2\n",
       "gjennomsnittsinntekt                      520000\n",
       "fattigdomsrate                               7.5\n",
       "sysselsettingsrate                          67.8\n",
       "primærnæring                                  25\n",
       "sekundærnæring                                37\n",
       "tertiærnæring                                 38\n",
       "budsjett_inntekter                     950000000\n",
       "budsjett_utgifter                      920000000\n",
       "budsjett_underskudd                     30000000\n",
       "offentlig_investering_utdanning        150000000\n",
       "offentlig_investering_infrastruktur    250000000\n",
       "offentlig_investering_helse            200000000\n",
       "median_boligpris                         3200000\n",
       "bedriftsvekst                                2.1\n",
       "Name: Kommunal statistikk, dtype: object"
      ]
     },
     "execution_count": 6,
     "metadata": {},
     "output_type": "execute_result"
    }
   ],
   "source": [
    "# Eksempel, fra dictionary\n",
    "kommunal_statistikk_fjordvik = {\n",
    "    \"navn\": \"Fjordvik\",\n",
    "    \"befolkning\": 32000,\n",
    "    \"bnp_per_innbygger\": 45000,  # i NOK\n",
    "    \"arbeidsledighet\": 3.2,  # prosent\n",
    "    \"gjennomsnittsinntekt\": 520000,  # i NOK per år\n",
    "    \"fattigdomsrate\": 7.5,  # prosent\n",
    "    \"sysselsettingsrate\": 67.8,  # prosent\n",
    "    \"primærnæring\": 25,  # prosentandel fra primærnæring\n",
    "    \"sekundærnæring\": 37,  # prosentandel fra sekundærnæring\n",
    "    \"tertiærnæring\": 38,  # prosentandel fra tertiærnæring\n",
    "    \"budsjett_inntekter\": 950000000,  # i NOK\n",
    "    \"budsjett_utgifter\": 920000000,  # i NOK\n",
    "    \"budsjett_underskudd\": 30000000,  # i NOK\n",
    "    \"offentlig_investering_utdanning\": 150000000,  # i NOK\n",
    "    \"offentlig_investering_infrastruktur\": 250000000,  # i NOK\n",
    "    \"offentlig_investering_helse\": 200000000,  # i NOK\n",
    "    \"median_boligpris\": 3200000,  # i NOK\n",
    "    \"bedriftsvekst\": 2.1,  # prosent\n",
    "}\n",
    "fjordvik_stats = pd.Series(kommunal_statistikk_fjordvik, name=\"Kommunal statistikk\")\n",
    "fjordvik_stats"
   ]
  },
  {
   "cell_type": "code",
   "execution_count": 8,
   "id": "a473405f-431c-4f7b-ad44-85a74c093232",
   "metadata": {},
   "outputs": [
    {
     "data": {
      "text/plain": [
       "navn                    Fjordvik\n",
       "befolkning                 32000\n",
       "gjennomsnittsinntekt      520000\n",
       "Name: Kommunal statistikk, dtype: object"
      ]
     },
     "execution_count": 8,
     "metadata": {},
     "output_type": "execute_result"
    }
   ],
   "source": [
    "#Dersom vi tar i bruk indeks=[...] nå, velger vi ut datapunkter\n",
    "#Dette er fordi indeksen/etikettene allerede er definert i dataen\n",
    "fjordvik_stats2 = pd.Series(kommunal_statistikk_fjordvik, index=[\"navn\", \"befolkning\", \"gjennomsnittsinntekt\"], name=\"Kommunal statistikk\")\n",
    "fjordvik_stats2"
   ]
  },
  {
   "cell_type": "markdown",
   "id": "1382a0da-6aa6-4b26-9664-9c48454b0740",
   "metadata": {},
   "source": [
    "### Datatyper til Series (og dataframes)\n",
    "* Feltet `dtype`angir datatypen til dataen\n",
    "* Datatypen forteller hvordan dataen skal lagres på maskinen\n",
    "  \n",
    "\n",
    "| **Type**       | **Name**    | **Description**                                       |\n",
    "|----------------|-------------|-------------------------------------------------------|\n",
    "| Integer        | `int8`      | Integer (-128 to 127)                                 |\n",
    "| Integer        | `int16`     | Integer (-32,768 to 32,767)                           |\n",
    "| Integer        | `int32`     | Integer (-2,147,483,648 to 2,147,483,647)             |\n",
    "| Integer        | `int64`     | Integer (-9,223,372,036,854,775,808 to 9,223,372,036,854,775,807) |\n",
    "| Unsigned Int   | `uint8`     | Unsigned integer (0 to 255)                           |\n",
    "| Unsigned Int   | `uint16`    | Unsigned integer (0 to 65,535)                        |\n",
    "| Unsigned Int   | `uint32`    | Unsigned integer (0 to 4,294,967,295)                 |\n",
    "| Unsigned Int   | `uint64`    | Unsigned integer (0 to 18,446,744,073,709,551,615)    |\n",
    "| Floating Point | `float16`   | Half precision floating point                         |\n",
    "| Floating Point | `float32`   | Single precision floating point                       |\n",
    "| Floating Point | `float64`   | Double precision floating point                       |\n",
    "| Complex Number | `complex64` | Complex number (real and imaginary as `float32`)      |\n",
    "| Complex Number | `complex128`| Complex number (real and imaginary as `float64`)      |\n",
    "| Boolean        | `bool_`     | Boolean (True or False)                               |\n",
    "| String         | `string_`   | Fixed-size string data                                |\n",
    "| Unicode String | `unicode_`  | Fixed-size Unicode string data                        |\n"
   ]
  },
  {
   "cell_type": "markdown",
   "id": "9865ec3e-d78b-4c81-a075-2129115646b7",
   "metadata": {},
   "source": [
    "### Series atributter\n",
    "\n",
    "Dataseriene vi lager har flere *atributter*\n",
    "\n",
    "| **Attributt**      | **Beskrivelse**                                                                  |\n",
    "|--------------------|----------------------------------------------------------------------------------|\n",
    "| `index`            | Indeksen (labels) for Series.                                                    |\n",
    "| `values`           | Verdiene (data) i Series som en NumPy-array.                                     |\n",
    "| `name`             | Navnet på Series.                                                                |\n",
    "| `dtype`            | Datatypen for verdiene i Series.                                                 |\n",
    "| `size`             | Antall elementer i Series.                                                       |\n",
    "| `shape`            | Dimensjonaliteten til Series (alltid en enkelt dimensjon).                       |\n",
    "| `empty`            | Returnerer `True` hvis Series er tom (dvs. ikke har noen elementer).              |\n",
    "| `nbytes`           | Det totale antallet bytes som forbrukes av elementene i Series.                  |\n",
    "| `hasnans`          | Returnerer `True` hvis det finnes noen `NaN`-verdier i Series.                   |\n",
    "| `is_unique`        | Returnerer `True` hvis alle verdiene i Series er unike.                          |\n",
    "| `is_monotonic`     | Returnerer `True` hvis Series er sortert i stigende rekkefølge.                  |\n",
    "| `str`              | Gir tilgang til strengmetoder (hvis Series inneholder strenger).                 |\n",
    "| `dt`               | Gir tilgang til datetime-metoder (hvis Series inneholder datetime-objekter).     |\n"
   ]
  },
  {
   "cell_type": "markdown",
   "id": "36242b3a-9991-4f88-8710-a00da49b098b",
   "metadata": {},
   "source": [
    "Noen av disse attributtene kan vi endre direkte:\n",
    "| Attributt        | Kan Endres Direkte     | Hvordan Endre                                                |\n",
    "|------------------|------------------------|--------------------------------------------------------------|\n",
    "| `index`          | Ja                     | Tilordne en ny indeks: `s.index = ['a', 'b', 'c']`           |\n",
    "| `name`           | Ja                     | Tilordne et nytt navn: `s.name = \"Nytt Navn\"`                |\n",
    "| `dtype`          | Ja (indirekte)          | Bruk `astype()` for å \"caste\": `s = s.astype('float64')`       |\n",
    "| `values`         | Ja (men ikke anbefalt)  | Endre verdier direkte (risikabelt): `s.values[0] = 10`       |\n",
    "| Andre            | Nei                     | Skrivebeskyttede attributter, kan ikke endres direkte        |\n"
   ]
  },
  {
   "cell_type": "code",
   "execution_count": 26,
   "id": "c4509f58-5d93-46a6-8467-59bcf18100fa",
   "metadata": {},
   "outputs": [
    {
     "data": {
      "text/plain": [
       "0     3.5\n",
       "1     4.5\n",
       "2     5.6\n",
       "3     6.5\n",
       "4     7.2\n",
       "5     7.9\n",
       "6     8.5\n",
       "7     9.0\n",
       "8     9.3\n",
       "9     9.5\n",
       "10    9.7\n",
       "11    9.8\n",
       "Name: Vekt, Ole, dtype: float32"
      ]
     },
     "execution_count": 26,
     "metadata": {},
     "output_type": "execute_result"
    }
   ],
   "source": [
    "#Eks\n",
    "vekt_ole"
   ]
  },
  {
   "cell_type": "code",
   "execution_count": 27,
   "id": "12972849-f868-46d0-bba1-e6af749eeecb",
   "metadata": {},
   "outputs": [
    {
     "data": {
      "text/plain": [
       "0 måneder     3.500000\n",
       "1 måneder     4.500000\n",
       "2 måneder     5.601562\n",
       "3 måneder     6.500000\n",
       "4 måneder     7.199219\n",
       "5 måneder     7.898438\n",
       "6 måneder     8.500000\n",
       "7 måneder     9.000000\n",
       "8 måneder     9.296875\n",
       "9 måneder     9.500000\n",
       "10 måneder    9.703125\n",
       "11 måneder    9.796875\n",
       "Name: Oles vekt per måned, dtype: float16"
      ]
     },
     "execution_count": 27,
     "metadata": {},
     "output_type": "execute_result"
    }
   ],
   "source": [
    "ny_index = [f\"{mnd} måneder\" for mnd in vekt_ole.index]\n",
    "vekt_ole.index = ny_index\n",
    "vekt_ole =vekt_ole.astype('float16', copy=True)\n",
    "vekt_ole.name = \"Oles vekt per måned\"\n",
    "vekt_ole"
   ]
  },
  {
   "cell_type": "markdown",
   "id": "bc2ccb1d-7ebe-4ef2-b6e7-b4f16116e8c0",
   "metadata": {},
   "source": [
    "### Series Metoder\n",
    "En pandas dataserie har mange nyttige innebygde metoder som gjør ting med dataen:\n",
    "\n",
    "| **Metode**            | **Beskrivelse**                                                                  |\n",
    "|-----------------------|----------------------------------------------------------------------------------|\n",
    "| `head(n)`             | Returnerer de første `n` elementene i Series (standard er 5).                     |\n",
    "| `tail(n)`             | Returnerer de siste `n` elementene i Series (standard er 5).                      |\n",
    "| `unique()`            | Returnerer unike verdier i Series.                                                |\n",
    "| `value_counts()`      | Returnerer antall forekomster av unike verdier i Series.                          |\n",
    "| `describe()`          | Genererer beskrivende statistikk som antall, gjennomsnitt, std, min og maks.      |\n",
    "| `sum()`               | Returnerer summen av elementene i Series.                                         |\n",
    "| `mean()`              | Returnerer gjennomsnittet av elementene i Series.                                 |\n",
    "| `median()`            | Returnerer medianen av elementene i Series.                                       |\n",
    "| `min()`               | Returnerer minimumsverdien i Series.                                              |\n",
    "| `max()`               | Returnerer maksimumsverdien i Series.                                             |\n",
    "| `std()`               | Returnerer standardavviket til Series.                                            |\n",
    "| `sort_values()`       | Sorterer Series etter verdiene.                                                   |\n",
    "| `sort_index()`        | Sorterer Series etter indeksen.                                                   |\n",
    "| `apply(func)`         | Anvender en funksjon element for element på Series.                               |\n",
    "| `map(func)`           | Mapper verdier i Series ved hjelp av funksjon eller dictionary.                       |\n",
    "| `dropna()`            | Fjerner `NaN`-verdier fra Series.                                                 |\n",
    "| `fillna(value)`       | Fyller inn `NaN`-verdier med en spesifisert verdi.                                |\n",
    "| `astype(dtype)`       | Endrer datatypen til Series til spesifisert datatype.                             |\n",
    "| `clip(lower, upper)`  | Begrenser verdier til et spesifisert område (nedre og øvre grenser).              |\n",
    "| `between(left, right)`| Returnerer True for verdier mellom spesifiserte grenser.                          |\n",
    "| `shift(periods)`      | Skifter verdiene med et spesifisert antall perioder.                             |\n",
    "| `cumsum()`            | Returnerer den kumulative summen av elementene i Series.                          |\n",
    "| `cumprod()`           | Returnerer det kumulative produktet av elementene i Series.                       |\n",
    "| `rolling(window)`     | Gir glidende beregninger med et gitt vindu                                          |\n",
    "| `expanding()`         | Gir ekspanderende beregninger (f.eks. kumulative beregninger).               |\n",
    "| `resample(rule)`      | Resampler tidsseriedata i henhold til en spesifisert frekvens.                    |\n",
    "| `plot()`              | Plotter dataen i Series ved hjelp av Matplotlib.                                  |\n"
   ]
  },
  {
   "cell_type": "code",
   "execution_count": 19,
   "id": "b48ea866-6afe-4792-b1e4-deb60ef41880",
   "metadata": {},
   "outputs": [
    {
     "data": {
      "text/plain": [
       "count    12.000000\n",
       "mean      7.583333\n",
       "std       2.140447\n",
       "min       3.500000\n",
       "25%       6.275000\n",
       "50%       8.200000\n",
       "75%       9.350000\n",
       "max       9.800000\n",
       "Name: Oles vekt per måned, dtype: float64"
      ]
     },
     "execution_count": 19,
     "metadata": {},
     "output_type": "execute_result"
    },
    {
     "data": {
      "image/png": "[encoded data removed]",
      "text/plain": [
       "<Figure size 640x480 with 1 Axes>"
      ]
     },
     "metadata": {},
     "output_type": "display_data"
    }
   ],
   "source": [
    "#Eks \n",
    "vekt_ole.plot()\n",
    "vekt_ole.describe()"
   ]
  },
  {
   "cell_type": "code",
   "execution_count": 16,
   "id": "164a8842-8110-4fba-b6df-fa7819ae6651",
   "metadata": {},
   "outputs": [
    {
     "data": {
      "text/html": [
       "<div>\n",
       "<style scoped>\n",
       "    .dataframe tbody tr th:only-of-type {\n",
       "        vertical-align: middle;\n",
       "    }\n",
       "\n",
       "    .dataframe tbody tr th {\n",
       "        vertical-align: top;\n",
       "    }\n",
       "\n",
       "    .dataframe thead th {\n",
       "        text-align: right;\n",
       "    }\n",
       "</style>\n",
       "<table border=\"1\" class=\"dataframe\">\n",
       "  <thead>\n",
       "    <tr style=\"text-align: right;\">\n",
       "      <th></th>\n",
       "      <th>befolkning</th>\n",
       "      <th>bnp_per_innbygger</th>\n",
       "      <th>arbeidsledighet</th>\n",
       "      <th>gjennomsnittsinntekt</th>\n",
       "      <th>fattigdomsrate</th>\n",
       "      <th>sysselsettingsrate</th>\n",
       "      <th>primærnæring</th>\n",
       "      <th>sekundærnæring</th>\n",
       "      <th>tertiærnæring</th>\n",
       "      <th>budsjett_inntekter</th>\n",
       "      <th>budsjett_utgifter</th>\n",
       "      <th>budsjett_underskudd</th>\n",
       "      <th>offentlig_investering_utdanning</th>\n",
       "      <th>offentlig_investering_infrastruktur</th>\n",
       "      <th>offentlig_investering_helse</th>\n",
       "      <th>median_boligpris</th>\n",
       "      <th>bedriftsvekst</th>\n",
       "    </tr>\n",
       "    <tr>\n",
       "      <th>navn</th>\n",
       "      <th></th>\n",
       "      <th></th>\n",
       "      <th></th>\n",
       "      <th></th>\n",
       "      <th></th>\n",
       "      <th></th>\n",
       "      <th></th>\n",
       "      <th></th>\n",
       "      <th></th>\n",
       "      <th></th>\n",
       "      <th></th>\n",
       "      <th></th>\n",
       "      <th></th>\n",
       "      <th></th>\n",
       "      <th></th>\n",
       "      <th></th>\n",
       "      <th></th>\n",
       "    </tr>\n",
       "  </thead>\n",
       "  <tbody>\n",
       "    <tr>\n",
       "      <th>Fjordvik</th>\n",
       "      <td>32000</td>\n",
       "      <td>45000</td>\n",
       "      <td>3.2</td>\n",
       "      <td>520000</td>\n",
       "      <td>7.5</td>\n",
       "      <td>67.8</td>\n",
       "      <td>25</td>\n",
       "      <td>37</td>\n",
       "      <td>38</td>\n",
       "      <td>950000000</td>\n",
       "      <td>920000000</td>\n",
       "      <td>30000000</td>\n",
       "      <td>150000000</td>\n",
       "      <td>250000000</td>\n",
       "      <td>200000000</td>\n",
       "      <td>3200000</td>\n",
       "      <td>2.1</td>\n",
       "    </tr>\n",
       "    <tr>\n",
       "      <th>Kystvik</th>\n",
       "      <td>45000</td>\n",
       "      <td>55000</td>\n",
       "      <td>4.1</td>\n",
       "      <td>610000</td>\n",
       "      <td>6.3</td>\n",
       "      <td>70.4</td>\n",
       "      <td>18</td>\n",
       "      <td>30</td>\n",
       "      <td>52</td>\n",
       "      <td>1200000000</td>\n",
       "      <td>1150000000</td>\n",
       "      <td>50000000</td>\n",
       "      <td>180000000</td>\n",
       "      <td>300000000</td>\n",
       "      <td>220000000</td>\n",
       "      <td>3800000</td>\n",
       "      <td>3.2</td>\n",
       "    </tr>\n",
       "  </tbody>\n",
       "</table>\n",
       "</div>"
      ],
      "text/plain": [
       "          befolkning  bnp_per_innbygger  arbeidsledighet  \\\n",
       "navn                                                       \n",
       "Fjordvik       32000              45000              3.2   \n",
       "Kystvik        45000              55000              4.1   \n",
       "\n",
       "          gjennomsnittsinntekt  fattigdomsrate  sysselsettingsrate  \\\n",
       "navn                                                                 \n",
       "Fjordvik                520000             7.5                67.8   \n",
       "Kystvik                 610000             6.3                70.4   \n",
       "\n",
       "          primærnæring  sekundærnæring  tertiærnæring  budsjett_inntekter  \\\n",
       "navn                                                                        \n",
       "Fjordvik            25              37             38           950000000   \n",
       "Kystvik             18              30             52          1200000000   \n",
       "\n",
       "          budsjett_utgifter  budsjett_underskudd  \\\n",
       "navn                                               \n",
       "Fjordvik          920000000             30000000   \n",
       "Kystvik          1150000000             50000000   \n",
       "\n",
       "          offentlig_investering_utdanning  \\\n",
       "navn                                        \n",
       "Fjordvik                        150000000   \n",
       "Kystvik                         180000000   \n",
       "\n",
       "          offentlig_investering_infrastruktur  offentlig_investering_helse  \\\n",
       "navn                                                                         \n",
       "Fjordvik                            250000000                    200000000   \n",
       "Kystvik                             300000000                    220000000   \n",
       "\n",
       "          median_boligpris  bedriftsvekst  \n",
       "navn                                       \n",
       "Fjordvik           3200000            2.1  \n",
       "Kystvik            3800000            3.2  "
      ]
     },
     "execution_count": 16,
     "metadata": {},
     "output_type": "execute_result"
    }
   ],
   "source": [
    "# Ved radbruk\n",
    "kommunal_statistikk_kystvik = {\n",
    "    \"navn\": \"Kystvik\",\n",
    "    \"befolkning\": 45000,\n",
    "    \"bnp_per_innbygger\": 55000,  # i NOK\n",
    "    \"arbeidsledighet\": 4.1,  # prosent\n",
    "    \"gjennomsnittsinntekt\": 610000,  # i NOK per år\n",
    "    \"fattigdomsrate\": 6.3,  # prosent\n",
    "    \"sysselsettingsrate\": 70.4,  # prosent\n",
    "    \"primærnæring\": 18,  # prosentandel fra primærnæring\n",
    "    \"sekundærnæring\": 30,  # prosentandel fra sekundærnæring\n",
    "    \"tertiærnæring\": 52,  # prosentandel fra tertiærnæring\n",
    "    \"budsjett_inntekter\": 1200000000,  # i NOK\n",
    "    \"budsjett_utgifter\": 1150000000,  # i NOK\n",
    "    \"budsjett_underskudd\": 50000000,  # i NOK\n",
    "    \"offentlig_investering_utdanning\": 180000000,  # i NOK\n",
    "    \"offentlig_investering_infrastruktur\": 300000000,  # i NOK\n",
    "    \"offentlig_investering_helse\": 220000000,  # i NOK\n",
    "    \"median_boligpris\": 3800000,  # i NOK\n",
    "    \"bedriftsvekst\": 3.2,  # prosent\n",
    "}\n",
    "\n",
    "df = pd.DataFrame([kommunal_statistikk_fjordvik, kommunal_statistikk_kystvik])\n",
    "df.index = df[\"navn\"]\n",
    "df.drop(columns=[\"navn\"])"
   ]
  },
  {
   "cell_type": "code",
   "execution_count": null,
   "id": "72f67c17-8813-4f36-af6d-773f144e3427",
   "metadata": {},
   "outputs": [],
   "source": []
  }
 ],
 "metadata": {
  "kernelspec": {
   "display_name": "Python 3 (ipykernel)",
   "language": "python",
   "name": "python3"
  },
  "language_info": {
   "codemirror_mode": {
    "name": "ipython",
    "version": 3
   },
   "file_extension": ".py",
   "mimetype": "text/x-python",
   "name": "python",
   "nbconvert_exporter": "python",
   "pygments_lexer": "ipython3",
   "version": "3.11.7"
  }
 },
 "nbformat": 4,
 "nbformat_minor": 5
}
