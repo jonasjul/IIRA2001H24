{
 "cells": [
  {
   "cell_type": "markdown",
   "id": "8b1a20c9",
   "metadata": {
    "editable": true,
    "slideshow": {
     "slide_type": "slide"
    },
    "tags": []
   },
   "source": [
    "# Programmering i python: Introduksjon\n",
    "\n",
    "----\n",
    "\n",
    "Vi ser på:\n",
    "* [Variabler](https://www.w3schools.com/python/python_variables.asp)\n",
    "* [Datatyper](https://www.w3schools.com/python/python_datatypes.asp)\n",
    "* [Regneoperasjoner](https://www.w3schools.com/python/python_operators.asp)\n",
    "* litt [input/output](https://www.w3schools.com/python/ref_func_input.asp)\n",
    "\n",
    "\n",
    "## MÅL:\n",
    "Du skal kunne:\n",
    "\n",
    "*Skrive enkle pythonprogram som regner ut f.eks sluttsaldo på en sparekonto ved å*:\n",
    "* Lagrer input-data i fornuftige navngitte variabler\n",
    "* Eller spør etter data fra «bruker» og lagrer det i variabler med riktig datatype\n",
    "* Gjør beregninger og lagrer eventuelle mellomregninger i egnede variabler\n",
    "* Skriv ut nyttig informasjon om data-input og «svaret» på en fornuftig formatert måte\n"
   ]
  },
  {
   "cell_type": "markdown",
   "id": "6d41b5f1",
   "metadata": {
    "editable": true,
    "slideshow": {
     "slide_type": "slide"
    },
    "tags": []
   },
   "source": [
    "## Markdown\n",
    "\n",
    "Dette er en \"markdown\" celle.\n",
    "Her kan *du* skrive **tekst** i forbindelse med feks et python prosjekt.\n",
    "Man kan skrive tabeller:\n",
    "| Frukt| Pris (NOK) |\n",
    "| ----------- | ----------- |\n",
    "| Eple | 30 |\n",
    "| Pære | 50 |\n",
    "| Plommer | 45 |\n",
    "\n",
    "Lister:\n",
    "1. Lær python\n",
    "2. Profit\n",
    "\n",
    "* Kjøp melk\n",
    "* Lag ost\n",
    "\n",
    "Markdown støtter også matematikk med $\\LaTeX$ syntax\n",
    "$$\n",
    "\\begin{align*}\n",
    "\\sin^2{x} + \\cos^2{x} &= 1 \\\\\n",
    "\\implies \\cos{x} &= \\sqrt{1-\\sin^2{x}}\n",
    "\\end{align*}\n",
    "$$\n",
    "\n",
    "Til mappeinnleveringen kan det være en god idé å levere en jupyter-notebook med blanding\n",
    "av tekst med markdown, og kode i Python.\n",
    "\n",
    "En kjapp cheat sheet til hvordan skrive markdown finner du [her](https://www.markdownguide.org/cheat-sheet),\n",
    "og en litt større tutorial med mattetriksene til Latex [her](https://ashki23.github.io/markdown-latex.html)\n",
    "\n",
    "Der er mange ressurser også på youtube:\n",
    "\n",
    "<a href=\"https://www.youtube.com/watch?v=uVLzL5E-YBM\n",
    "\" target=\"_blank\"><img src=\"https://img.youtube.com/vi/uVLzL5E-YBM/0.jpg\" \n",
    "alt=\"IMAGE ALT TEXT HERE\" width=\"240\" height=\"180\" border=\"10\" /></a>\n",
    "\n",
    "\n",
    "Til mappen kan dere selvfølgelig også levere kun koden i en jupyter-notebook eller python (\\*.py) fil og rapport og annen tekst som en pdf eller word-fil"
   ]
  },
  {
   "cell_type": "code",
   "execution_count": 1,
   "id": "ae1a0c80",
   "metadata": {},
   "outputs": [
    {
     "name": "stdout",
     "output_type": "stream",
     "text": [
      "Hello World!\n"
     ]
    }
   ],
   "source": [
    "#Dette er en kodecelle i python\n",
    "print(\"Hello World!\")\n",
    "#Alt som kommer etter # er en kommentar og blir fullstendig ignorert\n",
    "\n"
   ]
  },
  {
   "cell_type": "markdown",
   "id": "a338c376",
   "metadata": {
    "editable": true,
    "slideshow": {
     "slide_type": "slide"
    },
    "tags": []
   },
   "source": [
    "## Første steg: `print()` og `help()`\n",
    "\n",
    "Det første vi ser på er python *funksjonene* `print` og `help`.\n",
    "\n",
    "### Funksjoner\n",
    "\n",
    "Funksjoner i python er litt som «miniprogrammer». \n",
    "Disse miniprogrammene kjører og styrer vi i koden vår. Da sier vi at vi gjør *funksjonskall* eller *kaller* funksjonene.\n",
    "\n",
    "Når vi gjør et funksjonskall bruker vi navnet til funksjonen pluss (...), feks slik:\n",
    "```\n",
    "print(\"Hello World!\")\n",
    "```\n",
    "Inne i parantesene sender vi *funksjonsargumentene*. I eksempelet over gir vi `print`-funksjonen en tekststreng `\"Hello world!\"` som funksjonen printer til skjerm/standard output.\n",
    "\n",
    "Funksjoner kan ta flere *argumenter*, da skiller vi de med et komma (arg1,arg2) inne i parantesen, eller den\n",
    "kan ta ingen argumenter, da er parantesene tomme\n",
    "\n",
    "Funksjoner kan også returnere, gi tilbake 1 eller flere verdier eller objekter, men kan også gi tilbake ingenting og gjøre noe i bakgrunnen heller (stille klokken, opprette en fil, sende en beskjed osv.)\n",
    "\n",
    "\n",
    "\n"
   ]
  },
  {
   "cell_type": "code",
   "execution_count": 9,
   "id": "4e5340dd",
   "metadata": {},
   "outputs": [
    {
     "name": "stdout",
     "output_type": "stream",
     "text": [
      "BØ!\n",
      "UÆ!\n",
      "...ikke skrem meg\n",
      "\n",
      "\n",
      "Help on built-in function print in module builtins:\n",
      "\n",
      "print(*args, sep=' ', end='\\n', file=None, flush=False)\n",
      "    Prints the values to a stream, or to sys.stdout by default.\n",
      "    \n",
      "    sep\n",
      "      string inserted between values, default a space.\n",
      "    end\n",
      "      string appended after the last value, default a newline.\n",
      "    file\n",
      "      a file-like object (stream); defaults to the current sys.stdout.\n",
      "    flush\n",
      "      whether to forcibly flush the stream.\n",
      "\n",
      "None\n",
      "2024-08-22 10:01:57.915584\n"
     ]
    }
   ],
   "source": [
    "from datetime import datetime\n",
    "\n",
    "#Her tar vi 1 argument og returnerer ingenting\n",
    "print(\"BØ!\")\n",
    "\n",
    "#Her tar print 2 argumenter og returnerer ingenting\n",
    "print(\"UÆ!\", \"...ikke skrem meg\", sep='\\n', end='\\n\\n\\n')\n",
    "\n",
    "#Her tar funksjonen help 1 argument, printfunksjonen, \n",
    "#og gir tilbake hjelpetekst som vi printer ut\n",
    "print(help(print))\n",
    "\n",
    "#Funksjonen now() fra datetime biblioteket tar ingen argumenter, og returnerer tid og dato\n",
    "print(datetime.now())\n"
   ]
  },
  {
   "cell_type": "markdown",
   "id": "846ac3bf",
   "metadata": {},
   "source": [
    "### Innebygde, importerte og egendefinerte funksjoner\n",
    "\n",
    "Funksjonene `help` og `print` er eksempler på *innebygde funksjoner*. \n",
    "De følger med python og er alltid tilgjengelige\n",
    "\n",
    "Funksjonen `now()` har vi *importert* fra `datetime`-biblioteket.\n",
    "Vi kan importere bibliotek, pakker, eller moduler som gir oss funksjoner som hjelper oss med feks dataanalyse (`pandas`), matematikk (`math`, `sympy`, `numpy`) eller grafikk/plotting (`matplotlib`)\n",
    "\n",
    "Vi kan også lage egendefinerte funksjoner som hjelper oss å strukturere programmet vårt, og til at vi slepper å skrive samme kode flere ganger med forskjellige \"inputs\""
   ]
  },
  {
   "cell_type": "markdown",
   "id": "91f38ff0",
   "metadata": {},
   "source": [
    "## Datatyper og variabler\n",
    "\n",
    "De 4 mest grunnleggende datatypene er:\n",
    "1. Heltall `int`\n",
    "2. Flyttall `float`\n",
    "3. Tekststrenger / strenger `str`\n",
    "4. Boolske verdier (sann/usann) `bool`\n",
    "\n",
    "Heltall er heltall som vi kjenner de fra matematikken, kan være positiv eller negativ eller 0.\n",
    "\n",
    "Flyttall er desimaltall som 1.2, $\\pi$ eller $\\frac{11}{7}$. Det kan virke rart å skille mellom heltall og desimaltall, er ikke de begge bare numeriske verdier? Grunnen til skillet er at heltall og flyttall representeres forskjellig når de lagres i datamaskinen.\n",
    "\n",
    "Datatypen `bool` har bare to verdier: `True` og `False`\n",
    "\n",
    "### Tekststrenger\n",
    "\n",
    "Vi kan lage tekststrenger i python ved å bruke doble anførselstegn \" \"):\n",
    "```\n",
    "print(\"Hello world igjen...?\")\n",
    "```\n",
    "Eller enkle anførselstegn ' ':\n",
    "```\n",
    "print('To tomater gikk over en vei')\n",
    "```\n",
    "\n",
    "Dersom vi har tekst som går over flere linjer, kan vi bruke tripel \"\"\" eller trippel ''':"
   ]
  },
  {
   "cell_type": "code",
   "execution_count": 3,
   "id": "3a5b39ef",
   "metadata": {},
   "outputs": [
    {
     "name": "stdout",
     "output_type": "stream",
     "text": [
      "Der bode en underlig gråsprængt en \n",
      "på den yderste nøgne ø; –\n",
      "han gjorde visst intet menneske mén \n",
      "hverken på land eller sjø; \n",
      "dog stundom gnistred hans øjne stygt, –\n",
      "helst mod uroligt vejr, –\n",
      "og da mente folk, at han var forrykt, \n",
      "og da var der få, som uden frykt \n",
      "kom Terje Vigen nær.\n"
     ]
    }
   ],
   "source": [
    "print(\"\"\"Der bode en underlig gråsprængt en \n",
    "på den yderste nøgne ø; –\n",
    "han gjorde visst intet menneske mén \n",
    "hverken på land eller sjø; \n",
    "dog stundom gnistred hans øjne stygt, –\n",
    "helst mod uroligt vejr, –\n",
    "og da mente folk, at han var forrykt, \n",
    "og da var der få, som uden frykt \n",
    "kom Terje Vigen nær.\"\"\")"
   ]
  },
  {
   "cell_type": "markdown",
   "id": "d9a949af",
   "metadata": {},
   "source": [
    "### Variabler\n",
    "\n",
    "I programmering bruker vi *variabler* til å lagre data og informasjon slik at vi senere kan refere til og manipulere de. \n",
    "\n",
    "Det er viktig å gi variablene meningsfulle og deskriptive navn, og vi tilordner variablene en verdi ved bruk av `=`\n",
    "\n",
    "Variabelnavnene må begynne med en bokstav eller understrek (_) og kan ellers inneholde tall men ikke spesialtegn\n",
    "\n",
    "Vi kan sjekke datatypen til en variabel med funksjonen `type(<variabel>)`"
   ]
  },
  {
   "cell_type": "code",
   "execution_count": 4,
   "id": "7ecbbfd8",
   "metadata": {},
   "outputs": [],
   "source": [
    "\n",
    "#Heltall\n",
    "\n",
    "\n",
    "#Flyttall\n",
    "\n",
    "\n",
    "\n",
    "\n",
    "#Tekststreng\n",
    "\n",
    "terje_vigen = \"\"\"\n",
    "Der bode en underlig gråsprængt en \n",
    "på den yderste nøgne ø; –\n",
    "han gjorde visst intet menneske mén \n",
    "hverken på land eller sjø; \n",
    "dog stundom gnistred hans øjne stygt, –\n",
    "helst mod uroligt vejr, –\n",
    "og da mente folk, at han var forrykt, \n",
    "og da var der få, som uden frykt \n",
    "kom Terje Vigen nær.\n",
    "\"\"\"\n",
    "\n",
    "\n",
    "\n",
    "\n",
    "#Boolean\n",
    "\n",
    "\n",
    "\n",
    "#Man kan tilordne funksjoner til en variabel også. Da dropper man ()\n",
    "\n",
    "\n",
    "#NB - man kan overskrive innebygde funksjoner som print:\n",
    "\n",
    "\n",
    "\n",
    "#Man kan sjekke hvilke datatype en variabel er med funksjonen type()\n",
    "\n",
    "#Man kan lage flere variabler på en linje slik:\n",
    "\n"
   ]
  },
  {
   "cell_type": "markdown",
   "id": "90e516bf",
   "metadata": {},
   "source": [
    "Datatypen til en variabel blir bestemt når vi gir variablen en verdi slik som over\n",
    "\n",
    "Dersom vi trenger å skifte datatypen, eller vil spesifisere hvilken datatype vi vil ha bruker vi funksjonene:\n",
    "* `int(x)`: Gjør om `x` til heltall\n",
    "* `float(x)`: Gjør om `x` til flyttall\n",
    "* `str(x)`: Gjør om `x` til en tekststreng\n",
    "\n",
    "Skal vi gjøre om et flyttall `x` til et heltall med `int`-funksjonen blir tallene etter komma fjernet. Dersom vi vil avrunde, må vi gjør det med `round(flyttall, antall_siffer)` før vi bruker `int` funksjonen "
   ]
  },
  {
   "cell_type": "code",
   "execution_count": 5,
   "id": "e2d73e43",
   "metadata": {},
   "outputs": [],
   "source": [
    "\n",
    "#Dersom man vil ha heltallet 4 som flyttall bruker man funksjonen float()\n",
    "#print(help(float))\n",
    "\n",
    "\n",
    "#Vil man ha flyttallet 3e8 som heltall bruker man int()\n",
    "#print(help(int))\n",
    "\n",
    "#Ofte må man gjøre tekststrenger om til heltall eller flyttall\n"
   ]
  },
  {
   "cell_type": "markdown",
   "id": "de683b77",
   "metadata": {},
   "source": [
    "## Aritmetiske operatorer\n",
    "\n",
    "Når vi har laget variablene våres, vil vi kanskje manipulere de og gjøre noen utregninger.\n",
    "Python har følgende aritmetiske operatorer:\n",
    "| operator | navn | eksempel |\n",
    "| -------- | ---- |  ------  |\n",
    "| `+` |  Addisjon | `x+y` |\n",
    "| `-` | Subtraksjon | `x-y`|\n",
    "| `*` | Multiplikasjon | `x/y` |\n",
    "| `/` | Divisjon | `x/y` |\n",
    "| `%` | Modulus | `x%y` |\n",
    "| `**` | eksponentiering | `x**2` |\n",
    "| `//` | Heltallsdivisjon | `x//y`|\n",
    "    "
   ]
  },
  {
   "cell_type": "code",
   "execution_count": 6,
   "id": "60c39de0",
   "metadata": {},
   "outputs": [
    {
     "name": "stdout",
     "output_type": "stream",
     "text": [
      "x =  8 \n",
      "y =  3 \n",
      "\n",
      "\n"
     ]
    }
   ],
   "source": [
    "# Vi lager 2 variabler, x og y:\n",
    "x = 8\n",
    "y = 3\n",
    "\n",
    "#Dersom vi vil ha linjeskift i en streng kan vi skrive det som \"\\n\"\n",
    "print(\"x = \", x, \"\\ny = \", y, \"\\n\\n\")\n",
    "\n"
   ]
  },
  {
   "cell_type": "markdown",
   "id": "ae04ddda",
   "metadata": {
    "slideshow": {
     "slide_type": "fragment"
    }
   },
   "source": [
    "### Operator presedens\n",
    "\n",
    "Hva mener vi når vi skriver `4/3*7` i python?\n",
    "$$\n",
    "\\frac{4}{3\\cdot 7}\n",
    "$$\n",
    "eller:\n",
    "$$\n",
    "\\frac{4}{3}\\cdot 7\n",
    "$$\n",
    "*Operatorpresedens/rekkefølge* bestemmer hvordan uttrykket tolkes. \n",
    "Python prioriterer operatorer i følge rekkefølge:\n",
    "1. () - Paranteser løses opp før noe annet\n",
    "2. ** - Deretter kommer eksponentiering\n",
    "3. \\*, /, //, % - etterfulgt av gange, dele og modulo\n",
    "4. -, + - Addisjon og subtraksjon kommer til slutt\n",
    "\n",
    "Dersom to operatorer har samme presedens, evalueres det fra venstre mot høyre\n",
    "slik at `4/3*7` blir $\\frac{4}{3}\\cdot 7$. \n",
    "\n",
    "`4/3**7` derimot, blir $\\frac{4}{3^7}$ og ikke $\\left(\\frac{4}{3}\\right)^7$ fordi `**` har høyere presedens enn `/`\n",
    "\n",
    "Moralen i historien er altså at vi må passe på at uttrykkene blir regnet ut riktig, ved høvelig bruk a paranteser"
   ]
  },
  {
   "cell_type": "code",
   "execution_count": null,
   "id": "3b6523df",
   "metadata": {},
   "outputs": [],
   "source": []
  },
  {
   "cell_type": "markdown",
   "id": "47143aac",
   "metadata": {},
   "source": [
    "# Eksempel: Populasjonsvekst\n",
    "\n",
    "Populasjonsvekst over tid i feks et land kan beskrives av følgende formel:\n",
    "$$\n",
    "P(t) = \\frac{K}{1+Ae^{-rt}}\n",
    "$$\n",
    "Her er:\n",
    "* $P(t)$: Populasjon ved tiden t\n",
    "* $t$ er tiden\n",
    "* $r$ er relativ vekstrate, feks 2%\n",
    "* $K$ er makskapasiteten til populasjonen\n",
    "* $e$ er eulers tall: $e\\approx 2,71828$\n",
    "\n",
    "$A$ er en koeffisient definert ved:\n",
    "$$\n",
    "A = \\frac{K-P_0}{P_0}\n",
    "$$\n",
    "Hvor $P_0$ er populasjonen ved $t=0$\n",
    "\n",
    "På Island er det 372 520 innbyggere (2021). <br> Vi antar at Island maksimalt kan opprettholde en populasjon på 4 millioner og at relativ vekstrate på Island er 2%.\n",
    "\n",
    "**Skriv et python-program som regner ut antall innbyggere på Island i 2040 og printer ut resultatet sammen med relevant informasjon**"
   ]
  },
  {
   "cell_type": "code",
   "execution_count": 7,
   "id": "b928fba1",
   "metadata": {},
   "outputs": [],
   "source": [
    "#Folketall på Island\n",
    "\n",
    "e = 2.71828 #Eulers tall (Vi skal se en bedre måte å hente slike konstanter)\n"
   ]
  },
  {
   "cell_type": "markdown",
   "id": "3cffb0ce",
   "metadata": {},
   "source": [
    "### Nyttig?\n",
    "\n",
    "Enkle programmet som det over kan allerede være nyttig.\n",
    "Siden vi la inn data fra problemet vårt (vekstrate, sluttid, startpopulasjon osv) i egne variabler, og brukte disse variablene til alle videre utregninger, kan vi raskt sjekke hva populasjonen er blir 2050, eller hva populasjonen blir om vekstraten er 5% kun ved å forandre verdien til disse «startvariablene»\n",
    "\n",
    "* Legg inn parametere, startverdier og konstanter som egne variablene\n",
    "* Bruk disse i alle videre beregninger\n",
    "\n",
    "Vi kan også la den som bruker programmet legge inn noen av tallene/parameterene\n",
    "med `input(<melding til bruker>)` funksjonen. Den viser meldingen til brukerene\n",
    "og lar de skrive inn tall eller tekst som blir gitt til python som en tekststreng\n",
    "\n"
   ]
  },
  {
   "cell_type": "code",
   "execution_count": 8,
   "id": "7ba88b1e",
   "metadata": {},
   "outputs": [],
   "source": [
    "# Krisekalkulator: Bruker gir sin alder og programmet oppgir\n",
    "#hvor lenge det er til han fyller 40\n"
   ]
  },
  {
   "cell_type": "code",
   "execution_count": null,
   "id": "5d7ca7e0-a44c-4d62-add9-b092b55608e9",
   "metadata": {},
   "outputs": [],
   "source": []
  }
 ],
 "metadata": {
  "kernelspec": {
   "display_name": "Python 3 (ipykernel)",
   "language": "python",
   "name": "python3"
  },
  "language_info": {
   "codemirror_mode": {
    "name": "ipython",
    "version": 3
   },
   "file_extension": ".py",
   "mimetype": "text/x-python",
   "name": "python",
   "nbconvert_exporter": "python",
   "pygments_lexer": "ipython3",
   "version": "3.11.7"
  }
 },
 "nbformat": 4,
 "nbformat_minor": 5
}
