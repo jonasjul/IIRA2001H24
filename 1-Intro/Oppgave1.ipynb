{
 "cells": [
  {
   "cell_type": "markdown",
   "id": "13935fcb",
   "metadata": {},
   "source": [
    "# Oppgave 1"
   ]
  },
  {
   "cell_type": "markdown",
   "id": "b3f0b8fb",
   "metadata": {},
   "source": [
    "# Oppgave 1: Populasjonsvekst\n",
    "----\n",
    "\n",
    "Ta utgangspunkt i eksempelet fra plenumsøkten om populasjonsveksten på Island og skriv følgende program:\n",
    "\n",
    "* Programmet spør bruker etter:\n",
    "    - Navn på området (eg. Island, Finmark osv)\n",
    "    - Vekstrate\n",
    "    - Startår\n",
    "    - Sluttår\n",
    "    - Populasjon ved startår\n",
    "* Programmet beregner populasjonsstørrelse ved sluttår\n",
    "* Programmet oppsummerer og gir tilbakemelding om størrelsene som er gitt\n",
    "* Programmet angir populasjon ved sluttår\n",
    "* Programmet angir hvor mye populasjonen har vokst absolutt (antall folk) og relativt (prosent)\n",
    "\n",
    "Populasjonsveksten antas beskrevet av den logistiske ligningen som sist:\n",
    "\n",
    "$$\n",
    "P(t) = \\frac{K}{1+Ae^{-rt}}\n",
    "$$\n",
    "Her er:\n",
    "* $P(t)$: Populasjon ved tiden t\n",
    "* $t$ er tiden\n",
    "* $r$ er relativ vekstrate, feks 2%\n",
    "* $K$ er makskapasiteten til populasjonen\n",
    "* $e$ er eulers tall: $e\\approx 2,71828$\n",
    "\n",
    "$A$ er en koeffisient definert ved:\n",
    "$$\n",
    "A = \\frac{K-P_0}{P_0}\n",
    "$$\n",
    "Hvor $P_0$ er populasjonen ved $t=0$"
   ]
  },
  {
   "cell_type": "code",
   "execution_count": 1,
   "id": "5a2b55e4",
   "metadata": {},
   "outputs": [],
   "source": [
    "\n",
    "# Din kode her :)\n"
   ]
  },
  {
   "cell_type": "markdown",
   "id": "57d2e25e",
   "metadata": {},
   "source": [
    "# Oppgave 2: Sparekalkulator\n",
    "----\n",
    "\n",
    "Dersom vi sparer et fast terminbeløp $P$ som vi betaler inn på konto $n$ ganger i året, vi har en p.a. rente på $r$ prosent og vi sparer i $t$ år, vil sluttbeløpet på sparekontoen være gitt ved:\n",
    "$$\n",
    "F = P\\cdot \\left(\\frac{\\left(1+\\frac{r}{n}\\right)^{nt}-1}{\\frac{r}{n}}\\right)\n",
    "$$\n",
    "\n",
    "Lag et program som ber bruker av programmet om å taste inn terminbeløp, rente, antall innskudd/renteavregninger og antall år og gir følgende tilbakemeldinger:\n",
    "* Programmet oppsummerer og gir tilbakemelding på tallene brukeren gav\n",
    "* Programmet beregner og oppgir sluttbeløpet på sparekonto\n",
    "* Programmet angir hvor mye av sluttbeløpet er renter og innskudd, i prosent og kroner\n",
    "\n",
    "*(Merk at $r$ i formelen ikke er i prosent, 2% = 0.02)*\n",
    "\n",
    "### Dersom du vil\n",
    "----\n",
    "Dersom du vil kan du også ta inflasjon, formueskatt ($\\approx 1\\%$) og skatteprosent (22% av renteinntekter) med i beregningene"
   ]
  },
  {
   "cell_type": "code",
   "execution_count": 2,
   "id": "6bab3d75",
   "metadata": {},
   "outputs": [],
   "source": [
    "\n",
    "# Din kode her :)"
   ]
  }
 ],
 "metadata": {
  "kernelspec": {
   "display_name": "Python 3 (ipykernel)",
   "language": "python",
   "name": "python3"
  },
  "language_info": {
   "codemirror_mode": {
    "name": "ipython",
    "version": 3
   },
   "file_extension": ".py",
   "mimetype": "text/x-python",
   "name": "python",
   "nbconvert_exporter": "python",
   "pygments_lexer": "ipython3",
   "version": "3.11.7"
  }
 },
 "nbformat": 4,
 "nbformat_minor": 5
}
