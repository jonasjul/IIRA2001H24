{
 "cells": [
  {
   "cell_type": "markdown",
   "id": "a072a729-850e-42bc-9664-ed333714bfab",
   "metadata": {
    "editable": true,
    "jupyterlab-deck": {
     "layer": "slide"
    },
    "slideshow": {
     "slide_type": "slide"
    },
    "tags": []
   },
   "source": [
    "# Oppsummering\n",
    "* **Vi har lært om datatyper og variabler**:\n",
    "* **Å gjøre om mellom de ulike typene**\n",
    "* **Å lese inn data fra «bruker»**\n",
    "* **Printe ut variabler til output**\n",
    "* **Å gjøre regneoperasjoner**"
   ]
  },
  {
   "cell_type": "code",
   "execution_count": 1,
   "id": "f63295e1-8f43-4b54-90ef-c0fa263ee26f",
   "metadata": {
    "editable": true,
    "jupyterlab-deck": {
     "layer": "slide"
    },
    "slideshow": {
     "slide_type": "slide"
    },
    "tags": []
   },
   "outputs": [
    {
     "name": "stdin",
     "output_type": "stream",
     "text": [
      "Gi meg et heltall\n",
      " 12\n"
     ]
    },
    {
     "name": "stdout",
     "output_type": "stream",
     "text": [
      "Tallet ditt var 12\n",
      "<class 'int'>\n"
     ]
    }
   ],
   "source": [
    "tall_fra_bruker = input(\"Gi meg et heltall\\n\")\n",
    "tall_float = float(tall_fra_bruker)\n",
    "tall_avrundet = round(tall_float)\n",
    "tall_int = int(tall_avrundet)\n",
    "print(\"Tallet ditt var\", tall_int)\n",
    "print(type(tall_int))"
   ]
  },
  {
   "cell_type": "markdown",
   "id": "8ee32a82-9ea8-48a8-8e81-967cc6f073e8",
   "metadata": {
    "editable": true,
    "jupyterlab-deck": {
     "layer": "slide"
    },
    "slideshow": {
     "slide_type": "slide"
    },
    "tags": []
   },
   "source": [
    "# Eksempel: Populasjonsvekst\n",
    "\n",
    "Populasjonsvekst over tid i feks et land kan beskrives av følgende formel:\n",
    "$$\n",
    "P(t) = \\frac{K}{1+Ae^{-rt}}\n",
    "$$\n",
    "Her er:\n",
    "* $P(t)$: Populasjon ved tiden t\n",
    "* $t$ er tiden\n",
    "* $r$ er relativ vekstrate, feks 2%\n",
    "* $K$ er makskapasiteten til populasjonen\n",
    "* $e$ er eulers tall: $e\\approx 2,71828$\n",
    "\n",
    "$A$ er en koeffisient definert ved:\n",
    "$$\n",
    "A = \\frac{K-P_0}{P_0}\n",
    "$$\n",
    "Hvor $P_0$ er populasjonen ved $t=0$\n",
    "\n",
    "På Island er det 372 520 innbyggere (2021). <br> Vi antar at Island maksimalt kan opprettholde en populasjon på 4 millioner og at relativ vekstrate på Island er 2%.\n",
    "\n",
    "**Skriv et python-program som regner ut antall innbyggere på Island i 2040 og printer ut resultatet sammen med relevant informasjon**"
   ]
  },
  {
   "cell_type": "code",
   "execution_count": 2,
   "id": "dc19c006-36e5-4198-9383-e7cddaae4908",
   "metadata": {
    "editable": true,
    "jupyterlab-deck": {
     "layer": "slide"
    },
    "slideshow": {
     "slide_type": "slide"
    },
    "tags": []
   },
   "outputs": [
    {
     "name": "stdout",
     "output_type": "stream",
     "text": [
      "Sluttpopulasjon: 566916.1816347578\n",
      "560000\n",
      "560000\n",
      "570000\n"
     ]
    }
   ],
   "source": [
    "import math\n",
    "#Folketall på Island\n",
    "e = math.exp(1) # math.exp(1) = e^1\n",
    "K = 4e6\n",
    "P0 = 372520\n",
    "r = 0.025\n",
    "start_aar = 2021\n",
    "slutt_aar = 2040\n",
    "t = slutt_aar-start_aar\n",
    "A = (K-P0)/P0\n",
    "sluttPopulasjon = K/(1+A*e**(-r*t))\n",
    "#Eulers tall \n",
    "print(\"Sluttpopulasjon:\", sluttPopulasjon)\n",
    "\n",
    "populasjon_int = int(sluttPopulasjon)\n",
    "print((populasjon_int//10000)*10000)\n",
    "print(populasjon_int - populasjon_int%10000)\n",
    "sluttPopulasjon_avrundet = round(sluttPopulasjon,-4)\n",
    "print(int(sluttPopulasjon_avrundet))"
   ]
  },
  {
   "cell_type": "markdown",
   "id": "bc4e836b-aa08-41ef-a997-1cbb74b9e0ab",
   "metadata": {
    "editable": true,
    "jupyterlab-deck": {
     "layer": "slide"
    },
    "slideshow": {
     "slide_type": "slide"
    },
    "tags": []
   },
   "source": [
    "### Nyttig?\n",
    "\n",
    "Enkle programmet som det over kan allerede være nyttig.\n",
    "Siden vi la inn data fra problemet vårt (vekstrate, sluttid, startpopulasjon osv) i egne variabler, og brukte disse variablene til alle videre utregninger, kan vi raskt sjekke hva populasjonen er blir 2050, eller hva populasjonen blir om vekstraten er 5% kun ved å forandre verdien til disse «startvariablene»\n",
    "\n",
    "* Legg inn parametere, startverdier og konstanter som egne variablene\n",
    "* Bruk disse i alle videre beregninger\n",
    "\n",
    "Vi kan også la den som bruker programmet legge inn noen av tallene/parameterene\n",
    "med `input(<melding til bruker>)` funksjonen. Den viser meldingen til brukerene\n",
    "og lar de skrive inn tall eller tekst som blir gitt til python som en tekststreng\n",
    "\n"
   ]
  },
  {
   "cell_type": "code",
   "execution_count": 4,
   "id": "f0701e13-892d-4c7c-8df1-6254be3ca67b",
   "metadata": {
    "editable": true,
    "jupyterlab-deck": {
     "layer": "slide"
    },
    "slideshow": {
     "slide_type": "slide"
    },
    "tags": []
   },
   "outputs": [
    {
     "name": "stdin",
     "output_type": "stream",
     "text": [
      "Hvor gammel er du? 12\n"
     ]
    },
    {
     "name": "stdout",
     "output_type": "stream",
     "text": [
      "Det er 38 til du fyller 50\n"
     ]
    }
   ],
   "source": [
    "#Krisekalkulator: Bruker gir sin alder og programmet oppgir\n",
    "#hvor lenge det er til han fyller 40\n",
    "alder = input(\"Hvor gammel er du?\")\n",
    "alder_int = int(alder)\n",
    "panikkalder = 50\n",
    "print(\"Det er\", panikkalder-alder_int, \"til du fyller\", panikkalder)"
   ]
  },
  {
   "cell_type": "code",
   "execution_count": 8,
   "id": "cc3bc987-0335-491d-acda-ebb9a92a5f55",
   "metadata": {},
   "outputs": [
    {
     "data": {
      "text/plain": [
       "int"
      ]
     },
     "execution_count": 8,
     "metadata": {},
     "output_type": "execute_result"
    }
   ],
   "source": [
    "type(print)"
   ]
  },
  {
   "cell_type": "markdown",
   "id": "0a40c233-d455-4d72-9657-28ab245a624b",
   "metadata": {
    "editable": true,
    "jupyterlab-deck": {
     "layer": "slide"
    },
    "slideshow": {
     "slide_type": "slide"
    },
    "tags": []
   },
   "source": [
    "# Funksjoner!\n",
    "* Vi har sett på noen innebygde funksjoner:\n",
    "* - `round()`\n",
    "  - `print()`\n",
    "  - `float()`"
   ]
  },
  {
   "cell_type": "markdown",
   "id": "d0a7bcc0-39af-42f7-9046-cbba07ea86f4",
   "metadata": {
    "editable": true,
    "jupyterlab-deck": {
     "layer": "slide"
    },
    "slideshow": {
     "slide_type": "slide"
    },
    "tags": []
   },
   "source": [
    " * Disse funksjonene, og funksjoner generelt, er som små programmer man lett kan kjøre (kalle) mange ganger\n",
    " * Å for eksempel gjøre om datarepresentasjoenen til et heltall om til flyttallsrepresentasjon ser noe slik ut:\n",
    "   ![Utregning](https://i.ytimg.com/vi/n-XozGu1viM/maxresdefault.jpg)"
   ]
  },
  {
   "cell_type": "markdown",
   "id": "883e61bc-0dca-4746-baf4-aee044cec55f",
   "metadata": {
    "editable": true,
    "jupyterlab-deck": {
     "layer": "slide"
    },
    "slideshow": {
     "slide_type": "slide"
    },
    "tags": []
   },
   "source": [
    "* Tenk om vi måtte programmere dette hver gang vi skulle dele to heltall på hverandre!\n",
    "* funksjonen `float(«heltall»)` gjemmer alle disse beregningen, slik at vi raskt og enkelt kan kjøre de\n",
    "* Mindre tid, lesbar kode"
   ]
  },
  {
   "cell_type": "markdown",
   "id": "8b2fd11e-69e5-4225-82a6-3c0e371c9b5a",
   "metadata": {
    "editable": true,
    "jupyterlab-deck": {
     "layer": "slide"
    },
    "slideshow": {
     "slide_type": "slide"
    },
    "tags": []
   },
   "source": [
    "# Egendefinerte funksjoner\n",
    "* Det kan også være nyttig å putte deler av programmene vi koder inn i slike funksjoner\n",
    "* Kanskje er det en del av programmet ditt som du gjentar mange ganger\n",
    "    * -> lag en funksjon som gjør det\n",
    "* Kanskje består programmet ditt av veldefinerte steg, eller prosedyrer\n",
    "    * -> putt disse i egne funksjoner\n",
    "* Kanskje er hele eller deler av programmet ditt gjenbrukbart i andre sammenhenger\n",
    "    * -> putt slik funksjonalitet i egne funksjoner\n"
   ]
  },
  {
   "cell_type": "markdown",
   "id": "07c7999e-dc7a-4af0-9cfa-39351c726459",
   "metadata": {
    "editable": true,
    "slideshow": {
     "slide_type": "slide"
    },
    "tags": []
   },
   "source": [
    "## Hvordan lage egne funksjoner\n",
    "```python\n",
    "def funksjonsnavn(argument1, argument2):\n",
    "    # Beregninger\n",
    "    # ....\n",
    "    # ....\n",
    "    # ....\n",
    "    return resultat\n",
    "```"
   ]
  },
  {
   "cell_type": "markdown",
   "id": "b3078bd9-1acd-48ec-ac48-ba04524cabe9",
   "metadata": {
    "editable": true,
    "slideshow": {
     "slide_type": "fragment"
    },
    "tags": []
   },
   "source": [
    "* `def` sier at nå skal vi definere en funksjon\n",
    "* Det neste som kommer er navnet på funksjonen\n",
    "* Deretter kommer 0 eller flere argumenter som vi vil at funksjonen skal ta inne i paranteser\n",
    "* Vi avslutter linjen med :\n",
    "* deretter **GJØR VI ET INNRYKK** og skriver kode som gjør noe nyttig\n",
    "* Dersom funksjonen skal returnere noe bruker vi `return ...` "
   ]
  },
  {
   "cell_type": "markdown",
   "id": "4e093d6b-c402-49b1-93c7-0347be29bb1a",
   "metadata": {
    "editable": true,
    "slideshow": {
     "slide_type": ""
    },
    "tags": []
   },
   "source": []
  },
  {
   "cell_type": "markdown",
   "id": "04e6b509-cd2f-4083-9a55-2cfe9c230445",
   "metadata": {
    "editable": true,
    "slideshow": {
     "slide_type": "slide"
    },
    "tags": []
   },
   "source": [
    "### Eks: snitt\n",
    "En funksjon som regner ut gjennomsnittet av 2 tall"
   ]
  },
  {
   "cell_type": "code",
   "execution_count": 9,
   "id": "356c8d91-52c5-4536-b183-410d16afcf5a",
   "metadata": {
    "editable": true,
    "slideshow": {
     "slide_type": "fragment"
    },
    "tags": []
   },
   "outputs": [
    {
     "name": "stdout",
     "output_type": "stream",
     "text": [
      "5.5\n"
     ]
    }
   ],
   "source": [
    "\n",
    "def snitt(a,b):\n",
    "    gjennomsnitt = (a+b)/2\n",
    "    return gjennomsnitt\n",
    "\n",
    "gjennomsnitt = snitt(3,6)\n",
    "tall1 = 4\n",
    "tall2 = 7\n",
    "gjennomsnitt2 = snitt(tall1,tall2)\n",
    "print(gjennomsnitt2)"
   ]
  },
  {
   "cell_type": "markdown",
   "id": "70493926-6e81-49b4-85e4-1c3501949047",
   "metadata": {
    "editable": true,
    "slideshow": {
     "slide_type": "slide"
    },
    "tags": []
   },
   "source": [
    "### Eks: sirkelareal\n",
    "En funksjon som regner ut areal av en sirkel med radius `r`"
   ]
  },
  {
   "cell_type": "code",
   "execution_count": 14,
   "id": "89a3d7af-b485-454d-b3f5-363c197d2bb5",
   "metadata": {
    "editable": true,
    "slideshow": {
     "slide_type": "fragment"
    },
    "tags": []
   },
   "outputs": [
    {
     "name": "stdout",
     "output_type": "stream",
     "text": [
      "areal 12.566370614359172\n"
     ]
    }
   ],
   "source": [
    "import math\n",
    "pi = math.pi\n",
    "\n",
    "def areal(r):\n",
    "    areal = pi*r**2\n",
    "    omkrets = 2*pi*r\n",
    "    return areal\n",
    "r = 2\n",
    "\n",
    "#Funksjonen vet om alle variabler i programmet (de er i samme \"scope\")\n",
    "#Programmet vet ikke om variablene inne i funksjonen\n",
    "print(\"areal\", areal(r))\n",
    "#print(\"omkrets\", omkrets)"
   ]
  },
  {
   "cell_type": "markdown",
   "id": "a902c5d7-b9de-4df1-a2e5-9994d0da6083",
   "metadata": {
    "editable": true,
    "slideshow": {
     "slide_type": "slide"
    },
    "tags": []
   },
   "source": [
    "### Eks returnere flere verdier"
   ]
  },
  {
   "cell_type": "code",
   "execution_count": 15,
   "id": "f9713d94-351a-44ec-9db3-4545b53726e9",
   "metadata": {
    "editable": true,
    "slideshow": {
     "slide_type": "fragment"
    },
    "tags": []
   },
   "outputs": [
    {
     "name": "stdout",
     "output_type": "stream",
     "text": [
      "Areal:  50.26548245743669\n",
      "Omkrets 25.132741228718345\n"
     ]
    }
   ],
   "source": [
    "#Vi lager en funksjon som returnerer\n",
    "#Både areal og omkrets til en sirkel med radius r\n",
    "def sirkel(r):\n",
    "    areal = pi*r**2\n",
    "    omkrets = 2*pi*r\n",
    "    return areal, omkrets\n",
    "\n",
    "a, o = sirkel(4)\n",
    "print(\"Areal: \", a)\n",
    "print(\"Omkrets\", o)"
   ]
  },
  {
   "cell_type": "markdown",
   "id": "d3f05447-487c-452d-9705-c03abb9780ba",
   "metadata": {
    "editable": true,
    "slideshow": {
     "slide_type": "slide"
    },
    "tags": []
   },
   "source": [
    "* Funksjoner er et kraftig verktøy i programmering\n",
    "* Viktig å kunne bruke godt\n",
    "* Funksjoner kan også ta andre funksjoner som argument, og man kan også returnere funksjoner fra funksjoner!"
   ]
  },
  {
   "cell_type": "raw",
   "id": "f024f4aa-1499-4855-801a-d0a8225e762b",
   "metadata": {
    "editable": true,
    "raw_mimetype": "",
    "slideshow": {
     "slide_type": "slide"
    },
    "tags": []
   },
   "source": [
    "Dersom du er ferdig med oppgave1 (populasjonsvekst) - kan du prøve å legge relevante deler av programmet inn i egne funksjoner"
   ]
  }
 ],
 "metadata": {
  "kernelspec": {
   "display_name": "Python 3 (ipykernel)",
   "language": "python",
   "name": "python3"
  },
  "language_info": {
   "codemirror_mode": {
    "name": "ipython",
    "version": 3
   },
   "file_extension": ".py",
   "mimetype": "text/x-python",
   "name": "python",
   "nbconvert_exporter": "python",
   "pygments_lexer": "ipython3",
   "version": "3.11.7"
  }
 },
 "nbformat": 4,
 "nbformat_minor": 5
}
