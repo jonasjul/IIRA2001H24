{
 "cells": [
  {
   "cell_type": "markdown",
   "id": "336d0d9b-98a7-44a1-8a5e-78b9ffeb241a",
   "metadata": {},
   "source": [
    "## Sparekalkulator og Logistisk vekst\n",
    "* Vi har sett på 2 caser - en sparekalkulator og modellering og simulering av populasjonsvekst\n",
    "* Et utvalg av oppgavene vi jobber med skal som sagt leveres inn i mappen\n",
    "* En god strategi til mappen, er å ikke levere programmer som løser oppgavene nøyaktig som beskrevet -- men  å bruke programmet ditt i et konkret tilfelle/problemstilling slik at du har mulighet til å diskutere resultatene\n",
    "\n",
    "### FEKS:\n",
    "- Du har laget et program som spør bruker om data og viser populasjonsutvikling\n",
    "    - Eksemplifiser da bruken av programmet ditt i et konkret tilfelle og diskuter resultat\n",
    "- Du har laget en sparekalkulator som regner ut sluttsaldo på en konto og viser utviklingen over tid med et barplott\n",
    "    - Finn da et «sparecase» hvor du bruker programmet ditt til å oppnå et sparemål\n",
    "    - Kanskje tenker du å spare til bil, ny mac e.l. -- vis hvordan du da kan nyttiggjøre programmet ditt\n",
    "- Du har laget en sparekalkulator som gjør spareutregningene for mange kunder (kundedata)\n",
    "    - Spør deg selv hva man kan bruke et slikt program til å undersøke, feks om du jobber i en bank:\n",
    "    - Kanskje kan programmet utvides til å gi ytterligere statistikk om kundene (Hvor mange er «rike», hva er gjennomsnittlig sparebeløp)\n",
    "    - Dersom man skal markedsføre overfor kundene for at de skal forbli kunder og maksimere pengebeholdningen, hvilken strategi bør man bruke?\n",
    "    - I eksempelet over kan man se på effekten av pengebeholdning dersom man bruker mye ressurser på mange gjennomsnittlige sparere, eller mindre ressurser på å beholde de «rike» sparerene -- Bruk skjønn og fryktløs gjetning til å undersøke parametre her\n",
    "- Du kan modellere noe annet enn populasjon -- Eks:\n",
    "    - Befolkningsvekst og arbeidstilbud\n",
    "    - Markedspenetrasjon av nye produkter\n",
    "    - Diffusjon av innovasjoner\n",
    "    - Økonomisk vekst i fremvoksende markeder\n",
    "    - S-kurve i konjunktursykluser\n",
    "    - Epidemier og økonomisk påvirkning\n",
    "    - Urbanisering og infrastrukturutvikling\n",
    "    - Metning av finansmarkeder\n",
    "    - Forbrukeratferd og produktets livssyklus\n",
    "    - Ressursutnyttelse og bærekraft\n",
    "    \n",
    "* Her følger noen variasjoner med økende vanskelighetsgrad\n",
    "  "
   ]
  },
  {
   "cell_type": "markdown",
   "id": "f5bd6f4d-5070-4839-a8a6-22513f052f55",
   "metadata": {},
   "source": [
    "# Populasjonsvekst 3.1.1 (Ca. hvor dere skal ha kommet i uke 35)"
   ]
  },
  {
   "cell_type": "markdown",
   "id": "0af2f93e-9855-4ce7-b1e1-c45d828b0081",
   "metadata": {},
   "source": [
    "Prøv å modellere populasjonsveksten i et område\n",
    "* Finn noe data å ta utgangspunkt i, spesielt for vekstrate $r$ og startpopulasjon $P_0$\n",
    "  - Eventuelt spør programmet bruker om parameterene\n",
    "* Gjør så godt kvalifiserte gjetninger du kan for makspopulasjonen for området $K$ (Eller spør bruker)\n",
    "* Regn ut populasjonsveksten over et tidsrom og lag et plot av utviklingen\n",
    "* Programmet gir tilbake nyttig informasjon (Total vekst, absolutt vekst osv)\n",
    "\n"
   ]
  },
  {
   "cell_type": "markdown",
   "id": "fc67e1a9-ec80-43ae-80c9-e396ac961bd4",
   "metadata": {},
   "source": [
    "# 3.1.2 Sammenligne vekst\n",
    "* Lag et program som modellerer og simulerer befolkningsvekst for to eller flere områder\n",
    "* Lag et plot av utviklingen\n",
    "* Programmet skriver ut nyttig info om utvikling feks:\n",
    "    - Hvilket område har vokst mest\n",
    "    - er størst\n",
    "    - Total vekst, absolutt og relativ for de forskjellig områdene\n",
    "    "
   ]
  },
  {
   "cell_type": "markdown",
   "id": "c0e5478e-c600-414e-a968-54d9792471ac",
   "metadata": {},
   "source": [
    "# 3.1.3 Finne krysningspunkt for to populasjoner med logistisk vekst\n",
    "* Lag et program som modellerer og simulerer befolkningsvekst for to områder\n",
    "* Lag plot av utviklingen\n",
    "* Beregn når og dersom det ene området overstiger det andre i populasjonsstørrelse\n",
    "* Programmet skriver ut nyttig info slik som tidligere"
   ]
  },
  {
   "cell_type": "markdown",
   "id": "2b528726-5adf-410b-a917-9ade66d9d637",
   "metadata": {},
   "source": [
    "# 3.1.4 Diffusjon av innovasjoner\n",
    "Den logistiske ligningen kan brukes til å modellere hvordan nye teknologier tas i bruk:\n",
    "* Til å begynne med skjer veksten tilnærmet eksponensielt\n",
    "* «Makspopulasjonen» $K$ er nå potensielle brukere av teknologien og kan bero på mange faktorer:\n",
    "  - Ser vi på innføringen av el-biler kan det feks være bilenes rekkevidde, pris og utbyggingen av ladenettet\n",
    "  - Ser vi på antall brukere av streaming-tjenseter kan det være tilgjengelig innhold, pris, tilgjengelighet av raskt bredbånd osv.\n",
    "\n",
    "Figuren under viser antall Netflix-brukere etter innføringen i 2001\n",
    "\n",
    "\n",
    "\n",
    "![Hei](netflixbrukere.png)\n",
    "\n",
    "* Plot dataene i tabellen som prikkeplott\n",
    "* Ta i bruk litt prøving og feiling for å modellere antall netflix-brukere med den logistiske modellen\n",
    "* (Det finnes gode måter å gjøre dette skikkelig på som vi skal se på senere i kurset)\n",
    "* Hva er maksimalt antall kunder netflix kan få i følge modellen din, og hvordan blir utviklingen?\n",
    "* Dersom netflix klarer å øke kundegruppen sin med 10% i 2023 - Hvor mye antar vi at antall brukere vil øke med de neste 5 årene?"
   ]
  },
  {
   "cell_type": "code",
   "execution_count": 6,
   "id": "262ddb8d-c0ff-4a27-97c8-b6cac84f27cd",
   "metadata": {},
   "outputs": [],
   "source": [
    "import matplotlib.pyplot as plt\n",
    "\n",
    "tid_aar = list(range(2001,2024))\n",
    "brukere = [400e3, 796e3, 1.41e6, 2.48e6, 4.02e6,6.15e6,7.32e6,9.16e6,11.89e6,\n",
    "           18.26e6,24.30e6,30.36e6,41.43e6,54.47e6,70.83e6,89.09e6,110.64e6,139.25e6,\n",
    "           167.09e6,203.66e6,221.84e6,230.75e6,260.28e6]"
   ]
  },
  {
   "cell_type": "code",
   "execution_count": null,
   "id": "0e717837-c184-4dee-82de-8c0c8e4fb130",
   "metadata": {},
   "outputs": [],
   "source": []
  },
  {
   "cell_type": "markdown",
   "id": "f3f65c6b-f61c-4de7-a994-50429834a345",
   "metadata": {},
   "source": [
    "# Sparekalkulator 3.2.1 (Ca. hvor dere skal ha kommet i uke 35)\n",
    "\n",
    "* Lag et program som regner ut saldo på sparekonto over tid\n",
    "  "
   ]
  },
  {
   "cell_type": "markdown",
   "id": "4e866425-2106-41ac-8a33-fc1bc111d1ed",
   "metadata": {},
   "source": [
    "# 3.2.2\n",
    "\n",
    "* Lag et program som viser og plotter ulike sammenhenger mellom parametre under sparing:\n",
    "    - Sluttsaldo etter x (feks x=10) år som funksjon av rente\n",
    "    - Sluttsaldo etter x (feks x=10) år med fast terminbeløp $P$ (feks = $P=1000$) som funksjon av antall innskudd i året\n",
    "    - Andel renter som funksjon av tid, og andel renter etter x år som funksjon av rentesats"
   ]
  },
  {
   "cell_type": "markdown",
   "id": "ed830990-c4e0-4945-a311-3ef674d029db",
   "metadata": {},
   "source": [
    "# 3.2.3\n",
    "* Lag en sparekalkulator som forteller:\n",
    "  - Hvor mye du må spare for å nå et sluttbeløp innen en gitt tid\n",
    "  - Hvor lenge du må spare for å nå et sluttbeløp med et gitt terminbeløp\n",
    "  - Hvor mye du må øke/minke terminbeløpet ditt med for å nå et sparemål dersom renten endres underveis\n",
    "  "
   ]
  },
  {
   "cell_type": "code",
   "execution_count": null,
   "id": "1a0ed62a-3506-4f5a-82b7-28c698d7b52d",
   "metadata": {},
   "outputs": [],
   "source": []
  }
 ],
 "metadata": {
  "kernelspec": {
   "display_name": "Python 3 (ipykernel)",
   "language": "python",
   "name": "python3"
  },
  "language_info": {
   "codemirror_mode": {
    "name": "ipython",
    "version": 3
   },
   "file_extension": ".py",
   "mimetype": "text/x-python",
   "name": "python",
   "nbconvert_exporter": "python",
   "pygments_lexer": "ipython3",
   "version": "3.12.4"
  }
 },
 "nbformat": 4,
 "nbformat_minor": 5
}
