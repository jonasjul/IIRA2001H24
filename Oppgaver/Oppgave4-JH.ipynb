{
 "cells": [
  {
   "cell_type": "markdown",
   "id": "7dcc342a-3110-4475-8ba5-2c1c7d40f0b6",
   "metadata": {},
   "source": [
    "# Oppgave 4: Databehandling -- kunder, sparing og formuesfordeling\n",
    "\n",
    "* Cellen under leser inn noe kundedata\n",
    "* Dataen inneholder en liste av dictionarier med følgende \"felt\" eller nøkler:\n",
    "     - \"fornavn\"\n",
    "     - \"etternavn\"\n",
    "     - \"startsaldo\""
   ]
  },
  {
   "cell_type": "code",
   "execution_count": 2,
   "id": "3c36ecdc-b197-41bc-b418-eba9744ec2be",
   "metadata": {},
   "outputs": [
    {
     "name": "stdout",
     "output_type": "stream",
     "text": [
      "Listen inneholder data om 2000 kunder.\n",
      "For hver kunde har vi data om ['fornavn', 'etternavn', 'startsaldo']\n"
     ]
    }
   ],
   "source": [
    "import json\n",
    "with open(\"kundedata1.json\", 'r') as file:\n",
    "    kundedata = json.load(file)\n",
    "info = f\"\"\"Listen inneholder data om {len(kundedata)} kunder.\n",
    "For hver kunde har vi data om {list(kundedata[0].keys())}\"\"\"\n",
    "print(info)"
   ]
  },
  {
   "cell_type": "markdown",
   "id": "d10a623f-0a55-490c-bfe1-32d43b9a0b60",
   "metadata": {},
   "source": []
  },
  {
   "cell_type": "markdown",
   "id": "2386a9b3-e487-4330-982c-468f7afc6176",
   "metadata": {},
   "source": [
    "# 4.1: Klassifisering og bruk av data"
   ]
  },
  {
   "cell_type": "markdown",
   "id": "b621339a-ef5c-4b10-8235-82c0d3afbf19",
   "metadata": {},
   "source": [
    "* Lag et program som går gjennom listen og regner ut hvordan saldo på sparekonto vokser over tid.\n",
    "* Ta i første omgang utgangspunkt i at alle kunder sparer et fast terminbeløp $n$ ganger i året, til en fornuftig rente $r$\n",
    "\n",
    "* Hvordan er fordelingen av sparepenger blant kundene? -- lag et histogram med pyplot (plt.hist(.....)) som viser dette\n",
    "* Utifra fordelingen av sparepenger -- sett noen fornuftige grenser for foreksempel \"lite bemidlet\", \"middels bemidlet\" og \"rike\" kunder\n",
    "* Oppdater dataene med disse klassifiseringene, og eventuelt annen nyttig info (gjennonsnittssaldo før/etter, max/min saldo..)\n",
    "  - Her kan du gjerne gjøre \"kundedata\" listen til et felt i en annen datastruktur\n",
    "* Vis fordeling med et kake-diagram og histogram\n",
    "* Hvordan endrer denne fordelingen seg over tid?\n",
    "                                        "
   ]
  },
  {
   "cell_type": "code",
   "execution_count": 1,
   "id": "2aa0aeaa-7b4c-45c5-b7a9-70f5e4554697",
   "metadata": {},
   "outputs": [],
   "source": [
    "import matplotlib.pyplot as plt\n",
    "import numpy as np\n",
    "import pprint\n",
    "\n",
    "pp = pprint.PrettyPrinter(indent=4)\n"
   ]
  },
  {
   "cell_type": "markdown",
   "id": "791ae2ee-116d-4651-96bb-cda3b6292976",
   "metadata": {},
   "source": [
    "# 4.2: Endring i fordeling over tid\n",
    "* I dataen vi jobber med er startsaldo normalfordelt rundt 100,000 kr\n",
    "* Vis denne fordelingen med et histogram\n",
    "* Bruk feks `random.gauss()`eller `np.random.normal()` til å gi kundene ulike betingelser på terminbeløp og rente\n",
    "* Hvilken effekt har dette på fordelingen av sparepengene når lang tid har gått?\n",
    "* Kanskje kan du se på effekt på fordelingen om vi klassifiserer kundene inn i set på rike, middels- og lavt bemidlede kunder og gir de ulike sparebetingelser?\n",
    "  "
   ]
  },
  {
   "cell_type": "code",
   "execution_count": null,
   "id": "27b85b24-e367-4316-a804-a019d43f977a",
   "metadata": {},
   "outputs": [],
   "source": []
  },
  {
   "cell_type": "markdown",
   "id": "bdc68ac0-dff9-4fb7-ba4f-84fb1ed1da5a",
   "metadata": {},
   "source": [
    "# 4.3: Gini-indeks\n",
    "* Vi bygger videre i på programmet i 4.2\n",
    "* Les deg opp på Gini-indeks og Lorenzkurven [her](https://en.wikipedia.org/wiki/Gini_coefficient)\n",
    "* Plott fordelingen av sparepenger etter lengre tid når ikke alle har samme sparebetingelser:\n",
    "  - Vis dette med Lorenzkurven\n",
    "  - Regn ut Gini-indeks for fordelingen av sparepenger\n",
    "  "
   ]
  },
  {
   "cell_type": "code",
   "execution_count": null,
   "id": "ec044095-8f41-4dc1-a830-ba1c7c93e30e",
   "metadata": {},
   "outputs": [],
   "source": []
  },
  {
   "cell_type": "markdown",
   "id": "d4bdc9ae-bba2-4c5c-924c-e158d87e98ef",
   "metadata": {},
   "source": [
    "# 4.4 Skjevfordelt startsaldo og terminbeløp\n",
    "* La oss anta at startsaldoen eller terminbeløpet ikke er normalfordelt blant kundene\n",
    "* Startfordelingene er heller gitt ved Lorenzkurven:  $L(x) = x^3$\n",
    "* Gi kundene en startsaldo definert ved denne Lorenzkurven og finn ut hva som skjer med fordelingen over tid\n",
    "* Fordel terminbeløp til kunder som tilsvarer denne Lorenzkurven og finn ut hva som skjer med fordelingen over tid\n",
    "* Hilke faktorer er avgjørende for ulikhet og skjevfordeling når det kommer til sparing?"
   ]
  },
  {
   "cell_type": "code",
   "execution_count": 6,
   "id": "df9ccb9e-7198-433a-af64-e23b072694d5",
   "metadata": {},
   "outputs": [
    {
     "data": {
      "image/png": "[encoded data removed]",
      "text/plain": [
       "<Figure size 432x288 with 1 Axes>"
      ]
     },
     "metadata": {
      "needs_background": "light"
     },
     "output_type": "display_data"
    }
   ],
   "source": [
    "x = np.linspace(0,1,21)\n",
    "y = x**3\n",
    "plt.plot(x,y, label=\"Skjevfordeling\")\n",
    "plt.plot([0,1],[0,1], label=\"Perfekt fordeling\")\n",
    "plt.xlabel(\"Andel av sparere (lav til høy)\")\n",
    "plt.ylabel(\"Andel av totale sparepenger (kumulativ)\")\n",
    "plt.title(\"\"\"Lorenzkurver:\n",
    "for feks x=0.4 ser viser grafen hvor stor andel av pengebeholdning de 40% \"fattigste\" har\n",
    "\"\"\")\n",
    "plt.legend()\n",
    "plt.show()"
   ]
  },
  {
   "cell_type": "code",
   "execution_count": 2,
   "id": "2286eff9-b49d-44a3-b081-646cc1a8c7d2",
   "metadata": {},
   "outputs": [
    {
     "name": "stdout",
     "output_type": "stream",
     "text": [
      "Listen inneholder data om 2000 kunder.\n",
      "For hver kunde har vi data om ['fornavn', 'etternavn', 'startsaldo']\n"
     ]
    }
   ],
   "source": [
    "import json\n",
    "with open(\"kundedata1.json\", 'r') as file:\n",
    "    kundedata = json.load(file)\n",
    "info = f\"\"\"Listen inneholder data om {len(kundedata)} kunder.\n",
    "For hver kunde har vi data om {list(kundedata[0].keys())}\"\"\"\n",
    "print(info)"
   ]
  },
  {
   "cell_type": "code",
   "execution_count": null,
   "id": "4dc8a60e-c4a3-4461-9e03-fd8dd7385266",
   "metadata": {},
   "outputs": [],
   "source": []
  },
  {
   "cell_type": "code",
   "execution_count": null,
   "id": "b13e6a0f-18eb-4dad-8d0b-eae59edebb70",
   "metadata": {},
   "outputs": [],
   "source": []
  }
 ],
 "metadata": {
  "kernelspec": {
   "display_name": "Python 3 (ipykernel)",
   "language": "python",
   "name": "python3"
  },
  "language_info": {
   "codemirror_mode": {
    "name": "ipython",
    "version": 3
   },
   "file_extension": ".py",
   "mimetype": "text/x-python",
   "name": "python",
   "nbconvert_exporter": "python",
   "pygments_lexer": "ipython3",
   "version": "3.11.7"
  }
 },
 "nbformat": 4,
 "nbformat_minor": 5
}
