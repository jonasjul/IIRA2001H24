{
 "cells": [
  {
   "cell_type": "markdown",
   "id": "b9211db2-b4de-41ac-bda4-14addf81b45c",
   "metadata": {},
   "source": [
    "# Oppgave 5.1: Varer på salg\n",
    "\n",
    "Vi ønsker å undersøke hvordan det å sette varer på tilbud påvirker salg og omsetning\n",
    "\n",
    "* Anta at en butikk ar et knippe produkter til en viss pris\n",
    "* Når en kunde kommer inn i butikken er det en viss sjanse knyttet til hvert produkt for at kunden kjøper det\n",
    "* Dersom varene kommer på salg øker denne sjansen\n",
    "\n",
    "* Gjør noen antagelser om hvor mange kunder som kommer innom butikken hver dag\n",
    "* Når en kunde kommer inn i butikken har de et visst budjsett som vi trekker tilfeldig fra en passende fordeling\n",
    "  - Her kan dere bruke feks `random.gauss()`,`numpy.random.normal()`, `random.uniform()`\n",
    "* Kunden ser så gjennom produktene og kjøper de basert på tilfeldighet (produktets parametre) og om de har penger igjen i budsjettet\n",
    "\n",
    "* Sammenlign salg og omsetning for en måned med og uten produkter på tilbud\n",
    "* Du velger selv hvordan sjansen for salg skal øke med tilbudsrate -- men den logistiske modellen er en god kandidat\n",
    "* Fremstill resultatet av simulering grafisk med `matplotlib`"
   ]
  },
  {
   "cell_type": "code",
   "execution_count": null,
   "id": "06b0de18-4e36-4e85-8b89-b70858c538e6",
   "metadata": {},
   "outputs": [],
   "source": []
  },
  {
   "cell_type": "markdown",
   "id": "335240d2-84f5-4d72-b7f1-6301ec8eaedb",
   "metadata": {},
   "source": [
    "# Oppgave 5.2: Simulere markedsdynamikk\n",
    "1. Set opp en markedsmodell for et gode:\n",
    " \n",
    "* Tilbud: $Q_s = a - bP+\\epsilon_s$\n",
    "* Etterspørsel $Q_d = c + dP +\\epsilon_d$\n",
    "\n",
    "Her er:\n",
    "* $Q_d =$ Kvantum etterspurt\n",
    "* $Q_s =$ Kvantum \"tilbudt\"\n",
    "* $P = $ Pris\n",
    "* $a,b,c,d =$ Konstanter dere bestemmer\n",
    "* $\\epsilon_d, \\epsilon_s = $ \"Sjokk\" i markedet for tilbud og etterspørsel\n",
    "\n",
    "Velg fornuftige verdier for $a,b,c$ og $d$\n",
    "\n",
    "2. Implementer tilfeldig sjokk i markedet\n",
    "   * Velg $\\epsilon_d$ og $\\epsilon_s$ tilfeldig fra en normalfordeling med middelverdi 0 og et passende standardavvik\n",
    "   * Her kan du bruke `random.gauss(..)` eller numpy sin `np.random.normal(...)`\n",
    "\n",
    "3. Simuler markedet over tid\n",
    "   * Simuler et visst antall perioder (feks 50)\n",
    "   * For hver periode skal du:\n",
    "     - Regne ut nye markedssjokk $\\epsilon_d$ og $\\epsilon_s$\n",
    "     - Bestemme likevektsprisen $P^*$\n",
    "     - Bestemme likevektskvantumet $Q^*$\n",
    "4. På et gitt tidspunkt simulerer vi en inngripen i markedet (Feks halveis i simuleringen):\n",
    "   * Skatt: Øk etterspørselfunksjonens $a$ for å simulere økt beskatning på produksjon\n",
    "   * Subsidier: Minsk etterspørselfunksjonens $a$ for å simulere subsidier til produksjon\n",
    "   * Innfør en makspris eller minimumspris\n",
    "   * Fortsett simuleringen med oppdatert modell for markedsdynamikken\n",
    "\n",
    "5. Plot resultat med matplotlib\n",
    "   * Plot likevektspris og likevektskvantum over tid\n"
   ]
  },
  {
   "cell_type": "code",
   "execution_count": null,
   "id": "9f5abe2b-0080-448a-80da-23d909f6d61f",
   "metadata": {},
   "outputs": [],
   "source": []
  },
  {
   "cell_type": "code",
   "execution_count": null,
   "id": "8d4ba7a9-66ad-40fc-a70e-735bb01a9ded",
   "metadata": {},
   "outputs": [],
   "source": []
  }
 ],
 "metadata": {
  "kernelspec": {
   "display_name": "Python 3 (ipykernel)",
   "language": "python",
   "name": "python3"
  },
  "language_info": {
   "codemirror_mode": {
    "name": "ipython",
    "version": 3
   },
   "file_extension": ".py",
   "mimetype": "text/x-python",
   "name": "python",
   "nbconvert_exporter": "python",
   "pygments_lexer": "ipython3",
   "version": "3.10.12"
  }
 },
 "nbformat": 4,
 "nbformat_minor": 5
}
