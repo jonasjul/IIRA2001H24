{
 "cells": [
  {
   "cell_type": "markdown",
   "id": "4296de8d-6137-4430-a802-3452af11a045",
   "metadata": {},
   "source": [
    "# Kjapp inføring i littavhvert:\n",
    " * Moduler\n",
    " * Løkker\n",
    " * Datastrukturer (lister)"
   ]
  },
  {
   "cell_type": "markdown",
   "id": "f94ae2eb-8916-4ecb-9267-40476eef405e",
   "metadata": {},
   "source": [
    "# Først mer om funksjoner:\n",
    "* Vi lager egne funksjoner når:\n",
    "    - Vi gjør samme «ting» mange ganger\n",
    "    - For å dele programmet inn i deler som har sine egne spesialoppgaver (Programstruktur)\n",
    "    - Når vi har funksjonalitet som kan være nyttig i andre sammenhenger (Gjenbrukbarhet)"
   ]
  },
  {
   "cell_type": "markdown",
   "id": "da6d1104-2d5b-4144-ba0d-72ab1f75b9ea",
   "metadata": {},
   "source": [
    "### \n",
    "Eksempel: Populasjonsvekst\n",
    "\n",
    "La oss si at vi ønsker å sammenligne populasjonsveksten i for to områder, feks Norge og Sverige.\n",
    "Vi vil se på vekst over $t = 10$ år, og sammenligne sluttpopulasjonen for forskjellige parametre eller omstendigheter.\n",
    "La:\n",
    "\n",
    "$$\n",
    "\\begin{align*}\n",
    "P_{0,N} &= 5,000,000 \\\\\n",
    "P_{0,S} &= 9,000,000 \\\\\n",
    "K_N &= 20,000,000 \\\\\n",
    "K_S &= 25,000,000 \\\\\n",
    "r_N &= 0.02 \\\\\n",
    "r_S &= 0.01\n",
    "\\end{align*}\n",
    "$$\n",
    "\n",
    "Logistisk vekst er fortsatt:\n",
    "$$\n",
    "\\begin\n",
    "P(t) = \n",
    "$$"
   ]
  }
 ],
 "metadata": {
  "kernelspec": {
   "display_name": "Python 3 (ipykernel)",
   "language": "python",
   "name": "python3"
  },
  "language_info": {
   "codemirror_mode": {
    "name": "ipython",
    "version": 3
   },
   "file_extension": ".py",
   "mimetype": "text/x-python",
   "name": "python",
   "nbconvert_exporter": "python",
   "pygments_lexer": "ipython3",
   "version": "3.10.12"
  }
 },
 "nbformat": 4,
 "nbformat_minor": 5
}
