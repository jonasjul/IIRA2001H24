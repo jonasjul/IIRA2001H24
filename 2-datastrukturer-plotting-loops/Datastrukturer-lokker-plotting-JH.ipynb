{
 "cells": [
  {
   "cell_type": "markdown",
   "id": "e15deb76-7fdc-4c76-aa81-efd74c32976f",
   "metadata": {
    "slideshow": {
     "slide_type": "slide"
    },
    "tags": []
   },
   "source": [
    "# Datastrukturer: Lister\n",
    "* I forrige time regnet vi på populasjonsvekst for Norge og Sverige\n",
    "* Hva om vi i populasjonsveksteksempelet ikke bare så på 2 land, men kanskje alle i Europa\n",
    "* Alle parametre måtte ha en egen variabel for hvert land\n",
    "* Det fungerer dårlig -- i praksis må vi ha like mange variabler som datapunkt\n",
    "* Det kan dreie seg om millioner av variabler å lage navn til å holde styr på\n",
    "* **NEI TAKK**"
   ]
  },
  {
   "cell_type": "markdown",
   "id": "0216138c-f964-4f19-8c74-fdd215bccca5",
   "metadata": {
    "slideshow": {
     "slide_type": "subslide"
    },
    "tags": []
   },
   "source": [
    "## Lister\n",
    "* Vi trenger en annen måte å organisere og *strukturere* datapunktene våre på\n",
    "* Python har flere ulike typer **datastrukturer** som kan hjelpe oss med det\n",
    "* Den første vi skal se på er *lister*"
   ]
  },
  {
   "cell_type": "markdown",
   "id": "84b45d5c-24e3-4e4d-9b6c-8533dadae096",
   "metadata": {
    "slideshow": {
     "slide_type": "subslide"
    },
    "tags": []
   },
   "source": [
    "* Vi lager lister med ting ved å «liste de opp» inne i klammeparanteser (opt  8 og 9 på mac ?)\n",
    "* Listene kan inneholde alle hva som helst, til og med funksjoner, og vi kan blande datatyper"
   ]
  },
  {
   "cell_type": "code",
   "execution_count": 2,
   "id": "329edd34-3634-4d13-8e83-d683f94bf3fa",
   "metadata": {
    "slideshow": {
     "slide_type": "fragment"
    },
    "tags": []
   },
   "outputs": [
    {
     "data": {
      "text/plain": [
       "['hei',\n",
       " 22,\n",
       " 4000000.0,\n",
       " <function print(*args, sep=' ', end='\\n', file=None, flush=False)>]"
      ]
     },
     "execution_count": 2,
     "metadata": {},
     "output_type": "execute_result"
    }
   ],
   "source": [
    "#De kan inneholde alt mulig, til og med funksjoner\n",
    "a = [\"hei\", 22, 4e6, print]\n",
    "a"
   ]
  },
  {
   "cell_type": "markdown",
   "id": "22d95595-c4c6-403e-b925-7d9e0e6b22de",
   "metadata": {
    "slideshow": {
     "slide_type": "subslide"
    },
    "tags": []
   },
   "source": [
    "* For å hente ut et element i listen oppgir vi *indeksen* til elementet i klammeparanteser bak listen"
   ]
  },
  {
   "cell_type": "code",
   "execution_count": 5,
   "id": "e8d82258-065b-460f-951a-05a39f31bfd1",
   "metadata": {
    "slideshow": {
     "slide_type": "fragment"
    },
    "tags": []
   },
   "outputs": [
    {
     "name": "stdout",
     "output_type": "stream",
     "text": [
      "['hei', 22, 4000000.0, <built-in function print>]\n"
     ]
    },
    {
     "data": {
      "text/plain": [
       "4000000.0"
      ]
     },
     "execution_count": 5,
     "metadata": {},
     "output_type": "execute_result"
    }
   ],
   "source": [
    "print(a)\n",
    "#Element3\n",
    "a[2]\n"
   ]
  },
  {
   "cell_type": "code",
   "execution_count": 6,
   "id": "e72fbbcc-c9cb-478a-94d5-44a5c224bdc9",
   "metadata": {
    "slideshow": {
     "slide_type": "fragment"
    },
    "tags": []
   },
   "outputs": [
    {
     "data": {
      "text/plain": [
       "'hei'"
      ]
     },
     "execution_count": 6,
     "metadata": {},
     "output_type": "execute_result"
    }
   ],
   "source": [
    "#Element 1\n",
    "a[0]"
   ]
  },
  {
   "cell_type": "markdown",
   "id": "abe51d7a-666d-42e8-98e2-274847bdcaa1",
   "metadata": {
    "slideshow": {
     "slide_type": "fragment"
    },
    "tags": []
   },
   "source": [
    "* Merk at listene er «0-indeksert», vi teller altså fra og med 0 og oppover\n",
    "* Noen datastrukturer er det ulovlig å endre innholdet av, men med lister kan vi det"
   ]
  },
  {
   "cell_type": "code",
   "execution_count": 21,
   "id": "1c073734-1cfc-4845-b0ca-74a61d8be4bd",
   "metadata": {
    "slideshow": {
     "slide_type": "subslide"
    },
    "tags": []
   },
   "outputs": [
    {
     "name": "stdout",
     "output_type": "stream",
     "text": [
      "[2, 4.5, 4.5, 45]\n"
     ]
    }
   ],
   "source": [
    "#Vi endrer element nr 3, som har indeks 2\n",
    "a[2] = 4.5\n",
    "#Vi endrer første element\n",
    "a[0] = 2\n",
    "#Dersom vi bruker negative indekser, \"begynner\" vi på slutten av listen\n",
    "a[-1] = 45\n",
    "print(a)"
   ]
  },
  {
   "cell_type": "markdown",
   "id": "a965c4e2-ebba-4cdd-a29a-9d4ebbb62e64",
   "metadata": {
    "slideshow": {
     "slide_type": "subslide"
    },
    "tags": []
   },
   "source": [
    "* Vi kan bruke dir() for å se nyttige innebygde funksjoner av listen\n",
    "* Disse kan kalles med '.' feks `min_liste.sort()` for å sortere listen i stigende rekkefølge\n"
   ]
  },
  {
   "cell_type": "code",
   "execution_count": 17,
   "id": "34c0281f-8025-4096-afb1-f664d7707f7c",
   "metadata": {
    "slideshow": {
     "slide_type": "fragment"
    },
    "tags": []
   },
   "outputs": [
    {
     "name": "stdout",
     "output_type": "stream",
     "text": [
      "[2, 4.5, 22, 45]\n",
      "Sortert a [2, 4.5, 22, 45]\n"
     ]
    }
   ],
   "source": [
    "print(a)\n",
    "#print(dir(a))\n",
    "#Sorter liste a\n",
    "a.sort()\n",
    "print(\"Sortert a\", a)\n",
    "#Fjern siste element og lagre i variabel"
   ]
  },
  {
   "cell_type": "code",
   "execution_count": 23,
   "id": "4f544582-4969-4aa8-af55-24fca7136dea",
   "metadata": {
    "slideshow": {
     "slide_type": "subslide"
    },
    "tags": []
   },
   "outputs": [
    {
     "name": "stdout",
     "output_type": "stream",
     "text": [
      "[2, 4.5, 4.5, 45]\n",
      "[2, 4.5, 4.5, 45, -1]\n"
     ]
    }
   ],
   "source": [
    "print(a)\n",
    "#Legg til et element på slutten:\n",
    "a.append(-1)\n",
    "print(a)"
   ]
  },
  {
   "cell_type": "code",
   "execution_count": 28,
   "id": "7c309b4f-48f9-4ff5-85db-5355a712c256",
   "metadata": {
    "slideshow": {
     "slide_type": "fragment"
    },
    "tags": []
   },
   "outputs": [
    {
     "name": "stdout",
     "output_type": "stream",
     "text": [
      "Siste 8 \n",
      "Rest [1, 2, 3, 4, 5, 6, 7]\n",
      "Første 1 \n",
      "Rest [2, 3, 4, 5, 6, 7]\n"
     ]
    }
   ],
   "source": [
    "a = [1,2,3,4,5,6,7,8]\n",
    "# \"Pop\" første element\n",
    "siste = a.pop()\n",
    "print(\"Siste\", siste, \"\\nRest\", a)\n",
    "#Fjerne første?\n",
    "forste = a.pop(0)\n",
    "print(\"Første\", forste, \"\\nRest\", a)"
   ]
  },
  {
   "cell_type": "markdown",
   "id": "86861641-b0e0-43c1-993d-c29bdc350df8",
   "metadata": {
    "slideshow": {
     "slide_type": "fragment"
    },
    "tags": []
   },
   "source": [
    "* Andre viktige funksjoner er `len(«liste»)` og `max(«liste»)`"
   ]
  },
  {
   "cell_type": "code",
   "execution_count": 29,
   "id": "81c09c29-60d3-40cf-bab3-305dd6f593da",
   "metadata": {
    "slideshow": {
     "slide_type": "fragment"
    },
    "tags": []
   },
   "outputs": [
    {
     "name": "stdout",
     "output_type": "stream",
     "text": [
      "Lengden på liste a er: 6\n",
      "Største element er: 7\n"
     ]
    }
   ],
   "source": [
    "print(\"Lengden på liste a er:\", len(a))\n",
    "print(\"Største element er:\", max(a))"
   ]
  },
  {
   "cell_type": "markdown",
   "id": "7e741a95-7197-461d-af6a-e57eca5b089f",
   "metadata": {
    "slideshow": {
     "slide_type": "slide"
    },
    "tags": []
   },
   "source": [
    "## Eks: Populasjonsvekst - Skandinavia\n",
    "* Samme eksempel som tidligere, men vi ser på hele skandinavia"
   ]
  },
  {
   "cell_type": "code",
   "execution_count": null,
   "id": "1f30b30f-102e-4b29-b029-342e873ea1c9",
   "metadata": {
    "slideshow": {
     "slide_type": "fragment"
    },
    "tags": []
   },
   "outputs": [],
   "source": [
    "import math\n",
    "land = [\"Norge\", \"Sverige\", \"Danmark\"]\n",
    "K = [20e6, 25e6, 15e6] #Makspopulasjon\n",
    "r = [0.01, 0.02, 0.03] #relativ vekstrate\n",
    "P0 = [4e6, 8e6, 6e6] # Startpopulasjon\n",
    "t = 20 #Hvor mange år vekst\n",
    "\n",
    "\n",
    "def logistisk_vekst(P0,K,r,t):\n",
    "    A = (K-P0)/P0\n",
    "    P = K/(1+A*math.exp(-r*t))\n",
    "    return P\n",
    "  \n",
    "def lag_pop_funk(P0,K,r):\n",
    "    def slutt_populasjon(t):\n",
    "        P = logistisk_vekst(P0,K,r,t)\n",
    "        return P\n",
    "    return slutt_populasjon #Vi returnerer funksjonen vi laget inne i funksjonen!\n",
    "\n",
    "def format_pop(P):\n",
    "    return int(round(P,-3))\n",
    "\n",
    "pop_funksjoner = [] #Liste med funksjoner som regner ut populasjon ved tiden t for land 0,1,2\n",
    "pop_funksjoner.append( lag_pop_funk(P0[0], K[0], r[0]))\n",
    "pop_funksjoner.append(lag_pop_funk(P0[1], K[1], r[1]))\n",
    "pop_funksjoner.append(lag_pop_funk(P0[2], K[2], r[2]))\n",
    "#Vi kunne også lagret disse funksjonene i en liste.. :)\n",
    "\n",
    "#print(type(pop_norge))\n",
    "P_slutt = []\n",
    "P_slutt.append(pop_funksjoner[0](t))\n",
    "P_slutt.append(pop_funksjoner[1](t))\n",
    "P_slutt.append(pop_funksjoner[2](t))\n",
    "\n",
    "print(\"Sluttpopulasjonen i\", land[0], \"er:\", format_pop(P_slutt[0]))\n",
    "print(\"Sluttpopulasjonen i\", land[1], \"er:\", format_pop(P_slutt[1]))\n",
    "print(\"Sluttpopulasjonen i\", land[2], \"er:\", format_pop(P_slutt[2]))\n"
   ]
  },
  {
   "cell_type": "markdown",
   "id": "bcf2e35e-00bd-47d1-b156-4bdb9cb122e5",
   "metadata": {
    "slideshow": {
     "slide_type": "subslide"
    },
    "tags": []
   },
   "source": [
    "# Fortsatt problemer?\n",
    "* Vi har samlet dataene vår i lister -- det er bra\n",
    "* Men vi må fortsatt gå igjennom disse listene for hånd -- ikke bra\n",
    "* Vi trenger en måte å gå gjennom lister og andre datastrukturer *automatisk*"
   ]
  },
  {
   "cell_type": "markdown",
   "id": "1b6c534b-0ebe-4c7e-8b12-b3d48327048f",
   "metadata": {
    "slideshow": {
     "slide_type": "slide"
    },
    "tags": []
   },
   "source": [
    "# Løkker: `for`-løkken\n",
    "* I programmering trenger vi ofte å gjenta ca. samme operasjon mange ganger\n",
    "* Vi kan da lage det som kalles en løkke, eller *loop* på engelsk\n",
    "* Løkken består av kode som vi kjører om igjen mange ganger\n",
    "* Hver runde gjennom løkken kalles en *iterasjon*\n",
    "* Dersom må har en løkke som gjør noe for alle elementene i en liste `a` sier man at man *itererer* over listen\n",
    "\n"
   ]
  },
  {
   "cell_type": "markdown",
   "id": "d9ff42db-da25-4753-bf02-47b51e4eff1e",
   "metadata": {
    "slideshow": {
     "slide_type": "subslide"
    },
    "tags": []
   },
   "source": [
    "* Vi har to metoder for å gjenta ting mange ganger i python:\n",
    "  - `for`-løkken (for-loop)\n",
    "  - `while`-løkken\n",
    "* I en `for` løkke gjør vi noe «for» alle elementene i en samling elementer man kan *iterere* over\n",
    "* Syntaksen er som følger:"
   ]
  },
  {
   "cell_type": "markdown",
   "id": "5871d412-a40a-4206-82ea-4edc5c30891d",
   "metadata": {
    "slideshow": {
     "slide_type": "fragment"
    },
    "tags": []
   },
   "source": [
    "```python\n",
    "for element in samling_elementer:\n",
    "    #Gjør noe med elementene\n",
    "    print(\"Elementet er \", element)\n",
    "#Løkke ferdig\n",
    "```"
   ]
  },
  {
   "cell_type": "markdown",
   "id": "8d9813b0-3139-496d-b2b7-0e0b11294e65",
   "metadata": {
    "slideshow": {
     "slide_type": "subslide"
    },
    "tags": []
   },
   "source": [
    "* «element» er her et variabelnavn for enkeltelementene i samlingen.\n",
    "* Vi kan gi det hvilket som helst gyldig navn som `i, j, x, y, datapunkt, person ...` osv\n",
    "* Dersom vi gir det navnet `_` (nedestrek) går vi igjennom datasamlingen uten å bry oss om enkeltelementet"
   ]
  },
  {
   "cell_type": "code",
   "execution_count": 31,
   "id": "f43e7387-ca6b-4c00-8371-c6b3196e80cd",
   "metadata": {
    "slideshow": {
     "slide_type": "fragment"
    },
    "tags": []
   },
   "outputs": [
    {
     "name": "stdout",
     "output_type": "stream",
     "text": [
      "[2, 3, 4, 5, 6, 7]\n",
      "2\n",
      "3\n",
      "4\n",
      "5\n",
      "6\n",
      "7\n",
      "Ferdig\n"
     ]
    }
   ],
   "source": [
    "print(a)\n",
    "#Print ut innholdet i listen a ett element om gangen\n",
    "for tall in a:\n",
    "    print(tall)\n",
    "print(\"Ferdig\")"
   ]
  },
  {
   "cell_type": "markdown",
   "id": "dc7af62b-01e3-4834-9dd3-b4943a23451b",
   "metadata": {
    "slideshow": {
     "slide_type": "subslide"
    },
    "tags": []
   },
   "source": [
    "* Når man skal bygge og fylle en liste med data er det vanlig å starte med en tom liste feks `b=[]`\n",
    "* Deretter iterere over noen annen data en bruker til å fylle listen med `b.append(«nytt datapunkt»)`"
   ]
  },
  {
   "cell_type": "code",
   "execution_count": 33,
   "id": "d794c6e6-a3cf-4166-a111-9f3198e03235",
   "metadata": {
    "slideshow": {
     "slide_type": "fragment"
    },
    "tags": []
   },
   "outputs": [
    {
     "name": "stdout",
     "output_type": "stream",
     "text": [
      "[2, 4, 6, 8, 10]\n"
     ]
    }
   ],
   "source": [
    "a = [1,2,3,4,5]\n",
    "# Lag en liste b hvor elementene er dobbelt av de i a:\n",
    "b = []\n",
    "for tall in a:\n",
    "    dobbelt = tall*2\n",
    "    b.append(dobbelt)\n",
    "print(b) "
   ]
  },
  {
   "cell_type": "code",
   "execution_count": 34,
   "id": "872419c5-5102-4099-b41d-fe8b15b9a392",
   "metadata": {
    "slideshow": {
     "slide_type": "subslide"
    },
    "tags": []
   },
   "outputs": [
    {
     "data": {
      "text/html": [
       "<iframe width=\"800\" height=\"500\" frameborder=\"0\" src=\"https://pythontutor.com/iframe-embed.html#code=%23%20Lag%20en%20liste%20b%20hvor%20elementene%20er%20dobbelt%20av%20de%20i%20a%3A%0Aa%20%3D%20%5B1,2,3,4,5%5D%0Ab%20%3D%20%5B%5D%0Afor%20tall%20in%20a%3A%0A%20%20%20%20dobbelt%20%3D%20tall*2%0A%20%20%20%20b.append%28dobbelt%29%0Aprint%28b%29&codeDivHeight=400&codeDivWidth=350&cumulative=false&curInstr=19&heapPrimitives=nevernest&origin=opt-frontend.js&py=3&rawInputLstJSON=%5B%5D&textReferences=false\"> </iframe>\n"
      ],
      "text/plain": [
       "<IPython.core.display.HTML object>"
      ]
     },
     "metadata": {},
     "output_type": "display_data"
    }
   ],
   "source": [
    "%%html\n",
    "<iframe width=\"800\" height=\"500\" frameborder=\"0\" src=\"https://pythontutor.com/iframe-embed.html#code=%23%20Lag%20en%20liste%20b%20hvor%20elementene%20er%20dobbelt%20av%20de%20i%20a%3A%0Aa%20%3D%20%5B1,2,3,4,5%5D%0Ab%20%3D%20%5B%5D%0Afor%20tall%20in%20a%3A%0A%20%20%20%20dobbelt%20%3D%20tall*2%0A%20%20%20%20b.append%28dobbelt%29%0Aprint%28b%29&codeDivHeight=400&codeDivWidth=350&cumulative=false&curInstr=19&heapPrimitives=nevernest&origin=opt-frontend.js&py=3&rawInputLstJSON=%5B%5D&textReferences=false\"> </iframe>"
   ]
  },
  {
   "cell_type": "markdown",
   "id": "cbfc664a-6073-4da1-a9f8-8c9c2b77106c",
   "metadata": {
    "slideshow": {
     "slide_type": "subslide"
    },
    "tags": []
   },
   "source": [
    "* Ofte må man ha kontroll på både elementene i listen, og indeksen til listen\n",
    "* Da er det vanlig å ikke iterere over selve elementene, men over *indeksområdet* (index range på engelsk)\n",
    "* Til det bruker man en meget nyttig funksjon `range(..)`\n",
    "* *Merk:* om man vil liste opp indeksområdet kan man bruke funksjonen `list(«noe itererbart»)` som tar noe man kan iterere over (gå igjennom elementvis) og lager en liste av elementene"
   ]
  },
  {
   "cell_type": "code",
   "execution_count": 38,
   "id": "d1330e2a-f493-4a59-ba43-2a6fd8e94e20",
   "metadata": {
    "slideshow": {
     "slide_type": "fragment"
    },
    "tags": []
   },
   "outputs": [
    {
     "name": "stdout",
     "output_type": "stream",
     "text": [
      "[0, 1, 2, 3, 4, 5, 6, 7, 8, 9]\n",
      "[3, 4, 5, 6, 7, 8, 9]\n",
      "[3, 5, 7, 9]\n"
     ]
    }
   ],
   "source": [
    "#range(«stop») gir en \"range\" fra 0 til (men ikke med) «stop»\n",
    "print(list(range(10)))\n",
    "#range(«start», «stop») gir en \"range\" fra «start» til (men ikke med) «stop»\n",
    "print(list(range(3,10)))\n",
    "#range(«start», «stop», «step»)  gir en \"range\" fra «start» til (men ikke med) «stop» med steglengde «step»\n",
    "print(list(range(3,10,2)))\n"
   ]
  },
  {
   "cell_type": "code",
   "execution_count": 44,
   "id": "df99c804-dea6-427b-8e13-82cda6d13677",
   "metadata": {
    "slideshow": {
     "slide_type": "subslide"
    },
    "tags": []
   },
   "outputs": [
    {
     "name": "stdout",
     "output_type": "stream",
     "text": [
      "lengde 5\n",
      "[10, 12, 14, 16, 18]\n"
     ]
    }
   ],
   "source": [
    "a = [5,6,7,8,9]\n",
    "#Doble elementene i listen a\n",
    "lengde = len(a)\n",
    "print(\"lengde\", lengde)\n",
    "for i in range(lengde):\n",
    "    a[i] = a[i]*2 # Man kan fint oppdatere variabeldata med gammel variabeldata\n",
    "print(a)"
   ]
  },
  {
   "cell_type": "markdown",
   "id": "ed9b96f5-99ab-47bb-af9a-44fae44b6cfc",
   "metadata": {
    "slideshow": {
     "slide_type": "slide"
    },
    "tags": []
   },
   "source": [
    "## Nyttige litt mer avanserte teknikker\n",
    "* Vi kan gå gjennom en liste OG indeksen til elementene i listen med `enumerate(«liste»)`\n",
    "* `enumerate(«liste»)` lager et itererbart objekt som inneholder par av elementene i listen og indeksen til elementet:"
   ]
  },
  {
   "cell_type": "code",
   "execution_count": 49,
   "id": "39fc72bc-7d28-48c1-847d-e624a58afeb6",
   "metadata": {
    "slideshow": {
     "slide_type": "fragment"
    },
    "tags": []
   },
   "outputs": [
    {
     "name": "stdout",
     "output_type": "stream",
     "text": [
      "[10, 12, 14, 16, 18]\n",
      "[(0, 10), (1, 12), (2, 14), (3, 16), (4, 18)]\n",
      "tall 10 har indeks 0\n",
      "tall 12 har indeks 1\n",
      "tall 14 har indeks 2\n",
      "tall 16 har indeks 3\n",
      "tall 18 har indeks 4\n"
     ]
    }
   ],
   "source": [
    "print(a)\n",
    "print(list(enumerate(a)))\n",
    "for indeks, tall in enumerate(a):\n",
    "    print(\"tall\", tall, \"har indeks\", indeks)"
   ]
  },
  {
   "cell_type": "markdown",
   "id": "76e3e340-7178-4e4c-a51e-56c179581c8d",
   "metadata": {
    "slideshow": {
     "slide_type": "slide"
    },
    "tags": []
   },
   "source": [
    "* Vi kan \"zippe sammen\" flere lister og gå igjennom alle elementene samtidig med `zip(liste1, liste2, ...)`\n",
    "* `zip(«itererbare objekter»)` lager et itererbart objekt med elementene til feks listene satt sammen i grupper"
   ]
  },
  {
   "cell_type": "code",
   "execution_count": 51,
   "id": "8b8a958d-8419-4265-99a6-a9129ab2f4bc",
   "metadata": {
    "slideshow": {
     "slide_type": "fragment"
    },
    "tags": []
   },
   "outputs": [
    {
     "name": "stdout",
     "output_type": "stream",
     "text": [
      "Tall1 er fra a 1\n",
      "Landet er fra b Norge\n",
      "tall2 er fra c 5\n",
      "Ferdig med iterasjon\n",
      "\n",
      "\n",
      "Tall1 er fra a 2\n",
      "Landet er fra b Sverige\n",
      "tall2 er fra c 6\n",
      "Ferdig med iterasjon\n",
      "\n",
      "\n",
      "Tall1 er fra a 3\n",
      "Landet er fra b Danmark\n",
      "tall2 er fra c 7\n",
      "Ferdig med iterasjon\n",
      "\n",
      "\n",
      "ferdig\n"
     ]
    }
   ],
   "source": [
    "a = [1,2,3,4,5]\n",
    "b = [\"Norge\", \"Sverige\", \"Danmark\"]\n",
    "c = [5,6,7,8,9]\n",
    "for tall1, land, tall2 in zip(a,b,c):\n",
    "    print(\"Tall1 er fra a\", tall1)\n",
    "    print(\"Landet er fra b\", land)\n",
    "    print(\"tall2 er fra c\", tall2)\n",
    "    print(\"Ferdig med iterasjon\\n\\n\")\n",
    "print(\"ferdig\")"
   ]
  },
  {
   "cell_type": "markdown",
   "id": "d750e09b-77f1-4f28-81e5-74199c29a0c7",
   "metadata": {
    "slideshow": {
     "slide_type": "slide"
    },
    "tags": []
   },
   "source": [
    "# Kjapp intro til matplotlib\n",
    "* Når vi kan importere bibliotek og lage lister (og funksjoner?) kan vi plotte:"
   ]
  },
  {
   "cell_type": "code",
   "execution_count": 62,
   "id": "54912200-7030-48c1-b8e8-e31da4a6a8dd",
   "metadata": {
    "slideshow": {
     "slide_type": "fragment"
    },
    "tags": []
   },
   "outputs": [
    {
     "name": "stdout",
     "output_type": "stream",
     "text": [
      "[0, 1, 2, 3, 4, 5, 6, 7, 8, 9]\n",
      "[-1, 2, 7, 14, 23, 34, 47, 62, 79, 98]\n"
     ]
    },
    {
     "data": {
      "image/png": "[encoded data removed]",
      "text/plain": [
       "<Figure size 640x480 with 1 Axes>"
      ]
     },
     "metadata": {},
     "output_type": "display_data"
    }
   ],
   "source": [
    "import matplotlib.pyplot as plt #Importer pyplot fra matplotlib og gi det synonymet plt\n",
    "\n",
    "def andregradsfunksjon(x):\n",
    "    return 2*x+x**2-1\n",
    "#Vi vil plott andregradsfunksjon for et knippe x'er\n",
    "\n",
    "x_liste = list(range(10))\n",
    "print(x_liste)\n",
    "\n",
    "y_liste = []\n",
    "for x in x_liste:\n",
    "    y = andregradsfunksjon(x)\n",
    "    y_liste.append(y)\n",
    "print(y_liste)\n",
    "\n",
    "plt.plot(x_liste, y_liste, 'o', color=\"red\")\n",
    "plt.title(\"Plottets tittel\")\n",
    "plt.xlabel(\"X-aksetittel\")\n",
    "plt.ylabel(\"Y-aksetittel\")\n",
    "plt.show()"
   ]
  },
  {
   "cell_type": "code",
   "execution_count": 65,
   "id": "3e844bb5-60ef-43f0-a71b-48ab45fb17c8",
   "metadata": {
    "slideshow": {
     "slide_type": "subslide"
    },
    "tags": []
   },
   "outputs": [
    {
     "data": {
      "image/png": "[encoded data removed]",
      "text/plain": [
       "<Figure size 640x480 with 1 Axes>"
      ]
     },
     "metadata": {},
     "output_type": "display_data"
    }
   ],
   "source": [
    "#Plotte flere grafer i samme plott\n",
    "def f(x):\n",
    "    return -andregradsfunksjon(x)\n",
    "\n",
    "y2_liste = []\n",
    "for x in x_liste:\n",
    "    y2_liste.append(f(x))\n",
    "\n",
    "\n",
    "plt.plot(x_liste, y_liste, 'o', color=\"red\", label=\"funksjon 1\")\n",
    "plt.plot(x_liste, y2_liste, label=\"funksjon 2\")\n",
    "plt.title(\"Plottets tittel\")\n",
    "plt.xlabel(\"X-aksetittel\")\n",
    "plt.ylabel(\"Y-aksetittel\")\n",
    "plt.legend()\n",
    "plt.show()\n"
   ]
  },
  {
   "cell_type": "markdown",
   "id": "560489e3-22ab-4e74-ba7c-1251e0c7726c",
   "metadata": {
    "slideshow": {
     "slide_type": "slide"
    },
    "tags": []
   },
   "source": [
    "# Litt numpy-tips\n",
    "* Vi trenger kanskje å plotte en funksjon $f(x)$ for $x \\in [0,1]$ og vil ha noen tusen datapunkter\n",
    "* Da er det kjekt å bruke numpy!\n",
    "* I numpy har vi ikke lister men *arrays*\n",
    "* Forskjellen er:\n",
    "  - Vi kan ikke blande forskjellige datatyper\n",
    "  - listene kan ikke endre lengde (ingen pop() eller append()\n",
    "* Fordelen er at vi med disse begresningene (+++) kan regne veldig raskt!"
   ]
  },
  {
   "cell_type": "code",
   "execution_count": 81,
   "id": "3c280e4b-e79f-478a-8f04-c13817d2571d",
   "metadata": {
    "slideshow": {
     "slide_type": "subslide"
    },
    "tags": []
   },
   "outputs": [
    {
     "name": "stdout",
     "output_type": "stream",
     "text": [
      "[0.00000000e+00 6.28381369e-04 1.25676274e-03 ... 6.28192854e+00\n",
      " 6.28255693e+00 6.28318531e+00]\n",
      "[ 0.00000000e+00  6.28381328e-04  1.25676241e-03 ... -1.25676241e-03\n",
      " -6.28381328e-04 -2.44929360e-16]\n"
     ]
    },
    {
     "data": {
      "image/png": "[encoded data removed]",
      "text/plain": [
       "<Figure size 640x480 with 1 Axes>"
      ]
     },
     "metadata": {},
     "output_type": "display_data"
    },
    {
     "data": {
      "image/png": "[encoded data removed]",
      "text/plain": [
       "<Figure size 640x480 with 1 Axes>"
      ]
     },
     "metadata": {},
     "output_type": "display_data"
    }
   ],
   "source": [
    "import numpy as np #importer numpy med synonym np\n",
    "\n",
    "def g(x):\n",
    "    return np.sin(x)\n",
    "\n",
    "#Vi vil se på x-verdier mellom 0 og 2*pi \n",
    "#Vi vil bruke 10,000 datapunkter\n",
    "x_start = 0\n",
    "x_stop = 2*np.pi\n",
    "n = 10000\n",
    "\n",
    "#Vi kan lage \"x-verdier\" i numpy med np.arange eller np.linspace\n",
    "x = np.arange(x_start, x_stop, 0.1 ) #Verdier mellom start/stop med steglengde 0.1\n",
    "x = np.linspace(x_start, x_stop, n) #N verdier mellom start/stop\n",
    "print(x)\n",
    "\n",
    "#Når vi bruker numpy-arrays python at vi vil ha et array y med elementer g(x) \n",
    "y = g(x)\n",
    "print(y)\n",
    "\n",
    "plt.plot(x,y)\n",
    "plt.title(r\"$\\sin(\\pi \\cdot x)$\") # r\"$<latexuttrykk>$\"\n",
    "plt.xlabel(\"Radianer\")\n",
    "plt.ylabel(\"[]\")\n",
    "plt.grid()\n",
    "plt.show()\n",
    "\n",
    "plt.bar(x[::100], y[::100])\n",
    "plt.show()"
   ]
  },
  {
   "cell_type": "markdown",
   "id": "849eece8-d334-4a4a-b834-453563e8240f",
   "metadata": {
    "slideshow": {
     "slide_type": "slide"
    },
    "tags": []
   },
   "source": [
    "# Populasjonvekst eksempel\n",
    "Vi undersøker populasjonsvekst i skandinavia og plotter utviklingen de neste 20 årene"
   ]
  },
  {
   "cell_type": "code",
   "execution_count": null,
   "id": "2bd72c46-4480-48ff-a56c-9771642e7847",
   "metadata": {
    "slideshow": {
     "slide_type": "fragment"
    },
    "tags": []
   },
   "outputs": [],
   "source": [
    "import math\n",
    "import matplotlib.pyplot as plt\n",
    "land = [\"Norge\", \"Sverige\", \"Danmark\"]\n",
    "K = [20e6, 25e6, 15e6] #Makspopulasjon\n",
    "r = [0.01, 0.02, 0.03] #relativ vekstrate\n",
    "P0 = [4e6, 8e6, 6e6] # Startpopulasjon\n",
    "t = 200 #Hvor mange år vekst\n",
    "\n",
    "\n",
    "def logistisk_vekst(P0,K,r,t):\n",
    "    A = (K-P0)/P0\n",
    "    P = K/(1+A*math.exp(-r*t))\n",
    "    return P\n",
    "\n",
    "def lag_pop_funk(P0,K,r):\n",
    "    def slutt_populasjon(t):\n",
    "        P = logistisk_vekst(P0,K,r,t)\n",
    "        return P\n",
    "    return slutt_populasjon #Vi returnerer funksjonen vi laget inne i funksjonen!\n",
    "\n",
    "def format_pop(P):\n",
    "    return int(round(P,-3))\n",
    "\n",
    "\n",
    "    "
   ]
  }
 ],
 "metadata": {
  "kernelspec": {
   "display_name": "Python 3 (ipykernel)",
   "language": "python",
   "name": "python3"
  },
  "language_info": {
   "codemirror_mode": {
    "name": "ipython",
    "version": 3
   },
   "file_extension": ".py",
   "mimetype": "text/x-python",
   "name": "python",
   "nbconvert_exporter": "python",
   "pygments_lexer": "ipython3",
   "version": "3.11.7"
  }
 },
 "nbformat": 4,
 "nbformat_minor": 5
}
