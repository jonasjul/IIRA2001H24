{
 "cells": [
  {
   "cell_type": "markdown",
   "id": "4296de8d-6137-4430-a802-3452af11a045",
   "metadata": {},
   "source": [
    "# Kjapp inføring i littavhvert:\n",
    " * Moduler\n",
    " * Løkker\n",
    " * Datastrukturer (lister)"
   ]
  },
  {
   "cell_type": "markdown",
   "id": "f94ae2eb-8916-4ecb-9267-40476eef405e",
   "metadata": {},
   "source": [
    "# Først mer om funksjoner:\n",
    "* Vi lager egne funksjoner når:\n",
    "    - Vi gjør samme «ting» mange ganger\n",
    "    - For å dele programmet inn i deler som har sine egne spesialoppgaver (Programstruktur)\n",
    "    - Når vi har funksjonalitet som kan være nyttig i andre sammenhenger (Gjenbrukbarhet)"
   ]
  },
  {
   "cell_type": "markdown",
   "id": "da6d1104-2d5b-4144-ba0d-72ab1f75b9ea",
   "metadata": {},
   "source": [
    "## Eksempel: Populasjonsvekst\n",
    "\n",
    "La oss si at vi ønsker å sammenligne populasjonsveksten i for to områder, feks Norge og Sverige.\n",
    "Vi vil se på vekst over $t = 10$ år, og sammenligne sluttpopulasjonen for forskjellige parametre eller omstendigheter.\n",
    "La:\n",
    "\n",
    "$$\n",
    "\\begin{align*}\n",
    "P_{0,N} &= 5,000,000 \\\\\n",
    "P_{0,S} &= 9,000,000 \\\\\n",
    "K_N &= 20,000,000 \\\\\n",
    "K_S &= 25,000,000 \\\\\n",
    "r_N &= 0.02 \\\\\n",
    "r_S &= 0.01\n",
    "\\end{align*}\n",
    "$$\n",
    "\n",
    "Logistisk vekst er fortsatt:\n",
    "$$\n",
    "\\begin{align*}\n",
    "P(t) &= \\frac{K}{1+A\\mathrm{e}^{-rt}} \\\\\n",
    "A &= \\frac{K-P_0}{P_0}\n",
    "\\end{align*}\n",
    "$$"
   ]
  },
  {
   "cell_type": "code",
   "execution_count": 5,
   "id": "ef681d7d-b132-430e-b3ea-a49938240b39",
   "metadata": {},
   "outputs": [
    {
     "name": "stdout",
     "output_type": "stream",
     "text": [
      "Sluttpopulasjonen i sverige:  11870000\n",
      "Sluttpopulasjonen i Norge:  5790000\n"
     ]
    }
   ],
   "source": [
    "import math\n",
    "# Definer alle parametre som variabler\n",
    "e = math.exp(1) # = e^1\n",
    "P0_norge = 5e6 # Startpopulasjon Norge\n",
    "P0_sverige = 9e6 # Startpopulasjon Sverige\n",
    "K_norge = 20e6\n",
    "K_sverige = 25e6 # Makspopulasjon Sverige\n",
    "r_norge = 0.02\n",
    "r_sverige = 0.01 #Vekstrate Sverige\n",
    "A_norge = (K_norge-P0_norge)/P0_norge #Konstant til likning Norge\n",
    "A_sverige = (K_norge-P0_sverige)/P0_sverige\n",
    "\n",
    "t = 10\n",
    "\n",
    "#Vi gjør utregningene\n",
    "P_slutt_norge = K_norge/(1+A_norge*e**(-r_norge*t))\n",
    "P_slutt_sverige = K_sverige/(1+A_sverige*e**(-r_sverige*t))\n",
    "print(\"Sluttpopulasjonen i sverige: \", int(round(P_slutt_sverige,-4)))\n",
    "print(\"Sluttpopulasjonen i Norge: \", int(round(P_slutt_norge, -4)))"
   ]
  },
  {
   "cell_type": "markdown",
   "id": "6a6f9d25-9a45-4720-9fd3-88feae4b2dc3",
   "metadata": {},
   "source": [
    "# Funksjoner?\n",
    "\n",
    "* Programmet under gjør samme regneoperasjon flere ganger\n",
    "* Samme utregning for $A$ for de to landene\n",
    "* Samme utregning for sluttpopulasjon til de to landene\n",
    "* Den eneste forskjellen er parameterene vi bruker\n",
    "* I tillegg kan den logistiske ligningnen brukes til å modellere mer enn bare disse to populasjonene\n",
    "* Det vil si at her kanskje er funksjonalitet vi kan bruke igjen senere"
   ]
  },
  {
   "cell_type": "markdown",
   "id": "f34fd18f-0c5c-4a2b-bf63-5400f64e0e44",
   "metadata": {},
   "source": [
    "### Lag funksjoner 1\n",
    "* Vi kan putte utregningen til norges og sveriges sluttpopulasjoner inn i en funksjon\n",
    "* Da kan vi lett regne ut populasjonen på mange tidspunkt for de to uten å skrive inn utregningene hver gang"
   ]
  },
  {
   "cell_type": "code",
   "execution_count": 8,
   "id": "c8ffaf94-427b-46d9-a4f7-9455d6f8b2d6",
   "metadata": {},
   "outputs": [
    {
     "name": "stdout",
     "output_type": "stream",
     "text": [
      "Sluttpopulasjonen i sverige:  59400000\n",
      "Sluttpopulasjonen i Norge:  51820000\n",
      "Sluttpopulasjon i Norge etter halve tiden er 62233187.562966965\n"
     ]
    }
   ],
   "source": [
    "import math\n",
    "# Definer alle parametre som variabler\n",
    "e = math.exp(1) # = e^1\n",
    "P0_norge = 5e6 # Startpopulasjon Norge\n",
    "P0_sverige = 9e6 # Startpopulasjon Sverige\n",
    "K_norge = 20e6\n",
    "K_sverige = 25e6 # Makspopulasjon Sverige\n",
    "r_norge = 0.02\n",
    "r_sverige = 0.01 #Vekstrate Sverige\n",
    "\n",
    "\n",
    "\n",
    "t = 10\n",
    "\n",
    "def regnutA(P0,K):\n",
    "    A = (K-P0)/P0\n",
    "    return A\n",
    "\n",
    "def beregn_populasjon_norge(t):\n",
    "    A_norge=  regnutA(K_norge,P0_norge)\n",
    "    P_slutt = K_norge/(1+A_norge*e**(-r_norge*t))\n",
    "    return P_slutt\n",
    "\n",
    "def beregn_populasjon_sverige(t):\n",
    "    A_sverige = regnutA(K_sverige,P0_sverige)\n",
    "    P_slutt = K_sverige/(1+A_sverige*e**(-r_sverige*t))\n",
    "    return P_slutt\n",
    "    \n",
    "def avrund(P):\n",
    "    return int(round(P,-4))\n",
    "\n",
    "#Vi gjør utregningene\n",
    "P_slutt_norge = beregn_populasjon_norge(t)\n",
    "P_slutt_sverige =beregn_populasjon_sverige(t)\n",
    "print(\"Sluttpopulasjonen i sverige: \", avrund(P_slutt_sverige))\n",
    "print(\"Sluttpopulasjonen i Norge: \", avrund(P_slutt_norge))\n",
    "print(\"Sluttpopulasjon i Norge etter halve tiden er\", \n",
    "      beregn_populasjon_norge(t/2))"
   ]
  },
  {
   "cell_type": "markdown",
   "id": "ffc49c40-2b95-49ee-84b9-c0b8aea73a84",
   "metadata": {},
   "source": [
    "* Her har vi lagt populasjonsutregningene til de to landene i egne funksjoner\n",
    "* Dersom vi hadde mange slike funksjoner kunne vi også lagt utregningen av $A$ i en egen funksjon:"
   ]
  },
  {
   "cell_type": "code",
   "execution_count": 6,
   "id": "c8f6b6b1-cb7b-439f-9f86-f9a646728034",
   "metadata": {},
   "outputs": [],
   "source": [
    "# Prøv selv å lage en egen funksjon for utregningen av "
   ]
  },
  {
   "cell_type": "markdown",
   "id": "ed84dcbd-2af8-4952-87f8-bfa15aa911c0",
   "metadata": {},
   "source": [
    "### Lag funksjoner 2\n",
    "* Denne fremgangsmåten letter programmeringen vår\n",
    "* Men den tar ikke hensyn til at vi kanskje skal modellere lignende problem senere\n",
    "* Funksjonene funker stort sett kun for dette programmet\n",
    "* Et annet problem er at avrundingen er \"hardkodet\" i funksjonene -- det gjør de også mindre fleksible"
   ]
  },
  {
   "cell_type": "markdown",
   "id": "321083a2-8832-4063-9adb-53f1ccfcb975",
   "metadata": {},
   "source": [
    "* *Merk at jeg limer inn hele koden på nytt -- det er så man kan se helheten*\n",
    "* *Variabler vi definerte lenger oppe kan brukes i hele resten av notebooken*"
   ]
  },
  {
   "cell_type": "code",
   "execution_count": 10,
   "id": "631b7359-513c-4de2-b4b7-0fbae92c1451",
   "metadata": {},
   "outputs": [
    {
     "name": "stdout",
     "output_type": "stream",
     "text": [
      "Sluttpopulasjonen i sverige:  10180000\n",
      "Sluttpopulasjonen i Norge:  5790000\n",
      "Sluttpopulasjon i Norge etter halve tiden er 5384286.988926205\n"
     ]
    }
   ],
   "source": [
    "import math\n",
    "# Definer alle parametre som variabler\n",
    "e = math.exp(1) # = e^1\n",
    "P0_norge = 5e6 # Startpopulasjon Norge\n",
    "P0_sverige = 9e6 # Startpopulasjon Sverige\n",
    "K_norge = 20e6\n",
    "K_sverige = 25e6 # Makspopulasjon Sverige\n",
    "r_norge = 0.02\n",
    "r_sverige = 0.01 #Vekstrate Sverige\n",
    "\n",
    "\n",
    "\n",
    "t = 10\n",
    "\n",
    "def regnutA(P0,K):\n",
    "    A = (K-P0)/P0\n",
    "    return A\n",
    "\n",
    "def logistisk_likning(P0, K, r, t):\n",
    "    A = regnutA(P0,K)\n",
    "    P_slutt =  K/(1+A*e**(-r*t))\n",
    "    return P_slutt\n",
    "    \n",
    "def avrund(P):\n",
    "    return int(round(P,-4))\n",
    "\n",
    "#Vi gjør utregningene\n",
    "P_slutt_norge = logistisk_likning(P0_norge, K_norge, r_norge, t)\n",
    "P_slutt_sverige =logistisk_likning(P0_sverige, K_sverige, r_norge, t)\n",
    "print(\"Sluttpopulasjonen i sverige: \", avrund(P_slutt_sverige))\n",
    "print(\"Sluttpopulasjonen i Norge: \", avrund(P_slutt_norge))\n",
    "print(\"Sluttpopulasjon i Norge etter halve tiden er\", \n",
    "      logistisk_likning(P0_norge, K_norge, r_norge, t/2))"
   ]
  },
  {
   "cell_type": "markdown",
   "id": "7063c3fa-e2f5-451e-8b48-5b2ae2acbe95",
   "metadata": {},
   "source": [
    "* I dette tilfelle kan vi gjenbruke funksjonen vår i andre sammenhenger\n",
    "* Det er imidlertid ikke like lettvint å kalle funksjonen i resten av programmet\n",
    "* Vi kan lage flere funksjonen slik at vi får både gjenbrukbarhet, og lettvint bruk"
   ]
  },
  {
   "cell_type": "code",
   "execution_count": null,
   "id": "e6372133-31f7-4e71-9400-bb41fb1b2650",
   "metadata": {},
   "outputs": [],
   "source": []
  },
  {
   "cell_type": "markdown",
   "id": "64bb44bb-b8a7-43db-a7ee-eeb7d2bac9d0",
   "metadata": {},
   "source": [
    "* Her har vi laget en funksjon som lager populasjonsfunksjoner for oss!\n",
    "* Tidligere måtte vi skrive:\n",
    "  ```python\n",
    "  def pop_vekst_«land»(....):\n",
    "      ....\n",
    "      ....\n",
    "  ```\n",
    "* For alle land som skulle ha egen vekstfunksjon -- vi gjentok oss!\n",
    "* Funksjonene er som små program -- alt vi kan gjøre utenfor en funksjon kan vi gjøre inne i funksjonen\n",
    "* Når man skal returnere funksjoner passer vi på å ikke ha med `...(arg1,arg2)` etter funksjonsnavn"
   ]
  },
  {
   "cell_type": "markdown",
   "id": "dc24d5ef-f98e-4083-aca0-360188b0a848",
   "metadata": {},
   "source": [
    "* Vi laget også en egen funksjon til å formattere output\n",
    "* Slike kjappe småfunksjoner kan være greie å lage med et *lambdauttrykk* (anonym funksjon)\n",
    "* Man kan lage en slik funksjon \"navnløs\" funksjon uten bruk av `def` slik:\n",
    "  ```python\n",
    "  summefunksjon = lambda arg1, arg2: arg1+arg2\n",
    "  ```\n"
   ]
  },
  {
   "cell_type": "code",
   "execution_count": null,
   "id": "cc534bfb-34b4-4e32-9137-c05b378534be",
   "metadata": {},
   "outputs": [],
   "source": []
  },
  {
   "cell_type": "markdown",
   "id": "87aa85a5-afed-40af-b766-f61d2d7b8400",
   "metadata": {},
   "source": [
    "* For å lage en ny populasjonsvekstfunksjon for et område som også gjør formatering, kunne vi skrevet:"
   ]
  },
  {
   "cell_type": "code",
   "execution_count": null,
   "id": "bcd0cf24-85c7-4bc1-8709-10a2efc69939",
   "metadata": {},
   "outputs": [],
   "source": []
  },
  {
   "cell_type": "markdown",
   "id": "fe29834e-33d1-4c17-a3eb-6977c9239d4b",
   "metadata": {},
   "source": [
    "# Moduler, biblioteker og pakker\n",
    "* Vi kan importere ny funksjonalitet ved å hente inn pakker/moduler/bibliotek\n",
    "* Her er noen formelle definisjoner, men vi kan kalle disse for biblioteker\n",
    "* Vi har allerede så vidt sett på `datetime` og `math`"
   ]
  },
  {
   "cell_type": "markdown",
   "id": "20021751-fec8-4e33-836c-f077343eaeb0",
   "metadata": {},
   "source": [
    "## Hente inn biblioteker\n",
    "* Vi kan hente inn, eller importere et bibliotek ved å skrive `import «navn»`\n",
    "  "
   ]
  },
  {
   "cell_type": "code",
   "execution_count": 7,
   "id": "bf04a05a-082d-4008-a293-879071812860",
   "metadata": {},
   "outputs": [],
   "source": [
    "import math"
   ]
  },
  {
   "cell_type": "markdown",
   "id": "b3dc9ad6-8fb9-4578-b732-8b1422752cb1",
   "metadata": {},
   "source": [
    "* Her importerer vi hele matematikkbiblioteket\n",
    "* Vi kan se hva det inneholder ved å bruke `dir()`"
   ]
  },
  {
   "cell_type": "code",
   "execution_count": 8,
   "id": "edf9ee99-ec61-4de5-a517-605205567636",
   "metadata": {},
   "outputs": [],
   "source": [
    "#dir( ) viser et objekts attributter -- \"innebygde\" funksjoner og variabler"
   ]
  },
  {
   "cell_type": "markdown",
   "id": "aedcb3e1-f55e-41b3-ac2c-108bcd49f7d2",
   "metadata": {},
   "source": [
    "* Deretter kan vi bruke `help()` til å få litt info"
   ]
  },
  {
   "cell_type": "code",
   "execution_count": 9,
   "id": "6d56dfef-124e-4608-872d-164e2e990601",
   "metadata": {},
   "outputs": [
    {
     "name": "stdout",
     "output_type": "stream",
     "text": [
      "Help on built-in function sin in module math:\n",
      "\n",
      "sin(x, /)\n",
      "    Return the sine of x (measured in radians).\n",
      "\n"
     ]
    }
   ],
   "source": [
    "help(math.sin)"
   ]
  },
  {
   "cell_type": "markdown",
   "id": "d04d1864-82c4-4820-b2a3-ee7605c35100",
   "metadata": {},
   "source": [
    "* Når vi skal bruke deler av en modul eller pakke, får vi tak i den ved:\n",
    "```python\n",
    "modul.navn #For variabel\n",
    "modul.funksjon(arg1,...) #for funksjonskall\n",
    "```"
   ]
  },
  {
   "cell_type": "code",
   "execution_count": 10,
   "id": "bf1042a7-301e-4846-a8f7-b95cbb92f479",
   "metadata": {},
   "outputs": [],
   "source": [
    "# Sjekker math bibliotek og litt flyttallsproblematikk\n"
   ]
  },
  {
   "cell_type": "markdown",
   "id": "ef6ace59-4333-42f4-8fdb-6366d3d2fa20",
   "metadata": {},
   "source": [
    "* NÅr help() og dir() er for tungtvint å bruke, sjekker man dokumentasjonen på nett\n",
    "* [python.org](http://www.python.org) for innebygde moduler som `math`\n",
    "* Andre bibliotek ar dokumentasjon på egen hjemmeside feks [matplotlib](https://matplotlib.org/)"
   ]
  },
  {
   "cell_type": "code",
   "execution_count": 11,
   "id": "1192a1bf-f96c-4169-8fed-5972f1babd13",
   "metadata": {},
   "outputs": [],
   "source": [
    "#Let med help og dir og forsøk å importere biblioteket datetime og printe ut dagens dato\n",
    "import datetime\n"
   ]
  },
  {
   "cell_type": "markdown",
   "id": "ccd9fd36-c7d7-4e23-b4a1-444125ae2900",
   "metadata": {},
   "source": [
    "* Moralen:\n",
    "  - Vanskelig å bruke help() og dir()\n",
    "  - Ofte vanskelig å lese dokumentasjon (Men prøv alltid)\n",
    "* Finn tutorials på nettet som forklarer hvordan man bruker python-biblioteket du jobber med\n",
    "  \n",
    "*(Diverse AI-er og chatbotter blir etterhvert veldig kjekke å bruke for å få eksempel på hvordan man bruker div python-pakker, men det er veldig viktig å slåss litt og lære seg å finne frem i kode-dokumentasjon!!)*"
   ]
  },
  {
   "cell_type": "markdown",
   "id": "adaae68e-8393-4ef3-a7e8-caf04b8fc72e",
   "metadata": {},
   "source": [
    "## Hente deler av bibliotek\n",
    "* Av og til vil man ikke importere et helt bibliotek\n",
    "* Man trenger bare å bruke en del av det"
   ]
  },
  {
   "cell_type": "code",
   "execution_count": 12,
   "id": "8af694d0-8285-4175-bf23-9982c2af6c11",
   "metadata": {},
   "outputs": [
    {
     "name": "stdout",
     "output_type": "stream",
     "text": [
      "2.718281828459045\n"
     ]
    }
   ],
   "source": [
    "from math import exp\n",
    "e = exp(1)\n",
    "print(e)"
   ]
  },
  {
   "cell_type": "markdown",
   "id": "503ac49f-e0ab-41cf-9bd8-d10bdb3371c8",
   "metadata": {},
   "source": [
    "## Synonym for bibliotek\n",
    "* Dersom navnet på biblioteket er langt kan det være plagsomt å oppgi hele stien ved bruk\n",
    "* Da kan man gi det et synonym når man importerer"
   ]
  },
  {
   "cell_type": "code",
   "execution_count": 13,
   "id": "0d8e645c-d50b-444d-a8fd-96fe44765a2c",
   "metadata": {},
   "outputs": [],
   "source": [
    "#Matplotlib skal vi bruke masse"
   ]
  },
  {
   "cell_type": "code",
   "execution_count": 14,
   "id": "3b5d2a5a-f0cc-494a-ab9d-9fc5103fcae2",
   "metadata": {},
   "outputs": [],
   "source": [
    "#numpy skal vi bruke litt, og er innebygd i dataanalyseverktøyet vi skal jobbe med\n"
   ]
  },
  {
   "cell_type": "code",
   "execution_count": 15,
   "id": "baae1572-de4d-4ce0-bf01-a1ce3e633092",
   "metadata": {},
   "outputs": [],
   "source": [
    "#Eksempel fra numpy"
   ]
  },
  {
   "cell_type": "markdown",
   "id": "b8354f04-5286-4ccc-9517-ab49dbc46d03",
   "metadata": {},
   "source": [
    "# Datastrukturer: Lister"
   ]
  },
  {
   "cell_type": "markdown",
   "id": "0bdc0394-10e4-4085-9dc0-556ef0e9397c",
   "metadata": {},
   "source": [
    "* Hva om vi i populasjonsveksteksempelet ikke bare så på 2 land, men kanskje alle i Europa\n",
    "* Alle parametre måtte ha en egen variabel for hvert land\n",
    "* Det fungerer dårlig -- i praksis må vi ha like mange variabler som datapunkt\n",
    "* Det kan dreie seg om millioner av variabler å lage navn til å holde styr på\n",
    "* **NEI TAKK**"
   ]
  },
  {
   "cell_type": "markdown",
   "id": "1b161884-e8d0-4672-b926-479b6cd30ed0",
   "metadata": {},
   "source": [
    "## Lister\n",
    "* Vi trenger en annen måte å organisere og *strukturere* datapunktene våre på\n",
    "* Python har flere ulike typer **datastrukturer** som kan hjelpe oss med det\n",
    "* Den første vi skal se på er *lister*"
   ]
  },
  {
   "cell_type": "code",
   "execution_count": 16,
   "id": "6c734968-60be-41a7-a943-5282052b68f5",
   "metadata": {},
   "outputs": [],
   "source": [
    "#Vi lager lister med []"
   ]
  },
  {
   "cell_type": "markdown",
   "id": "8fba6e39-c5d1-4655-a81e-4322d0796f67",
   "metadata": {},
   "source": [
    "* Vi lager lister med ting ved å «liste de opp» inne i klammeparanteser (alt + shift 8 og 9 på mac ?)\n",
    "* Listene kan inneholde alle hva som helst, til og med funksjoner, og vi kan blande datatyper"
   ]
  },
  {
   "cell_type": "code",
   "execution_count": 17,
   "id": "69cac64e-85b5-47db-ade3-bc3a0de52bcd",
   "metadata": {},
   "outputs": [
    {
     "name": "stdout",
     "output_type": "stream",
     "text": [
      "['hei', 22, 4000000.0, <built-in function print>]\n"
     ]
    }
   ],
   "source": [
    "#De kan inneholde alt mulig\n",
    "a = [\"hei\", 22, 4e6, print]\n",
    "print(a)"
   ]
  },
  {
   "cell_type": "markdown",
   "id": "4d2fc3dc-4f2c-45cb-a2b7-0d0d26b4f16e",
   "metadata": {},
   "source": [
    "* For å hente ut et element i listen bruker oppgir vi *indeksen* til elementet i klammeparanteser"
   ]
  },
  {
   "cell_type": "code",
   "execution_count": 18,
   "id": "166cc362-876f-4bd3-b6e6-2fbdaa700a19",
   "metadata": {},
   "outputs": [],
   "source": [
    "#Element 3"
   ]
  },
  {
   "cell_type": "code",
   "execution_count": 19,
   "id": "5bd54ca8-bf61-4954-927f-454a373cc16f",
   "metadata": {},
   "outputs": [],
   "source": [
    "#Element 1"
   ]
  },
  {
   "cell_type": "markdown",
   "id": "cb4cd93f-08d9-4a44-822a-cede08c46bf7",
   "metadata": {},
   "source": [
    "* Merk at listene er «0-indeksert», vi teller altså fra og med 0 og oppover\n",
    "* Noen datatyper er det ulovlig å endre innholdet av, men med lister kan vi det"
   ]
  },
  {
   "cell_type": "code",
   "execution_count": 20,
   "id": "c6f275e0-dd47-4be4-bad0-76905254dab1",
   "metadata": {},
   "outputs": [],
   "source": [
    "a[2] = 2+2 #Vi endrer element nr 3, som har indeks 2\n",
    "a[0] = 42 #Vi endrer første element\n",
    "a[-1] = 2**4 #Dersom vi bruker negative indekser, \"begynner\" vi på slutten av listen"
   ]
  },
  {
   "cell_type": "markdown",
   "id": "800e37f7-dfb0-4454-9cd6-4eb0fd4cdc02",
   "metadata": {},
   "source": [
    "* Vi kan bruke dir() for å se nyttige innebygde funksjoner av listen\n",
    "* Disse kan kalles med '.' feks `min_liste.sort()` for å finne det største elementet i listen\n"
   ]
  },
  {
   "cell_type": "code",
   "execution_count": 21,
   "id": "05fb053a-8791-42a1-a4bb-e4aa5bf3f112",
   "metadata": {},
   "outputs": [
    {
     "data": {
      "text/plain": [
       "4"
      ]
     },
     "execution_count": 21,
     "metadata": {},
     "output_type": "execute_result"
    }
   ],
   "source": [
    "dir(a)\n",
    "a.sort()\n",
    "len(a)"
   ]
  },
  {
   "cell_type": "markdown",
   "id": "cc762522-22c7-4c52-8345-42619579d26d",
   "metadata": {},
   "source": [
    "Noen viktige funksjoner:\n",
    "* `min_liste.append(«noe»)` legger til «noe» på slutten av listen (listen blir større)\n",
    "* `len(min_liste)` -- oppgir lengden på listen\n",
    "* `max(min_liste)` -- oppgir største element i listen (`min()` gir minste)\n",
    "* `min_liste.pop()` -- Gir tilbake siste element, og sletter det fra listen"
   ]
  },
  {
   "cell_type": "markdown",
   "id": "e5ebc7f7-a08d-4b3e-921b-587fc623309c",
   "metadata": {},
   "source": [
    "## Populasjonsvekst -- skandinavia\n",
    "* Vi ser nok en gang på populasjonsvekst\n",
    "* Denne gangen for skandinavia"
   ]
  },
  {
   "cell_type": "code",
   "execution_count": null,
   "id": "1c88de7e-92a6-4ba9-b5f9-6cd7cceae694",
   "metadata": {},
   "outputs": [],
   "source": []
  },
  {
   "cell_type": "markdown",
   "id": "9231e071-5c53-42c7-835f-a987d0967c4d",
   "metadata": {},
   "source": [
    "# Fortsatt problemer?\n",
    "* Vi har samlet dataene vår i lister -- det er bra\n",
    "* Men vi må fortsatt gå igjennom disse listene for hånd -- ikke bra\n",
    "* Vi trenger en måte å gå gjennom lister og andre datastrukturer *automatisk*\n",
    "* Dette blir stoff til neste time"
   ]
  }
 ],
 "metadata": {
  "kernelspec": {
   "display_name": "Python 3 (ipykernel)",
   "language": "python",
   "name": "python3"
  },
  "language_info": {
   "codemirror_mode": {
    "name": "ipython",
    "version": 3
   },
   "file_extension": ".py",
   "mimetype": "text/x-python",
   "name": "python",
   "nbconvert_exporter": "python",
   "pygments_lexer": "ipython3",
   "version": "3.11.7"
  }
 },
 "nbformat": 4,
 "nbformat_minor": 5
}
